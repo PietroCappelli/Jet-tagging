{
 "cells": [
  {
   "cell_type": "code",
   "execution_count": 1,
   "metadata": {},
   "outputs": [],
   "source": [
    "import numpy as np\n",
    "import pandas as pd\n",
    "import matplotlib.pyplot as plt\n",
    "\n",
    "import os\n",
    "\n",
    "from plot_utils import plot_1Dhist, display_statistics"
   ]
  },
  {
   "cell_type": "code",
   "execution_count": 2,
   "metadata": {},
   "outputs": [],
   "source": [
    "def read_data(fname, dir=\"./data/\"):\n",
    "    # Read data from csv file\n",
    "    return pd.read_csv(os.path.join(dir, fname))\n",
    "\n",
    "def save_fig(fig, fname, dir=\"./plots/eda/\"):\n",
    "    # Save figure to file\n",
    "    fig.savefig(os.path.join(dir, fname), dpi=300, facecolor=\"w\")"
   ]
  },
  {
   "cell_type": "code",
   "execution_count": 3,
   "metadata": {},
   "outputs": [],
   "source": [
    "PARTICLE_FNAME = \"particle_df.csv\"\n",
    "\n",
    "FONTSIZE = 16\n",
    "\n",
    "SAVE_FIG = False"
   ]
  },
  {
   "attachments": {},
   "cell_type": "markdown",
   "metadata": {},
   "source": [
    "---"
   ]
  },
  {
   "attachments": {},
   "cell_type": "markdown",
   "metadata": {},
   "source": [
    "## Particles"
   ]
  },
  {
   "cell_type": "code",
   "execution_count": 4,
   "metadata": {},
   "outputs": [
    {
     "data": {
      "text/html": [
       "<div>\n",
       "<style scoped>\n",
       "    .dataframe tbody tr th:only-of-type {\n",
       "        vertical-align: middle;\n",
       "    }\n",
       "\n",
       "    .dataframe tbody tr th {\n",
       "        vertical-align: top;\n",
       "    }\n",
       "\n",
       "    .dataframe thead th {\n",
       "        text-align: right;\n",
       "    }\n",
       "</style>\n",
       "<table border=\"1\" class=\"dataframe\">\n",
       "  <thead>\n",
       "    <tr style=\"text-align: right;\">\n",
       "      <th></th>\n",
       "      <th>eventID</th>\n",
       "      <th>jetID</th>\n",
       "      <th>particleType</th>\n",
       "      <th>particleVx</th>\n",
       "      <th>particleVy</th>\n",
       "      <th>particleVz</th>\n",
       "      <th>particlePx</th>\n",
       "      <th>particlePy</th>\n",
       "      <th>particlePz</th>\n",
       "      <th>particleE</th>\n",
       "      <th>particlePolarPx</th>\n",
       "      <th>particlePolarPy</th>\n",
       "      <th>particlePolarPz</th>\n",
       "      <th>particlePolarE</th>\n",
       "      <th>particlePhi</th>\n",
       "      <th>particleTheta</th>\n",
       "    </tr>\n",
       "  </thead>\n",
       "  <tbody>\n",
       "    <tr>\n",
       "      <th>0</th>\n",
       "      <td>0</td>\n",
       "      <td>0</td>\n",
       "      <td>0</td>\n",
       "      <td>0.000000</td>\n",
       "      <td>0.000000</td>\n",
       "      <td>0.000000</td>\n",
       "      <td>-115.595071</td>\n",
       "      <td>5.513218</td>\n",
       "      <td>107.093643</td>\n",
       "      <td>157.675996</td>\n",
       "      <td>115.726471</td>\n",
       "      <td>0.827630</td>\n",
       "      <td>3.093935</td>\n",
       "      <td>2.347607e-01</td>\n",
       "      <td>3.093935</td>\n",
       "      <td>0.824122</td>\n",
       "    </tr>\n",
       "    <tr>\n",
       "      <th>1</th>\n",
       "      <td>0</td>\n",
       "      <td>0</td>\n",
       "      <td>0</td>\n",
       "      <td>0.000000</td>\n",
       "      <td>0.000000</td>\n",
       "      <td>0.000000</td>\n",
       "      <td>-83.072377</td>\n",
       "      <td>4.831796</td>\n",
       "      <td>75.798599</td>\n",
       "      <td>112.561324</td>\n",
       "      <td>83.212776</td>\n",
       "      <td>0.816948</td>\n",
       "      <td>3.083494</td>\n",
       "      <td>5.078805e-01</td>\n",
       "      <td>3.083494</td>\n",
       "      <td>0.831991</td>\n",
       "    </tr>\n",
       "    <tr>\n",
       "      <th>2</th>\n",
       "      <td>0</td>\n",
       "      <td>0</td>\n",
       "      <td>-211</td>\n",
       "      <td>-0.981025</td>\n",
       "      <td>1.422285</td>\n",
       "      <td>-33.456345</td>\n",
       "      <td>-11.168506</td>\n",
       "      <td>-8.774579</td>\n",
       "      <td>9.043395</td>\n",
       "      <td>16.838385</td>\n",
       "      <td>14.203125</td>\n",
       "      <td>0.600055</td>\n",
       "      <td>-2.475661</td>\n",
       "      <td>1.395264e-01</td>\n",
       "      <td>-2.475661</td>\n",
       "      <td>1.003814</td>\n",
       "    </tr>\n",
       "    <tr>\n",
       "      <th>3</th>\n",
       "      <td>0</td>\n",
       "      <td>0</td>\n",
       "      <td>130</td>\n",
       "      <td>0.073932</td>\n",
       "      <td>0.089866</td>\n",
       "      <td>-2.399344</td>\n",
       "      <td>-8.233158</td>\n",
       "      <td>-1.087632</td>\n",
       "      <td>6.647210</td>\n",
       "      <td>10.637351</td>\n",
       "      <td>8.304688</td>\n",
       "      <td>0.732994</td>\n",
       "      <td>-3.010249</td>\n",
       "      <td>-1.192093e-07</td>\n",
       "      <td>-3.010249</td>\n",
       "      <td>0.895801</td>\n",
       "    </tr>\n",
       "    <tr>\n",
       "      <th>4</th>\n",
       "      <td>0</td>\n",
       "      <td>0</td>\n",
       "      <td>-211</td>\n",
       "      <td>0.073905</td>\n",
       "      <td>0.089409</td>\n",
       "      <td>-2.399101</td>\n",
       "      <td>-8.048296</td>\n",
       "      <td>0.478376</td>\n",
       "      <td>6.097900</td>\n",
       "      <td>10.109785</td>\n",
       "      <td>8.062500</td>\n",
       "      <td>0.698202</td>\n",
       "      <td>3.082224</td>\n",
       "      <td>1.395264e-01</td>\n",
       "      <td>3.082224</td>\n",
       "      <td>0.923257</td>\n",
       "    </tr>\n",
       "  </tbody>\n",
       "</table>\n",
       "</div>"
      ],
      "text/plain": [
       "   eventID  jetID  particleType  particleVx  particleVy  particleVz  \\\n",
       "0        0      0             0    0.000000    0.000000    0.000000   \n",
       "1        0      0             0    0.000000    0.000000    0.000000   \n",
       "2        0      0          -211   -0.981025    1.422285  -33.456345   \n",
       "3        0      0           130    0.073932    0.089866   -2.399344   \n",
       "4        0      0          -211    0.073905    0.089409   -2.399101   \n",
       "\n",
       "   particlePx  particlePy  particlePz   particleE  particlePolarPx  \\\n",
       "0 -115.595071    5.513218  107.093643  157.675996       115.726471   \n",
       "1  -83.072377    4.831796   75.798599  112.561324        83.212776   \n",
       "2  -11.168506   -8.774579    9.043395   16.838385        14.203125   \n",
       "3   -8.233158   -1.087632    6.647210   10.637351         8.304688   \n",
       "4   -8.048296    0.478376    6.097900   10.109785         8.062500   \n",
       "\n",
       "   particlePolarPy  particlePolarPz  particlePolarE  particlePhi  \\\n",
       "0         0.827630         3.093935    2.347607e-01     3.093935   \n",
       "1         0.816948         3.083494    5.078805e-01     3.083494   \n",
       "2         0.600055        -2.475661    1.395264e-01    -2.475661   \n",
       "3         0.732994        -3.010249   -1.192093e-07    -3.010249   \n",
       "4         0.698202         3.082224    1.395264e-01     3.082224   \n",
       "\n",
       "   particleTheta  \n",
       "0       0.824122  \n",
       "1       0.831991  \n",
       "2       1.003814  \n",
       "3       0.895801  \n",
       "4       0.923257  "
      ]
     },
     "execution_count": 4,
     "metadata": {},
     "output_type": "execute_result"
    }
   ],
   "source": [
    "# read in the data\n",
    "par_df = read_data(PARTICLE_FNAME)\n",
    "\n",
    "# display the first 5 rows of the data\n",
    "par_df.head()"
   ]
  },
  {
   "cell_type": "code",
   "execution_count": 5,
   "metadata": {},
   "outputs": [
    {
     "name": "stdout",
     "output_type": "stream",
     "text": [
      "Rows x Columns:  (168058, 16)\n",
      "Number of events:  3668\n",
      "Number of jets:  5851\n",
      "Number of particles:  11\n",
      "Unique particle types:  [   0 -211  130  211   22    2    1   13  -11   11  -13]\n"
     ]
    }
   ],
   "source": [
    "# Print the number of rows and columns in the DataFrame. \n",
    "print(\"Rows x Columns: \", par_df.shape)\n",
    "\n",
    "# Print the number of unique events and jets in the DataFrame. \n",
    "print(\"Number of events: \", par_df[\"eventID\"].nunique())\n",
    "print(\"Number of jets: \", par_df[\"jetID\"].nunique())\n",
    "\n",
    "# Print the number of unique particles in the DataFrame.\n",
    "print(\"Number of particles: \", par_df[\"particleType\"].nunique())\n",
    "\n",
    "# List the unique particle types in the DataFrame.\n",
    "print(\"Unique particle types: \", par_df[\"particleType\"].unique())"
   ]
  },
  {
   "attachments": {},
   "cell_type": "markdown",
   "metadata": {},
   "source": [
    "The particle numbering scheme is as follows:\n",
    "\n",
    "| Number | Particle |\n",
    "|:------:|:--------:|\n",
    "| 0      | unknown |\n",
    "| 1      | down quark |\n",
    "| 2      | up quark |\n",
    "| 11     | electron |\n",
    "| 13     | muon |\n",
    "| 22     | photon |\n",
    "| 130    | neutral kaon (long) |\n",
    "| 211    | charged pion |\n",
    "\n",
    "where the numbers are the PDG ID numbers. Positive numbers are particles and negative numbers are antiparticles.\n",
    "\n"
   ]
  },
  {
   "cell_type": "markdown",
   "metadata": {},
   "source": []
  }
 ],
 "metadata": {
  "kernelspec": {
   "display_name": "base",
   "language": "python",
   "name": "python3"
  },
  "language_info": {
   "codemirror_mode": {
    "name": "ipython",
    "version": 3
   },
   "file_extension": ".py",
   "mimetype": "text/x-python",
   "name": "python",
   "nbconvert_exporter": "python",
   "pygments_lexer": "ipython3",
   "version": "3.9.12"
  },
  "orig_nbformat": 4,
  "vscode": {
   "interpreter": {
    "hash": "91e94dacc13bcc9ab92871d8572d4c8a018895bdfb2528d081f4892614b17d07"
   }
  }
 },
 "nbformat": 4,
 "nbformat_minor": 2
}
