{
 "cells": [
  {
   "cell_type": "code",
   "execution_count": 42,
   "metadata": {},
   "outputs": [],
   "source": [
    "import uproot\n",
    "\n",
    "import numpy as np\n",
    "import pandas as pd\n",
    "import matplotlib.pyplot as plt\n",
    "\n",
    "from Dataset import Dataset"
   ]
  },
  {
   "cell_type": "code",
   "execution_count": 43,
   "metadata": {},
   "outputs": [],
   "source": [
    "data_file = \"./data/dataset_test.root\"\n",
    "dataset   = Dataset(data_file)"
   ]
  },
  {
   "cell_type": "code",
   "execution_count": null,
   "metadata": {},
   "outputs": [],
   "source": [
    "# jet features\n",
    "numberFatJets = dataset.getNumberFatJets()\n",
    "jetID         = dataset.getJetID()\n",
    "jetArea       = dataset.getJetArea()\n",
    "jetVx         = dataset.getJetVx()        \n",
    "jetVy         = dataset.getJetVy()\n",
    "jetVz         = dataset.getJetVz()\n",
    "jetPx         = dataset.getJetPx()\n",
    "jetPy         = dataset.getJetPy()\n",
    "jetPz         = dataset.getJetPz()\n",
    "jetE          = dataset.getJetE()\n",
    "jetPolarPx    = dataset.getJetPolarPx()\n",
    "jetPolarPy    = dataset.getJetPolarPy()\n",
    "jetPolarPz    = dataset.getJetPolarPz()\n",
    "jetPolarE     = dataset.getJetPolarE()\n",
    "jetPhi        = dataset.getJetPhi()\n",
    "jetTheta      = dataset.getJetTheta()\n",
    "\n",
    "# particle features\n",
    "particleType    = dataset.getParticleType()  \n",
    "particleVx      = dataset.getParticleVx()\n",
    "particleVy      = dataset.getParticleVy()\n",
    "particleVz      = dataset.getParticleVz()\n",
    "particlePx      = dataset.getParticlePx()\n",
    "particlePy      = dataset.getParticlePy()\n",
    "particlePz      = dataset.getParticlePz()\n",
    "particleE       = dataset.getParticleE()\n",
    "particlePolarPx = dataset.getParticlePolarPx()\n",
    "particlePolarPy = dataset.getParticlePolarPy()\n",
    "particlePolarPz = dataset.getParticlePolarPz()\n",
    "particlePolarE  = dataset.getParticlePolarE()\n",
    "particlePhi     = dataset.getParticlePhi()\n",
    "particleTheta   = dataset.getParticleTheta()"
   ]
  }
 ],
 "metadata": {
  "kernelspec": {
   "display_name": "base",
   "language": "python",
   "name": "python3"
  },
  "language_info": {
   "codemirror_mode": {
    "name": "ipython",
    "version": 3
   },
   "file_extension": ".py",
   "mimetype": "text/x-python",
   "name": "python",
   "nbconvert_exporter": "python",
   "pygments_lexer": "ipython3",
   "version": "3.9.12"
  },
  "orig_nbformat": 4,
  "vscode": {
   "interpreter": {
    "hash": "91e94dacc13bcc9ab92871d8572d4c8a018895bdfb2528d081f4892614b17d07"
   }
  }
 },
 "nbformat": 4,
 "nbformat_minor": 2
}
