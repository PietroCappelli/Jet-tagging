{
 "cells": [
  {
   "attachments": {},
   "cell_type": "markdown",
   "metadata": {},
   "source": [
    "# Jet 3D visualization"
   ]
  },
  {
   "cell_type": "code",
   "execution_count": 1,
   "metadata": {},
   "outputs": [],
   "source": [
    "import numpy as np\n",
    "import pandas as pd\n",
    "import matplotlib.pyplot as plt\n",
    "import plotly.graph_objs as go\n",
    "\n",
    "import os"
   ]
  },
  {
   "attachments": {},
   "cell_type": "markdown",
   "metadata": {},
   "source": [
    "## Functions"
   ]
  },
  {
   "cell_type": "code",
   "execution_count": 2,
   "metadata": {},
   "outputs": [],
   "source": [
    "def read_data(fname, dir=\"../data/\"):\n",
    "    # Read data from csv file\n",
    "    return pd.read_csv(os.path.join(dir, fname))\n",
    "\n",
    "def rgba_to_hex(rgba):\n",
    "    r, g, b, a = rgba\n",
    "    if a == 1:\n",
    "        return '#{:02x}{:02x}{:02x}'.format(int(r*255), int(g*255), int(b*255))\n",
    "    else:\n",
    "        return '#{:02x}{:02x}{:02x}{:02x}'.format(int(r*255), int(g*255), int(b*255), int(a*255))"
   ]
  },
  {
   "attachments": {},
   "cell_type": "markdown",
   "metadata": {},
   "source": [
    "## Constants"
   ]
  },
  {
   "cell_type": "code",
   "execution_count": 3,
   "metadata": {},
   "outputs": [],
   "source": [
    "JET_FNAME      = \"jet_df.csv\"\n",
    "PARTICLE_FNAME = \"particle_df.csv\"\n",
    "\n",
    "FONTSIZE = 16\n",
    "\n",
    "SAVE_FIG = False"
   ]
  },
  {
   "attachments": {},
   "cell_type": "markdown",
   "metadata": {},
   "source": [
    "## Code"
   ]
  },
  {
   "attachments": {},
   "cell_type": "markdown",
   "metadata": {},
   "source": [
    "### Read data"
   ]
  },
  {
   "cell_type": "code",
   "execution_count": 4,
   "metadata": {},
   "outputs": [],
   "source": [
    "# read in the data\n",
    "jet_df = read_data(JET_FNAME)\n",
    "par_df = read_data(PARTICLE_FNAME)"
   ]
  },
  {
   "attachments": {},
   "cell_type": "markdown",
   "metadata": {},
   "source": [
    "### Randomly select a jet to visualize"
   ]
  },
  {
   "cell_type": "code",
   "execution_count": 5,
   "metadata": {},
   "outputs": [
    {
     "name": "stdout",
     "output_type": "stream",
     "text": [
      "Event ID: 495\n",
      "Number of jets: 2\n",
      "Number of particles: [43 36]\n"
     ]
    }
   ],
   "source": [
    "# filter out events that has at least one jet with nParticles < 10\n",
    "df = jet_df.groupby(\"eventID\").filter(lambda x: np.all(x.nParticles >= 10))\n",
    "# filter out events with only one jet\n",
    "df = df.groupby(\"eventID\").filter(lambda x: len(x) == 2)\n",
    "# filter out events that has particles of particleType 0 that is in the par_df dataframe\n",
    "df = df.groupby(\"eventID\").filter(lambda x: np.all(par_df[par_df.eventID == x.eventID.unique()[0]].particleType != 0))\n",
    "\n",
    "# randomly choose one eventID from the filtered data\n",
    "ev_id = np.random.choice(df.eventID.unique())\n",
    "# ev_id = 945, 3614  # good example\n",
    "\n",
    "print(f\"Event ID: {ev_id}\")\n",
    "\n",
    "jet_df = jet_df[jet_df.eventID == ev_id]\n",
    "par_df = par_df[par_df.eventID == ev_id]\n",
    "\n",
    "print(f\"Number of jets: {len(jet_df)}\")\n",
    "print(f\"Number of particles: {jet_df.nParticles.values}\")"
   ]
  },
  {
   "attachments": {},
   "cell_type": "markdown",
   "metadata": {},
   "source": [
    "### Visualize the jet"
   ]
  },
  {
   "cell_type": "code",
   "execution_count": 6,
   "metadata": {},
   "outputs": [],
   "source": [
    "particles = pd.DataFrame(columns=[\"jetID\", \"p\", \"px\", \"py\", \"pz\", \"theta\", \"phi\", \"type\"])\n",
    "\n",
    "particles[\"jetID\"] = par_df[\"jetID\"]\n",
    "particles[\"theta\"] = par_df[\"particleTheta\"]\n",
    "particles[\"phi\"]   = par_df[\"particlePhi\"]\n",
    "particles[\"type\"]  = par_df[\"particleType\"]\n",
    "\n",
    "# compute the momentum \n",
    "particles[\"p\"] = np.sqrt(par_df[\"particlePx\"]**2 + par_df[\"particlePy\"]**2 + par_df[\"particlePz\"]**2)\n",
    "\n",
    "particles[\"px\"] = particles[\"p\"]*np.sin(particles[\"theta\"])*np.cos(particles[\"phi\"])\n",
    "particles[\"py\"] = particles[\"p\"]*np.sin(particles[\"theta\"])*np.sin(particles[\"phi\"])\n",
    "particles[\"pz\"] = particles[\"p\"]*np.cos(particles[\"theta\"])\n",
    "\n",
    "particles.loc[:, \"name\"] = particles[\"type\"].map({\n",
    "    1:    \"down\",\n",
    "    2:    \"up\",\n",
    "    11:   \"electron\",\n",
    "    -11:  \"electron\",\n",
    "    13:   \"muon\",\n",
    "    -13:  \"muon\",\n",
    "    22:   \"photon\",\n",
    "    130:  \"K0L\",\n",
    "    211:  \"pion\",\n",
    "    -211: \"pion\"\n",
    "})"
   ]
  },
  {
   "cell_type": "code",
   "execution_count": 7,
   "metadata": {},
   "outputs": [
    {
     "data": {
      "application/vnd.plotly.v1+json": {
       "config": {
        "plotlyServerURL": "https://plot.ly"
       },
       "data": [
        {
         "line": {
          "color": "#1f77b4",
          "width": 5
         },
         "mode": "lines",
         "name": "Jet 1",
         "type": "scatter3d",
         "x": [
          0,
          31.426981567710815
         ],
         "y": [
          0,
          -125.24220716093582
         ],
         "z": [
          0,
          297.1326408781462
         ]
        },
        {
         "line": {
          "color": "#1f77b4",
          "width": 5
         },
         "mode": "lines",
         "name": "Jet 1",
         "type": "scatter3d",
         "x": [
          0,
          1.7735232784453556
         ],
         "y": [
          0,
          -7.222951019549589
         ],
         "z": [
          0,
          18.99044607522153
         ]
        },
        {
         "line": {
          "color": "#1f77b4",
          "width": 5
         },
         "mode": "lines",
         "name": "Jet 1",
         "type": "scatter3d",
         "x": [
          0,
          1.0127575382902108
         ],
         "y": [
          0,
          -4.692741499271818
         ],
         "z": [
          0,
          9.207296989788373
         ]
        },
        {
         "line": {
          "color": "#1f77b4",
          "width": 5
         },
         "mode": "lines",
         "name": "Jet 1",
         "type": "scatter3d",
         "x": [
          0,
          -2.214510383722365
         ],
         "y": [
          0,
          -3.8634526043437916
         ],
         "z": [
          0,
          8.433481494858125
         ]
        },
        {
         "line": {
          "color": "#1f77b4",
          "width": 5
         },
         "mode": "lines",
         "name": "Jet 1",
         "type": "scatter3d",
         "x": [
          0,
          0.024692315639510784
         ],
         "y": [
          0,
          -3.8026542067817575
         ],
         "z": [
          0,
          9.023129564227425
         ]
        },
        {
         "line": {
          "color": "#1f77b4",
          "width": 5
         },
         "mode": "lines",
         "name": "Jet 1",
         "type": "scatter3d",
         "x": [
          0,
          0.5922490409455894
         ],
         "y": [
          0,
          -3.0066782383256934
         ],
         "z": [
          0,
          7.159373734103794
         ]
        },
        {
         "line": {
          "color": "#1f77b4",
          "width": 5
         },
         "mode": "lines",
         "name": "Jet 1",
         "type": "scatter3d",
         "x": [
          0,
          0.6304461124184898
         ],
         "y": [
          0,
          -2.4555152028139586
         ],
         "z": [
          0,
          6.584682512737248
         ]
        },
        {
         "line": {
          "color": "#1f77b4",
          "width": 5
         },
         "mode": "lines",
         "name": "Jet 1",
         "type": "scatter3d",
         "x": [
          0,
          1.0610259264868218
         ],
         "y": [
          0,
          -2.183602110934917
         ],
         "z": [
          0,
          6.008786580828215
         ]
        },
        {
         "line": {
          "color": "#1f77b4",
          "width": 5
         },
         "mode": "lines",
         "name": "Jet 1",
         "type": "scatter3d",
         "x": [
          0,
          -0.13607576450354555
         ],
         "y": [
          0,
          -2.410224292513256
         ],
         "z": [
          0,
          5.612983034645726
         ]
        },
        {
         "line": {
          "color": "#1f77b4",
          "width": 5
         },
         "mode": "lines",
         "name": "Jet 1",
         "type": "scatter3d",
         "x": [
          0,
          -0.026435055790643956
         ],
         "y": [
          0,
          -1.5681365747203704
         ],
         "z": [
          0,
          3.7481059801807644
         ]
        },
        {
         "line": {
          "color": "#1f77b4",
          "width": 5
         },
         "mode": "lines",
         "name": "Jet 1",
         "type": "scatter3d",
         "x": [
          0,
          0.3176346898092271
         ],
         "y": [
          0,
          -1.304664212847644
         ],
         "z": [
          0,
          3.35177040764017
         ]
        },
        {
         "line": {
          "color": "#1f77b4",
          "width": 5
         },
         "mode": "lines",
         "name": "Jet 1",
         "type": "scatter3d",
         "x": [
          0,
          -0.1450392747184457
         ],
         "y": [
          0,
          -1.2081217835131164
         ],
         "z": [
          0,
          1.9076831207182319
         ]
        },
        {
         "line": {
          "color": "#1f77b4",
          "width": 5
         },
         "mode": "lines",
         "name": "Jet 1",
         "type": "scatter3d",
         "x": [
          0,
          0.05551103192712996
         ],
         "y": [
          0,
          -1.155894390630023
         ],
         "z": [
          0,
          2.4457952451941507
         ]
        },
        {
         "line": {
          "color": "#1f77b4",
          "width": 5
         },
         "mode": "lines",
         "name": "Jet 1",
         "type": "scatter3d",
         "x": [
          0,
          0.12842170768160846
         ],
         "y": [
          0,
          -0.9799018798317013
         ],
         "z": [
          0,
          2.455732680783233
         ]
        },
        {
         "line": {
          "color": "#1f77b4",
          "width": 5
         },
         "mode": "lines",
         "name": "Jet 1",
         "type": "scatter3d",
         "x": [
          0,
          0.19500323771775385
         ],
         "y": [
          0,
          -0.9304692540353003
         ],
         "z": [
          0,
          1.8650822415059658
         ]
        },
        {
         "line": {
          "color": "#1f77b4",
          "width": 5
         },
         "mode": "lines",
         "name": "Jet 1",
         "type": "scatter3d",
         "x": [
          0,
          0.396926887162569
         ],
         "y": [
          0,
          -0.8552513932620951
         ],
         "z": [
          0,
          1.2667656162776766
         ]
        },
        {
         "line": {
          "color": "#1f77b4",
          "width": 5
         },
         "mode": "lines",
         "name": "Jet 1",
         "type": "scatter3d",
         "x": [
          0,
          0.19979027210660846
         ],
         "y": [
          0,
          -0.9149644780855614
         ],
         "z": [
          0,
          2.457406432373836
         ]
        },
        {
         "line": {
          "color": "#1f77b4",
          "width": 5
         },
         "mode": "lines",
         "name": "Jet 1",
         "type": "scatter3d",
         "x": [
          0,
          0.12275460987591041
         ],
         "y": [
          0,
          -0.9151435804345064
         ],
         "z": [
          0,
          2.167930513733536
         ]
        },
        {
         "line": {
          "color": "#1f77b4",
          "width": 5
         },
         "mode": "lines",
         "name": "Jet 1",
         "type": "scatter3d",
         "x": [
          0,
          0.5530724606730645
         ],
         "y": [
          0,
          -0.6235596134625384
         ],
         "z": [
          0,
          1.0094231050240454
         ]
        },
        {
         "line": {
          "color": "#1f77b4",
          "width": 5
         },
         "mode": "lines",
         "name": "Jet 1",
         "type": "scatter3d",
         "x": [
          0,
          0.03569491876896713
         ],
         "y": [
          0,
          -0.8254004118093788
         ],
         "z": [
          0,
          1.3193345630982085
         ]
        },
        {
         "line": {
          "color": "#1f77b4",
          "width": 5
         },
         "mode": "lines",
         "name": "Jet 1",
         "type": "scatter3d",
         "x": [
          0,
          -0.20267601660644113
         ],
         "y": [
          0,
          -0.7534912538049875
         ],
         "z": [
          0,
          1.0780140596344696
         ]
        },
        {
         "line": {
          "color": "#1f77b4",
          "width": 5
         },
         "mode": "lines",
         "name": "Jet 1",
         "type": "scatter3d",
         "x": [
          0,
          0.33366791674379487
         ],
         "y": [
          0,
          -0.6662322000952567
         ],
         "z": [
          0,
          1.7984482610620918
         ]
        },
        {
         "line": {
          "color": "#1f77b4",
          "width": 5
         },
         "mode": "lines",
         "name": "Jet 1",
         "type": "scatter3d",
         "x": [
          0,
          0.4040046955460698
         ],
         "y": [
          0,
          -0.6138438303886778
         ],
         "z": [
          0,
          1.5240955029730503
         ]
        },
        {
         "line": {
          "color": "#1f77b4",
          "width": 5
         },
         "mode": "lines",
         "name": "Jet 1",
         "type": "scatter3d",
         "x": [
          0,
          0.1721236813532429
         ],
         "y": [
          0,
          -0.6817317683241754
         ],
         "z": [
          0,
          1.242463201962031
         ]
        },
        {
         "line": {
          "color": "#1f77b4",
          "width": 5
         },
         "mode": "lines",
         "name": "Jet 1",
         "type": "scatter3d",
         "x": [
          0,
          0.2378723368856754
         ],
         "y": [
          0,
          -0.6523182853857091
         ],
         "z": [
          0,
          1.8586503041668383
         ]
        },
        {
         "line": {
          "color": "#1f77b4",
          "width": 5
         },
         "mode": "lines",
         "name": "Jet 1",
         "type": "scatter3d",
         "x": [
          0,
          0.04265467202184101
         ],
         "y": [
          0,
          -0.6494797376022636
         ],
         "z": [
          0,
          1.611600293697504
         ]
        },
        {
         "line": {
          "color": "#1f77b4",
          "width": 5
         },
         "mode": "lines",
         "name": "Jet 1",
         "type": "scatter3d",
         "x": [
          0,
          -0.18177452336351652
         ],
         "y": [
          0,
          -0.6244725676471761
         ],
         "z": [
          0,
          2.085947016125428
         ]
        },
        {
         "line": {
          "color": "#1f77b4",
          "width": 5
         },
         "mode": "lines",
         "name": "Jet 1",
         "type": "scatter3d",
         "x": [
          0,
          0.061535602645474745
         ],
         "y": [
          0,
          -0.6303040925925505
         ],
         "z": [
          0,
          1.5273517406706878
         ]
        },
        {
         "line": {
          "color": "#1f77b4",
          "width": 5
         },
         "mode": "lines",
         "name": "Jet 1",
         "type": "scatter3d",
         "x": [
          0,
          0.24457844619966698
         ],
         "y": [
          0,
          -0.5772794856928682
         ],
         "z": [
          0,
          0.9835720045317975
         ]
        },
        {
         "line": {
          "color": "#1f77b4",
          "width": 5
         },
         "mode": "lines",
         "name": "Jet 1",
         "type": "scatter3d",
         "x": [
          0,
          0.17404763857260386
         ],
         "y": [
          0,
          -0.5533516518551433
         ],
         "z": [
          0,
          1.510511964099593
         ]
        },
        {
         "line": {
          "color": "#1f77b4",
          "width": 5
         },
         "mode": "lines",
         "name": "Jet 1",
         "type": "scatter3d",
         "x": [
          0,
          0.43364070802392873
         ],
         "y": [
          0,
          -0.3259460006193137
         ],
         "z": [
          0,
          1.2361526459155077
         ]
        },
        {
         "line": {
          "color": "#1f77b4",
          "width": 5
         },
         "mode": "lines",
         "name": "Jet 1",
         "type": "scatter3d",
         "x": [
          0,
          -0.13698080901644893
         ],
         "y": [
          0,
          -0.5102534767753146
         ],
         "z": [
          0,
          1.8653402750980688
         ]
        },
        {
         "line": {
          "color": "#1f77b4",
          "width": 5
         },
         "mode": "lines",
         "name": "Jet 1",
         "type": "scatter3d",
         "x": [
          0,
          0.2407196244569821
         ],
         "y": [
          0,
          -0.45322341432835794
         ],
         "z": [
          0,
          2.025561004403867
         ]
        },
        {
         "line": {
          "color": "#1f77b4",
          "width": 5
         },
         "mode": "lines",
         "name": "Jet 1",
         "type": "scatter3d",
         "x": [
          0,
          0.14349383783760858
         ],
         "y": [
          0,
          -0.48711708413777066
         ],
         "z": [
          0,
          1.4291694788424272
         ]
        },
        {
         "line": {
          "color": "#1f77b4",
          "width": 5
         },
         "mode": "lines",
         "name": "Jet 1",
         "type": "scatter3d",
         "x": [
          0,
          -0.15245057311550655
         ],
         "y": [
          0,
          -0.42152091456004726
         ],
         "z": [
          0,
          1.557494520756686
         ]
        },
        {
         "line": {
          "color": "#1f77b4",
          "width": 5
         },
         "mode": "lines",
         "name": "Jet 1",
         "type": "scatter3d",
         "x": [
          0,
          -0.015250066792440816
         ],
         "y": [
          0,
          -0.42941679417446643
         ],
         "z": [
          0,
          0.8077084041698748
         ]
        },
        {
         "line": {
          "color": "#1f77b4",
          "width": 5
         },
         "mode": "lines",
         "name": "Jet 1",
         "type": "scatter3d",
         "x": [
          0,
          0.21697315040724757
         ],
         "y": [
          0,
          -0.22760364633419097
         ],
         "z": [
          0,
          1.270796128075193
         ]
        },
        {
         "line": {
          "color": "#1f77b4",
          "width": 5
         },
         "mode": "lines",
         "name": "Jet 1",
         "type": "scatter3d",
         "x": [
          0,
          0.15681021433055378
         ],
         "y": [
          0,
          -0.27087307153247053
         ],
         "z": [
          0,
          0.8488664135237114
         ]
        },
        {
         "line": {
          "color": "#1f77b4",
          "width": 5
         },
         "mode": "lines",
         "name": "Jet 1",
         "type": "scatter3d",
         "x": [
          0,
          0.07006640033127953
         ],
         "y": [
          0,
          -0.29250651257053983
         ],
         "z": [
          0,
          0.3149411736573824
         ]
        },
        {
         "line": {
          "color": "#1f77b4",
          "width": 5
         },
         "mode": "lines",
         "name": "Jet 1",
         "type": "scatter3d",
         "x": [
          0,
          -0.10193366905707106
         ],
         "y": [
          0,
          -0.2803857868746879
         ],
         "z": [
          0,
          0.5286274372158107
         ]
        },
        {
         "line": {
          "color": "#1f77b4",
          "width": 5
         },
         "mode": "lines",
         "name": "Jet 1",
         "type": "scatter3d",
         "x": [
          0,
          -0.10966037220857737
         ],
         "y": [
          0,
          -0.2496851265138527
         ],
         "z": [
          0,
          0.9948401814118644
         ]
        },
        {
         "line": {
          "color": "#1f77b4",
          "width": 5
         },
         "mode": "lines",
         "name": "Jet 1",
         "type": "scatter3d",
         "x": [
          0,
          -0.0742262534912286
         ],
         "y": [
          0,
          -0.19561961824749766
         ],
         "z": [
          0,
          0.3046946907256033
         ]
        },
        {
         "line": {
          "color": "#1f77b4",
          "width": 5
         },
         "mode": "lines",
         "name": "Jet 1",
         "type": "scatter3d",
         "x": [
          0,
          0.05493480355031416
         ],
         "y": [
          0,
          -0.1753102107465026
         ],
         "z": [
          0,
          0.36668499028267904
         ]
        },
        {
         "line": {
          "color": "#ff7f0e",
          "width": 5
         },
         "mode": "lines",
         "name": "Jet 2",
         "type": "scatter3d",
         "x": [
          0,
          -16.463157175051514
         ],
         "y": [
          0,
          52.01952385479465
         ],
         "z": [
          0,
          -15.871608158902523
         ]
        },
        {
         "line": {
          "color": "#ff7f0e",
          "width": 5
         },
         "mode": "lines",
         "name": "Jet 2",
         "type": "scatter3d",
         "x": [
          0,
          -15.463462467847322
         ],
         "y": [
          0,
          46.33134190338088
         ],
         "z": [
          0,
          -14.441102854799995
         ]
        },
        {
         "line": {
          "color": "#ff7f0e",
          "width": 5
         },
         "mode": "lines",
         "name": "Jet 2",
         "type": "scatter3d",
         "x": [
          0,
          -7.803548958887021
         ],
         "y": [
          0,
          31.291646227807412
         ],
         "z": [
          0,
          -8.03538108817217
         ]
        },
        {
         "line": {
          "color": "#ff7f0e",
          "width": 5
         },
         "mode": "lines",
         "name": "Jet 2",
         "type": "scatter3d",
         "x": [
          0,
          -5.544469014168824
         ],
         "y": [
          0,
          17.895129784149283
         ],
         "z": [
          0,
          -5.446043284599038
         ]
        },
        {
         "line": {
          "color": "#ff7f0e",
          "width": 5
         },
         "mode": "lines",
         "name": "Jet 2",
         "type": "scatter3d",
         "x": [
          0,
          -1.200428032712954
         ],
         "y": [
          0,
          4.632136966367788
         ],
         "z": [
          0,
          -1.7293116148727354
         ]
        },
        {
         "line": {
          "color": "#ff7f0e",
          "width": 5
         },
         "mode": "lines",
         "name": "Jet 2",
         "type": "scatter3d",
         "x": [
          0,
          -0.9241123682051037
         ],
         "y": [
          0,
          2.3292375443921016
         ],
         "z": [
          0,
          -0.426934556504748
         ]
        },
        {
         "line": {
          "color": "#ff7f0e",
          "width": 5
         },
         "mode": "lines",
         "name": "Jet 2",
         "type": "scatter3d",
         "x": [
          0,
          -0.8647995368595907
         ],
         "y": [
          0,
          1.9922757782677674
         ],
         "z": [
          0,
          -0.5263993891537325
         ]
        },
        {
         "line": {
          "color": "#ff7f0e",
          "width": 5
         },
         "mode": "lines",
         "name": "Jet 2",
         "type": "scatter3d",
         "x": [
          0,
          -0.21127638584087513
         ],
         "y": [
          0,
          1.897453390191341
         ],
         "z": [
          0,
          -0.6414585331944221
         ]
        },
        {
         "line": {
          "color": "#ff7f0e",
          "width": 5
         },
         "mode": "lines",
         "name": "Jet 2",
         "type": "scatter3d",
         "x": [
          0,
          -0.5431096410423796
         ],
         "y": [
          0,
          1.7189773543050115
         ],
         "z": [
          0,
          -0.12520857182588488
         ]
        },
        {
         "line": {
          "color": "#ff7f0e",
          "width": 5
         },
         "mode": "lines",
         "name": "Jet 2",
         "type": "scatter3d",
         "x": [
          0,
          -0.9225543817972042
         ],
         "y": [
          0,
          1.3043768266075733
         ],
         "z": [
          0,
          -1.4729699067709752
         ]
        },
        {
         "line": {
          "color": "#ff7f0e",
          "width": 5
         },
         "mode": "lines",
         "name": "Jet 2",
         "type": "scatter3d",
         "x": [
          0,
          0.2838057693458272
         ],
         "y": [
          0,
          1.4082094559307716
         ],
         "z": [
          0,
          -0.3818258988260204
         ]
        },
        {
         "line": {
          "color": "#ff7f0e",
          "width": 5
         },
         "mode": "lines",
         "name": "Jet 2",
         "type": "scatter3d",
         "x": [
          0,
          0.42614984041865933
         ],
         "y": [
          0,
          1.158480882076243
         ],
         "z": [
          0,
          -0.15842511191259237
         ]
        },
        {
         "line": {
          "color": "#ff7f0e",
          "width": 5
         },
         "mode": "lines",
         "name": "Jet 2",
         "type": "scatter3d",
         "x": [
          0,
          -0.18825169094814176
         ],
         "y": [
          0,
          0.9686939250864178
         ],
         "z": [
          0,
          -0.19513774384878063
         ]
        },
        {
         "line": {
          "color": "#ff7f0e",
          "width": 5
         },
         "mode": "lines",
         "name": "Jet 2",
         "type": "scatter3d",
         "x": [
          0,
          -0.42460177960295503
         ],
         "y": [
          0,
          0.8582289796337708
         ],
         "z": [
          0,
          -0.006838022234662333
         ]
        },
        {
         "line": {
          "color": "#ff7f0e",
          "width": 5
         },
         "mode": "lines",
         "name": "Jet 2",
         "type": "scatter3d",
         "x": [
          0,
          -0.33572465975711846
         ],
         "y": [
          0,
          0.8522755294358205
         ],
         "z": [
          0,
          -0.49812364530535647
         ]
        },
        {
         "line": {
          "color": "#ff7f0e",
          "width": 5
         },
         "mode": "lines",
         "name": "Jet 2",
         "type": "scatter3d",
         "x": [
          0,
          -0.20471178006839166
         ],
         "y": [
          0,
          0.8878378732152569
         ],
         "z": [
          0,
          0.3019071320094889
         ]
        },
        {
         "line": {
          "color": "#ff7f0e",
          "width": 5
         },
         "mode": "lines",
         "name": "Jet 2",
         "type": "scatter3d",
         "x": [
          0,
          -0.029425373113609342
         ],
         "y": [
          0,
          0.7772752512820834
         ],
         "z": [
          0,
          -0.7729394330000456
         ]
        },
        {
         "line": {
          "color": "#ff7f0e",
          "width": 5
         },
         "mode": "lines",
         "name": "Jet 2",
         "type": "scatter3d",
         "x": [
          0,
          -0.29349207244650927
         ],
         "y": [
          0,
          0.6598401158610728
         ],
         "z": [
          0,
          -0.09468639105630006
         ]
        },
        {
         "line": {
          "color": "#ff7f0e",
          "width": 5
         },
         "mode": "lines",
         "name": "Jet 2",
         "type": "scatter3d",
         "x": [
          0,
          -0.15111091446322106
         ],
         "y": [
          0,
          0.6014239916755892
         ],
         "z": [
          0,
          -0.45880225304313704
         ]
        },
        {
         "line": {
          "color": "#ff7f0e",
          "width": 5
         },
         "mode": "lines",
         "name": "Jet 2",
         "type": "scatter3d",
         "x": [
          0,
          -0.3420201155733606
         ],
         "y": [
          0,
          0.4924973534254532
         ],
         "z": [
          0,
          -0.46650981186426177
         ]
        },
        {
         "line": {
          "color": "#ff7f0e",
          "width": 5
         },
         "mode": "lines",
         "name": "Jet 2",
         "type": "scatter3d",
         "x": [
          0,
          -0.3980711203799128
         ],
         "y": [
          0,
          0.44120122169191117
         ],
         "z": [
          0,
          -0.592650017882789
         ]
        },
        {
         "line": {
          "color": "#ff7f0e",
          "width": 5
         },
         "mode": "lines",
         "name": "Jet 2",
         "type": "scatter3d",
         "x": [
          0,
          -0.2912308369883253
         ],
         "y": [
          0,
          0.4846600159838102
         ],
         "z": [
          0,
          -0.49513032992051925
         ]
        },
        {
         "line": {
          "color": "#ff7f0e",
          "width": 5
         },
         "mode": "lines",
         "name": "Jet 2",
         "type": "scatter3d",
         "x": [
          0,
          -0.3495910237177405
         ],
         "y": [
          0,
          0.42054533853198545
         ],
         "z": [
          0,
          -0.2846823280888019
         ]
        },
        {
         "line": {
          "color": "#ff7f0e",
          "width": 5
         },
         "mode": "lines",
         "name": "Jet 2",
         "type": "scatter3d",
         "x": [
          0,
          0.12231549815994364
         ],
         "y": [
          0,
          0.5229965579454374
         ],
         "z": [
          0,
          -0.4110508335328901
         ]
        },
        {
         "line": {
          "color": "#ff7f0e",
          "width": 5
         },
         "mode": "lines",
         "name": "Jet 2",
         "type": "scatter3d",
         "x": [
          0,
          -0.133785280265599
         ],
         "y": [
          0,
          0.4792348620444184
         ],
         "z": [
          0,
          0.25071843280193323
         ]
        },
        {
         "line": {
          "color": "#ff7f0e",
          "width": 5
         },
         "mode": "lines",
         "name": "Jet 2",
         "type": "scatter3d",
         "x": [
          0,
          -0.4089143176893576
         ],
         "y": [
          0,
          0.2389918866097911
         ],
         "z": [
          0,
          -0.011102124238281517
         ]
        },
        {
         "line": {
          "color": "#ff7f0e",
          "width": 5
         },
         "mode": "lines",
         "name": "Jet 2",
         "type": "scatter3d",
         "x": [
          0,
          -0.20808017386826413
         ],
         "y": [
          0,
          0.4213966101415148
         ],
         "z": [
          0,
          -0.4020926594985135
         ]
        },
        {
         "line": {
          "color": "#ff7f0e",
          "width": 5
         },
         "mode": "lines",
         "name": "Jet 2",
         "type": "scatter3d",
         "x": [
          0,
          -0.0392272543210553
         ],
         "y": [
          0,
          0.4104834276395678
         ],
         "z": [
          0,
          -0.16786873257419524
         ]
        },
        {
         "line": {
          "color": "#ff7f0e",
          "width": 5
         },
         "mode": "lines",
         "name": "Jet 2",
         "type": "scatter3d",
         "x": [
          0,
          -0.23436290363600343
         ],
         "y": [
          0,
          0.3100642769093483
         ],
         "z": [
          0,
          -0.40480847230694067
         ]
        },
        {
         "line": {
          "color": "#ff7f0e",
          "width": 5
         },
         "mode": "lines",
         "name": "Jet 2",
         "type": "scatter3d",
         "x": [
          0,
          -0.1874749155228473
         ],
         "y": [
          0,
          0.2916161205674318
         ],
         "z": [
          0,
          0.01060295991923627
         ]
        },
        {
         "line": {
          "color": "#ff7f0e",
          "width": 5
         },
         "mode": "lines",
         "name": "Jet 2",
         "type": "scatter3d",
         "x": [
          0,
          0.038016574793509735
         ],
         "y": [
          0,
          0.3268984222673932
         ],
         "z": [
          0,
          -0.3211112748743277
         ]
        },
        {
         "line": {
          "color": "#ff7f0e",
          "width": 5
         },
         "mode": "lines",
         "name": "Jet 2",
         "type": "scatter3d",
         "x": [
          0,
          0.0037968912742841424
         ],
         "y": [
          0,
          0.26730701977027094
         ],
         "z": [
          0,
          -0.2954516095666632
         ]
        },
        {
         "line": {
          "color": "#ff7f0e",
          "width": 5
         },
         "mode": "lines",
         "name": "Jet 2",
         "type": "scatter3d",
         "x": [
          0,
          0.05258401507311268
         ],
         "y": [
          0,
          0.25638179627335705
         ],
         "z": [
          0,
          -0.23565280180527387
         ]
        },
        {
         "line": {
          "color": "#ff7f0e",
          "width": 5
         },
         "mode": "lines",
         "name": "Jet 2",
         "type": "scatter3d",
         "x": [
          0,
          -0.15799022657808431
         ],
         "y": [
          0,
          0.19248833920557878
         ],
         "z": [
          0,
          -0.24265894258336382
         ]
        },
        {
         "line": {
          "color": "#ff7f0e",
          "width": 5
         },
         "mode": "lines",
         "name": "Jet 2",
         "type": "scatter3d",
         "x": [
          0,
          -0.12818947558261065
         ],
         "y": [
          0,
          0.20763553015231206
         ],
         "z": [
          0,
          0.01600779355382752
         ]
        },
        {
         "line": {
          "color": "#ff7f0e",
          "width": 5
         },
         "mode": "lines",
         "name": "Jet 2",
         "type": "scatter3d",
         "x": [
          0,
          -0.11965131283067329
         ],
         "y": [
          0,
          0.18820887710337966
         ],
         "z": [
          0,
          -0.2502078088428953
         ]
        }
       ],
       "layout": {
        "height": 500,
        "margin": {
         "b": 10,
         "l": 10,
         "r": 10,
         "t": 10
        },
        "paper_bgcolor": "white",
        "plot_bgcolor": "white",
        "scene": {
         "aspectmode": "cube",
         "aspectratio": {
          "x": 1,
          "y": 1,
          "z": 1
         },
         "xaxis": {
          "range": [
           -1,
           1
          ],
          "showgrid": false,
          "showline": false,
          "showticklabels": false,
          "title": {
           "text": ""
          }
         },
         "yaxis": {
          "range": [
           -1,
           1
          ],
          "showgrid": false,
          "showline": false,
          "showticklabels": false,
          "title": {
           "text": ""
          }
         },
         "zaxis": {
          "range": [
           -1,
           1
          ],
          "showgrid": false,
          "showline": false,
          "showticklabels": false,
          "title": {
           "text": ""
          }
         }
        },
        "showlegend": false,
        "template": {
         "data": {
          "bar": [
           {
            "error_x": {
             "color": "#2a3f5f"
            },
            "error_y": {
             "color": "#2a3f5f"
            },
            "marker": {
             "line": {
              "color": "#E5ECF6",
              "width": 0.5
             },
             "pattern": {
              "fillmode": "overlay",
              "size": 10,
              "solidity": 0.2
             }
            },
            "type": "bar"
           }
          ],
          "barpolar": [
           {
            "marker": {
             "line": {
              "color": "#E5ECF6",
              "width": 0.5
             },
             "pattern": {
              "fillmode": "overlay",
              "size": 10,
              "solidity": 0.2
             }
            },
            "type": "barpolar"
           }
          ],
          "carpet": [
           {
            "aaxis": {
             "endlinecolor": "#2a3f5f",
             "gridcolor": "white",
             "linecolor": "white",
             "minorgridcolor": "white",
             "startlinecolor": "#2a3f5f"
            },
            "baxis": {
             "endlinecolor": "#2a3f5f",
             "gridcolor": "white",
             "linecolor": "white",
             "minorgridcolor": "white",
             "startlinecolor": "#2a3f5f"
            },
            "type": "carpet"
           }
          ],
          "choropleth": [
           {
            "colorbar": {
             "outlinewidth": 0,
             "ticks": ""
            },
            "type": "choropleth"
           }
          ],
          "contour": [
           {
            "colorbar": {
             "outlinewidth": 0,
             "ticks": ""
            },
            "colorscale": [
             [
              0,
              "#0d0887"
             ],
             [
              0.1111111111111111,
              "#46039f"
             ],
             [
              0.2222222222222222,
              "#7201a8"
             ],
             [
              0.3333333333333333,
              "#9c179e"
             ],
             [
              0.4444444444444444,
              "#bd3786"
             ],
             [
              0.5555555555555556,
              "#d8576b"
             ],
             [
              0.6666666666666666,
              "#ed7953"
             ],
             [
              0.7777777777777778,
              "#fb9f3a"
             ],
             [
              0.8888888888888888,
              "#fdca26"
             ],
             [
              1,
              "#f0f921"
             ]
            ],
            "type": "contour"
           }
          ],
          "contourcarpet": [
           {
            "colorbar": {
             "outlinewidth": 0,
             "ticks": ""
            },
            "type": "contourcarpet"
           }
          ],
          "heatmap": [
           {
            "colorbar": {
             "outlinewidth": 0,
             "ticks": ""
            },
            "colorscale": [
             [
              0,
              "#0d0887"
             ],
             [
              0.1111111111111111,
              "#46039f"
             ],
             [
              0.2222222222222222,
              "#7201a8"
             ],
             [
              0.3333333333333333,
              "#9c179e"
             ],
             [
              0.4444444444444444,
              "#bd3786"
             ],
             [
              0.5555555555555556,
              "#d8576b"
             ],
             [
              0.6666666666666666,
              "#ed7953"
             ],
             [
              0.7777777777777778,
              "#fb9f3a"
             ],
             [
              0.8888888888888888,
              "#fdca26"
             ],
             [
              1,
              "#f0f921"
             ]
            ],
            "type": "heatmap"
           }
          ],
          "heatmapgl": [
           {
            "colorbar": {
             "outlinewidth": 0,
             "ticks": ""
            },
            "colorscale": [
             [
              0,
              "#0d0887"
             ],
             [
              0.1111111111111111,
              "#46039f"
             ],
             [
              0.2222222222222222,
              "#7201a8"
             ],
             [
              0.3333333333333333,
              "#9c179e"
             ],
             [
              0.4444444444444444,
              "#bd3786"
             ],
             [
              0.5555555555555556,
              "#d8576b"
             ],
             [
              0.6666666666666666,
              "#ed7953"
             ],
             [
              0.7777777777777778,
              "#fb9f3a"
             ],
             [
              0.8888888888888888,
              "#fdca26"
             ],
             [
              1,
              "#f0f921"
             ]
            ],
            "type": "heatmapgl"
           }
          ],
          "histogram": [
           {
            "marker": {
             "pattern": {
              "fillmode": "overlay",
              "size": 10,
              "solidity": 0.2
             }
            },
            "type": "histogram"
           }
          ],
          "histogram2d": [
           {
            "colorbar": {
             "outlinewidth": 0,
             "ticks": ""
            },
            "colorscale": [
             [
              0,
              "#0d0887"
             ],
             [
              0.1111111111111111,
              "#46039f"
             ],
             [
              0.2222222222222222,
              "#7201a8"
             ],
             [
              0.3333333333333333,
              "#9c179e"
             ],
             [
              0.4444444444444444,
              "#bd3786"
             ],
             [
              0.5555555555555556,
              "#d8576b"
             ],
             [
              0.6666666666666666,
              "#ed7953"
             ],
             [
              0.7777777777777778,
              "#fb9f3a"
             ],
             [
              0.8888888888888888,
              "#fdca26"
             ],
             [
              1,
              "#f0f921"
             ]
            ],
            "type": "histogram2d"
           }
          ],
          "histogram2dcontour": [
           {
            "colorbar": {
             "outlinewidth": 0,
             "ticks": ""
            },
            "colorscale": [
             [
              0,
              "#0d0887"
             ],
             [
              0.1111111111111111,
              "#46039f"
             ],
             [
              0.2222222222222222,
              "#7201a8"
             ],
             [
              0.3333333333333333,
              "#9c179e"
             ],
             [
              0.4444444444444444,
              "#bd3786"
             ],
             [
              0.5555555555555556,
              "#d8576b"
             ],
             [
              0.6666666666666666,
              "#ed7953"
             ],
             [
              0.7777777777777778,
              "#fb9f3a"
             ],
             [
              0.8888888888888888,
              "#fdca26"
             ],
             [
              1,
              "#f0f921"
             ]
            ],
            "type": "histogram2dcontour"
           }
          ],
          "mesh3d": [
           {
            "colorbar": {
             "outlinewidth": 0,
             "ticks": ""
            },
            "type": "mesh3d"
           }
          ],
          "parcoords": [
           {
            "line": {
             "colorbar": {
              "outlinewidth": 0,
              "ticks": ""
             }
            },
            "type": "parcoords"
           }
          ],
          "pie": [
           {
            "automargin": true,
            "type": "pie"
           }
          ],
          "scatter": [
           {
            "fillpattern": {
             "fillmode": "overlay",
             "size": 10,
             "solidity": 0.2
            },
            "type": "scatter"
           }
          ],
          "scatter3d": [
           {
            "line": {
             "colorbar": {
              "outlinewidth": 0,
              "ticks": ""
             }
            },
            "marker": {
             "colorbar": {
              "outlinewidth": 0,
              "ticks": ""
             }
            },
            "type": "scatter3d"
           }
          ],
          "scattercarpet": [
           {
            "marker": {
             "colorbar": {
              "outlinewidth": 0,
              "ticks": ""
             }
            },
            "type": "scattercarpet"
           }
          ],
          "scattergeo": [
           {
            "marker": {
             "colorbar": {
              "outlinewidth": 0,
              "ticks": ""
             }
            },
            "type": "scattergeo"
           }
          ],
          "scattergl": [
           {
            "marker": {
             "colorbar": {
              "outlinewidth": 0,
              "ticks": ""
             }
            },
            "type": "scattergl"
           }
          ],
          "scattermapbox": [
           {
            "marker": {
             "colorbar": {
              "outlinewidth": 0,
              "ticks": ""
             }
            },
            "type": "scattermapbox"
           }
          ],
          "scatterpolar": [
           {
            "marker": {
             "colorbar": {
              "outlinewidth": 0,
              "ticks": ""
             }
            },
            "type": "scatterpolar"
           }
          ],
          "scatterpolargl": [
           {
            "marker": {
             "colorbar": {
              "outlinewidth": 0,
              "ticks": ""
             }
            },
            "type": "scatterpolargl"
           }
          ],
          "scatterternary": [
           {
            "marker": {
             "colorbar": {
              "outlinewidth": 0,
              "ticks": ""
             }
            },
            "type": "scatterternary"
           }
          ],
          "surface": [
           {
            "colorbar": {
             "outlinewidth": 0,
             "ticks": ""
            },
            "colorscale": [
             [
              0,
              "#0d0887"
             ],
             [
              0.1111111111111111,
              "#46039f"
             ],
             [
              0.2222222222222222,
              "#7201a8"
             ],
             [
              0.3333333333333333,
              "#9c179e"
             ],
             [
              0.4444444444444444,
              "#bd3786"
             ],
             [
              0.5555555555555556,
              "#d8576b"
             ],
             [
              0.6666666666666666,
              "#ed7953"
             ],
             [
              0.7777777777777778,
              "#fb9f3a"
             ],
             [
              0.8888888888888888,
              "#fdca26"
             ],
             [
              1,
              "#f0f921"
             ]
            ],
            "type": "surface"
           }
          ],
          "table": [
           {
            "cells": {
             "fill": {
              "color": "#EBF0F8"
             },
             "line": {
              "color": "white"
             }
            },
            "header": {
             "fill": {
              "color": "#C8D4E3"
             },
             "line": {
              "color": "white"
             }
            },
            "type": "table"
           }
          ]
         },
         "layout": {
          "annotationdefaults": {
           "arrowcolor": "#2a3f5f",
           "arrowhead": 0,
           "arrowwidth": 1
          },
          "autotypenumbers": "strict",
          "coloraxis": {
           "colorbar": {
            "outlinewidth": 0,
            "ticks": ""
           }
          },
          "colorscale": {
           "diverging": [
            [
             0,
             "#8e0152"
            ],
            [
             0.1,
             "#c51b7d"
            ],
            [
             0.2,
             "#de77ae"
            ],
            [
             0.3,
             "#f1b6da"
            ],
            [
             0.4,
             "#fde0ef"
            ],
            [
             0.5,
             "#f7f7f7"
            ],
            [
             0.6,
             "#e6f5d0"
            ],
            [
             0.7,
             "#b8e186"
            ],
            [
             0.8,
             "#7fbc41"
            ],
            [
             0.9,
             "#4d9221"
            ],
            [
             1,
             "#276419"
            ]
           ],
           "sequential": [
            [
             0,
             "#0d0887"
            ],
            [
             0.1111111111111111,
             "#46039f"
            ],
            [
             0.2222222222222222,
             "#7201a8"
            ],
            [
             0.3333333333333333,
             "#9c179e"
            ],
            [
             0.4444444444444444,
             "#bd3786"
            ],
            [
             0.5555555555555556,
             "#d8576b"
            ],
            [
             0.6666666666666666,
             "#ed7953"
            ],
            [
             0.7777777777777778,
             "#fb9f3a"
            ],
            [
             0.8888888888888888,
             "#fdca26"
            ],
            [
             1,
             "#f0f921"
            ]
           ],
           "sequentialminus": [
            [
             0,
             "#0d0887"
            ],
            [
             0.1111111111111111,
             "#46039f"
            ],
            [
             0.2222222222222222,
             "#7201a8"
            ],
            [
             0.3333333333333333,
             "#9c179e"
            ],
            [
             0.4444444444444444,
             "#bd3786"
            ],
            [
             0.5555555555555556,
             "#d8576b"
            ],
            [
             0.6666666666666666,
             "#ed7953"
            ],
            [
             0.7777777777777778,
             "#fb9f3a"
            ],
            [
             0.8888888888888888,
             "#fdca26"
            ],
            [
             1,
             "#f0f921"
            ]
           ]
          },
          "colorway": [
           "#636efa",
           "#EF553B",
           "#00cc96",
           "#ab63fa",
           "#FFA15A",
           "#19d3f3",
           "#FF6692",
           "#B6E880",
           "#FF97FF",
           "#FECB52"
          ],
          "font": {
           "color": "#2a3f5f"
          },
          "geo": {
           "bgcolor": "white",
           "lakecolor": "white",
           "landcolor": "#E5ECF6",
           "showlakes": true,
           "showland": true,
           "subunitcolor": "white"
          },
          "hoverlabel": {
           "align": "left"
          },
          "hovermode": "closest",
          "mapbox": {
           "style": "light"
          },
          "paper_bgcolor": "white",
          "plot_bgcolor": "#E5ECF6",
          "polar": {
           "angularaxis": {
            "gridcolor": "white",
            "linecolor": "white",
            "ticks": ""
           },
           "bgcolor": "#E5ECF6",
           "radialaxis": {
            "gridcolor": "white",
            "linecolor": "white",
            "ticks": ""
           }
          },
          "scene": {
           "xaxis": {
            "backgroundcolor": "#E5ECF6",
            "gridcolor": "white",
            "gridwidth": 2,
            "linecolor": "white",
            "showbackground": true,
            "ticks": "",
            "zerolinecolor": "white"
           },
           "yaxis": {
            "backgroundcolor": "#E5ECF6",
            "gridcolor": "white",
            "gridwidth": 2,
            "linecolor": "white",
            "showbackground": true,
            "ticks": "",
            "zerolinecolor": "white"
           },
           "zaxis": {
            "backgroundcolor": "#E5ECF6",
            "gridcolor": "white",
            "gridwidth": 2,
            "linecolor": "white",
            "showbackground": true,
            "ticks": "",
            "zerolinecolor": "white"
           }
          },
          "shapedefaults": {
           "line": {
            "color": "#2a3f5f"
           }
          },
          "ternary": {
           "aaxis": {
            "gridcolor": "white",
            "linecolor": "white",
            "ticks": ""
           },
           "baxis": {
            "gridcolor": "white",
            "linecolor": "white",
            "ticks": ""
           },
           "bgcolor": "#E5ECF6",
           "caxis": {
            "gridcolor": "white",
            "linecolor": "white",
            "ticks": ""
           }
          },
          "title": {
           "x": 0.05
          },
          "xaxis": {
           "automargin": true,
           "gridcolor": "white",
           "linecolor": "white",
           "ticks": "",
           "title": {
            "standoff": 15
           },
           "zerolinecolor": "white",
           "zerolinewidth": 2
          },
          "yaxis": {
           "automargin": true,
           "gridcolor": "white",
           "linecolor": "white",
           "ticks": "",
           "title": {
            "standoff": 15
           },
           "zerolinecolor": "white",
           "zerolinewidth": 2
          }
         }
        },
        "width": 500
       }
      }
     },
     "metadata": {},
     "output_type": "display_data"
    }
   ],
   "source": [
    "# use matplotlib tab10 colormap in hex format\n",
    "jetID_colors = plt.cm.tab10(np.linspace(0, 1, 10))[[0, 1]]\n",
    "\n",
    "jetID_colors = [rgba_to_hex(c) for c in jetID_colors]\n",
    "\n",
    "data = []\n",
    "for i, jetID in enumerate(particles['jetID'].unique()):\n",
    "    mask = (particles['jetID'] == jetID)\n",
    "    \n",
    "    data += [\n",
    "        go.Scatter3d(\n",
    "            x=[0,particlePx], \n",
    "            y=[0,particlePy], \n",
    "            z=[0,particlePz],\n",
    "            mode='lines',\n",
    "            line=dict(color=jetID_colors[i], width=5),\n",
    "            name=f\"Jet {i+1}\"\n",
    "        ) \n",
    "        for particlePx,particlePy,particlePz in zip(particles[mask]['px'], particles[mask]['py'], particles[mask]['pz'])\n",
    "    ]\n",
    "    \n",
    "layout = go.Layout(\n",
    "    scene=dict(\n",
    "        xaxis_title = '',\n",
    "        yaxis_title = '',\n",
    "        zaxis_title = '',\n",
    "        xaxis=dict(showline=False, showticklabels=False, showgrid=False, range=(-1,1)),\n",
    "        yaxis=dict(showline=False, showticklabels=False, showgrid=False, range=(-1,1)),\n",
    "        zaxis=dict(showline=False, showticklabels=False, showgrid=False, range=(-1,1)),\n",
    "        aspectmode='cube',\n",
    "        aspectratio=dict(x=1, y=1, z=1),\n",
    "    ),\n",
    "    paper_bgcolor = 'white',\n",
    "    plot_bgcolor  = 'white',\n",
    "    width         = 500,\n",
    "    height        = 500,\n",
    "    showlegend    = False,\n",
    "    margin        = dict(l=10, r=10, b=10, t=10),\n",
    ")\n",
    "\n",
    "fig = go.Figure(data=data, layout=layout)\n",
    "fig.show()\n"
   ]
  },
  {
   "cell_type": "code",
   "execution_count": 8,
   "metadata": {},
   "outputs": [
    {
     "data": {
      "application/vnd.plotly.v1+json": {
       "config": {
        "plotlyServerURL": "https://plot.ly"
       },
       "data": [
        {
         "line": {
          "color": "#e377c2",
          "width": 3
         },
         "mode": "lines",
         "name": "electron",
         "type": "scatter3d",
         "x": [
          0,
          31.426981567710815
         ],
         "y": [
          0,
          -125.24220716093582
         ],
         "z": [
          0,
          297.1326408781462
         ]
        },
        {
         "line": {
          "color": "#1f77b4",
          "width": 3
         },
         "mode": "lines",
         "name": "pion",
         "type": "scatter3d",
         "x": [
          0,
          1.7735232784453556
         ],
         "y": [
          0,
          -7.222951019549589
         ],
         "z": [
          0,
          18.99044607522153
         ]
        },
        {
         "line": {
          "color": "#1f77b4",
          "width": 3
         },
         "mode": "lines",
         "name": "pion",
         "type": "scatter3d",
         "x": [
          0,
          1.0127575382902108
         ],
         "y": [
          0,
          -4.692741499271818
         ],
         "z": [
          0,
          9.207296989788373
         ]
        },
        {
         "line": {
          "color": "#1f77b4",
          "width": 3
         },
         "mode": "lines",
         "name": "pion",
         "type": "scatter3d",
         "x": [
          0,
          -2.214510383722365
         ],
         "y": [
          0,
          -3.8634526043437916
         ],
         "z": [
          0,
          8.433481494858125
         ]
        },
        {
         "line": {
          "color": "#1f77b4",
          "width": 3
         },
         "mode": "lines",
         "name": "pion",
         "type": "scatter3d",
         "x": [
          0,
          0.5922490409455894
         ],
         "y": [
          0,
          -3.0066782383256934
         ],
         "z": [
          0,
          7.159373734103794
         ]
        },
        {
         "line": {
          "color": "#1f77b4",
          "width": 3
         },
         "mode": "lines",
         "name": "pion",
         "type": "scatter3d",
         "x": [
          0,
          0.6304461124184898
         ],
         "y": [
          0,
          -2.4555152028139586
         ],
         "z": [
          0,
          6.584682512737248
         ]
        },
        {
         "line": {
          "color": "#1f77b4",
          "width": 3
         },
         "mode": "lines",
         "name": "pion",
         "type": "scatter3d",
         "x": [
          0,
          -0.026435055790643956
         ],
         "y": [
          0,
          -1.5681365747203704
         ],
         "z": [
          0,
          3.7481059801807644
         ]
        },
        {
         "line": {
          "color": "#1f77b4",
          "width": 3
         },
         "mode": "lines",
         "name": "pion",
         "type": "scatter3d",
         "x": [
          0,
          0.3176346898092271
         ],
         "y": [
          0,
          -1.304664212847644
         ],
         "z": [
          0,
          3.35177040764017
         ]
        },
        {
         "line": {
          "color": "#1f77b4",
          "width": 3
         },
         "mode": "lines",
         "name": "pion",
         "type": "scatter3d",
         "x": [
          0,
          0.05551103192712996
         ],
         "y": [
          0,
          -1.155894390630023
         ],
         "z": [
          0,
          2.4457952451941507
         ]
        },
        {
         "line": {
          "color": "#1f77b4",
          "width": 3
         },
         "mode": "lines",
         "name": "pion",
         "type": "scatter3d",
         "x": [
          0,
          0.12842170768160846
         ],
         "y": [
          0,
          -0.9799018798317013
         ],
         "z": [
          0,
          2.455732680783233
         ]
        },
        {
         "line": {
          "color": "#1f77b4",
          "width": 3
         },
         "mode": "lines",
         "name": "pion",
         "type": "scatter3d",
         "x": [
          0,
          0.396926887162569
         ],
         "y": [
          0,
          -0.8552513932620951
         ],
         "z": [
          0,
          1.2667656162776766
         ]
        },
        {
         "line": {
          "color": "#1f77b4",
          "width": 3
         },
         "mode": "lines",
         "name": "pion",
         "type": "scatter3d",
         "x": [
          0,
          0.12275460987591041
         ],
         "y": [
          0,
          -0.9151435804345064
         ],
         "z": [
          0,
          2.167930513733536
         ]
        },
        {
         "line": {
          "color": "#1f77b4",
          "width": 3
         },
         "mode": "lines",
         "name": "pion",
         "type": "scatter3d",
         "x": [
          0,
          0.5530724606730645
         ],
         "y": [
          0,
          -0.6235596134625384
         ],
         "z": [
          0,
          1.0094231050240454
         ]
        },
        {
         "line": {
          "color": "#1f77b4",
          "width": 3
         },
         "mode": "lines",
         "name": "pion",
         "type": "scatter3d",
         "x": [
          0,
          0.33366791674379487
         ],
         "y": [
          0,
          -0.6662322000952567
         ],
         "z": [
          0,
          1.7984482610620918
         ]
        },
        {
         "line": {
          "color": "#1f77b4",
          "width": 3
         },
         "mode": "lines",
         "name": "pion",
         "type": "scatter3d",
         "x": [
          0,
          0.4040046955460698
         ],
         "y": [
          0,
          -0.6138438303886778
         ],
         "z": [
          0,
          1.5240955029730503
         ]
        },
        {
         "line": {
          "color": "#1f77b4",
          "width": 3
         },
         "mode": "lines",
         "name": "pion",
         "type": "scatter3d",
         "x": [
          0,
          0.1721236813532429
         ],
         "y": [
          0,
          -0.6817317683241754
         ],
         "z": [
          0,
          1.242463201962031
         ]
        },
        {
         "line": {
          "color": "#1f77b4",
          "width": 3
         },
         "mode": "lines",
         "name": "pion",
         "type": "scatter3d",
         "x": [
          0,
          0.04265467202184101
         ],
         "y": [
          0,
          -0.6494797376022636
         ],
         "z": [
          0,
          1.611600293697504
         ]
        },
        {
         "line": {
          "color": "#1f77b4",
          "width": 3
         },
         "mode": "lines",
         "name": "pion",
         "type": "scatter3d",
         "x": [
          0,
          -0.18177452336351652
         ],
         "y": [
          0,
          -0.6244725676471761
         ],
         "z": [
          0,
          2.085947016125428
         ]
        },
        {
         "line": {
          "color": "#1f77b4",
          "width": 3
         },
         "mode": "lines",
         "name": "pion",
         "type": "scatter3d",
         "x": [
          0,
          0.061535602645474745
         ],
         "y": [
          0,
          -0.6303040925925505
         ],
         "z": [
          0,
          1.5273517406706878
         ]
        },
        {
         "line": {
          "color": "#1f77b4",
          "width": 3
         },
         "mode": "lines",
         "name": "pion",
         "type": "scatter3d",
         "x": [
          0,
          0.43364070802392873
         ],
         "y": [
          0,
          -0.3259460006193137
         ],
         "z": [
          0,
          1.2361526459155077
         ]
        },
        {
         "line": {
          "color": "#1f77b4",
          "width": 3
         },
         "mode": "lines",
         "name": "pion",
         "type": "scatter3d",
         "x": [
          0,
          0.14349383783760858
         ],
         "y": [
          0,
          -0.48711708413777066
         ],
         "z": [
          0,
          1.4291694788424272
         ]
        },
        {
         "line": {
          "color": "#1f77b4",
          "width": 3
         },
         "mode": "lines",
         "name": "pion",
         "type": "scatter3d",
         "x": [
          0,
          0.21697315040724757
         ],
         "y": [
          0,
          -0.22760364633419097
         ],
         "z": [
          0,
          1.270796128075193
         ]
        },
        {
         "line": {
          "color": "#1f77b4",
          "width": 3
         },
         "mode": "lines",
         "name": "pion",
         "type": "scatter3d",
         "x": [
          0,
          -0.10966037220857737
         ],
         "y": [
          0,
          -0.2496851265138527
         ],
         "z": [
          0,
          0.9948401814118644
         ]
        },
        {
         "line": {
          "color": "#1f77b4",
          "width": 3
         },
         "mode": "lines",
         "name": "pion",
         "type": "scatter3d",
         "x": [
          0,
          -0.0742262534912286
         ],
         "y": [
          0,
          -0.19561961824749766
         ],
         "z": [
          0,
          0.3046946907256033
         ]
        },
        {
         "line": {
          "color": "#1f77b4",
          "width": 3
         },
         "mode": "lines",
         "name": "pion",
         "type": "scatter3d",
         "x": [
          0,
          -16.463157175051514
         ],
         "y": [
          0,
          52.01952385479465
         ],
         "z": [
          0,
          -15.871608158902523
         ]
        },
        {
         "line": {
          "color": "#1f77b4",
          "width": 3
         },
         "mode": "lines",
         "name": "pion",
         "type": "scatter3d",
         "x": [
          0,
          -15.463462467847322
         ],
         "y": [
          0,
          46.33134190338088
         ],
         "z": [
          0,
          -14.441102854799995
         ]
        },
        {
         "line": {
          "color": "#1f77b4",
          "width": 3
         },
         "mode": "lines",
         "name": "pion",
         "type": "scatter3d",
         "x": [
          0,
          -7.803548958887021
         ],
         "y": [
          0,
          31.291646227807412
         ],
         "z": [
          0,
          -8.03538108817217
         ]
        },
        {
         "line": {
          "color": "#1f77b4",
          "width": 3
         },
         "mode": "lines",
         "name": "pion",
         "type": "scatter3d",
         "x": [
          0,
          -5.544469014168824
         ],
         "y": [
          0,
          17.895129784149283
         ],
         "z": [
          0,
          -5.446043284599038
         ]
        },
        {
         "line": {
          "color": "#1f77b4",
          "width": 3
         },
         "mode": "lines",
         "name": "pion",
         "type": "scatter3d",
         "x": [
          0,
          -0.9241123682051037
         ],
         "y": [
          0,
          2.3292375443921016
         ],
         "z": [
          0,
          -0.426934556504748
         ]
        },
        {
         "line": {
          "color": "#1f77b4",
          "width": 3
         },
         "mode": "lines",
         "name": "pion",
         "type": "scatter3d",
         "x": [
          0,
          -0.21127638584087513
         ],
         "y": [
          0,
          1.897453390191341
         ],
         "z": [
          0,
          -0.6414585331944221
         ]
        },
        {
         "line": {
          "color": "#1f77b4",
          "width": 3
         },
         "mode": "lines",
         "name": "pion",
         "type": "scatter3d",
         "x": [
          0,
          -0.9225543817972042
         ],
         "y": [
          0,
          1.3043768266075733
         ],
         "z": [
          0,
          -1.4729699067709752
         ]
        },
        {
         "line": {
          "color": "#1f77b4",
          "width": 3
         },
         "mode": "lines",
         "name": "pion",
         "type": "scatter3d",
         "x": [
          0,
          0.42614984041865933
         ],
         "y": [
          0,
          1.158480882076243
         ],
         "z": [
          0,
          -0.15842511191259237
         ]
        },
        {
         "line": {
          "color": "#1f77b4",
          "width": 3
         },
         "mode": "lines",
         "name": "pion",
         "type": "scatter3d",
         "x": [
          0,
          -0.18825169094814176
         ],
         "y": [
          0,
          0.9686939250864178
         ],
         "z": [
          0,
          -0.19513774384878063
         ]
        },
        {
         "line": {
          "color": "#1f77b4",
          "width": 3
         },
         "mode": "lines",
         "name": "pion",
         "type": "scatter3d",
         "x": [
          0,
          -0.42460177960295503
         ],
         "y": [
          0,
          0.8582289796337708
         ],
         "z": [
          0,
          -0.006838022234662333
         ]
        },
        {
         "line": {
          "color": "#1f77b4",
          "width": 3
         },
         "mode": "lines",
         "name": "pion",
         "type": "scatter3d",
         "x": [
          0,
          -0.29349207244650927
         ],
         "y": [
          0,
          0.6598401158610728
         ],
         "z": [
          0,
          -0.09468639105630006
         ]
        },
        {
         "line": {
          "color": "#1f77b4",
          "width": 3
         },
         "mode": "lines",
         "name": "pion",
         "type": "scatter3d",
         "x": [
          0,
          -0.15111091446322106
         ],
         "y": [
          0,
          0.6014239916755892
         ],
         "z": [
          0,
          -0.45880225304313704
         ]
        },
        {
         "line": {
          "color": "#1f77b4",
          "width": 3
         },
         "mode": "lines",
         "name": "pion",
         "type": "scatter3d",
         "x": [
          0,
          -0.3420201155733606
         ],
         "y": [
          0,
          0.4924973534254532
         ],
         "z": [
          0,
          -0.46650981186426177
         ]
        },
        {
         "line": {
          "color": "#1f77b4",
          "width": 3
         },
         "mode": "lines",
         "name": "pion",
         "type": "scatter3d",
         "x": [
          0,
          -0.3495910237177405
         ],
         "y": [
          0,
          0.42054533853198545
         ],
         "z": [
          0,
          -0.2846823280888019
         ]
        },
        {
         "line": {
          "color": "#1f77b4",
          "width": 3
         },
         "mode": "lines",
         "name": "pion",
         "type": "scatter3d",
         "x": [
          0,
          0.12231549815994364
         ],
         "y": [
          0,
          0.5229965579454374
         ],
         "z": [
          0,
          -0.4110508335328901
         ]
        },
        {
         "line": {
          "color": "#1f77b4",
          "width": 3
         },
         "mode": "lines",
         "name": "pion",
         "type": "scatter3d",
         "x": [
          0,
          -0.133785280265599
         ],
         "y": [
          0,
          0.4792348620444184
         ],
         "z": [
          0,
          0.25071843280193323
         ]
        },
        {
         "line": {
          "color": "#1f77b4",
          "width": 3
         },
         "mode": "lines",
         "name": "pion",
         "type": "scatter3d",
         "x": [
          0,
          -0.20808017386826413
         ],
         "y": [
          0,
          0.4213966101415148
         ],
         "z": [
          0,
          -0.4020926594985135
         ]
        },
        {
         "line": {
          "color": "#1f77b4",
          "width": 3
         },
         "mode": "lines",
         "name": "pion",
         "type": "scatter3d",
         "x": [
          0,
          -0.23436290363600343
         ],
         "y": [
          0,
          0.3100642769093483
         ],
         "z": [
          0,
          -0.40480847230694067
         ]
        },
        {
         "line": {
          "color": "#1f77b4",
          "width": 3
         },
         "mode": "lines",
         "name": "pion",
         "type": "scatter3d",
         "x": [
          0,
          0.0037968912742841424
         ],
         "y": [
          0,
          0.26730701977027094
         ],
         "z": [
          0,
          -0.2954516095666632
         ]
        },
        {
         "line": {
          "color": "#1f77b4",
          "width": 3
         },
         "mode": "lines",
         "name": "pion",
         "type": "scatter3d",
         "x": [
          0,
          -0.12818947558261065
         ],
         "y": [
          0,
          0.20763553015231206
         ],
         "z": [
          0,
          0.01600779355382752
         ]
        },
        {
         "line": {
          "color": "#2ca02c",
          "width": 3
         },
         "mode": "lines",
         "name": "K0L",
         "type": "scatter3d",
         "x": [
          0,
          0.024692315639510784
         ],
         "y": [
          0,
          -3.8026542067817575
         ],
         "z": [
          0,
          9.023129564227425
         ]
        },
        {
         "line": {
          "color": "#2ca02c",
          "width": 3
         },
         "mode": "lines",
         "name": "K0L",
         "type": "scatter3d",
         "x": [
          0,
          0.03569491876896713
         ],
         "y": [
          0,
          -0.8254004118093788
         ],
         "z": [
          0,
          1.3193345630982085
         ]
        },
        {
         "line": {
          "color": "#2ca02c",
          "width": 3
         },
         "mode": "lines",
         "name": "K0L",
         "type": "scatter3d",
         "x": [
          0,
          0.17404763857260386
         ],
         "y": [
          0,
          -0.5533516518551433
         ],
         "z": [
          0,
          1.510511964099593
         ]
        },
        {
         "line": {
          "color": "#2ca02c",
          "width": 3
         },
         "mode": "lines",
         "name": "K0L",
         "type": "scatter3d",
         "x": [
          0,
          -0.13698080901644893
         ],
         "y": [
          0,
          -0.5102534767753146
         ],
         "z": [
          0,
          1.8653402750980688
         ]
        },
        {
         "line": {
          "color": "#2ca02c",
          "width": 3
         },
         "mode": "lines",
         "name": "K0L",
         "type": "scatter3d",
         "x": [
          0,
          -0.5431096410423796
         ],
         "y": [
          0,
          1.7189773543050115
         ],
         "z": [
          0,
          -0.12520857182588488
         ]
        },
        {
         "line": {
          "color": "#ff7f0e",
          "width": 3
         },
         "mode": "lines",
         "name": "photon",
         "type": "scatter3d",
         "x": [
          0,
          1.0610259264868218
         ],
         "y": [
          0,
          -2.183602110934917
         ],
         "z": [
          0,
          6.008786580828215
         ]
        },
        {
         "line": {
          "color": "#ff7f0e",
          "width": 3
         },
         "mode": "lines",
         "name": "photon",
         "type": "scatter3d",
         "x": [
          0,
          -0.13607576450354555
         ],
         "y": [
          0,
          -2.410224292513256
         ],
         "z": [
          0,
          5.612983034645726
         ]
        },
        {
         "line": {
          "color": "#ff7f0e",
          "width": 3
         },
         "mode": "lines",
         "name": "photon",
         "type": "scatter3d",
         "x": [
          0,
          -0.1450392747184457
         ],
         "y": [
          0,
          -1.2081217835131164
         ],
         "z": [
          0,
          1.9076831207182319
         ]
        },
        {
         "line": {
          "color": "#ff7f0e",
          "width": 3
         },
         "mode": "lines",
         "name": "photon",
         "type": "scatter3d",
         "x": [
          0,
          0.19500323771775385
         ],
         "y": [
          0,
          -0.9304692540353003
         ],
         "z": [
          0,
          1.8650822415059658
         ]
        },
        {
         "line": {
          "color": "#ff7f0e",
          "width": 3
         },
         "mode": "lines",
         "name": "photon",
         "type": "scatter3d",
         "x": [
          0,
          0.19979027210660846
         ],
         "y": [
          0,
          -0.9149644780855614
         ],
         "z": [
          0,
          2.457406432373836
         ]
        },
        {
         "line": {
          "color": "#ff7f0e",
          "width": 3
         },
         "mode": "lines",
         "name": "photon",
         "type": "scatter3d",
         "x": [
          0,
          -0.20267601660644113
         ],
         "y": [
          0,
          -0.7534912538049875
         ],
         "z": [
          0,
          1.0780140596344696
         ]
        },
        {
         "line": {
          "color": "#ff7f0e",
          "width": 3
         },
         "mode": "lines",
         "name": "photon",
         "type": "scatter3d",
         "x": [
          0,
          0.2378723368856754
         ],
         "y": [
          0,
          -0.6523182853857091
         ],
         "z": [
          0,
          1.8586503041668383
         ]
        },
        {
         "line": {
          "color": "#ff7f0e",
          "width": 3
         },
         "mode": "lines",
         "name": "photon",
         "type": "scatter3d",
         "x": [
          0,
          0.24457844619966698
         ],
         "y": [
          0,
          -0.5772794856928682
         ],
         "z": [
          0,
          0.9835720045317975
         ]
        },
        {
         "line": {
          "color": "#ff7f0e",
          "width": 3
         },
         "mode": "lines",
         "name": "photon",
         "type": "scatter3d",
         "x": [
          0,
          0.2407196244569821
         ],
         "y": [
          0,
          -0.45322341432835794
         ],
         "z": [
          0,
          2.025561004403867
         ]
        },
        {
         "line": {
          "color": "#ff7f0e",
          "width": 3
         },
         "mode": "lines",
         "name": "photon",
         "type": "scatter3d",
         "x": [
          0,
          -0.15245057311550655
         ],
         "y": [
          0,
          -0.42152091456004726
         ],
         "z": [
          0,
          1.557494520756686
         ]
        },
        {
         "line": {
          "color": "#ff7f0e",
          "width": 3
         },
         "mode": "lines",
         "name": "photon",
         "type": "scatter3d",
         "x": [
          0,
          -0.015250066792440816
         ],
         "y": [
          0,
          -0.42941679417446643
         ],
         "z": [
          0,
          0.8077084041698748
         ]
        },
        {
         "line": {
          "color": "#ff7f0e",
          "width": 3
         },
         "mode": "lines",
         "name": "photon",
         "type": "scatter3d",
         "x": [
          0,
          0.15681021433055378
         ],
         "y": [
          0,
          -0.27087307153247053
         ],
         "z": [
          0,
          0.8488664135237114
         ]
        },
        {
         "line": {
          "color": "#ff7f0e",
          "width": 3
         },
         "mode": "lines",
         "name": "photon",
         "type": "scatter3d",
         "x": [
          0,
          0.07006640033127953
         ],
         "y": [
          0,
          -0.29250651257053983
         ],
         "z": [
          0,
          0.3149411736573824
         ]
        },
        {
         "line": {
          "color": "#ff7f0e",
          "width": 3
         },
         "mode": "lines",
         "name": "photon",
         "type": "scatter3d",
         "x": [
          0,
          -0.10193366905707106
         ],
         "y": [
          0,
          -0.2803857868746879
         ],
         "z": [
          0,
          0.5286274372158107
         ]
        },
        {
         "line": {
          "color": "#ff7f0e",
          "width": 3
         },
         "mode": "lines",
         "name": "photon",
         "type": "scatter3d",
         "x": [
          0,
          0.05493480355031416
         ],
         "y": [
          0,
          -0.1753102107465026
         ],
         "z": [
          0,
          0.36668499028267904
         ]
        },
        {
         "line": {
          "color": "#ff7f0e",
          "width": 3
         },
         "mode": "lines",
         "name": "photon",
         "type": "scatter3d",
         "x": [
          0,
          -1.200428032712954
         ],
         "y": [
          0,
          4.632136966367788
         ],
         "z": [
          0,
          -1.7293116148727354
         ]
        },
        {
         "line": {
          "color": "#ff7f0e",
          "width": 3
         },
         "mode": "lines",
         "name": "photon",
         "type": "scatter3d",
         "x": [
          0,
          -0.8647995368595907
         ],
         "y": [
          0,
          1.9922757782677674
         ],
         "z": [
          0,
          -0.5263993891537325
         ]
        },
        {
         "line": {
          "color": "#ff7f0e",
          "width": 3
         },
         "mode": "lines",
         "name": "photon",
         "type": "scatter3d",
         "x": [
          0,
          0.2838057693458272
         ],
         "y": [
          0,
          1.4082094559307716
         ],
         "z": [
          0,
          -0.3818258988260204
         ]
        },
        {
         "line": {
          "color": "#ff7f0e",
          "width": 3
         },
         "mode": "lines",
         "name": "photon",
         "type": "scatter3d",
         "x": [
          0,
          -0.33572465975711846
         ],
         "y": [
          0,
          0.8522755294358205
         ],
         "z": [
          0,
          -0.49812364530535647
         ]
        },
        {
         "line": {
          "color": "#ff7f0e",
          "width": 3
         },
         "mode": "lines",
         "name": "photon",
         "type": "scatter3d",
         "x": [
          0,
          -0.20471178006839166
         ],
         "y": [
          0,
          0.8878378732152569
         ],
         "z": [
          0,
          0.3019071320094889
         ]
        },
        {
         "line": {
          "color": "#ff7f0e",
          "width": 3
         },
         "mode": "lines",
         "name": "photon",
         "type": "scatter3d",
         "x": [
          0,
          -0.029425373113609342
         ],
         "y": [
          0,
          0.7772752512820834
         ],
         "z": [
          0,
          -0.7729394330000456
         ]
        },
        {
         "line": {
          "color": "#ff7f0e",
          "width": 3
         },
         "mode": "lines",
         "name": "photon",
         "type": "scatter3d",
         "x": [
          0,
          -0.3980711203799128
         ],
         "y": [
          0,
          0.44120122169191117
         ],
         "z": [
          0,
          -0.592650017882789
         ]
        },
        {
         "line": {
          "color": "#ff7f0e",
          "width": 3
         },
         "mode": "lines",
         "name": "photon",
         "type": "scatter3d",
         "x": [
          0,
          -0.2912308369883253
         ],
         "y": [
          0,
          0.4846600159838102
         ],
         "z": [
          0,
          -0.49513032992051925
         ]
        },
        {
         "line": {
          "color": "#ff7f0e",
          "width": 3
         },
         "mode": "lines",
         "name": "photon",
         "type": "scatter3d",
         "x": [
          0,
          -0.4089143176893576
         ],
         "y": [
          0,
          0.2389918866097911
         ],
         "z": [
          0,
          -0.011102124238281517
         ]
        },
        {
         "line": {
          "color": "#ff7f0e",
          "width": 3
         },
         "mode": "lines",
         "name": "photon",
         "type": "scatter3d",
         "x": [
          0,
          -0.0392272543210553
         ],
         "y": [
          0,
          0.4104834276395678
         ],
         "z": [
          0,
          -0.16786873257419524
         ]
        },
        {
         "line": {
          "color": "#ff7f0e",
          "width": 3
         },
         "mode": "lines",
         "name": "photon",
         "type": "scatter3d",
         "x": [
          0,
          -0.1874749155228473
         ],
         "y": [
          0,
          0.2916161205674318
         ],
         "z": [
          0,
          0.01060295991923627
         ]
        },
        {
         "line": {
          "color": "#ff7f0e",
          "width": 3
         },
         "mode": "lines",
         "name": "photon",
         "type": "scatter3d",
         "x": [
          0,
          0.038016574793509735
         ],
         "y": [
          0,
          0.3268984222673932
         ],
         "z": [
          0,
          -0.3211112748743277
         ]
        },
        {
         "line": {
          "color": "#ff7f0e",
          "width": 3
         },
         "mode": "lines",
         "name": "photon",
         "type": "scatter3d",
         "x": [
          0,
          0.05258401507311268
         ],
         "y": [
          0,
          0.25638179627335705
         ],
         "z": [
          0,
          -0.23565280180527387
         ]
        },
        {
         "line": {
          "color": "#ff7f0e",
          "width": 3
         },
         "mode": "lines",
         "name": "photon",
         "type": "scatter3d",
         "x": [
          0,
          -0.15799022657808431
         ],
         "y": [
          0,
          0.19248833920557878
         ],
         "z": [
          0,
          -0.24265894258336382
         ]
        },
        {
         "line": {
          "color": "#ff7f0e",
          "width": 3
         },
         "mode": "lines",
         "name": "photon",
         "type": "scatter3d",
         "x": [
          0,
          -0.11965131283067329
         ],
         "y": [
          0,
          0.18820887710337966
         ],
         "z": [
          0,
          -0.2502078088428953
         ]
        }
       ],
       "layout": {
        "height": 500,
        "margin": {
         "b": 10,
         "l": 10,
         "r": 10,
         "t": 10
        },
        "paper_bgcolor": "white",
        "plot_bgcolor": "white",
        "scene": {
         "aspectmode": "cube",
         "aspectratio": {
          "x": 1,
          "y": 1,
          "z": 1
         },
         "xaxis": {
          "range": [
           -1,
           1
          ],
          "showgrid": false,
          "showline": false,
          "showticklabels": false,
          "title": {
           "text": ""
          }
         },
         "yaxis": {
          "range": [
           -1,
           1
          ],
          "showgrid": false,
          "showline": false,
          "showticklabels": false,
          "title": {
           "text": ""
          }
         },
         "zaxis": {
          "range": [
           -1,
           1
          ],
          "showgrid": false,
          "showline": false,
          "showticklabels": false,
          "title": {
           "text": ""
          }
         }
        },
        "showlegend": false,
        "template": {
         "data": {
          "bar": [
           {
            "error_x": {
             "color": "#2a3f5f"
            },
            "error_y": {
             "color": "#2a3f5f"
            },
            "marker": {
             "line": {
              "color": "#E5ECF6",
              "width": 0.5
             },
             "pattern": {
              "fillmode": "overlay",
              "size": 10,
              "solidity": 0.2
             }
            },
            "type": "bar"
           }
          ],
          "barpolar": [
           {
            "marker": {
             "line": {
              "color": "#E5ECF6",
              "width": 0.5
             },
             "pattern": {
              "fillmode": "overlay",
              "size": 10,
              "solidity": 0.2
             }
            },
            "type": "barpolar"
           }
          ],
          "carpet": [
           {
            "aaxis": {
             "endlinecolor": "#2a3f5f",
             "gridcolor": "white",
             "linecolor": "white",
             "minorgridcolor": "white",
             "startlinecolor": "#2a3f5f"
            },
            "baxis": {
             "endlinecolor": "#2a3f5f",
             "gridcolor": "white",
             "linecolor": "white",
             "minorgridcolor": "white",
             "startlinecolor": "#2a3f5f"
            },
            "type": "carpet"
           }
          ],
          "choropleth": [
           {
            "colorbar": {
             "outlinewidth": 0,
             "ticks": ""
            },
            "type": "choropleth"
           }
          ],
          "contour": [
           {
            "colorbar": {
             "outlinewidth": 0,
             "ticks": ""
            },
            "colorscale": [
             [
              0,
              "#0d0887"
             ],
             [
              0.1111111111111111,
              "#46039f"
             ],
             [
              0.2222222222222222,
              "#7201a8"
             ],
             [
              0.3333333333333333,
              "#9c179e"
             ],
             [
              0.4444444444444444,
              "#bd3786"
             ],
             [
              0.5555555555555556,
              "#d8576b"
             ],
             [
              0.6666666666666666,
              "#ed7953"
             ],
             [
              0.7777777777777778,
              "#fb9f3a"
             ],
             [
              0.8888888888888888,
              "#fdca26"
             ],
             [
              1,
              "#f0f921"
             ]
            ],
            "type": "contour"
           }
          ],
          "contourcarpet": [
           {
            "colorbar": {
             "outlinewidth": 0,
             "ticks": ""
            },
            "type": "contourcarpet"
           }
          ],
          "heatmap": [
           {
            "colorbar": {
             "outlinewidth": 0,
             "ticks": ""
            },
            "colorscale": [
             [
              0,
              "#0d0887"
             ],
             [
              0.1111111111111111,
              "#46039f"
             ],
             [
              0.2222222222222222,
              "#7201a8"
             ],
             [
              0.3333333333333333,
              "#9c179e"
             ],
             [
              0.4444444444444444,
              "#bd3786"
             ],
             [
              0.5555555555555556,
              "#d8576b"
             ],
             [
              0.6666666666666666,
              "#ed7953"
             ],
             [
              0.7777777777777778,
              "#fb9f3a"
             ],
             [
              0.8888888888888888,
              "#fdca26"
             ],
             [
              1,
              "#f0f921"
             ]
            ],
            "type": "heatmap"
           }
          ],
          "heatmapgl": [
           {
            "colorbar": {
             "outlinewidth": 0,
             "ticks": ""
            },
            "colorscale": [
             [
              0,
              "#0d0887"
             ],
             [
              0.1111111111111111,
              "#46039f"
             ],
             [
              0.2222222222222222,
              "#7201a8"
             ],
             [
              0.3333333333333333,
              "#9c179e"
             ],
             [
              0.4444444444444444,
              "#bd3786"
             ],
             [
              0.5555555555555556,
              "#d8576b"
             ],
             [
              0.6666666666666666,
              "#ed7953"
             ],
             [
              0.7777777777777778,
              "#fb9f3a"
             ],
             [
              0.8888888888888888,
              "#fdca26"
             ],
             [
              1,
              "#f0f921"
             ]
            ],
            "type": "heatmapgl"
           }
          ],
          "histogram": [
           {
            "marker": {
             "pattern": {
              "fillmode": "overlay",
              "size": 10,
              "solidity": 0.2
             }
            },
            "type": "histogram"
           }
          ],
          "histogram2d": [
           {
            "colorbar": {
             "outlinewidth": 0,
             "ticks": ""
            },
            "colorscale": [
             [
              0,
              "#0d0887"
             ],
             [
              0.1111111111111111,
              "#46039f"
             ],
             [
              0.2222222222222222,
              "#7201a8"
             ],
             [
              0.3333333333333333,
              "#9c179e"
             ],
             [
              0.4444444444444444,
              "#bd3786"
             ],
             [
              0.5555555555555556,
              "#d8576b"
             ],
             [
              0.6666666666666666,
              "#ed7953"
             ],
             [
              0.7777777777777778,
              "#fb9f3a"
             ],
             [
              0.8888888888888888,
              "#fdca26"
             ],
             [
              1,
              "#f0f921"
             ]
            ],
            "type": "histogram2d"
           }
          ],
          "histogram2dcontour": [
           {
            "colorbar": {
             "outlinewidth": 0,
             "ticks": ""
            },
            "colorscale": [
             [
              0,
              "#0d0887"
             ],
             [
              0.1111111111111111,
              "#46039f"
             ],
             [
              0.2222222222222222,
              "#7201a8"
             ],
             [
              0.3333333333333333,
              "#9c179e"
             ],
             [
              0.4444444444444444,
              "#bd3786"
             ],
             [
              0.5555555555555556,
              "#d8576b"
             ],
             [
              0.6666666666666666,
              "#ed7953"
             ],
             [
              0.7777777777777778,
              "#fb9f3a"
             ],
             [
              0.8888888888888888,
              "#fdca26"
             ],
             [
              1,
              "#f0f921"
             ]
            ],
            "type": "histogram2dcontour"
           }
          ],
          "mesh3d": [
           {
            "colorbar": {
             "outlinewidth": 0,
             "ticks": ""
            },
            "type": "mesh3d"
           }
          ],
          "parcoords": [
           {
            "line": {
             "colorbar": {
              "outlinewidth": 0,
              "ticks": ""
             }
            },
            "type": "parcoords"
           }
          ],
          "pie": [
           {
            "automargin": true,
            "type": "pie"
           }
          ],
          "scatter": [
           {
            "fillpattern": {
             "fillmode": "overlay",
             "size": 10,
             "solidity": 0.2
            },
            "type": "scatter"
           }
          ],
          "scatter3d": [
           {
            "line": {
             "colorbar": {
              "outlinewidth": 0,
              "ticks": ""
             }
            },
            "marker": {
             "colorbar": {
              "outlinewidth": 0,
              "ticks": ""
             }
            },
            "type": "scatter3d"
           }
          ],
          "scattercarpet": [
           {
            "marker": {
             "colorbar": {
              "outlinewidth": 0,
              "ticks": ""
             }
            },
            "type": "scattercarpet"
           }
          ],
          "scattergeo": [
           {
            "marker": {
             "colorbar": {
              "outlinewidth": 0,
              "ticks": ""
             }
            },
            "type": "scattergeo"
           }
          ],
          "scattergl": [
           {
            "marker": {
             "colorbar": {
              "outlinewidth": 0,
              "ticks": ""
             }
            },
            "type": "scattergl"
           }
          ],
          "scattermapbox": [
           {
            "marker": {
             "colorbar": {
              "outlinewidth": 0,
              "ticks": ""
             }
            },
            "type": "scattermapbox"
           }
          ],
          "scatterpolar": [
           {
            "marker": {
             "colorbar": {
              "outlinewidth": 0,
              "ticks": ""
             }
            },
            "type": "scatterpolar"
           }
          ],
          "scatterpolargl": [
           {
            "marker": {
             "colorbar": {
              "outlinewidth": 0,
              "ticks": ""
             }
            },
            "type": "scatterpolargl"
           }
          ],
          "scatterternary": [
           {
            "marker": {
             "colorbar": {
              "outlinewidth": 0,
              "ticks": ""
             }
            },
            "type": "scatterternary"
           }
          ],
          "surface": [
           {
            "colorbar": {
             "outlinewidth": 0,
             "ticks": ""
            },
            "colorscale": [
             [
              0,
              "#0d0887"
             ],
             [
              0.1111111111111111,
              "#46039f"
             ],
             [
              0.2222222222222222,
              "#7201a8"
             ],
             [
              0.3333333333333333,
              "#9c179e"
             ],
             [
              0.4444444444444444,
              "#bd3786"
             ],
             [
              0.5555555555555556,
              "#d8576b"
             ],
             [
              0.6666666666666666,
              "#ed7953"
             ],
             [
              0.7777777777777778,
              "#fb9f3a"
             ],
             [
              0.8888888888888888,
              "#fdca26"
             ],
             [
              1,
              "#f0f921"
             ]
            ],
            "type": "surface"
           }
          ],
          "table": [
           {
            "cells": {
             "fill": {
              "color": "#EBF0F8"
             },
             "line": {
              "color": "white"
             }
            },
            "header": {
             "fill": {
              "color": "#C8D4E3"
             },
             "line": {
              "color": "white"
             }
            },
            "type": "table"
           }
          ]
         },
         "layout": {
          "annotationdefaults": {
           "arrowcolor": "#2a3f5f",
           "arrowhead": 0,
           "arrowwidth": 1
          },
          "autotypenumbers": "strict",
          "coloraxis": {
           "colorbar": {
            "outlinewidth": 0,
            "ticks": ""
           }
          },
          "colorscale": {
           "diverging": [
            [
             0,
             "#8e0152"
            ],
            [
             0.1,
             "#c51b7d"
            ],
            [
             0.2,
             "#de77ae"
            ],
            [
             0.3,
             "#f1b6da"
            ],
            [
             0.4,
             "#fde0ef"
            ],
            [
             0.5,
             "#f7f7f7"
            ],
            [
             0.6,
             "#e6f5d0"
            ],
            [
             0.7,
             "#b8e186"
            ],
            [
             0.8,
             "#7fbc41"
            ],
            [
             0.9,
             "#4d9221"
            ],
            [
             1,
             "#276419"
            ]
           ],
           "sequential": [
            [
             0,
             "#0d0887"
            ],
            [
             0.1111111111111111,
             "#46039f"
            ],
            [
             0.2222222222222222,
             "#7201a8"
            ],
            [
             0.3333333333333333,
             "#9c179e"
            ],
            [
             0.4444444444444444,
             "#bd3786"
            ],
            [
             0.5555555555555556,
             "#d8576b"
            ],
            [
             0.6666666666666666,
             "#ed7953"
            ],
            [
             0.7777777777777778,
             "#fb9f3a"
            ],
            [
             0.8888888888888888,
             "#fdca26"
            ],
            [
             1,
             "#f0f921"
            ]
           ],
           "sequentialminus": [
            [
             0,
             "#0d0887"
            ],
            [
             0.1111111111111111,
             "#46039f"
            ],
            [
             0.2222222222222222,
             "#7201a8"
            ],
            [
             0.3333333333333333,
             "#9c179e"
            ],
            [
             0.4444444444444444,
             "#bd3786"
            ],
            [
             0.5555555555555556,
             "#d8576b"
            ],
            [
             0.6666666666666666,
             "#ed7953"
            ],
            [
             0.7777777777777778,
             "#fb9f3a"
            ],
            [
             0.8888888888888888,
             "#fdca26"
            ],
            [
             1,
             "#f0f921"
            ]
           ]
          },
          "colorway": [
           "#636efa",
           "#EF553B",
           "#00cc96",
           "#ab63fa",
           "#FFA15A",
           "#19d3f3",
           "#FF6692",
           "#B6E880",
           "#FF97FF",
           "#FECB52"
          ],
          "font": {
           "color": "#2a3f5f"
          },
          "geo": {
           "bgcolor": "white",
           "lakecolor": "white",
           "landcolor": "#E5ECF6",
           "showlakes": true,
           "showland": true,
           "subunitcolor": "white"
          },
          "hoverlabel": {
           "align": "left"
          },
          "hovermode": "closest",
          "mapbox": {
           "style": "light"
          },
          "paper_bgcolor": "white",
          "plot_bgcolor": "#E5ECF6",
          "polar": {
           "angularaxis": {
            "gridcolor": "white",
            "linecolor": "white",
            "ticks": ""
           },
           "bgcolor": "#E5ECF6",
           "radialaxis": {
            "gridcolor": "white",
            "linecolor": "white",
            "ticks": ""
           }
          },
          "scene": {
           "xaxis": {
            "backgroundcolor": "#E5ECF6",
            "gridcolor": "white",
            "gridwidth": 2,
            "linecolor": "white",
            "showbackground": true,
            "ticks": "",
            "zerolinecolor": "white"
           },
           "yaxis": {
            "backgroundcolor": "#E5ECF6",
            "gridcolor": "white",
            "gridwidth": 2,
            "linecolor": "white",
            "showbackground": true,
            "ticks": "",
            "zerolinecolor": "white"
           },
           "zaxis": {
            "backgroundcolor": "#E5ECF6",
            "gridcolor": "white",
            "gridwidth": 2,
            "linecolor": "white",
            "showbackground": true,
            "ticks": "",
            "zerolinecolor": "white"
           }
          },
          "shapedefaults": {
           "line": {
            "color": "#2a3f5f"
           }
          },
          "ternary": {
           "aaxis": {
            "gridcolor": "white",
            "linecolor": "white",
            "ticks": ""
           },
           "baxis": {
            "gridcolor": "white",
            "linecolor": "white",
            "ticks": ""
           },
           "bgcolor": "#E5ECF6",
           "caxis": {
            "gridcolor": "white",
            "linecolor": "white",
            "ticks": ""
           }
          },
          "title": {
           "x": 0.05
          },
          "xaxis": {
           "automargin": true,
           "gridcolor": "white",
           "linecolor": "white",
           "ticks": "",
           "title": {
            "standoff": 15
           },
           "zerolinecolor": "white",
           "zerolinewidth": 2
          },
          "yaxis": {
           "automargin": true,
           "gridcolor": "white",
           "linecolor": "white",
           "ticks": "",
           "title": {
            "standoff": 15
           },
           "zerolinecolor": "white",
           "zerolinewidth": 2
          }
         }
        },
        "width": 500
       }
      }
     },
     "metadata": {},
     "output_type": "display_data"
    }
   ],
   "source": [
    "# color code the particles by their type \n",
    "type_colors = plt.cm.tab10(np.linspace(0, 1, 10))\n",
    "\n",
    "\n",
    "\n",
    "type_colors = [rgba_to_hex(c) for c in type_colors]\n",
    "\n",
    "type_colors = {\n",
    "    \"pion\":     type_colors[0], # blue\n",
    "    \"photon\":   type_colors[1], # orange\n",
    "    \"K0L\":      type_colors[2], # green\n",
    "    \"up\":       type_colors[3], # red\n",
    "    \"down\":     type_colors[4], # purple\n",
    "    \"muon\":     type_colors[5], # brown\n",
    "    \"electron\": type_colors[6], # pink\n",
    "}\n",
    "\n",
    "data = []\n",
    "for p_type in particles['name'].unique():\n",
    "    mask = (particles['name'] == p_type)\n",
    "    data += [\n",
    "        go.Scatter3d(\n",
    "            x=[0,particlePx], \n",
    "            y=[0,particlePy], \n",
    "            z=[0,particlePz],\n",
    "            mode='lines',\n",
    "            line=dict(color=type_colors[p_type], width=3),\n",
    "            name=f\"{particles[mask]['name'].iloc[0]}\"\n",
    "        ) \n",
    "        for particlePx,particlePy,particlePz in zip(particles[mask]['px'], particles[mask]['py'], particles[mask]['pz'])\n",
    "    ]\n",
    "\n",
    "layout = go.Layout(\n",
    "    scene=dict(\n",
    "        xaxis_title = '',\n",
    "        yaxis_title = '',\n",
    "        zaxis_title = '',\n",
    "        xaxis=dict(showline=False, showticklabels=False, showgrid=False, range=(-1,1)),\n",
    "        yaxis=dict(showline=False, showticklabels=False, showgrid=False, range=(-1,1)),\n",
    "        zaxis=dict(showline=False, showticklabels=False, showgrid=False, range=(-1,1)),\n",
    "        aspectmode='cube',\n",
    "        aspectratio=dict(x=1, y=1, z=1),\n",
    "    ),\n",
    "    paper_bgcolor = 'white',\n",
    "    plot_bgcolor  = 'white',\n",
    "    width         = 500,\n",
    "    height        = 500,\n",
    "    showlegend    = False,\n",
    "    margin        = dict(l=10, r=10, b=10, t=10),\n",
    ")\n",
    "\n",
    "fig = go.Figure(data=data, layout=layout)\n",
    "fig.show()\n"
   ]
  }
 ],
 "metadata": {
  "kernelspec": {
   "display_name": "base",
   "language": "python",
   "name": "python3"
  },
  "language_info": {
   "codemirror_mode": {
    "name": "ipython",
    "version": 3
   },
   "file_extension": ".py",
   "mimetype": "text/x-python",
   "name": "python",
   "nbconvert_exporter": "python",
   "pygments_lexer": "ipython3",
   "version": "3.9.12 | packaged by conda-forge | (main, Mar 24 2022, 23:24:38) \n[Clang 12.0.1 ]"
  },
  "orig_nbformat": 4,
  "vscode": {
   "interpreter": {
    "hash": "91e94dacc13bcc9ab92871d8572d4c8a018895bdfb2528d081f4892614b17d07"
   }
  }
 },
 "nbformat": 4,
 "nbformat_minor": 2
}
