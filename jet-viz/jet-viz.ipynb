{
 "cells": [
  {
   "attachments": {},
   "cell_type": "markdown",
   "metadata": {},
   "source": [
    "# Jet 3D visualization"
   ]
  },
  {
   "cell_type": "code",
   "execution_count": 75,
   "metadata": {},
   "outputs": [],
   "source": [
    "import numpy as np\n",
    "import pandas as pd\n",
    "import matplotlib.pyplot as plt\n",
    "import plotly.graph_objs as go\n",
    "\n",
    "import os"
   ]
  },
  {
   "attachments": {},
   "cell_type": "markdown",
   "metadata": {},
   "source": [
    "## Functions"
   ]
  },
  {
   "cell_type": "code",
   "execution_count": 203,
   "metadata": {},
   "outputs": [],
   "source": [
    "def read_data(fname, dir=\"../data/\"):\n",
    "    # Read data from csv file\n",
    "    return pd.read_csv(os.path.join(dir, fname))\n",
    "\n",
    "def rgba_to_hex(rgba):\n",
    "    r, g, b, a = rgba\n",
    "    if a == 1:\n",
    "        return '#{:02x}{:02x}{:02x}'.format(int(r*255), int(g*255), int(b*255))\n",
    "    else:\n",
    "        return '#{:02x}{:02x}{:02x}{:02x}'.format(int(r*255), int(g*255), int(b*255), int(a*255))"
   ]
  },
  {
   "attachments": {},
   "cell_type": "markdown",
   "metadata": {},
   "source": [
    "## Constants"
   ]
  },
  {
   "cell_type": "code",
   "execution_count": 3,
   "metadata": {},
   "outputs": [],
   "source": [
    "JET_FNAME      = \"jet_df.csv\"\n",
    "PARTICLE_FNAME = \"particle_df.csv\"\n",
    "\n",
    "FONTSIZE = 16\n",
    "\n",
    "SAVE_FIG = False"
   ]
  },
  {
   "attachments": {},
   "cell_type": "markdown",
   "metadata": {},
   "source": [
    "## Code"
   ]
  },
  {
   "attachments": {},
   "cell_type": "markdown",
   "metadata": {},
   "source": [
    "### Read data"
   ]
  },
  {
   "cell_type": "code",
   "execution_count": 207,
   "metadata": {},
   "outputs": [],
   "source": [
    "# read in the data\n",
    "jet_df = read_data(JET_FNAME)\n",
    "par_df = read_data(PARTICLE_FNAME)"
   ]
  },
  {
   "attachments": {},
   "cell_type": "markdown",
   "metadata": {},
   "source": [
    "### Randomly select a jet to visualize"
   ]
  },
  {
   "cell_type": "code",
   "execution_count": 215,
   "metadata": {},
   "outputs": [
    {
     "name": "stdout",
     "output_type": "stream",
     "text": [
      "Event ID: 3614\n",
      "Number of jets: 2\n",
      "Number of particles: [43 37]\n"
     ]
    }
   ],
   "source": [
    "# filter out events that has at least one jet with nParticles < 10\n",
    "df = jet_df.groupby(\"eventID\").filter(lambda x: np.all(x.nParticles >= 10))\n",
    "# filter out events with only one jet\n",
    "df = df.groupby(\"eventID\").filter(lambda x: len(x) == 2)\n",
    "# filter out events that has particles of particleType 0 that is in the par_df dataframe\n",
    "df = df.groupby(\"eventID\").filter(lambda x: np.all(par_df[par_df.eventID == x.eventID.unique()[0]].particleType != 0))\n",
    "\n",
    "# randomly choose one eventID from the filtered data\n",
    "ev_id = np.random.choice(df.eventID.unique())\n",
    "# ev_id = 945, 3614  # good example\n",
    "\n",
    "print(f\"Event ID: {ev_id}\")\n",
    "\n",
    "jet_df = jet_df[jet_df.eventID == ev_id]\n",
    "par_df = par_df[par_df.eventID == ev_id]\n",
    "\n",
    "print(f\"Number of jets: {len(jet_df)}\")\n",
    "print(f\"Number of particles: {jet_df.nParticles.values}\")"
   ]
  },
  {
   "attachments": {},
   "cell_type": "markdown",
   "metadata": {},
   "source": [
    "### Visualize the jet"
   ]
  },
  {
   "cell_type": "code",
   "execution_count": 216,
   "metadata": {},
   "outputs": [],
   "source": [
    "particles = pd.DataFrame(columns=[\"jetID\", \"p\", \"px\", \"py\", \"pz\", \"theta\", \"phi\", \"type\"])\n",
    "\n",
    "particles[\"jetID\"] = par_df[\"jetID\"]\n",
    "particles[\"theta\"] = par_df[\"particleTheta\"]\n",
    "particles[\"phi\"]   = par_df[\"particlePhi\"]\n",
    "particles[\"type\"]  = par_df[\"particleType\"]\n",
    "\n",
    "# compute the momentum \n",
    "particles[\"p\"] = np.sqrt(par_df[\"particlePx\"]**2 + par_df[\"particlePy\"]**2 + par_df[\"particlePz\"]**2)\n",
    "\n",
    "particles[\"px\"] = particles[\"p\"]*np.sin(particles[\"theta\"])*np.cos(particles[\"phi\"])\n",
    "particles[\"py\"] = particles[\"p\"]*np.sin(particles[\"theta\"])*np.sin(particles[\"phi\"])\n",
    "particles[\"pz\"] = particles[\"p\"]*np.cos(particles[\"theta\"])\n",
    "\n",
    "particles.loc[:, \"name\"] = particles[\"type\"].map({\n",
    "    1:    \"down\",\n",
    "    2:    \"up\",\n",
    "    11:   \"electron\",\n",
    "    -11:  \"electron\",\n",
    "    13:   \"muon\",\n",
    "    -13:  \"muon\",\n",
    "    22:   \"photon\",\n",
    "    130:  \"K0L\",\n",
    "    211:  \"pion\",\n",
    "    -211: \"pion\"\n",
    "})"
   ]
  },
  {
   "cell_type": "code",
   "execution_count": 217,
   "metadata": {},
   "outputs": [
    {
     "data": {
      "application/vnd.plotly.v1+json": {
       "config": {
        "plotlyServerURL": "https://plot.ly"
       },
       "data": [
        {
         "line": {
          "color": "#1f77b4",
          "width": 5
         },
         "mode": "lines",
         "name": "Jet 1",
         "type": "scatter3d",
         "x": [
          0,
          35.47208176699174
         ],
         "y": [
          0,
          116.33732006590084
         ],
         "z": [
          0,
          224.1550955717304
         ]
        },
        {
         "line": {
          "color": "#1f77b4",
          "width": 5
         },
         "mode": "lines",
         "name": "Jet 1",
         "type": "scatter3d",
         "x": [
          0,
          2.857141248905702
         ],
         "y": [
          0,
          10.387670549753096
         ],
         "z": [
          0,
          19.234331452820836
         ]
        },
        {
         "line": {
          "color": "#1f77b4",
          "width": 5
         },
         "mode": "lines",
         "name": "Jet 1",
         "type": "scatter3d",
         "x": [
          0,
          2.198793051167294
         ],
         "y": [
          0,
          8.791712880215005
         ],
         "z": [
          0,
          17.031771630984817
         ]
        },
        {
         "line": {
          "color": "#1f77b4",
          "width": 5
         },
         "mode": "lines",
         "name": "Jet 1",
         "type": "scatter3d",
         "x": [
          0,
          0.9261306005342615
         ],
         "y": [
          0,
          6.287627942474062
         ],
         "z": [
          0,
          10.795125417351825
         ]
        },
        {
         "line": {
          "color": "#1f77b4",
          "width": 5
         },
         "mode": "lines",
         "name": "Jet 1",
         "type": "scatter3d",
         "x": [
          0,
          1.1129916034521647
         ],
         "y": [
          0,
          4.2674029385633405
         ],
         "z": [
          0,
          8.114388824578771
         ]
        },
        {
         "line": {
          "color": "#1f77b4",
          "width": 5
         },
         "mode": "lines",
         "name": "Jet 1",
         "type": "scatter3d",
         "x": [
          0,
          -0.7629995775493691
         ],
         "y": [
          0,
          4.085614483423452
         ],
         "z": [
          0,
          5.9630258315575135
         ]
        },
        {
         "line": {
          "color": "#1f77b4",
          "width": 5
         },
         "mode": "lines",
         "name": "Jet 1",
         "type": "scatter3d",
         "x": [
          0,
          0.4478577565980653
         ],
         "y": [
          0,
          3.3017958266421483
         ],
         "z": [
          0,
          2.604776522873756
         ]
        },
        {
         "line": {
          "color": "#1f77b4",
          "width": 5
         },
         "mode": "lines",
         "name": "Jet 1",
         "type": "scatter3d",
         "x": [
          0,
          0.31857687311183774
         ],
         "y": [
          0,
          3.1735027985635287
         ],
         "z": [
          0,
          5.59456336823475
         ]
        },
        {
         "line": {
          "color": "#1f77b4",
          "width": 5
         },
         "mode": "lines",
         "name": "Jet 1",
         "type": "scatter3d",
         "x": [
          0,
          1.955560874907429
         ],
         "y": [
          0,
          2.4599957187482677
         ],
         "z": [
          0,
          6.5189852470806615
         ]
        },
        {
         "line": {
          "color": "#1f77b4",
          "width": 5
         },
         "mode": "lines",
         "name": "Jet 1",
         "type": "scatter3d",
         "x": [
          0,
          0.09039478772093296
         ],
         "y": [
          0,
          2.3752336602532713
         ],
         "z": [
          0,
          4.595529771329668
         ]
        },
        {
         "line": {
          "color": "#1f77b4",
          "width": 5
         },
         "mode": "lines",
         "name": "Jet 1",
         "type": "scatter3d",
         "x": [
          0,
          0.9447306456861109
         ],
         "y": [
          0,
          1.9946104746486384
         ],
         "z": [
          0,
          5.194326924843261
         ]
        },
        {
         "line": {
          "color": "#1f77b4",
          "width": 5
         },
         "mode": "lines",
         "name": "Jet 1",
         "type": "scatter3d",
         "x": [
          0,
          0.38445680745019584
         ],
         "y": [
          0,
          2.1336076172018523
         ],
         "z": [
          0,
          4.300605037443908
         ]
        },
        {
         "line": {
          "color": "#1f77b4",
          "width": 5
         },
         "mode": "lines",
         "name": "Jet 1",
         "type": "scatter3d",
         "x": [
          0,
          -0.2966639161343989
         ],
         "y": [
          0,
          1.509204715073159
         ],
         "z": [
          0,
          4.852220276149898
         ]
        },
        {
         "line": {
          "color": "#1f77b4",
          "width": 5
         },
         "mode": "lines",
         "name": "Jet 1",
         "type": "scatter3d",
         "x": [
          0,
          -0.4333716005962157
         ],
         "y": [
          0,
          1.3716427656859094
         ],
         "z": [
          0,
          2.2916848092250275
         ]
        },
        {
         "line": {
          "color": "#1f77b4",
          "width": 5
         },
         "mode": "lines",
         "name": "Jet 1",
         "type": "scatter3d",
         "x": [
          0,
          0.4542525344683271
         ],
         "y": [
          0,
          1.0345481162865318
         ],
         "z": [
          0,
          1.7802845967590137
         ]
        },
        {
         "line": {
          "color": "#1f77b4",
          "width": 5
         },
         "mode": "lines",
         "name": "Jet 1",
         "type": "scatter3d",
         "x": [
          0,
          0.27515664655119587
         ],
         "y": [
          0,
          1.0575644687508499
         ],
         "z": [
          0,
          2.145601744825016
         ]
        },
        {
         "line": {
          "color": "#1f77b4",
          "width": 5
         },
         "mode": "lines",
         "name": "Jet 1",
         "type": "scatter3d",
         "x": [
          0,
          0.33240349557133797
         ],
         "y": [
          0,
          1.0297084743307292
         ],
         "z": [
          0,
          2.139833844423213
         ]
        },
        {
         "line": {
          "color": "#1f77b4",
          "width": 5
         },
         "mode": "lines",
         "name": "Jet 1",
         "type": "scatter3d",
         "x": [
          0,
          0.15272791838606864
         ],
         "y": [
          0,
          0.9685004660153864
         ],
         "z": [
          0,
          1.0876103224132183
         ]
        },
        {
         "line": {
          "color": "#1f77b4",
          "width": 5
         },
         "mode": "lines",
         "name": "Jet 1",
         "type": "scatter3d",
         "x": [
          0,
          0.043294902619483655
         ],
         "y": [
          0,
          0.9374773649368746
         ],
         "z": [
          0,
          1.6299181465114185
         ]
        },
        {
         "line": {
          "color": "#1f77b4",
          "width": 5
         },
         "mode": "lines",
         "name": "Jet 1",
         "type": "scatter3d",
         "x": [
          0,
          0.2615368222348537
         ],
         "y": [
          0,
          0.899771888697421
         ],
         "z": [
          0,
          2.019192231649121
         ]
        },
        {
         "line": {
          "color": "#1f77b4",
          "width": 5
         },
         "mode": "lines",
         "name": "Jet 1",
         "type": "scatter3d",
         "x": [
          0,
          -0.040156769830717115
         ],
         "y": [
          0,
          0.910247458579766
         ],
         "z": [
          0,
          2.1572152663772566
         ]
        },
        {
         "line": {
          "color": "#1f77b4",
          "width": 5
         },
         "mode": "lines",
         "name": "Jet 1",
         "type": "scatter3d",
         "x": [
          0,
          0.5192123208587435
         ],
         "y": [
          0,
          0.6854074907020593
         ],
         "z": [
          0,
          1.4045429397674976
         ]
        },
        {
         "line": {
          "color": "#1f77b4",
          "width": 5
         },
         "mode": "lines",
         "name": "Jet 1",
         "type": "scatter3d",
         "x": [
          0,
          0.3881516732803593
         ],
         "y": [
          0,
          0.7458666613023098
         ],
         "z": [
          0,
          1.9565666703929927
         ]
        },
        {
         "line": {
          "color": "#1f77b4",
          "width": 5
         },
         "mode": "lines",
         "name": "Jet 1",
         "type": "scatter3d",
         "x": [
          0,
          0.3515320802730427
         ],
         "y": [
          0,
          0.6591959104528444
         ],
         "z": [
          0,
          1.5085932354061349
         ]
        },
        {
         "line": {
          "color": "#1f77b4",
          "width": 5
         },
         "mode": "lines",
         "name": "Jet 1",
         "type": "scatter3d",
         "x": [
          0,
          0.5169956313111578
         ],
         "y": [
          0,
          0.4837257278316015
         ],
         "z": [
          0,
          1.0970439930787894
         ]
        },
        {
         "line": {
          "color": "#1f77b4",
          "width": 5
         },
         "mode": "lines",
         "name": "Jet 1",
         "type": "scatter3d",
         "x": [
          0,
          0.484445845272282
         ],
         "y": [
          0,
          0.47256042976344204
         ],
         "z": [
          0,
          2.0405486107400668
         ]
        },
        {
         "line": {
          "color": "#1f77b4",
          "width": 5
         },
         "mode": "lines",
         "name": "Jet 1",
         "type": "scatter3d",
         "x": [
          0,
          0.3674130677386687
         ],
         "y": [
          0,
          0.5247933195838724
         ],
         "z": [
          0,
          1.8304653872464174
         ]
        },
        {
         "line": {
          "color": "#1f77b4",
          "width": 5
         },
         "mode": "lines",
         "name": "Jet 1",
         "type": "scatter3d",
         "x": [
          0,
          -0.13898152054937943
         ],
         "y": [
          0,
          0.545059984722583
         ],
         "z": [
          0,
          1.125015279547762
         ]
        },
        {
         "line": {
          "color": "#1f77b4",
          "width": 5
         },
         "mode": "lines",
         "name": "Jet 1",
         "type": "scatter3d",
         "x": [
          0,
          0.02428411870749627
         ],
         "y": [
          0,
          0.5590431255367942
         ],
         "z": [
          0,
          1.0639093208742891
         ]
        },
        {
         "line": {
          "color": "#1f77b4",
          "width": 5
         },
         "mode": "lines",
         "name": "Jet 1",
         "type": "scatter3d",
         "x": [
          0,
          -0.009293083909377702
         ],
         "y": [
          0,
          0.5214015649771236
         ],
         "z": [
          0,
          2.099136836528273
         ]
        },
        {
         "line": {
          "color": "#1f77b4",
          "width": 5
         },
         "mode": "lines",
         "name": "Jet 1",
         "type": "scatter3d",
         "x": [
          0,
          0.3198800548986957
         ],
         "y": [
          0,
          0.3887240688951268
         ],
         "z": [
          0,
          0.7819075939592753
         ]
        },
        {
         "line": {
          "color": "#1f77b4",
          "width": 5
         },
         "mode": "lines",
         "name": "Jet 1",
         "type": "scatter3d",
         "x": [
          0,
          0.003967570401374207
         ],
         "y": [
          0,
          0.4990076648303376
         ],
         "z": [
          0,
          0.9497735957139292
         ]
        },
        {
         "line": {
          "color": "#1f77b4",
          "width": 5
         },
         "mode": "lines",
         "name": "Jet 1",
         "type": "scatter3d",
         "x": [
          0,
          0.24154922967349987
         ],
         "y": [
          0,
          0.398013996565345
         ],
         "z": [
          0,
          0.9279287333936143
         ]
        },
        {
         "line": {
          "color": "#1f77b4",
          "width": 5
         },
         "mode": "lines",
         "name": "Jet 1",
         "type": "scatter3d",
         "x": [
          0,
          -0.1434223215346903
         ],
         "y": [
          0,
          0.43111489841311507
         ],
         "z": [
          0,
          0.5579864952817616
         ]
        },
        {
         "line": {
          "color": "#1f77b4",
          "width": 5
         },
         "mode": "lines",
         "name": "Jet 1",
         "type": "scatter3d",
         "x": [
          0,
          0.16233563455191188
         ],
         "y": [
          0,
          0.4199082770696486
         ],
         "z": [
          0,
          0.6586721545008856
         ]
        },
        {
         "line": {
          "color": "#1f77b4",
          "width": 5
         },
         "mode": "lines",
         "name": "Jet 1",
         "type": "scatter3d",
         "x": [
          0,
          0.05465500208380008
         ],
         "y": [
          0,
          0.41733478819427594
         ],
         "z": [
          0,
          0.7266885846249934
         ]
        },
        {
         "line": {
          "color": "#1f77b4",
          "width": 5
         },
         "mode": "lines",
         "name": "Jet 1",
         "type": "scatter3d",
         "x": [
          0,
          0.1161138667661722
         ],
         "y": [
          0,
          0.3737354700871383
         ],
         "z": [
          0,
          0.6276731639152267
         ]
        },
        {
         "line": {
          "color": "#1f77b4",
          "width": 5
         },
         "mode": "lines",
         "name": "Jet 1",
         "type": "scatter3d",
         "x": [
          0,
          -0.0746915539565683
         ],
         "y": [
          0,
          0.36075722570358076
         ],
         "z": [
          0,
          0.49552867806836587
         ]
        },
        {
         "line": {
          "color": "#1f77b4",
          "width": 5
         },
         "mode": "lines",
         "name": "Jet 1",
         "type": "scatter3d",
         "x": [
          0,
          0.08769870875245801
         ],
         "y": [
          0,
          0.32681679987127027
         ],
         "z": [
          0,
          1.1876850269644077
         ]
        },
        {
         "line": {
          "color": "#1f77b4",
          "width": 5
         },
         "mode": "lines",
         "name": "Jet 1",
         "type": "scatter3d",
         "x": [
          0,
          0.0658586160299942
         ],
         "y": [
          0,
          0.29948475018772547
         ],
         "z": [
          0,
          0.4619072045137671
         ]
        },
        {
         "line": {
          "color": "#1f77b4",
          "width": 5
         },
         "mode": "lines",
         "name": "Jet 1",
         "type": "scatter3d",
         "x": [
          0,
          -0.016652698167214472
         ],
         "y": [
          0,
          0.25507221661391866
         ],
         "z": [
          0,
          0.5110280597783448
         ]
        },
        {
         "line": {
          "color": "#1f77b4",
          "width": 5
         },
         "mode": "lines",
         "name": "Jet 1",
         "type": "scatter3d",
         "x": [
          0,
          -0.0843063529987859
         ],
         "y": [
          0,
          0.21370825745488115
         ],
         "z": [
          0,
          0.6315162585482792
         ]
        },
        {
         "line": {
          "color": "#1f77b4",
          "width": 5
         },
         "mode": "lines",
         "name": "Jet 1",
         "type": "scatter3d",
         "x": [
          0,
          -0.014407630761179154
         ],
         "y": [
          0,
          0.17408744045256158
         ],
         "z": [
          0,
          0.3037683595083048
         ]
        },
        {
         "line": {
          "color": "#ff7f0e",
          "width": 5
         },
         "mode": "lines",
         "name": "Jet 2",
         "type": "scatter3d",
         "x": [
          0,
          5.255718078984871
         ],
         "y": [
          0,
          -19.32946983330718
         ],
         "z": [
          0,
          -74.68675390578355
         ]
        },
        {
         "line": {
          "color": "#ff7f0e",
          "width": 5
         },
         "mode": "lines",
         "name": "Jet 2",
         "type": "scatter3d",
         "x": [
          0,
          7.953172797650757
         ],
         "y": [
          0,
          -17.014182143529784
         ],
         "z": [
          0,
          -88.92408650329016
         ]
        },
        {
         "line": {
          "color": "#ff7f0e",
          "width": 5
         },
         "mode": "lines",
         "name": "Jet 2",
         "type": "scatter3d",
         "x": [
          0,
          4.5911606193249845
         ],
         "y": [
          0,
          -15.147632989453669
         ],
         "z": [
          0,
          -57.195948054324035
         ]
        },
        {
         "line": {
          "color": "#ff7f0e",
          "width": 5
         },
         "mode": "lines",
         "name": "Jet 2",
         "type": "scatter3d",
         "x": [
          0,
          3.6669906537297763
         ],
         "y": [
          0,
          -11.524407516569285
         ],
         "z": [
          0,
          -54.69184177464359
         ]
        },
        {
         "line": {
          "color": "#ff7f0e",
          "width": 5
         },
         "mode": "lines",
         "name": "Jet 2",
         "type": "scatter3d",
         "x": [
          0,
          4.128664728393957
         ],
         "y": [
          0,
          -10.103013798586137
         ],
         "z": [
          0,
          -45.64591885254028
         ]
        },
        {
         "line": {
          "color": "#ff7f0e",
          "width": 5
         },
         "mode": "lines",
         "name": "Jet 2",
         "type": "scatter3d",
         "x": [
          0,
          4.217699434201517
         ],
         "y": [
          0,
          -10.006849497886986
         ],
         "z": [
          0,
          -52.583389549307796
         ]
        },
        {
         "line": {
          "color": "#ff7f0e",
          "width": 5
         },
         "mode": "lines",
         "name": "Jet 2",
         "type": "scatter3d",
         "x": [
          0,
          4.288642457332379
         ],
         "y": [
          0,
          -9.72101696702387
         ],
         "z": [
          0,
          -45.29812681055624
         ]
        },
        {
         "line": {
          "color": "#ff7f0e",
          "width": 5
         },
         "mode": "lines",
         "name": "Jet 2",
         "type": "scatter3d",
         "x": [
          0,
          2.6078467346731595
         ],
         "y": [
          0,
          -7.0361739899780495
         ],
         "z": [
          0,
          -33.32310190629866
         ]
        },
        {
         "line": {
          "color": "#ff7f0e",
          "width": 5
         },
         "mode": "lines",
         "name": "Jet 2",
         "type": "scatter3d",
         "x": [
          0,
          2.209255154166324
         ],
         "y": [
          0,
          -6.369951644160716
         ],
         "z": [
          0,
          -28.97224113613273
         ]
        },
        {
         "line": {
          "color": "#ff7f0e",
          "width": 5
         },
         "mode": "lines",
         "name": "Jet 2",
         "type": "scatter3d",
         "x": [
          0,
          2.270507822089967
         ],
         "y": [
          0,
          -5.12077110123412
         ],
         "z": [
          0,
          -24.197826181808605
         ]
        },
        {
         "line": {
          "color": "#ff7f0e",
          "width": 5
         },
         "mode": "lines",
         "name": "Jet 2",
         "type": "scatter3d",
         "x": [
          0,
          1.67379440754132
         ],
         "y": [
          0,
          -5.202204291759162
         ],
         "z": [
          0,
          -24.547479847060018
         ]
        },
        {
         "line": {
          "color": "#ff7f0e",
          "width": 5
         },
         "mode": "lines",
         "name": "Jet 2",
         "type": "scatter3d",
         "x": [
          0,
          0.3733429528868312
         ],
         "y": [
          0,
          -2.282163729781397
         ],
         "z": [
          0,
          -8.338920817177168
         ]
        },
        {
         "line": {
          "color": "#ff7f0e",
          "width": 5
         },
         "mode": "lines",
         "name": "Jet 2",
         "type": "scatter3d",
         "x": [
          0,
          1.6543598712244043
         ],
         "y": [
          0,
          -1.5622086649421292
         ],
         "z": [
          0,
          -9.534305697275943
         ]
        },
        {
         "line": {
          "color": "#ff7f0e",
          "width": 5
         },
         "mode": "lines",
         "name": "Jet 2",
         "type": "scatter3d",
         "x": [
          0,
          0.6100486165335757
         ],
         "y": [
          0,
          -2.1657194383080847
         ],
         "z": [
          0,
          -14.230246326833079
         ]
        },
        {
         "line": {
          "color": "#ff7f0e",
          "width": 5
         },
         "mode": "lines",
         "name": "Jet 2",
         "type": "scatter3d",
         "x": [
          0,
          0.9136556193143702
         ],
         "y": [
          0,
          -1.8925639621163481
         ],
         "z": [
          0,
          -8.654663796238978
         ]
        },
        {
         "line": {
          "color": "#ff7f0e",
          "width": 5
         },
         "mode": "lines",
         "name": "Jet 2",
         "type": "scatter3d",
         "x": [
          0,
          0.5867924354820488
         ],
         "y": [
          0,
          -1.967077286729652
         ],
         "z": [
          0,
          -7.184396197787194
         ]
        },
        {
         "line": {
          "color": "#ff7f0e",
          "width": 5
         },
         "mode": "lines",
         "name": "Jet 2",
         "type": "scatter3d",
         "x": [
          0,
          0.675978814599597
         ],
         "y": [
          0,
          -1.8376199922790228
         ],
         "z": [
          0,
          -8.040714090917223
         ]
        },
        {
         "line": {
          "color": "#ff7f0e",
          "width": 5
         },
         "mode": "lines",
         "name": "Jet 2",
         "type": "scatter3d",
         "x": [
          0,
          0.5282013334668404
         ],
         "y": [
          0,
          -1.866140877692816
         ],
         "z": [
          0,
          -8.141977605529199
         ]
        },
        {
         "line": {
          "color": "#ff7f0e",
          "width": 5
         },
         "mode": "lines",
         "name": "Jet 2",
         "type": "scatter3d",
         "x": [
          0,
          0.3008525352633435
         ],
         "y": [
          0,
          -1.7427775057946557
         ],
         "z": [
          0,
          -5.912772436974268
         ]
        },
        {
         "line": {
          "color": "#ff7f0e",
          "width": 5
         },
         "mode": "lines",
         "name": "Jet 2",
         "type": "scatter3d",
         "x": [
          0,
          1.270176475525671
         ],
         "y": [
          0,
          -0.9723177842706955
         ],
         "z": [
          0,
          -10.61806698421084
         ]
        },
        {
         "line": {
          "color": "#ff7f0e",
          "width": 5
         },
         "mode": "lines",
         "name": "Jet 2",
         "type": "scatter3d",
         "x": [
          0,
          0.42649770357317535
         ],
         "y": [
          0,
          -1.3870830975964754
         ],
         "z": [
          0,
          -5.931337611098666
         ]
        },
        {
         "line": {
          "color": "#ff7f0e",
          "width": 5
         },
         "mode": "lines",
         "name": "Jet 2",
         "type": "scatter3d",
         "x": [
          0,
          0.3233179154743266
         ],
         "y": [
          0,
          -1.1872315992509193
         ],
         "z": [
          0,
          -4.720030546568425
         ]
        },
        {
         "line": {
          "color": "#ff7f0e",
          "width": 5
         },
         "mode": "lines",
         "name": "Jet 2",
         "type": "scatter3d",
         "x": [
          0,
          -0.10747782005604259
         ],
         "y": [
          0,
          -1.2149820597293066
         ],
         "z": [
          0,
          -8.051581200683803
         ]
        },
        {
         "line": {
          "color": "#ff7f0e",
          "width": 5
         },
         "mode": "lines",
         "name": "Jet 2",
         "type": "scatter3d",
         "x": [
          0,
          0.38555505910724586
         ],
         "y": [
          0,
          -1.1407049878087452
         ],
         "z": [
          0,
          -5.411737031162871
         ]
        },
        {
         "line": {
          "color": "#ff7f0e",
          "width": 5
         },
         "mode": "lines",
         "name": "Jet 2",
         "type": "scatter3d",
         "x": [
          0,
          0.4129431290039807
         ],
         "y": [
          0,
          -1.1279591506341968
         ],
         "z": [
          0,
          -5.88302977341286
         ]
        },
        {
         "line": {
          "color": "#ff7f0e",
          "width": 5
         },
         "mode": "lines",
         "name": "Jet 2",
         "type": "scatter3d",
         "x": [
          0,
          -0.22287558743933794
         ],
         "y": [
          0,
          -0.7268510676142351
         ],
         "z": [
          0,
          -2.119343958976703
         ]
        },
        {
         "line": {
          "color": "#ff7f0e",
          "width": 5
         },
         "mode": "lines",
         "name": "Jet 2",
         "type": "scatter3d",
         "x": [
          0,
          0.28643832421255216
         ],
         "y": [
          0,
          -0.6926188728051554
         ],
         "z": [
          0,
          -1.367877023152941
         ]
        },
        {
         "line": {
          "color": "#ff7f0e",
          "width": 5
         },
         "mode": "lines",
         "name": "Jet 2",
         "type": "scatter3d",
         "x": [
          0,
          0.30358555017463923
         ],
         "y": [
          0,
          -0.643399142020205
         ],
         "z": [
          0,
          -2.665159574335489
         ]
        },
        {
         "line": {
          "color": "#ff7f0e",
          "width": 5
         },
         "mode": "lines",
         "name": "Jet 2",
         "type": "scatter3d",
         "x": [
          0,
          -0.011564474756505478
         ],
         "y": [
          0,
          -0.7064483205540726
         ],
         "z": [
          0,
          -1.5749125386813252
         ]
        },
        {
         "line": {
          "color": "#ff7f0e",
          "width": 5
         },
         "mode": "lines",
         "name": "Jet 2",
         "type": "scatter3d",
         "x": [
          0,
          0.42208432886136726
         ],
         "y": [
          0,
          -0.5145594859766756
         ],
         "z": [
          0,
          -1.9591959419111313
         ]
        },
        {
         "line": {
          "color": "#ff7f0e",
          "width": 5
         },
         "mode": "lines",
         "name": "Jet 2",
         "type": "scatter3d",
         "x": [
          0,
          0.2880622181285504
         ],
         "y": [
          0,
          -0.5091163490674208
         ],
         "z": [
          0,
          -3.4304934129444544
         ]
        },
        {
         "line": {
          "color": "#ff7f0e",
          "width": 5
         },
         "mode": "lines",
         "name": "Jet 2",
         "type": "scatter3d",
         "x": [
          0,
          0.05934683876918024
         ],
         "y": [
          0,
          -0.40732036230472307
         ],
         "z": [
          0,
          -2.7475244426157963
         ]
        },
        {
         "line": {
          "color": "#ff7f0e",
          "width": 5
         },
         "mode": "lines",
         "name": "Jet 2",
         "type": "scatter3d",
         "x": [
          0,
          0.08991110824157651
         ],
         "y": [
          0,
          -0.338102758063202
         ],
         "z": [
          0,
          -2.972412022431222
         ]
        },
        {
         "line": {
          "color": "#ff7f0e",
          "width": 5
         },
         "mode": "lines",
         "name": "Jet 2",
         "type": "scatter3d",
         "x": [
          0,
          0.06319305711318664
         ],
         "y": [
          0,
          -0.28081940381839415
         ],
         "z": [
          0,
          -0.7858610609976856
         ]
        },
        {
         "line": {
          "color": "#ff7f0e",
          "width": 5
         },
         "mode": "lines",
         "name": "Jet 2",
         "type": "scatter3d",
         "x": [
          0,
          0.06425756332800198
         ],
         "y": [
          0,
          -0.26125674075315547
         ],
         "z": [
          0,
          -2.099849542379752
         ]
        },
        {
         "line": {
          "color": "#ff7f0e",
          "width": 5
         },
         "mode": "lines",
         "name": "Jet 2",
         "type": "scatter3d",
         "x": [
          0,
          0.20078743230411158
         ],
         "y": [
          0,
          -0.16749142777029102
         ],
         "z": [
          0,
          -0.9856864491938295
         ]
        },
        {
         "line": {
          "color": "#ff7f0e",
          "width": 5
         },
         "mode": "lines",
         "name": "Jet 2",
         "type": "scatter3d",
         "x": [
          0,
          0.19002760754359357
         ],
         "y": [
          0,
          -0.11928649029712703
         ],
         "z": [
          0,
          -0.8924643022861188
         ]
        }
       ],
       "layout": {
        "height": 500,
        "margin": {
         "b": 10,
         "l": 10,
         "r": 10,
         "t": 10
        },
        "paper_bgcolor": "white",
        "plot_bgcolor": "white",
        "scene": {
         "aspectmode": "cube",
         "aspectratio": {
          "x": 1,
          "y": 1,
          "z": 1
         },
         "xaxis": {
          "range": [
           -1,
           1
          ],
          "showgrid": false,
          "showline": false,
          "showticklabels": false,
          "title": {
           "text": ""
          }
         },
         "yaxis": {
          "range": [
           -1,
           1
          ],
          "showgrid": false,
          "showline": false,
          "showticklabels": false,
          "title": {
           "text": ""
          }
         },
         "zaxis": {
          "range": [
           -1,
           1
          ],
          "showgrid": false,
          "showline": false,
          "showticklabels": false,
          "title": {
           "text": ""
          }
         }
        },
        "showlegend": false,
        "template": {
         "data": {
          "bar": [
           {
            "error_x": {
             "color": "#2a3f5f"
            },
            "error_y": {
             "color": "#2a3f5f"
            },
            "marker": {
             "line": {
              "color": "#E5ECF6",
              "width": 0.5
             },
             "pattern": {
              "fillmode": "overlay",
              "size": 10,
              "solidity": 0.2
             }
            },
            "type": "bar"
           }
          ],
          "barpolar": [
           {
            "marker": {
             "line": {
              "color": "#E5ECF6",
              "width": 0.5
             },
             "pattern": {
              "fillmode": "overlay",
              "size": 10,
              "solidity": 0.2
             }
            },
            "type": "barpolar"
           }
          ],
          "carpet": [
           {
            "aaxis": {
             "endlinecolor": "#2a3f5f",
             "gridcolor": "white",
             "linecolor": "white",
             "minorgridcolor": "white",
             "startlinecolor": "#2a3f5f"
            },
            "baxis": {
             "endlinecolor": "#2a3f5f",
             "gridcolor": "white",
             "linecolor": "white",
             "minorgridcolor": "white",
             "startlinecolor": "#2a3f5f"
            },
            "type": "carpet"
           }
          ],
          "choropleth": [
           {
            "colorbar": {
             "outlinewidth": 0,
             "ticks": ""
            },
            "type": "choropleth"
           }
          ],
          "contour": [
           {
            "colorbar": {
             "outlinewidth": 0,
             "ticks": ""
            },
            "colorscale": [
             [
              0,
              "#0d0887"
             ],
             [
              0.1111111111111111,
              "#46039f"
             ],
             [
              0.2222222222222222,
              "#7201a8"
             ],
             [
              0.3333333333333333,
              "#9c179e"
             ],
             [
              0.4444444444444444,
              "#bd3786"
             ],
             [
              0.5555555555555556,
              "#d8576b"
             ],
             [
              0.6666666666666666,
              "#ed7953"
             ],
             [
              0.7777777777777778,
              "#fb9f3a"
             ],
             [
              0.8888888888888888,
              "#fdca26"
             ],
             [
              1,
              "#f0f921"
             ]
            ],
            "type": "contour"
           }
          ],
          "contourcarpet": [
           {
            "colorbar": {
             "outlinewidth": 0,
             "ticks": ""
            },
            "type": "contourcarpet"
           }
          ],
          "heatmap": [
           {
            "colorbar": {
             "outlinewidth": 0,
             "ticks": ""
            },
            "colorscale": [
             [
              0,
              "#0d0887"
             ],
             [
              0.1111111111111111,
              "#46039f"
             ],
             [
              0.2222222222222222,
              "#7201a8"
             ],
             [
              0.3333333333333333,
              "#9c179e"
             ],
             [
              0.4444444444444444,
              "#bd3786"
             ],
             [
              0.5555555555555556,
              "#d8576b"
             ],
             [
              0.6666666666666666,
              "#ed7953"
             ],
             [
              0.7777777777777778,
              "#fb9f3a"
             ],
             [
              0.8888888888888888,
              "#fdca26"
             ],
             [
              1,
              "#f0f921"
             ]
            ],
            "type": "heatmap"
           }
          ],
          "heatmapgl": [
           {
            "colorbar": {
             "outlinewidth": 0,
             "ticks": ""
            },
            "colorscale": [
             [
              0,
              "#0d0887"
             ],
             [
              0.1111111111111111,
              "#46039f"
             ],
             [
              0.2222222222222222,
              "#7201a8"
             ],
             [
              0.3333333333333333,
              "#9c179e"
             ],
             [
              0.4444444444444444,
              "#bd3786"
             ],
             [
              0.5555555555555556,
              "#d8576b"
             ],
             [
              0.6666666666666666,
              "#ed7953"
             ],
             [
              0.7777777777777778,
              "#fb9f3a"
             ],
             [
              0.8888888888888888,
              "#fdca26"
             ],
             [
              1,
              "#f0f921"
             ]
            ],
            "type": "heatmapgl"
           }
          ],
          "histogram": [
           {
            "marker": {
             "pattern": {
              "fillmode": "overlay",
              "size": 10,
              "solidity": 0.2
             }
            },
            "type": "histogram"
           }
          ],
          "histogram2d": [
           {
            "colorbar": {
             "outlinewidth": 0,
             "ticks": ""
            },
            "colorscale": [
             [
              0,
              "#0d0887"
             ],
             [
              0.1111111111111111,
              "#46039f"
             ],
             [
              0.2222222222222222,
              "#7201a8"
             ],
             [
              0.3333333333333333,
              "#9c179e"
             ],
             [
              0.4444444444444444,
              "#bd3786"
             ],
             [
              0.5555555555555556,
              "#d8576b"
             ],
             [
              0.6666666666666666,
              "#ed7953"
             ],
             [
              0.7777777777777778,
              "#fb9f3a"
             ],
             [
              0.8888888888888888,
              "#fdca26"
             ],
             [
              1,
              "#f0f921"
             ]
            ],
            "type": "histogram2d"
           }
          ],
          "histogram2dcontour": [
           {
            "colorbar": {
             "outlinewidth": 0,
             "ticks": ""
            },
            "colorscale": [
             [
              0,
              "#0d0887"
             ],
             [
              0.1111111111111111,
              "#46039f"
             ],
             [
              0.2222222222222222,
              "#7201a8"
             ],
             [
              0.3333333333333333,
              "#9c179e"
             ],
             [
              0.4444444444444444,
              "#bd3786"
             ],
             [
              0.5555555555555556,
              "#d8576b"
             ],
             [
              0.6666666666666666,
              "#ed7953"
             ],
             [
              0.7777777777777778,
              "#fb9f3a"
             ],
             [
              0.8888888888888888,
              "#fdca26"
             ],
             [
              1,
              "#f0f921"
             ]
            ],
            "type": "histogram2dcontour"
           }
          ],
          "mesh3d": [
           {
            "colorbar": {
             "outlinewidth": 0,
             "ticks": ""
            },
            "type": "mesh3d"
           }
          ],
          "parcoords": [
           {
            "line": {
             "colorbar": {
              "outlinewidth": 0,
              "ticks": ""
             }
            },
            "type": "parcoords"
           }
          ],
          "pie": [
           {
            "automargin": true,
            "type": "pie"
           }
          ],
          "scatter": [
           {
            "fillpattern": {
             "fillmode": "overlay",
             "size": 10,
             "solidity": 0.2
            },
            "type": "scatter"
           }
          ],
          "scatter3d": [
           {
            "line": {
             "colorbar": {
              "outlinewidth": 0,
              "ticks": ""
             }
            },
            "marker": {
             "colorbar": {
              "outlinewidth": 0,
              "ticks": ""
             }
            },
            "type": "scatter3d"
           }
          ],
          "scattercarpet": [
           {
            "marker": {
             "colorbar": {
              "outlinewidth": 0,
              "ticks": ""
             }
            },
            "type": "scattercarpet"
           }
          ],
          "scattergeo": [
           {
            "marker": {
             "colorbar": {
              "outlinewidth": 0,
              "ticks": ""
             }
            },
            "type": "scattergeo"
           }
          ],
          "scattergl": [
           {
            "marker": {
             "colorbar": {
              "outlinewidth": 0,
              "ticks": ""
             }
            },
            "type": "scattergl"
           }
          ],
          "scattermapbox": [
           {
            "marker": {
             "colorbar": {
              "outlinewidth": 0,
              "ticks": ""
             }
            },
            "type": "scattermapbox"
           }
          ],
          "scatterpolar": [
           {
            "marker": {
             "colorbar": {
              "outlinewidth": 0,
              "ticks": ""
             }
            },
            "type": "scatterpolar"
           }
          ],
          "scatterpolargl": [
           {
            "marker": {
             "colorbar": {
              "outlinewidth": 0,
              "ticks": ""
             }
            },
            "type": "scatterpolargl"
           }
          ],
          "scatterternary": [
           {
            "marker": {
             "colorbar": {
              "outlinewidth": 0,
              "ticks": ""
             }
            },
            "type": "scatterternary"
           }
          ],
          "surface": [
           {
            "colorbar": {
             "outlinewidth": 0,
             "ticks": ""
            },
            "colorscale": [
             [
              0,
              "#0d0887"
             ],
             [
              0.1111111111111111,
              "#46039f"
             ],
             [
              0.2222222222222222,
              "#7201a8"
             ],
             [
              0.3333333333333333,
              "#9c179e"
             ],
             [
              0.4444444444444444,
              "#bd3786"
             ],
             [
              0.5555555555555556,
              "#d8576b"
             ],
             [
              0.6666666666666666,
              "#ed7953"
             ],
             [
              0.7777777777777778,
              "#fb9f3a"
             ],
             [
              0.8888888888888888,
              "#fdca26"
             ],
             [
              1,
              "#f0f921"
             ]
            ],
            "type": "surface"
           }
          ],
          "table": [
           {
            "cells": {
             "fill": {
              "color": "#EBF0F8"
             },
             "line": {
              "color": "white"
             }
            },
            "header": {
             "fill": {
              "color": "#C8D4E3"
             },
             "line": {
              "color": "white"
             }
            },
            "type": "table"
           }
          ]
         },
         "layout": {
          "annotationdefaults": {
           "arrowcolor": "#2a3f5f",
           "arrowhead": 0,
           "arrowwidth": 1
          },
          "autotypenumbers": "strict",
          "coloraxis": {
           "colorbar": {
            "outlinewidth": 0,
            "ticks": ""
           }
          },
          "colorscale": {
           "diverging": [
            [
             0,
             "#8e0152"
            ],
            [
             0.1,
             "#c51b7d"
            ],
            [
             0.2,
             "#de77ae"
            ],
            [
             0.3,
             "#f1b6da"
            ],
            [
             0.4,
             "#fde0ef"
            ],
            [
             0.5,
             "#f7f7f7"
            ],
            [
             0.6,
             "#e6f5d0"
            ],
            [
             0.7,
             "#b8e186"
            ],
            [
             0.8,
             "#7fbc41"
            ],
            [
             0.9,
             "#4d9221"
            ],
            [
             1,
             "#276419"
            ]
           ],
           "sequential": [
            [
             0,
             "#0d0887"
            ],
            [
             0.1111111111111111,
             "#46039f"
            ],
            [
             0.2222222222222222,
             "#7201a8"
            ],
            [
             0.3333333333333333,
             "#9c179e"
            ],
            [
             0.4444444444444444,
             "#bd3786"
            ],
            [
             0.5555555555555556,
             "#d8576b"
            ],
            [
             0.6666666666666666,
             "#ed7953"
            ],
            [
             0.7777777777777778,
             "#fb9f3a"
            ],
            [
             0.8888888888888888,
             "#fdca26"
            ],
            [
             1,
             "#f0f921"
            ]
           ],
           "sequentialminus": [
            [
             0,
             "#0d0887"
            ],
            [
             0.1111111111111111,
             "#46039f"
            ],
            [
             0.2222222222222222,
             "#7201a8"
            ],
            [
             0.3333333333333333,
             "#9c179e"
            ],
            [
             0.4444444444444444,
             "#bd3786"
            ],
            [
             0.5555555555555556,
             "#d8576b"
            ],
            [
             0.6666666666666666,
             "#ed7953"
            ],
            [
             0.7777777777777778,
             "#fb9f3a"
            ],
            [
             0.8888888888888888,
             "#fdca26"
            ],
            [
             1,
             "#f0f921"
            ]
           ]
          },
          "colorway": [
           "#636efa",
           "#EF553B",
           "#00cc96",
           "#ab63fa",
           "#FFA15A",
           "#19d3f3",
           "#FF6692",
           "#B6E880",
           "#FF97FF",
           "#FECB52"
          ],
          "font": {
           "color": "#2a3f5f"
          },
          "geo": {
           "bgcolor": "white",
           "lakecolor": "white",
           "landcolor": "#E5ECF6",
           "showlakes": true,
           "showland": true,
           "subunitcolor": "white"
          },
          "hoverlabel": {
           "align": "left"
          },
          "hovermode": "closest",
          "mapbox": {
           "style": "light"
          },
          "paper_bgcolor": "white",
          "plot_bgcolor": "#E5ECF6",
          "polar": {
           "angularaxis": {
            "gridcolor": "white",
            "linecolor": "white",
            "ticks": ""
           },
           "bgcolor": "#E5ECF6",
           "radialaxis": {
            "gridcolor": "white",
            "linecolor": "white",
            "ticks": ""
           }
          },
          "scene": {
           "xaxis": {
            "backgroundcolor": "#E5ECF6",
            "gridcolor": "white",
            "gridwidth": 2,
            "linecolor": "white",
            "showbackground": true,
            "ticks": "",
            "zerolinecolor": "white"
           },
           "yaxis": {
            "backgroundcolor": "#E5ECF6",
            "gridcolor": "white",
            "gridwidth": 2,
            "linecolor": "white",
            "showbackground": true,
            "ticks": "",
            "zerolinecolor": "white"
           },
           "zaxis": {
            "backgroundcolor": "#E5ECF6",
            "gridcolor": "white",
            "gridwidth": 2,
            "linecolor": "white",
            "showbackground": true,
            "ticks": "",
            "zerolinecolor": "white"
           }
          },
          "shapedefaults": {
           "line": {
            "color": "#2a3f5f"
           }
          },
          "ternary": {
           "aaxis": {
            "gridcolor": "white",
            "linecolor": "white",
            "ticks": ""
           },
           "baxis": {
            "gridcolor": "white",
            "linecolor": "white",
            "ticks": ""
           },
           "bgcolor": "#E5ECF6",
           "caxis": {
            "gridcolor": "white",
            "linecolor": "white",
            "ticks": ""
           }
          },
          "title": {
           "x": 0.05
          },
          "xaxis": {
           "automargin": true,
           "gridcolor": "white",
           "linecolor": "white",
           "ticks": "",
           "title": {
            "standoff": 15
           },
           "zerolinecolor": "white",
           "zerolinewidth": 2
          },
          "yaxis": {
           "automargin": true,
           "gridcolor": "white",
           "linecolor": "white",
           "ticks": "",
           "title": {
            "standoff": 15
           },
           "zerolinecolor": "white",
           "zerolinewidth": 2
          }
         }
        },
        "width": 500
       }
      }
     },
     "metadata": {},
     "output_type": "display_data"
    }
   ],
   "source": [
    "# use matplotlib tab10 colormap in hex format\n",
    "jetID_colors = plt.cm.tab10(np.linspace(0, 1, 10))[[0, 1]]\n",
    "\n",
    "jetID_colors = [rgba_to_hex(c) for c in jetID_colors]\n",
    "\n",
    "data = []\n",
    "for i, jetID in enumerate(particles['jetID'].unique()):\n",
    "    mask = (particles['jetID'] == jetID)\n",
    "    \n",
    "    data += [\n",
    "        go.Scatter3d(\n",
    "            x=[0,particlePx], \n",
    "            y=[0,particlePy], \n",
    "            z=[0,particlePz],\n",
    "            mode='lines',\n",
    "            line=dict(color=jetID_colors[i], width=5),\n",
    "            name=f\"Jet {i+1}\"\n",
    "        ) \n",
    "        for particlePx,particlePy,particlePz in zip(particles[mask]['px'], particles[mask]['py'], particles[mask]['pz'])\n",
    "    ]\n",
    "    \n",
    "layout = go.Layout(\n",
    "    scene=dict(\n",
    "        xaxis_title = '',\n",
    "        yaxis_title = '',\n",
    "        zaxis_title = '',\n",
    "        xaxis=dict(showline=False, showticklabels=False, showgrid=False, range=(-1,1)),\n",
    "        yaxis=dict(showline=False, showticklabels=False, showgrid=False, range=(-1,1)),\n",
    "        zaxis=dict(showline=False, showticklabels=False, showgrid=False, range=(-1,1)),\n",
    "        aspectmode='cube',\n",
    "        aspectratio=dict(x=1, y=1, z=1),\n",
    "    ),\n",
    "    paper_bgcolor = 'white',\n",
    "    plot_bgcolor  = 'white',\n",
    "    width         = 500,\n",
    "    height        = 500,\n",
    "    showlegend    = False,\n",
    "    margin        = dict(l=10, r=10, b=10, t=10),\n",
    ")\n",
    "\n",
    "fig = go.Figure(data=data, layout=layout)\n",
    "fig.show()\n"
   ]
  },
  {
   "cell_type": "code",
   "execution_count": 221,
   "metadata": {},
   "outputs": [
    {
     "data": {
      "application/vnd.plotly.v1+json": {
       "config": {
        "plotlyServerURL": "https://plot.ly"
       },
       "data": [
        {
         "line": {
          "color": "#ff7f0e",
          "width": 3
         },
         "mode": "lines",
         "name": "photon",
         "type": "scatter3d",
         "x": [
          0,
          35.47208176699174
         ],
         "y": [
          0,
          116.33732006590084
         ],
         "z": [
          0,
          224.1550955717304
         ]
        },
        {
         "line": {
          "color": "#ff7f0e",
          "width": 3
         },
         "mode": "lines",
         "name": "photon",
         "type": "scatter3d",
         "x": [
          0,
          2.198793051167294
         ],
         "y": [
          0,
          8.791712880215005
         ],
         "z": [
          0,
          17.031771630984817
         ]
        },
        {
         "line": {
          "color": "#ff7f0e",
          "width": 3
         },
         "mode": "lines",
         "name": "photon",
         "type": "scatter3d",
         "x": [
          0,
          0.4478577565980653
         ],
         "y": [
          0,
          3.3017958266421483
         ],
         "z": [
          0,
          2.604776522873756
         ]
        },
        {
         "line": {
          "color": "#ff7f0e",
          "width": 3
         },
         "mode": "lines",
         "name": "photon",
         "type": "scatter3d",
         "x": [
          0,
          0.38445680745019584
         ],
         "y": [
          0,
          2.1336076172018523
         ],
         "z": [
          0,
          4.300605037443908
         ]
        },
        {
         "line": {
          "color": "#ff7f0e",
          "width": 3
         },
         "mode": "lines",
         "name": "photon",
         "type": "scatter3d",
         "x": [
          0,
          0.4542525344683271
         ],
         "y": [
          0,
          1.0345481162865318
         ],
         "z": [
          0,
          1.7802845967590137
         ]
        },
        {
         "line": {
          "color": "#ff7f0e",
          "width": 3
         },
         "mode": "lines",
         "name": "photon",
         "type": "scatter3d",
         "x": [
          0,
          0.27515664655119587
         ],
         "y": [
          0,
          1.0575644687508499
         ],
         "z": [
          0,
          2.145601744825016
         ]
        },
        {
         "line": {
          "color": "#ff7f0e",
          "width": 3
         },
         "mode": "lines",
         "name": "photon",
         "type": "scatter3d",
         "x": [
          0,
          0.043294902619483655
         ],
         "y": [
          0,
          0.9374773649368746
         ],
         "z": [
          0,
          1.6299181465114185
         ]
        },
        {
         "line": {
          "color": "#ff7f0e",
          "width": 3
         },
         "mode": "lines",
         "name": "photon",
         "type": "scatter3d",
         "x": [
          0,
          0.5192123208587435
         ],
         "y": [
          0,
          0.6854074907020593
         ],
         "z": [
          0,
          1.4045429397674976
         ]
        },
        {
         "line": {
          "color": "#ff7f0e",
          "width": 3
         },
         "mode": "lines",
         "name": "photon",
         "type": "scatter3d",
         "x": [
          0,
          0.3515320802730427
         ],
         "y": [
          0,
          0.6591959104528444
         ],
         "z": [
          0,
          1.5085932354061349
         ]
        },
        {
         "line": {
          "color": "#ff7f0e",
          "width": 3
         },
         "mode": "lines",
         "name": "photon",
         "type": "scatter3d",
         "x": [
          0,
          0.02428411870749627
         ],
         "y": [
          0,
          0.5590431255367942
         ],
         "z": [
          0,
          1.0639093208742891
         ]
        },
        {
         "line": {
          "color": "#ff7f0e",
          "width": 3
         },
         "mode": "lines",
         "name": "photon",
         "type": "scatter3d",
         "x": [
          0,
          0.003967570401374207
         ],
         "y": [
          0,
          0.4990076648303376
         ],
         "z": [
          0,
          0.9497735957139292
         ]
        },
        {
         "line": {
          "color": "#ff7f0e",
          "width": 3
         },
         "mode": "lines",
         "name": "photon",
         "type": "scatter3d",
         "x": [
          0,
          0.24154922967349987
         ],
         "y": [
          0,
          0.398013996565345
         ],
         "z": [
          0,
          0.9279287333936143
         ]
        },
        {
         "line": {
          "color": "#ff7f0e",
          "width": 3
         },
         "mode": "lines",
         "name": "photon",
         "type": "scatter3d",
         "x": [
          0,
          -0.1434223215346903
         ],
         "y": [
          0,
          0.43111489841311507
         ],
         "z": [
          0,
          0.5579864952817616
         ]
        },
        {
         "line": {
          "color": "#ff7f0e",
          "width": 3
         },
         "mode": "lines",
         "name": "photon",
         "type": "scatter3d",
         "x": [
          0,
          0.16233563455191188
         ],
         "y": [
          0,
          0.4199082770696486
         ],
         "z": [
          0,
          0.6586721545008856
         ]
        },
        {
         "line": {
          "color": "#ff7f0e",
          "width": 3
         },
         "mode": "lines",
         "name": "photon",
         "type": "scatter3d",
         "x": [
          0,
          0.05465500208380008
         ],
         "y": [
          0,
          0.41733478819427594
         ],
         "z": [
          0,
          0.7266885846249934
         ]
        },
        {
         "line": {
          "color": "#ff7f0e",
          "width": 3
         },
         "mode": "lines",
         "name": "photon",
         "type": "scatter3d",
         "x": [
          0,
          0.1161138667661722
         ],
         "y": [
          0,
          0.3737354700871383
         ],
         "z": [
          0,
          0.6276731639152267
         ]
        },
        {
         "line": {
          "color": "#ff7f0e",
          "width": 3
         },
         "mode": "lines",
         "name": "photon",
         "type": "scatter3d",
         "x": [
          0,
          -0.0746915539565683
         ],
         "y": [
          0,
          0.36075722570358076
         ],
         "z": [
          0,
          0.49552867806836587
         ]
        },
        {
         "line": {
          "color": "#ff7f0e",
          "width": 3
         },
         "mode": "lines",
         "name": "photon",
         "type": "scatter3d",
         "x": [
          0,
          0.0658586160299942
         ],
         "y": [
          0,
          0.29948475018772547
         ],
         "z": [
          0,
          0.4619072045137671
         ]
        },
        {
         "line": {
          "color": "#ff7f0e",
          "width": 3
         },
         "mode": "lines",
         "name": "photon",
         "type": "scatter3d",
         "x": [
          0,
          -0.016652698167214472
         ],
         "y": [
          0,
          0.25507221661391866
         ],
         "z": [
          0,
          0.5110280597783448
         ]
        },
        {
         "line": {
          "color": "#ff7f0e",
          "width": 3
         },
         "mode": "lines",
         "name": "photon",
         "type": "scatter3d",
         "x": [
          0,
          -0.014407630761179154
         ],
         "y": [
          0,
          0.17408744045256158
         ],
         "z": [
          0,
          0.3037683595083048
         ]
        },
        {
         "line": {
          "color": "#ff7f0e",
          "width": 3
         },
         "mode": "lines",
         "name": "photon",
         "type": "scatter3d",
         "x": [
          0,
          4.5911606193249845
         ],
         "y": [
          0,
          -15.147632989453669
         ],
         "z": [
          0,
          -57.195948054324035
         ]
        },
        {
         "line": {
          "color": "#ff7f0e",
          "width": 3
         },
         "mode": "lines",
         "name": "photon",
         "type": "scatter3d",
         "x": [
          0,
          3.6669906537297763
         ],
         "y": [
          0,
          -11.524407516569285
         ],
         "z": [
          0,
          -54.69184177464359
         ]
        },
        {
         "line": {
          "color": "#ff7f0e",
          "width": 3
         },
         "mode": "lines",
         "name": "photon",
         "type": "scatter3d",
         "x": [
          0,
          4.288642457332379
         ],
         "y": [
          0,
          -9.72101696702387
         ],
         "z": [
          0,
          -45.29812681055624
         ]
        },
        {
         "line": {
          "color": "#ff7f0e",
          "width": 3
         },
         "mode": "lines",
         "name": "photon",
         "type": "scatter3d",
         "x": [
          0,
          0.3008525352633435
         ],
         "y": [
          0,
          -1.7427775057946557
         ],
         "z": [
          0,
          -5.912772436974268
         ]
        },
        {
         "line": {
          "color": "#ff7f0e",
          "width": 3
         },
         "mode": "lines",
         "name": "photon",
         "type": "scatter3d",
         "x": [
          0,
          0.05934683876918024
         ],
         "y": [
          0,
          -0.40732036230472307
         ],
         "z": [
          0,
          -2.7475244426157963
         ]
        },
        {
         "line": {
          "color": "#ff7f0e",
          "width": 3
         },
         "mode": "lines",
         "name": "photon",
         "type": "scatter3d",
         "x": [
          0,
          0.06425756332800198
         ],
         "y": [
          0,
          -0.26125674075315547
         ],
         "z": [
          0,
          -2.099849542379752
         ]
        },
        {
         "line": {
          "color": "#ff7f0e",
          "width": 3
         },
         "mode": "lines",
         "name": "photon",
         "type": "scatter3d",
         "x": [
          0,
          0.20078743230411158
         ],
         "y": [
          0,
          -0.16749142777029102
         ],
         "z": [
          0,
          -0.9856864491938295
         ]
        },
        {
         "line": {
          "color": "#ff7f0e",
          "width": 3
         },
         "mode": "lines",
         "name": "photon",
         "type": "scatter3d",
         "x": [
          0,
          0.19002760754359357
         ],
         "y": [
          0,
          -0.11928649029712703
         ],
         "z": [
          0,
          -0.8924643022861188
         ]
        },
        {
         "line": {
          "color": "#1f77b4",
          "width": 3
         },
         "mode": "lines",
         "name": "pion",
         "type": "scatter3d",
         "x": [
          0,
          2.857141248905702
         ],
         "y": [
          0,
          10.387670549753096
         ],
         "z": [
          0,
          19.234331452820836
         ]
        },
        {
         "line": {
          "color": "#1f77b4",
          "width": 3
         },
         "mode": "lines",
         "name": "pion",
         "type": "scatter3d",
         "x": [
          0,
          0.9261306005342615
         ],
         "y": [
          0,
          6.287627942474062
         ],
         "z": [
          0,
          10.795125417351825
         ]
        },
        {
         "line": {
          "color": "#1f77b4",
          "width": 3
         },
         "mode": "lines",
         "name": "pion",
         "type": "scatter3d",
         "x": [
          0,
          1.1129916034521647
         ],
         "y": [
          0,
          4.2674029385633405
         ],
         "z": [
          0,
          8.114388824578771
         ]
        },
        {
         "line": {
          "color": "#1f77b4",
          "width": 3
         },
         "mode": "lines",
         "name": "pion",
         "type": "scatter3d",
         "x": [
          0,
          0.31857687311183774
         ],
         "y": [
          0,
          3.1735027985635287
         ],
         "z": [
          0,
          5.59456336823475
         ]
        },
        {
         "line": {
          "color": "#1f77b4",
          "width": 3
         },
         "mode": "lines",
         "name": "pion",
         "type": "scatter3d",
         "x": [
          0,
          0.09039478772093296
         ],
         "y": [
          0,
          2.3752336602532713
         ],
         "z": [
          0,
          4.595529771329668
         ]
        },
        {
         "line": {
          "color": "#1f77b4",
          "width": 3
         },
         "mode": "lines",
         "name": "pion",
         "type": "scatter3d",
         "x": [
          0,
          0.9447306456861109
         ],
         "y": [
          0,
          1.9946104746486384
         ],
         "z": [
          0,
          5.194326924843261
         ]
        },
        {
         "line": {
          "color": "#1f77b4",
          "width": 3
         },
         "mode": "lines",
         "name": "pion",
         "type": "scatter3d",
         "x": [
          0,
          -0.2966639161343989
         ],
         "y": [
          0,
          1.509204715073159
         ],
         "z": [
          0,
          4.852220276149898
         ]
        },
        {
         "line": {
          "color": "#1f77b4",
          "width": 3
         },
         "mode": "lines",
         "name": "pion",
         "type": "scatter3d",
         "x": [
          0,
          0.33240349557133797
         ],
         "y": [
          0,
          1.0297084743307292
         ],
         "z": [
          0,
          2.139833844423213
         ]
        },
        {
         "line": {
          "color": "#1f77b4",
          "width": 3
         },
         "mode": "lines",
         "name": "pion",
         "type": "scatter3d",
         "x": [
          0,
          0.15272791838606864
         ],
         "y": [
          0,
          0.9685004660153864
         ],
         "z": [
          0,
          1.0876103224132183
         ]
        },
        {
         "line": {
          "color": "#1f77b4",
          "width": 3
         },
         "mode": "lines",
         "name": "pion",
         "type": "scatter3d",
         "x": [
          0,
          0.5169956313111578
         ],
         "y": [
          0,
          0.4837257278316015
         ],
         "z": [
          0,
          1.0970439930787894
         ]
        },
        {
         "line": {
          "color": "#1f77b4",
          "width": 3
         },
         "mode": "lines",
         "name": "pion",
         "type": "scatter3d",
         "x": [
          0,
          0.484445845272282
         ],
         "y": [
          0,
          0.47256042976344204
         ],
         "z": [
          0,
          2.0405486107400668
         ]
        },
        {
         "line": {
          "color": "#1f77b4",
          "width": 3
         },
         "mode": "lines",
         "name": "pion",
         "type": "scatter3d",
         "x": [
          0,
          -0.13898152054937943
         ],
         "y": [
          0,
          0.545059984722583
         ],
         "z": [
          0,
          1.125015279547762
         ]
        },
        {
         "line": {
          "color": "#1f77b4",
          "width": 3
         },
         "mode": "lines",
         "name": "pion",
         "type": "scatter3d",
         "x": [
          0,
          -0.009293083909377702
         ],
         "y": [
          0,
          0.5214015649771236
         ],
         "z": [
          0,
          2.099136836528273
         ]
        },
        {
         "line": {
          "color": "#1f77b4",
          "width": 3
         },
         "mode": "lines",
         "name": "pion",
         "type": "scatter3d",
         "x": [
          0,
          0.3198800548986957
         ],
         "y": [
          0,
          0.3887240688951268
         ],
         "z": [
          0,
          0.7819075939592753
         ]
        },
        {
         "line": {
          "color": "#1f77b4",
          "width": 3
         },
         "mode": "lines",
         "name": "pion",
         "type": "scatter3d",
         "x": [
          0,
          0.08769870875245801
         ],
         "y": [
          0,
          0.32681679987127027
         ],
         "z": [
          0,
          1.1876850269644077
         ]
        },
        {
         "line": {
          "color": "#1f77b4",
          "width": 3
         },
         "mode": "lines",
         "name": "pion",
         "type": "scatter3d",
         "x": [
          0,
          -0.0843063529987859
         ],
         "y": [
          0,
          0.21370825745488115
         ],
         "z": [
          0,
          0.6315162585482792
         ]
        },
        {
         "line": {
          "color": "#1f77b4",
          "width": 3
         },
         "mode": "lines",
         "name": "pion",
         "type": "scatter3d",
         "x": [
          0,
          5.255718078984871
         ],
         "y": [
          0,
          -19.32946983330718
         ],
         "z": [
          0,
          -74.68675390578355
         ]
        },
        {
         "line": {
          "color": "#1f77b4",
          "width": 3
         },
         "mode": "lines",
         "name": "pion",
         "type": "scatter3d",
         "x": [
          0,
          4.128664728393957
         ],
         "y": [
          0,
          -10.103013798586137
         ],
         "z": [
          0,
          -45.64591885254028
         ]
        },
        {
         "line": {
          "color": "#1f77b4",
          "width": 3
         },
         "mode": "lines",
         "name": "pion",
         "type": "scatter3d",
         "x": [
          0,
          4.217699434201517
         ],
         "y": [
          0,
          -10.006849497886986
         ],
         "z": [
          0,
          -52.583389549307796
         ]
        },
        {
         "line": {
          "color": "#1f77b4",
          "width": 3
         },
         "mode": "lines",
         "name": "pion",
         "type": "scatter3d",
         "x": [
          0,
          2.6078467346731595
         ],
         "y": [
          0,
          -7.0361739899780495
         ],
         "z": [
          0,
          -33.32310190629866
         ]
        },
        {
         "line": {
          "color": "#1f77b4",
          "width": 3
         },
         "mode": "lines",
         "name": "pion",
         "type": "scatter3d",
         "x": [
          0,
          2.209255154166324
         ],
         "y": [
          0,
          -6.369951644160716
         ],
         "z": [
          0,
          -28.97224113613273
         ]
        },
        {
         "line": {
          "color": "#1f77b4",
          "width": 3
         },
         "mode": "lines",
         "name": "pion",
         "type": "scatter3d",
         "x": [
          0,
          2.270507822089967
         ],
         "y": [
          0,
          -5.12077110123412
         ],
         "z": [
          0,
          -24.197826181808605
         ]
        },
        {
         "line": {
          "color": "#1f77b4",
          "width": 3
         },
         "mode": "lines",
         "name": "pion",
         "type": "scatter3d",
         "x": [
          0,
          1.67379440754132
         ],
         "y": [
          0,
          -5.202204291759162
         ],
         "z": [
          0,
          -24.547479847060018
         ]
        },
        {
         "line": {
          "color": "#1f77b4",
          "width": 3
         },
         "mode": "lines",
         "name": "pion",
         "type": "scatter3d",
         "x": [
          0,
          0.3733429528868312
         ],
         "y": [
          0,
          -2.282163729781397
         ],
         "z": [
          0,
          -8.338920817177168
         ]
        },
        {
         "line": {
          "color": "#1f77b4",
          "width": 3
         },
         "mode": "lines",
         "name": "pion",
         "type": "scatter3d",
         "x": [
          0,
          0.6100486165335757
         ],
         "y": [
          0,
          -2.1657194383080847
         ],
         "z": [
          0,
          -14.230246326833079
         ]
        },
        {
         "line": {
          "color": "#1f77b4",
          "width": 3
         },
         "mode": "lines",
         "name": "pion",
         "type": "scatter3d",
         "x": [
          0,
          0.9136556193143702
         ],
         "y": [
          0,
          -1.8925639621163481
         ],
         "z": [
          0,
          -8.654663796238978
         ]
        },
        {
         "line": {
          "color": "#1f77b4",
          "width": 3
         },
         "mode": "lines",
         "name": "pion",
         "type": "scatter3d",
         "x": [
          0,
          0.5867924354820488
         ],
         "y": [
          0,
          -1.967077286729652
         ],
         "z": [
          0,
          -7.184396197787194
         ]
        },
        {
         "line": {
          "color": "#1f77b4",
          "width": 3
         },
         "mode": "lines",
         "name": "pion",
         "type": "scatter3d",
         "x": [
          0,
          0.675978814599597
         ],
         "y": [
          0,
          -1.8376199922790228
         ],
         "z": [
          0,
          -8.040714090917223
         ]
        },
        {
         "line": {
          "color": "#1f77b4",
          "width": 3
         },
         "mode": "lines",
         "name": "pion",
         "type": "scatter3d",
         "x": [
          0,
          0.5282013334668404
         ],
         "y": [
          0,
          -1.866140877692816
         ],
         "z": [
          0,
          -8.141977605529199
         ]
        },
        {
         "line": {
          "color": "#1f77b4",
          "width": 3
         },
         "mode": "lines",
         "name": "pion",
         "type": "scatter3d",
         "x": [
          0,
          0.42649770357317535
         ],
         "y": [
          0,
          -1.3870830975964754
         ],
         "z": [
          0,
          -5.931337611098666
         ]
        },
        {
         "line": {
          "color": "#1f77b4",
          "width": 3
         },
         "mode": "lines",
         "name": "pion",
         "type": "scatter3d",
         "x": [
          0,
          0.3233179154743266
         ],
         "y": [
          0,
          -1.1872315992509193
         ],
         "z": [
          0,
          -4.720030546568425
         ]
        },
        {
         "line": {
          "color": "#1f77b4",
          "width": 3
         },
         "mode": "lines",
         "name": "pion",
         "type": "scatter3d",
         "x": [
          0,
          0.38555505910724586
         ],
         "y": [
          0,
          -1.1407049878087452
         ],
         "z": [
          0,
          -5.411737031162871
         ]
        },
        {
         "line": {
          "color": "#1f77b4",
          "width": 3
         },
         "mode": "lines",
         "name": "pion",
         "type": "scatter3d",
         "x": [
          0,
          0.4129431290039807
         ],
         "y": [
          0,
          -1.1279591506341968
         ],
         "z": [
          0,
          -5.88302977341286
         ]
        },
        {
         "line": {
          "color": "#1f77b4",
          "width": 3
         },
         "mode": "lines",
         "name": "pion",
         "type": "scatter3d",
         "x": [
          0,
          -0.22287558743933794
         ],
         "y": [
          0,
          -0.7268510676142351
         ],
         "z": [
          0,
          -2.119343958976703
         ]
        },
        {
         "line": {
          "color": "#1f77b4",
          "width": 3
         },
         "mode": "lines",
         "name": "pion",
         "type": "scatter3d",
         "x": [
          0,
          0.30358555017463923
         ],
         "y": [
          0,
          -0.643399142020205
         ],
         "z": [
          0,
          -2.665159574335489
         ]
        },
        {
         "line": {
          "color": "#1f77b4",
          "width": 3
         },
         "mode": "lines",
         "name": "pion",
         "type": "scatter3d",
         "x": [
          0,
          -0.011564474756505478
         ],
         "y": [
          0,
          -0.7064483205540726
         ],
         "z": [
          0,
          -1.5749125386813252
         ]
        },
        {
         "line": {
          "color": "#1f77b4",
          "width": 3
         },
         "mode": "lines",
         "name": "pion",
         "type": "scatter3d",
         "x": [
          0,
          0.42208432886136726
         ],
         "y": [
          0,
          -0.5145594859766756
         ],
         "z": [
          0,
          -1.9591959419111313
         ]
        },
        {
         "line": {
          "color": "#1f77b4",
          "width": 3
         },
         "mode": "lines",
         "name": "pion",
         "type": "scatter3d",
         "x": [
          0,
          0.2880622181285504
         ],
         "y": [
          0,
          -0.5091163490674208
         ],
         "z": [
          0,
          -3.4304934129444544
         ]
        },
        {
         "line": {
          "color": "#1f77b4",
          "width": 3
         },
         "mode": "lines",
         "name": "pion",
         "type": "scatter3d",
         "x": [
          0,
          0.06319305711318664
         ],
         "y": [
          0,
          -0.28081940381839415
         ],
         "z": [
          0,
          -0.7858610609976856
         ]
        },
        {
         "line": {
          "color": "#2ca02c",
          "width": 3
         },
         "mode": "lines",
         "name": "K0L",
         "type": "scatter3d",
         "x": [
          0,
          -0.7629995775493691
         ],
         "y": [
          0,
          4.085614483423452
         ],
         "z": [
          0,
          5.9630258315575135
         ]
        },
        {
         "line": {
          "color": "#2ca02c",
          "width": 3
         },
         "mode": "lines",
         "name": "K0L",
         "type": "scatter3d",
         "x": [
          0,
          1.955560874907429
         ],
         "y": [
          0,
          2.4599957187482677
         ],
         "z": [
          0,
          6.5189852470806615
         ]
        },
        {
         "line": {
          "color": "#2ca02c",
          "width": 3
         },
         "mode": "lines",
         "name": "K0L",
         "type": "scatter3d",
         "x": [
          0,
          -0.4333716005962157
         ],
         "y": [
          0,
          1.3716427656859094
         ],
         "z": [
          0,
          2.2916848092250275
         ]
        },
        {
         "line": {
          "color": "#2ca02c",
          "width": 3
         },
         "mode": "lines",
         "name": "K0L",
         "type": "scatter3d",
         "x": [
          0,
          0.2615368222348537
         ],
         "y": [
          0,
          0.899771888697421
         ],
         "z": [
          0,
          2.019192231649121
         ]
        },
        {
         "line": {
          "color": "#2ca02c",
          "width": 3
         },
         "mode": "lines",
         "name": "K0L",
         "type": "scatter3d",
         "x": [
          0,
          -0.040156769830717115
         ],
         "y": [
          0,
          0.910247458579766
         ],
         "z": [
          0,
          2.1572152663772566
         ]
        },
        {
         "line": {
          "color": "#2ca02c",
          "width": 3
         },
         "mode": "lines",
         "name": "K0L",
         "type": "scatter3d",
         "x": [
          0,
          0.3881516732803593
         ],
         "y": [
          0,
          0.7458666613023098
         ],
         "z": [
          0,
          1.9565666703929927
         ]
        },
        {
         "line": {
          "color": "#2ca02c",
          "width": 3
         },
         "mode": "lines",
         "name": "K0L",
         "type": "scatter3d",
         "x": [
          0,
          0.3674130677386687
         ],
         "y": [
          0,
          0.5247933195838724
         ],
         "z": [
          0,
          1.8304653872464174
         ]
        },
        {
         "line": {
          "color": "#2ca02c",
          "width": 3
         },
         "mode": "lines",
         "name": "K0L",
         "type": "scatter3d",
         "x": [
          0,
          7.953172797650757
         ],
         "y": [
          0,
          -17.014182143529784
         ],
         "z": [
          0,
          -88.92408650329016
         ]
        },
        {
         "line": {
          "color": "#2ca02c",
          "width": 3
         },
         "mode": "lines",
         "name": "K0L",
         "type": "scatter3d",
         "x": [
          0,
          1.6543598712244043
         ],
         "y": [
          0,
          -1.5622086649421292
         ],
         "z": [
          0,
          -9.534305697275943
         ]
        },
        {
         "line": {
          "color": "#2ca02c",
          "width": 3
         },
         "mode": "lines",
         "name": "K0L",
         "type": "scatter3d",
         "x": [
          0,
          1.270176475525671
         ],
         "y": [
          0,
          -0.9723177842706955
         ],
         "z": [
          0,
          -10.61806698421084
         ]
        },
        {
         "line": {
          "color": "#2ca02c",
          "width": 3
         },
         "mode": "lines",
         "name": "K0L",
         "type": "scatter3d",
         "x": [
          0,
          -0.10747782005604259
         ],
         "y": [
          0,
          -1.2149820597293066
         ],
         "z": [
          0,
          -8.051581200683803
         ]
        },
        {
         "line": {
          "color": "#2ca02c",
          "width": 3
         },
         "mode": "lines",
         "name": "K0L",
         "type": "scatter3d",
         "x": [
          0,
          0.28643832421255216
         ],
         "y": [
          0,
          -0.6926188728051554
         ],
         "z": [
          0,
          -1.367877023152941
         ]
        },
        {
         "line": {
          "color": "#2ca02c",
          "width": 3
         },
         "mode": "lines",
         "name": "K0L",
         "type": "scatter3d",
         "x": [
          0,
          0.08991110824157651
         ],
         "y": [
          0,
          -0.338102758063202
         ],
         "z": [
          0,
          -2.972412022431222
         ]
        }
       ],
       "layout": {
        "height": 500,
        "margin": {
         "b": 10,
         "l": 10,
         "r": 10,
         "t": 10
        },
        "paper_bgcolor": "white",
        "plot_bgcolor": "white",
        "scene": {
         "aspectmode": "cube",
         "aspectratio": {
          "x": 1,
          "y": 1,
          "z": 1
         },
         "xaxis": {
          "range": [
           -1,
           1
          ],
          "showgrid": false,
          "showline": false,
          "showticklabels": false,
          "title": {
           "text": ""
          }
         },
         "yaxis": {
          "range": [
           -1,
           1
          ],
          "showgrid": false,
          "showline": false,
          "showticklabels": false,
          "title": {
           "text": ""
          }
         },
         "zaxis": {
          "range": [
           -1,
           1
          ],
          "showgrid": false,
          "showline": false,
          "showticklabels": false,
          "title": {
           "text": ""
          }
         }
        },
        "showlegend": false,
        "template": {
         "data": {
          "bar": [
           {
            "error_x": {
             "color": "#2a3f5f"
            },
            "error_y": {
             "color": "#2a3f5f"
            },
            "marker": {
             "line": {
              "color": "#E5ECF6",
              "width": 0.5
             },
             "pattern": {
              "fillmode": "overlay",
              "size": 10,
              "solidity": 0.2
             }
            },
            "type": "bar"
           }
          ],
          "barpolar": [
           {
            "marker": {
             "line": {
              "color": "#E5ECF6",
              "width": 0.5
             },
             "pattern": {
              "fillmode": "overlay",
              "size": 10,
              "solidity": 0.2
             }
            },
            "type": "barpolar"
           }
          ],
          "carpet": [
           {
            "aaxis": {
             "endlinecolor": "#2a3f5f",
             "gridcolor": "white",
             "linecolor": "white",
             "minorgridcolor": "white",
             "startlinecolor": "#2a3f5f"
            },
            "baxis": {
             "endlinecolor": "#2a3f5f",
             "gridcolor": "white",
             "linecolor": "white",
             "minorgridcolor": "white",
             "startlinecolor": "#2a3f5f"
            },
            "type": "carpet"
           }
          ],
          "choropleth": [
           {
            "colorbar": {
             "outlinewidth": 0,
             "ticks": ""
            },
            "type": "choropleth"
           }
          ],
          "contour": [
           {
            "colorbar": {
             "outlinewidth": 0,
             "ticks": ""
            },
            "colorscale": [
             [
              0,
              "#0d0887"
             ],
             [
              0.1111111111111111,
              "#46039f"
             ],
             [
              0.2222222222222222,
              "#7201a8"
             ],
             [
              0.3333333333333333,
              "#9c179e"
             ],
             [
              0.4444444444444444,
              "#bd3786"
             ],
             [
              0.5555555555555556,
              "#d8576b"
             ],
             [
              0.6666666666666666,
              "#ed7953"
             ],
             [
              0.7777777777777778,
              "#fb9f3a"
             ],
             [
              0.8888888888888888,
              "#fdca26"
             ],
             [
              1,
              "#f0f921"
             ]
            ],
            "type": "contour"
           }
          ],
          "contourcarpet": [
           {
            "colorbar": {
             "outlinewidth": 0,
             "ticks": ""
            },
            "type": "contourcarpet"
           }
          ],
          "heatmap": [
           {
            "colorbar": {
             "outlinewidth": 0,
             "ticks": ""
            },
            "colorscale": [
             [
              0,
              "#0d0887"
             ],
             [
              0.1111111111111111,
              "#46039f"
             ],
             [
              0.2222222222222222,
              "#7201a8"
             ],
             [
              0.3333333333333333,
              "#9c179e"
             ],
             [
              0.4444444444444444,
              "#bd3786"
             ],
             [
              0.5555555555555556,
              "#d8576b"
             ],
             [
              0.6666666666666666,
              "#ed7953"
             ],
             [
              0.7777777777777778,
              "#fb9f3a"
             ],
             [
              0.8888888888888888,
              "#fdca26"
             ],
             [
              1,
              "#f0f921"
             ]
            ],
            "type": "heatmap"
           }
          ],
          "heatmapgl": [
           {
            "colorbar": {
             "outlinewidth": 0,
             "ticks": ""
            },
            "colorscale": [
             [
              0,
              "#0d0887"
             ],
             [
              0.1111111111111111,
              "#46039f"
             ],
             [
              0.2222222222222222,
              "#7201a8"
             ],
             [
              0.3333333333333333,
              "#9c179e"
             ],
             [
              0.4444444444444444,
              "#bd3786"
             ],
             [
              0.5555555555555556,
              "#d8576b"
             ],
             [
              0.6666666666666666,
              "#ed7953"
             ],
             [
              0.7777777777777778,
              "#fb9f3a"
             ],
             [
              0.8888888888888888,
              "#fdca26"
             ],
             [
              1,
              "#f0f921"
             ]
            ],
            "type": "heatmapgl"
           }
          ],
          "histogram": [
           {
            "marker": {
             "pattern": {
              "fillmode": "overlay",
              "size": 10,
              "solidity": 0.2
             }
            },
            "type": "histogram"
           }
          ],
          "histogram2d": [
           {
            "colorbar": {
             "outlinewidth": 0,
             "ticks": ""
            },
            "colorscale": [
             [
              0,
              "#0d0887"
             ],
             [
              0.1111111111111111,
              "#46039f"
             ],
             [
              0.2222222222222222,
              "#7201a8"
             ],
             [
              0.3333333333333333,
              "#9c179e"
             ],
             [
              0.4444444444444444,
              "#bd3786"
             ],
             [
              0.5555555555555556,
              "#d8576b"
             ],
             [
              0.6666666666666666,
              "#ed7953"
             ],
             [
              0.7777777777777778,
              "#fb9f3a"
             ],
             [
              0.8888888888888888,
              "#fdca26"
             ],
             [
              1,
              "#f0f921"
             ]
            ],
            "type": "histogram2d"
           }
          ],
          "histogram2dcontour": [
           {
            "colorbar": {
             "outlinewidth": 0,
             "ticks": ""
            },
            "colorscale": [
             [
              0,
              "#0d0887"
             ],
             [
              0.1111111111111111,
              "#46039f"
             ],
             [
              0.2222222222222222,
              "#7201a8"
             ],
             [
              0.3333333333333333,
              "#9c179e"
             ],
             [
              0.4444444444444444,
              "#bd3786"
             ],
             [
              0.5555555555555556,
              "#d8576b"
             ],
             [
              0.6666666666666666,
              "#ed7953"
             ],
             [
              0.7777777777777778,
              "#fb9f3a"
             ],
             [
              0.8888888888888888,
              "#fdca26"
             ],
             [
              1,
              "#f0f921"
             ]
            ],
            "type": "histogram2dcontour"
           }
          ],
          "mesh3d": [
           {
            "colorbar": {
             "outlinewidth": 0,
             "ticks": ""
            },
            "type": "mesh3d"
           }
          ],
          "parcoords": [
           {
            "line": {
             "colorbar": {
              "outlinewidth": 0,
              "ticks": ""
             }
            },
            "type": "parcoords"
           }
          ],
          "pie": [
           {
            "automargin": true,
            "type": "pie"
           }
          ],
          "scatter": [
           {
            "fillpattern": {
             "fillmode": "overlay",
             "size": 10,
             "solidity": 0.2
            },
            "type": "scatter"
           }
          ],
          "scatter3d": [
           {
            "line": {
             "colorbar": {
              "outlinewidth": 0,
              "ticks": ""
             }
            },
            "marker": {
             "colorbar": {
              "outlinewidth": 0,
              "ticks": ""
             }
            },
            "type": "scatter3d"
           }
          ],
          "scattercarpet": [
           {
            "marker": {
             "colorbar": {
              "outlinewidth": 0,
              "ticks": ""
             }
            },
            "type": "scattercarpet"
           }
          ],
          "scattergeo": [
           {
            "marker": {
             "colorbar": {
              "outlinewidth": 0,
              "ticks": ""
             }
            },
            "type": "scattergeo"
           }
          ],
          "scattergl": [
           {
            "marker": {
             "colorbar": {
              "outlinewidth": 0,
              "ticks": ""
             }
            },
            "type": "scattergl"
           }
          ],
          "scattermapbox": [
           {
            "marker": {
             "colorbar": {
              "outlinewidth": 0,
              "ticks": ""
             }
            },
            "type": "scattermapbox"
           }
          ],
          "scatterpolar": [
           {
            "marker": {
             "colorbar": {
              "outlinewidth": 0,
              "ticks": ""
             }
            },
            "type": "scatterpolar"
           }
          ],
          "scatterpolargl": [
           {
            "marker": {
             "colorbar": {
              "outlinewidth": 0,
              "ticks": ""
             }
            },
            "type": "scatterpolargl"
           }
          ],
          "scatterternary": [
           {
            "marker": {
             "colorbar": {
              "outlinewidth": 0,
              "ticks": ""
             }
            },
            "type": "scatterternary"
           }
          ],
          "surface": [
           {
            "colorbar": {
             "outlinewidth": 0,
             "ticks": ""
            },
            "colorscale": [
             [
              0,
              "#0d0887"
             ],
             [
              0.1111111111111111,
              "#46039f"
             ],
             [
              0.2222222222222222,
              "#7201a8"
             ],
             [
              0.3333333333333333,
              "#9c179e"
             ],
             [
              0.4444444444444444,
              "#bd3786"
             ],
             [
              0.5555555555555556,
              "#d8576b"
             ],
             [
              0.6666666666666666,
              "#ed7953"
             ],
             [
              0.7777777777777778,
              "#fb9f3a"
             ],
             [
              0.8888888888888888,
              "#fdca26"
             ],
             [
              1,
              "#f0f921"
             ]
            ],
            "type": "surface"
           }
          ],
          "table": [
           {
            "cells": {
             "fill": {
              "color": "#EBF0F8"
             },
             "line": {
              "color": "white"
             }
            },
            "header": {
             "fill": {
              "color": "#C8D4E3"
             },
             "line": {
              "color": "white"
             }
            },
            "type": "table"
           }
          ]
         },
         "layout": {
          "annotationdefaults": {
           "arrowcolor": "#2a3f5f",
           "arrowhead": 0,
           "arrowwidth": 1
          },
          "autotypenumbers": "strict",
          "coloraxis": {
           "colorbar": {
            "outlinewidth": 0,
            "ticks": ""
           }
          },
          "colorscale": {
           "diverging": [
            [
             0,
             "#8e0152"
            ],
            [
             0.1,
             "#c51b7d"
            ],
            [
             0.2,
             "#de77ae"
            ],
            [
             0.3,
             "#f1b6da"
            ],
            [
             0.4,
             "#fde0ef"
            ],
            [
             0.5,
             "#f7f7f7"
            ],
            [
             0.6,
             "#e6f5d0"
            ],
            [
             0.7,
             "#b8e186"
            ],
            [
             0.8,
             "#7fbc41"
            ],
            [
             0.9,
             "#4d9221"
            ],
            [
             1,
             "#276419"
            ]
           ],
           "sequential": [
            [
             0,
             "#0d0887"
            ],
            [
             0.1111111111111111,
             "#46039f"
            ],
            [
             0.2222222222222222,
             "#7201a8"
            ],
            [
             0.3333333333333333,
             "#9c179e"
            ],
            [
             0.4444444444444444,
             "#bd3786"
            ],
            [
             0.5555555555555556,
             "#d8576b"
            ],
            [
             0.6666666666666666,
             "#ed7953"
            ],
            [
             0.7777777777777778,
             "#fb9f3a"
            ],
            [
             0.8888888888888888,
             "#fdca26"
            ],
            [
             1,
             "#f0f921"
            ]
           ],
           "sequentialminus": [
            [
             0,
             "#0d0887"
            ],
            [
             0.1111111111111111,
             "#46039f"
            ],
            [
             0.2222222222222222,
             "#7201a8"
            ],
            [
             0.3333333333333333,
             "#9c179e"
            ],
            [
             0.4444444444444444,
             "#bd3786"
            ],
            [
             0.5555555555555556,
             "#d8576b"
            ],
            [
             0.6666666666666666,
             "#ed7953"
            ],
            [
             0.7777777777777778,
             "#fb9f3a"
            ],
            [
             0.8888888888888888,
             "#fdca26"
            ],
            [
             1,
             "#f0f921"
            ]
           ]
          },
          "colorway": [
           "#636efa",
           "#EF553B",
           "#00cc96",
           "#ab63fa",
           "#FFA15A",
           "#19d3f3",
           "#FF6692",
           "#B6E880",
           "#FF97FF",
           "#FECB52"
          ],
          "font": {
           "color": "#2a3f5f"
          },
          "geo": {
           "bgcolor": "white",
           "lakecolor": "white",
           "landcolor": "#E5ECF6",
           "showlakes": true,
           "showland": true,
           "subunitcolor": "white"
          },
          "hoverlabel": {
           "align": "left"
          },
          "hovermode": "closest",
          "mapbox": {
           "style": "light"
          },
          "paper_bgcolor": "white",
          "plot_bgcolor": "#E5ECF6",
          "polar": {
           "angularaxis": {
            "gridcolor": "white",
            "linecolor": "white",
            "ticks": ""
           },
           "bgcolor": "#E5ECF6",
           "radialaxis": {
            "gridcolor": "white",
            "linecolor": "white",
            "ticks": ""
           }
          },
          "scene": {
           "xaxis": {
            "backgroundcolor": "#E5ECF6",
            "gridcolor": "white",
            "gridwidth": 2,
            "linecolor": "white",
            "showbackground": true,
            "ticks": "",
            "zerolinecolor": "white"
           },
           "yaxis": {
            "backgroundcolor": "#E5ECF6",
            "gridcolor": "white",
            "gridwidth": 2,
            "linecolor": "white",
            "showbackground": true,
            "ticks": "",
            "zerolinecolor": "white"
           },
           "zaxis": {
            "backgroundcolor": "#E5ECF6",
            "gridcolor": "white",
            "gridwidth": 2,
            "linecolor": "white",
            "showbackground": true,
            "ticks": "",
            "zerolinecolor": "white"
           }
          },
          "shapedefaults": {
           "line": {
            "color": "#2a3f5f"
           }
          },
          "ternary": {
           "aaxis": {
            "gridcolor": "white",
            "linecolor": "white",
            "ticks": ""
           },
           "baxis": {
            "gridcolor": "white",
            "linecolor": "white",
            "ticks": ""
           },
           "bgcolor": "#E5ECF6",
           "caxis": {
            "gridcolor": "white",
            "linecolor": "white",
            "ticks": ""
           }
          },
          "title": {
           "x": 0.05
          },
          "xaxis": {
           "automargin": true,
           "gridcolor": "white",
           "linecolor": "white",
           "ticks": "",
           "title": {
            "standoff": 15
           },
           "zerolinecolor": "white",
           "zerolinewidth": 2
          },
          "yaxis": {
           "automargin": true,
           "gridcolor": "white",
           "linecolor": "white",
           "ticks": "",
           "title": {
            "standoff": 15
           },
           "zerolinecolor": "white",
           "zerolinewidth": 2
          }
         }
        },
        "width": 500
       }
      }
     },
     "metadata": {},
     "output_type": "display_data"
    }
   ],
   "source": [
    "# color code the particles by their type \n",
    "type_colors = plt.cm.tab10(np.linspace(0, 1, 10))\n",
    "\n",
    "\n",
    "\n",
    "type_colors = [rgba_to_hex(c) for c in type_colors]\n",
    "\n",
    "type_colors = {\n",
    "    \"pion\":     type_colors[0], # blue\n",
    "    \"photon\":   type_colors[1], # orange\n",
    "    \"K0L\":      type_colors[2], # green\n",
    "    \"up\":       type_colors[3], # red\n",
    "    \"down\":     type_colors[4], # purple\n",
    "    \"muon\":     type_colors[5], # brown\n",
    "    \"electron\": type_colors[6], # pink\n",
    "}\n",
    "\n",
    "data = []\n",
    "for p_type in particles['name'].unique():\n",
    "    mask = (particles['name'] == p_type)\n",
    "    data += [\n",
    "        go.Scatter3d(\n",
    "            x=[0,particlePx], \n",
    "            y=[0,particlePy], \n",
    "            z=[0,particlePz],\n",
    "            mode='lines',\n",
    "            line=dict(color=type_colors[p_type], width=3),\n",
    "            name=f\"{particles[mask]['name'].iloc[0]}\"\n",
    "        ) \n",
    "        for particlePx,particlePy,particlePz in zip(particles[mask]['px'], particles[mask]['py'], particles[mask]['pz'])\n",
    "    ]\n",
    "\n",
    "layout = go.Layout(\n",
    "    scene=dict(\n",
    "        xaxis_title = '',\n",
    "        yaxis_title = '',\n",
    "        zaxis_title = '',\n",
    "        xaxis=dict(showline=False, showticklabels=False, showgrid=False, range=(-1,1)),\n",
    "        yaxis=dict(showline=False, showticklabels=False, showgrid=False, range=(-1,1)),\n",
    "        zaxis=dict(showline=False, showticklabels=False, showgrid=False, range=(-1,1)),\n",
    "        aspectmode='cube',\n",
    "        aspectratio=dict(x=1, y=1, z=1),\n",
    "    ),\n",
    "    paper_bgcolor = 'white',\n",
    "    plot_bgcolor  = 'white',\n",
    "    width         = 500,\n",
    "    height        = 500,\n",
    "    showlegend    = False,\n",
    "    margin        = dict(l=10, r=10, b=10, t=10),\n",
    ")\n",
    "\n",
    "fig = go.Figure(data=data, layout=layout)\n",
    "fig.show()\n"
   ]
  },
  {
   "cell_type": "code",
   "execution_count": null,
   "metadata": {},
   "outputs": [],
   "source": []
  }
 ],
 "metadata": {
  "kernelspec": {
   "display_name": "base",
   "language": "python",
   "name": "python3"
  },
  "language_info": {
   "codemirror_mode": {
    "name": "ipython",
    "version": 3
   },
   "file_extension": ".py",
   "mimetype": "text/x-python",
   "name": "python",
   "nbconvert_exporter": "python",
   "pygments_lexer": "ipython3",
   "version": "3.9.12"
  },
  "orig_nbformat": 4,
  "vscode": {
   "interpreter": {
    "hash": "91e94dacc13bcc9ab92871d8572d4c8a018895bdfb2528d081f4892614b17d07"
   }
  }
 },
 "nbformat": 4,
 "nbformat_minor": 2
}
