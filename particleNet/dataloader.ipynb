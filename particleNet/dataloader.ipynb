{
 "cells": [
  {
   "cell_type": "code",
   "execution_count": 2,
   "metadata": {},
   "outputs": [],
   "source": [
    "import numpy as np\n",
    "import pandas as pd\n",
    "import matplotlib.pyplot as plt\n",
    "import os \n",
    "\n",
    "import torch\n",
    "from torch.utils.data import Dataset,DataLoader\n",
    "from torch import nn\n",
    "\n",
    "from torchvision import transforms\n",
    "\n",
    "from tqdm import tqdm"
   ]
  },
  {
   "cell_type": "code",
   "execution_count": 3,
   "metadata": {},
   "outputs": [],
   "source": [
    "particle_df_path = '../data/particle_df.csv'\n",
    "particle_preproc_df_path = '../data/particle_df_preprocessed.csv'"
   ]
  },
  {
   "cell_type": "code",
   "execution_count": 4,
   "metadata": {},
   "outputs": [
    {
     "data": {
      "text/html": [
       "<div>\n",
       "<style scoped>\n",
       "    .dataframe tbody tr th:only-of-type {\n",
       "        vertical-align: middle;\n",
       "    }\n",
       "\n",
       "    .dataframe tbody tr th {\n",
       "        vertical-align: top;\n",
       "    }\n",
       "\n",
       "    .dataframe thead th {\n",
       "        text-align: right;\n",
       "    }\n",
       "</style>\n",
       "<table border=\"1\" class=\"dataframe\">\n",
       "  <thead>\n",
       "    <tr style=\"text-align: right;\">\n",
       "      <th></th>\n",
       "      <th>eventID</th>\n",
       "      <th>jetID</th>\n",
       "      <th>particleType</th>\n",
       "      <th>particleVx</th>\n",
       "      <th>particleVy</th>\n",
       "      <th>particleVz</th>\n",
       "      <th>particlePx</th>\n",
       "      <th>particlePy</th>\n",
       "      <th>particlePz</th>\n",
       "      <th>particleE</th>\n",
       "      <th>particlePolarPx</th>\n",
       "      <th>particlePolarPy</th>\n",
       "      <th>particlePolarPz</th>\n",
       "      <th>particlePolarE</th>\n",
       "      <th>particlePhi</th>\n",
       "      <th>particleTheta</th>\n",
       "    </tr>\n",
       "  </thead>\n",
       "  <tbody>\n",
       "    <tr>\n",
       "      <th>0</th>\n",
       "      <td>0</td>\n",
       "      <td>0</td>\n",
       "      <td>0</td>\n",
       "      <td>0.000000</td>\n",
       "      <td>0.000000</td>\n",
       "      <td>0.000000</td>\n",
       "      <td>-115.595071</td>\n",
       "      <td>5.513218</td>\n",
       "      <td>107.093643</td>\n",
       "      <td>157.675996</td>\n",
       "      <td>115.726471</td>\n",
       "      <td>0.827630</td>\n",
       "      <td>3.093935</td>\n",
       "      <td>2.347607e-01</td>\n",
       "      <td>3.093935</td>\n",
       "      <td>0.824122</td>\n",
       "    </tr>\n",
       "    <tr>\n",
       "      <th>1</th>\n",
       "      <td>0</td>\n",
       "      <td>0</td>\n",
       "      <td>0</td>\n",
       "      <td>0.000000</td>\n",
       "      <td>0.000000</td>\n",
       "      <td>0.000000</td>\n",
       "      <td>-83.072377</td>\n",
       "      <td>4.831796</td>\n",
       "      <td>75.798599</td>\n",
       "      <td>112.561324</td>\n",
       "      <td>83.212776</td>\n",
       "      <td>0.816948</td>\n",
       "      <td>3.083494</td>\n",
       "      <td>5.078805e-01</td>\n",
       "      <td>3.083494</td>\n",
       "      <td>0.831991</td>\n",
       "    </tr>\n",
       "    <tr>\n",
       "      <th>2</th>\n",
       "      <td>0</td>\n",
       "      <td>0</td>\n",
       "      <td>-211</td>\n",
       "      <td>-0.981025</td>\n",
       "      <td>1.422285</td>\n",
       "      <td>-33.456345</td>\n",
       "      <td>-11.168506</td>\n",
       "      <td>-8.774579</td>\n",
       "      <td>9.043395</td>\n",
       "      <td>16.838385</td>\n",
       "      <td>14.203125</td>\n",
       "      <td>0.600055</td>\n",
       "      <td>-2.475661</td>\n",
       "      <td>1.395264e-01</td>\n",
       "      <td>-2.475661</td>\n",
       "      <td>1.003814</td>\n",
       "    </tr>\n",
       "    <tr>\n",
       "      <th>3</th>\n",
       "      <td>0</td>\n",
       "      <td>0</td>\n",
       "      <td>130</td>\n",
       "      <td>0.073932</td>\n",
       "      <td>0.089866</td>\n",
       "      <td>-2.399344</td>\n",
       "      <td>-8.233158</td>\n",
       "      <td>-1.087632</td>\n",
       "      <td>6.647210</td>\n",
       "      <td>10.637351</td>\n",
       "      <td>8.304688</td>\n",
       "      <td>0.732994</td>\n",
       "      <td>-3.010249</td>\n",
       "      <td>-1.192093e-07</td>\n",
       "      <td>-3.010249</td>\n",
       "      <td>0.895801</td>\n",
       "    </tr>\n",
       "    <tr>\n",
       "      <th>4</th>\n",
       "      <td>0</td>\n",
       "      <td>0</td>\n",
       "      <td>-211</td>\n",
       "      <td>0.073905</td>\n",
       "      <td>0.089409</td>\n",
       "      <td>-2.399101</td>\n",
       "      <td>-8.048296</td>\n",
       "      <td>0.478376</td>\n",
       "      <td>6.097900</td>\n",
       "      <td>10.109785</td>\n",
       "      <td>8.062500</td>\n",
       "      <td>0.698202</td>\n",
       "      <td>3.082224</td>\n",
       "      <td>1.395264e-01</td>\n",
       "      <td>3.082224</td>\n",
       "      <td>0.923257</td>\n",
       "    </tr>\n",
       "  </tbody>\n",
       "</table>\n",
       "</div>"
      ],
      "text/plain": [
       "   eventID  jetID  particleType  particleVx  particleVy  particleVz  \\\n",
       "0        0      0             0    0.000000    0.000000    0.000000   \n",
       "1        0      0             0    0.000000    0.000000    0.000000   \n",
       "2        0      0          -211   -0.981025    1.422285  -33.456345   \n",
       "3        0      0           130    0.073932    0.089866   -2.399344   \n",
       "4        0      0          -211    0.073905    0.089409   -2.399101   \n",
       "\n",
       "   particlePx  particlePy  particlePz   particleE  particlePolarPx  \\\n",
       "0 -115.595071    5.513218  107.093643  157.675996       115.726471   \n",
       "1  -83.072377    4.831796   75.798599  112.561324        83.212776   \n",
       "2  -11.168506   -8.774579    9.043395   16.838385        14.203125   \n",
       "3   -8.233158   -1.087632    6.647210   10.637351         8.304688   \n",
       "4   -8.048296    0.478376    6.097900   10.109785         8.062500   \n",
       "\n",
       "   particlePolarPy  particlePolarPz  particlePolarE  particlePhi  \\\n",
       "0         0.827630         3.093935    2.347607e-01     3.093935   \n",
       "1         0.816948         3.083494    5.078805e-01     3.083494   \n",
       "2         0.600055        -2.475661    1.395264e-01    -2.475661   \n",
       "3         0.732994        -3.010249   -1.192093e-07    -3.010249   \n",
       "4         0.698202         3.082224    1.395264e-01     3.082224   \n",
       "\n",
       "   particleTheta  \n",
       "0       0.824122  \n",
       "1       0.831991  \n",
       "2       1.003814  \n",
       "3       0.895801  \n",
       "4       0.923257  "
      ]
     },
     "execution_count": 4,
     "metadata": {},
     "output_type": "execute_result"
    }
   ],
   "source": [
    "par_pre_df = pd.read_csv(particle_preproc_df_path)\n",
    "par_df = pd.read_csv(particle_df_path)\n",
    "par_df.head()"
   ]
  },
  {
   "cell_type": "code",
   "execution_count": 5,
   "metadata": {},
   "outputs": [],
   "source": [
    "class ParticleDataset(Dataset):\n",
    "    # The ParticleDataset class inherits the Dataset class and implements the __init__, __len__, and __getitem__ methods\n",
    "\n",
    "    def __init__(self, path, transform=None):\n",
    "        # Initializing the ParticleDataset object.\n",
    "        # \"path\" is the path to the csv file containing the particle data.\n",
    "        # \"transform\" is an optional argument that specifies the transformations to be applied to the data.\n",
    "\n",
    "        # Read the csv file into a Pandas DataFrame.\n",
    "        self.x = pd.read_csv(path)\n",
    "\n",
    "        # Put the coordinates eta and phi as the first two features\n",
    "        self.x = self.x.reindex(\n",
    "            columns=[\"particlePolarPy\", \"particlePhi\"]\n",
    "            + [\n",
    "                col\n",
    "                for col in self.x.columns\n",
    "                if col not in [\"particlePolarPy\", \"particlePhi\"]\n",
    "            ]\n",
    "        )\n",
    "\n",
    "        # Store the \"transform\" argument.\n",
    "        self.transform = transform\n",
    "\n",
    "    def __len__(self):\n",
    "        \"\"\"\n",
    "        Returns the number of particles in the dataset.\n",
    "        \"\"\"\n",
    "        # Return the number of rows in the DataFrame (i.e., the number of particles).\n",
    "        return self.x.shape[0]\n",
    "\n",
    "    def __getitem__(self, idx):\n",
    "        \"\"\"\n",
    "        Returns the particles with jetID = idx.\n",
    "        \"\"\"\n",
    "        # Get the rows in the DataFrame that have a \"jetID\" column equal to \"idx\".\n",
    "        x = self.x[self.x.jetID==idx].to_numpy()\n",
    "        \n",
    "        # If \"transform\" was specified, apply it to the data.\n",
    "        if self.transform:\n",
    "            x = self.transform(x)\n",
    "        \n",
    "        # Return the transformed data.\n",
    "        return x"
   ]
  },
  {
   "cell_type": "code",
   "execution_count": 6,
   "metadata": {},
   "outputs": [
    {
     "data": {
      "text/plain": [
       "torch.Size([1, 23, 16])"
      ]
     },
     "execution_count": 6,
     "metadata": {},
     "output_type": "execute_result"
    }
   ],
   "source": [
    "# Create a Compose object that applies the \"ToTensor\" transformation.\n",
    "train_transform = transforms.Compose([\n",
    "    transforms.ToTensor(),\n",
    "])\n",
    "\n",
    "\n",
    "# Create a ParticleDataset object using the csv file located at \"particle_df_path\" and the \"train_transform\" transformations.\n",
    "train_data = ParticleDataset(particle_df_path, train_transform)\n",
    "\n",
    "# Access the first element in the dataset to get its shape.\n",
    "train_data[0].shape"
   ]
  },
  {
   "attachments": {},
   "cell_type": "markdown",
   "metadata": {},
   "source": [
    "## Testing the Dataset on the KNN function"
   ]
  },
  {
   "cell_type": "code",
   "execution_count": 20,
   "metadata": {},
   "outputs": [
    {
     "data": {
      "text/plain": [
       "[tensor([17, 11, 14,  8,  3, 15, 22, 16, 18,  2]),\n",
       " tensor([17, 11, 14,  8,  3, 15, 22, 16, 18,  2]),\n",
       " tensor([ 5,  6,  0,  1,  9,  4, 13, 21, 19, 20]),\n",
       " tensor([ 5,  6,  0, 13,  1,  4,  9, 21, 19, 20]),\n",
       " tensor([17, 11, 14,  3,  8, 15, 22, 16, 18,  2]),\n",
       " tensor([17, 11, 14,  8,  3, 15, 22, 16, 18,  2])]"
      ]
     },
     "execution_count": 20,
     "metadata": {},
     "output_type": "execute_result"
    }
   ],
   "source": [
    "x = train_data[0]\n",
    "coord = x[:,:,:2]\n",
    "knn = []\n",
    "for i in range(x.shape[1]): #itero su numero di particelle\n",
    "    deltaEta = x[:,i,1] - x[:,:,1]\n",
    "    deltaPhi = x[:,i,0] - x[:,:,0]\n",
    "    distance = torch.sqrt(deltaEta**2 + deltaPhi**2)\n",
    "    _, index = torch.sort(distance, dim=1, descending=True)\n",
    "    knn_index = index[0][:10]\n",
    "    knn.append(knn_index) # appendo li indici dei k nn della particella i-esima\n",
    "    if i == 5:\n",
    "        break\n",
    "\n",
    "knn"
   ]
  },
  {
   "cell_type": "code",
   "execution_count": 36,
   "metadata": {},
   "outputs": [
    {
     "data": {
      "text/plain": [
       "tensor([[16, 12, 11, 10,  3,  9, 13,  4, 15, 17],\n",
       "        [16, 12, 11, 10,  3,  9, 13,  4, 15, 17],\n",
       "        [16, 10, 12, 11, 13,  9,  3, 15, 17,  4],\n",
       "        [16, 10, 13,  8, 17, 18,  9, 14, 15, 19],\n",
       "        [16, 10, 13,  9, 15, 17, 19,  8, 14, 18],\n",
       "        [16, 11, 12, 10, 13,  9,  3,  4, 15, 18],\n",
       "        [16,  3, 12,  9, 11, 15, 13, 10,  4, 17],\n",
       "        [16, 10, 13, 18,  8, 11,  9, 12, 17, 15],\n",
       "        [16,  3, 12, 11,  4,  9, 15, 19,  7, 17],\n",
       "        [16, 11, 12,  4, 18,  3,  8,  6,  2,  7],\n",
       "        [16, 12, 11,  3,  4,  7, 18,  2,  5,  0],\n",
       "        [16, 13, 10,  9, 15, 17, 19,  8, 14,  5],\n",
       "        [16, 10, 13,  9, 17, 15, 19,  8, 14, 18],\n",
       "        [16, 12, 11,  4,  3, 18,  7,  2,  6,  5],\n",
       "        [16, 12,  3, 11,  4,  9, 15,  7, 19, 13],\n",
       "        [16, 11, 12,  4, 18,  3,  8,  6, 10,  2],\n",
       "        [18,  8, 10, 14, 11,  6, 13,  1,  0,  2],\n",
       "        [16, 11, 12,  4,  3, 18,  7,  8,  6,  2],\n",
       "        [16,  9, 15,  3, 19, 13, 17, 12, 10,  7],\n",
       "        [16, 11, 12,  4, 18,  3,  8, 10,  6, 14]])"
      ]
     },
     "execution_count": 36,
     "metadata": {},
     "output_type": "execute_result"
    }
   ],
   "source": [
    "def kNN(x, k):\n",
    "    ''' input: the jet x and the number of nearest neighbour k\n",
    "        output: tensor with the nn indeces for each particle, so the output tensor shape will be:  '''\n",
    "    coords = x[:, :, :2]\n",
    "    knn_list = []\n",
    "    for i in range(coords.shape[1]):\n",
    "        delta_phi = coords[:, i, 0] - coords[:, :, 0]\n",
    "        delta_eta = coords[:, i, 1] - coords[:, :, 1]\n",
    "        distances = torch.sqrt(delta_phi**2 + delta_eta**2)\n",
    "        _, indeces = distances.sort(dim=1, descending=True)\n",
    "        indeces = indeces[0][:k] # keep only the first k nearest neighbourn\n",
    "        knn_list.append(indeces)\n",
    "\n",
    "    # print(knn_list,\"\\n\")\n",
    "    knn = torch.stack(knn_list, dim=1)\n",
    "    del knn_list\n",
    "    \n",
    "    return knn.t()\n",
    "\n",
    "x = train_data[3]\n",
    "# print(x.shape)\n",
    "kNN(x,10)"
   ]
  },
  {
   "cell_type": "code",
   "execution_count": null,
   "metadata": {},
   "outputs": [],
   "source": [
    "def custom_collate(batch):\n",
    "    \"\"\"\n",
    "    A custom collate function that can handle different shape tensors.\n",
    "    The default collate function provided by PyTorch's DataLoader assumes that all tensors in a batch have the same shape. \n",
    "    However, in our case, each \"datum\" is a set of particles that compose a jet and the number of particles composing a jet is not fixed. \n",
    "    Therefore, each tensor representing a jet has a different shape.\n",
    "\n",
    "    To handle this scenario, we need to override the collate function to be able to stack the tensors into a batch. \n",
    "    This function first determines the maximum number of particles among all jets in the batch. \n",
    "    Then, it pads all tensors with zeros to make sure they have the same shape. \n",
    "    Finally, it stacks the tensors along the batch dimension to return the padded data and original lengths.\n",
    "\n",
    "    \"\"\"\n",
    "    \n",
    "    # Get the max number of particles among all the jets in the batch\n",
    "    n_part_max = max(x.shape[1] for x in batch)\n",
    "\n",
    "    # Pad all the tensors with zeros so they have the same shape\n",
    "    data = []\n",
    "    lengths = []\n",
    "    for x in batch:\n",
    "        n_part = x.shape[1]\n",
    "        data.append(torch.cat([x, torch.zeros(1, n_part_max - n_part, 16)], dim=1))\n",
    "        lengths.append(n_part)\n",
    "\n",
    "    # Stack the tensors along the batch dimension\n",
    "    data = torch.stack(data)\n",
    "\n",
    "    # Return the padded data, original lengths, and target labels\n",
    "    return data, lengths"
   ]
  },
  {
   "cell_type": "code",
   "execution_count": null,
   "metadata": {},
   "outputs": [],
   "source": [
    "batch_size       = 10\n",
    "train_dataloader = DataLoader(train_data, batch_size=batch_size, collate_fn=custom_collate)"
   ]
  },
  {
   "cell_type": "code",
   "execution_count": null,
   "metadata": {},
   "outputs": [
    {
     "name": "stdout",
     "output_type": "stream",
     "text": [
      "torch.Size([10, 1, 62, 16]) [23, 41, 26, 20, 62, 35, 9, 4, 46, 48]\n",
      "torch.Size([10, 1, 66, 16]) [41, 22, 2, 40, 21, 26, 25, 66, 28, 2]\n"
     ]
    }
   ],
   "source": [
    "# loop over the dataloader to get the data in batches\n",
    "i=0\n",
    "for batch, original_length in train_dataloader:\n",
    "    print(batch.shape, original_length)\n",
    "    i+=1\n",
    "    if i==2:\n",
    "        break"
   ]
  },
  {
   "cell_type": "markdown",
   "metadata": {},
   "source": [
    "In the forward pass of your model, you can use the original lengths to process the data correctly, for example, by masking out the padded zeros."
   ]
  },
  {
   "cell_type": "code",
   "execution_count": null,
   "metadata": {},
   "outputs": [],
   "source": []
  },
  {
   "cell_type": "code",
   "execution_count": null,
   "metadata": {},
   "outputs": [],
   "source": []
  },
  {
   "attachments": {},
   "cell_type": "markdown",
   "metadata": {},
   "source": [
    "testing nested tensors"
   ]
  },
  {
   "cell_type": "code",
   "execution_count": null,
   "metadata": {},
   "outputs": [],
   "source": [
    "tensors = []\n",
    "\n",
    "for i, original_shape in enumerate(original_length):\n",
    "    # Slice the tensor along the third dimension to get the desired shape\n",
    "    a = batch[i, :, :original_shape, :]\n",
    "    tensors.append(a)"
   ]
  },
  {
   "cell_type": "code",
   "execution_count": null,
   "metadata": {},
   "outputs": [
    {
     "name": "stdout",
     "output_type": "stream",
     "text": [
      "torch.Size([1, 41, 16])\n",
      "torch.Size([1, 22, 16])\n",
      "torch.Size([1, 2, 16])\n",
      "torch.Size([1, 40, 16])\n",
      "torch.Size([1, 21, 16])\n",
      "torch.Size([1, 26, 16])\n",
      "torch.Size([1, 25, 16])\n",
      "torch.Size([1, 66, 16])\n",
      "torch.Size([1, 28, 16])\n",
      "torch.Size([1, 2, 16])\n"
     ]
    }
   ],
   "source": [
    "for t in tensors:\n",
    "    print(t.shape)"
   ]
  },
  {
   "cell_type": "code",
   "execution_count": null,
   "metadata": {},
   "outputs": [
    {
     "ename": "AttributeError",
     "evalue": "module 'torch' has no attribute 'nested'",
     "output_type": "error",
     "traceback": [
      "\u001b[1;31m---------------------------------------------------------------------------\u001b[0m",
      "\u001b[1;31mAttributeError\u001b[0m                            Traceback (most recent call last)",
      "\u001b[1;32m<ipython-input-20-8b10c35c7eb4>\u001b[0m in \u001b[0;36m<module>\u001b[1;34m\u001b[0m\n\u001b[1;32m----> 1\u001b[1;33m \u001b[0mnested\u001b[0m \u001b[1;33m=\u001b[0m \u001b[0mtorch\u001b[0m\u001b[1;33m.\u001b[0m\u001b[0mnested\u001b[0m\u001b[1;33m.\u001b[0m\u001b[0mnested_tensor\u001b[0m\u001b[1;33m(\u001b[0m\u001b[0mtensors\u001b[0m\u001b[1;33m)\u001b[0m\u001b[1;33m\u001b[0m\u001b[1;33m\u001b[0m\u001b[0m\n\u001b[0m",
      "\u001b[1;31mAttributeError\u001b[0m: module 'torch' has no attribute 'nested'"
     ]
    }
   ],
   "source": [
    "nested = torch.nested.nested_tensor(tensors)"
   ]
  },
  {
   "cell_type": "code",
   "execution_count": null,
   "metadata": {},
   "outputs": [
    {
     "data": {
      "text/plain": [
       "torch.Size([1, 2, 16])"
      ]
     },
     "execution_count": 19,
     "metadata": {},
     "output_type": "execute_result"
    }
   ],
   "source": [
    "nested[2].shape"
   ]
  },
  {
   "cell_type": "code",
   "execution_count": null,
   "metadata": {},
   "outputs": [],
   "source": []
  }
 ],
 "metadata": {
  "kernelspec": {
   "display_name": "torch-nightly",
   "language": "python",
   "name": "python3"
  },
  "language_info": {
   "codemirror_mode": {
    "name": "ipython",
    "version": 3
   },
   "file_extension": ".py",
   "mimetype": "text/x-python",
   "name": "python",
   "nbconvert_exporter": "python",
   "pygments_lexer": "ipython3",
   "version": "3.9.15 | packaged by conda-forge | (main, Nov 22 2022, 08:48:25) \n[Clang 14.0.6 ]"
  },
  "orig_nbformat": 4,
  "vscode": {
   "interpreter": {
    "hash": "d2a20a54d288d320a0b57ccd6e9f59dea258aaf51bc25b83b4f2be4816e8e4f5"
   }
  }
 },
 "nbformat": 4,
 "nbformat_minor": 2
}
