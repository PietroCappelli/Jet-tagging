{
 "cells": [
  {
   "attachments": {},
   "cell_type": "markdown",
   "metadata": {},
   "source": [
    "# Develop EdgeConvBlock as a DNN layer in PyTorch"
   ]
  },
  {
   "cell_type": "code",
   "execution_count": 2,
   "metadata": {},
   "outputs": [],
   "source": [
    "import matplotlib.pyplot as plt # plotting library\n",
    "import numpy as np # this module is useful to work with numerical arrays\n",
    "import pandas as pd # this module is useful to work with tabular data\n",
    "import random # this module will be used to select random samples from a collection\n",
    "import os # this module will be used just to create directories in the local filesystem\n",
    "from tqdm.notebook import tqdm # this module is useful to plot progress bars\n",
    "\n",
    "import torch\n",
    "import torchvision\n",
    "from torchvision import transforms\n",
    "from torch.utils.data import DataLoader\n",
    "from torch import nn"
   ]
  },
  {
   "attachments": {},
   "cell_type": "markdown",
   "metadata": {},
   "source": [
    "## kNN function\n",
    "this function provides for each jet a matrix $n\\times k$, where $n$ is the number of particles in the jet and $k$ is the number of nearest neighbours we want to consider."
   ]
  },
  {
   "cell_type": "code",
   "execution_count": null,
   "metadata": {},
   "outputs": [],
   "source": []
  },
  {
   "attachments": {},
   "cell_type": "markdown",
   "metadata": {},
   "source": [
    "## EdgeConv Block\n",
    "Define the Edge Convolution operation as a `torch.nn.Module`"
   ]
  },
  {
   "cell_type": "code",
   "execution_count": null,
   "metadata": {},
   "outputs": [],
   "source": [
    "########## Edge Convolution Block ###########\n",
    "# The root block of our DNN.\n",
    "# Initialized by:\n",
    "#   - d     the number of features\n",
    "#   - k     number of nearest neighbours to consider in the concolution\n",
    "#   - C     a list-like or an int with the number of neurons of the three linear layers\n",
    "#   - aggr  the aggregation function, must be symmetric\n",
    "\n",
    "class EdgeConv(nn.Module):\n",
    "    \n",
    "    def __init__(self, d, k, C, aggr=None):\n",
    "        super().__init__()\n",
    "        \n",
    "        if type(C) == int:\n",
    "            self.C = [C]*3\n",
    "        else:\n",
    "            self.C = C\n",
    "        \n",
    "        self.k = k\n",
    "\n",
    "        if aggr is None:\n",
    "            self.aggr = None\n",
    "        else:\n",
    "            self.aggr = aggr\n",
    "\n",
    "\n",
    "        ### Shortcut path\n",
    "        self.shortcut = nn.Sequential(\n",
    "            nn.Conv1d(d, C[-1], 1, 1),\n",
    "            nn.BatchNorm1d(C[-1])\n",
    "        )\n",
    "\n",
    "        ### Linear section, approximation of a MLP\n",
    "        self.mlp = nn.Sequential(\n",
    "            nn.Linear(d, C[0]),\n",
    "            nn.BatchNorm1d(C[0]),\n",
    "            nn.ReLU(),\n",
    "            nn.Linear(C[0], C[1]),\n",
    "            nn.BatchNorm1d(C[1]),\n",
    "            nn.ReLU(),\n",
    "            nn.Linear(C[1], C[2]),\n",
    "            nn.BatchNorm1d(C[2]),\n",
    "            nn.ReLU()\n",
    "        )\n",
    "\n",
    "    def kNN(x, k):\n",
    "\n",
    "        coords = x[:, :, :2]\n",
    "        knn_list = []\n",
    "        for i in range(coords.shape[1]):\n",
    "            delta_phi = coords[:, i, 0] - coords[:, :, 0]\n",
    "            delta_eta = coords[:, i, 1] - coords[:, :, 1]\n",
    "            distances = torch.sqrt(delta_phi**2 + delta_eta**2)\n",
    "            _, indeces = distances.sort(dim=1, descending=True)\n",
    "            indeces = indeces[0][:k] # keep onli the first k nearest neighbourn\n",
    "            knn_list.append(indeces)\n",
    "\n",
    "        knn = torch.stack(knn_list, dim=1)\n",
    "        del knn_list\n",
    "        return knn\n",
    "        \n",
    "    def forward(self, x):\n",
    "        # x.size = [B, n, d]\n",
    "        knn = self.kNN(x)\n",
    "        return x"
   ]
  },
  {
   "cell_type": "markdown",
   "metadata": {},
   "source": []
  }
 ],
 "metadata": {
  "kernelspec": {
   "display_name": "Python 3",
   "language": "python",
   "name": "python3"
  },
  "language_info": {
   "codemirror_mode": {
    "name": "ipython",
    "version": 3
   },
   "file_extension": ".py",
   "mimetype": "text/x-python",
   "name": "python",
   "nbconvert_exporter": "python",
   "pygments_lexer": "ipython3",
   "version": "3.9.13 (tags/v3.9.13:6de2ca5, May 17 2022, 16:36:42) [MSC v.1929 64 bit (AMD64)]"
  },
  "orig_nbformat": 4,
  "vscode": {
   "interpreter": {
    "hash": "60560e0d6226cb5287d81368c04acd3a7e9c5751a6dd0763b56dc9cf4b259ada"
   }
  }
 },
 "nbformat": 4,
 "nbformat_minor": 2
}
