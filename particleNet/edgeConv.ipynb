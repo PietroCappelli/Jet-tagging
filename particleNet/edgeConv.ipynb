{
 "cells": [
  {
   "attachments": {},
   "cell_type": "markdown",
   "metadata": {},
   "source": [
    "# Develop EdgeConvBlock as a DNN layer in PyTorch"
   ]
  },
  {
   "cell_type": "code",
   "execution_count": 2,
   "metadata": {},
   "outputs": [],
   "source": [
    "import matplotlib.pyplot as plt # plotting library\n",
    "import numpy as np # this module is useful to work with numerical arrays\n",
    "import pandas as pd # this module is useful to work with tabular data\n",
    "import random # this module will be used to select random samples from a collection\n",
    "import os # this module will be used just to create directories in the local filesystem\n",
    "from tqdm.notebook import tqdm # this module is useful to plot progress bars\n",
    "\n",
    "import torch\n",
    "import torchvision\n",
    "from torchvision import transforms\n",
    "from torch.utils.data import DataLoader\n",
    "from torch import nn"
   ]
  },
  {
   "attachments": {},
   "cell_type": "markdown",
   "metadata": {},
   "source": [
    "## kNN function\n",
    "this function modifies the input tensor adding a dimension of size $k$ in order to store the informations about nearest neighbours, where $k$ is the number of nearest neighbours we want to consider."
   ]
  },
  {
   "cell_type": "code",
   "execution_count": 57,
   "metadata": {},
   "outputs": [],
   "source": [
    "def kNN_opt(k, x):\n",
    "    \n",
    "    x_knn = x.unsqueeze(1).expand(-1, x.shape[1], -1, -1)\n",
    "    delta_phieta = x_knn[:, :, :, :2] - x_knn[:, :, :, :2].transpose(1, 2)\n",
    "    _, indeces = torch.sqrt(torch.sum(delta_phieta**2, 3)**0.5).sort(dim=2, stable=True)\n",
    "    knn = indeces[:,:,:k]\n",
    "    x_knn = torch.gather(x_knn, 2, knn.unsqueeze(-1).expand(-1, -1, -1, x_knn.shape[-1]))\n",
    "    del delta_phieta, indeces, knn, _\n",
    "    return x_knn"
   ]
  },
  {
   "cell_type": "code",
   "execution_count": 58,
   "metadata": {},
   "outputs": [
    {
     "name": "stdout",
     "output_type": "stream",
     "text": [
      "All test cases pass\n"
     ]
    }
   ],
   "source": [
    "def test_kNN():\n",
    "    x = torch.tensor([[[1.0, 2.0], [3.0, 4.0], [5.0, 6.0]],\n",
    "                      [[7.0, 8.0], [9.0, 10.0], [11.0, 12.0]]])\n",
    "    k = 2\n",
    "\n",
    "    knn = kNN_opt(k, x)\n",
    "    expected = torch.tensor([[[[1.0, 2.0], [3.0, 4.0]],   [[3.0, 4.0], [1.0, 2.0]],  [[5.0, 6.0], [3.0, 4.0]]],\n",
    "                             [[[7.0, 8.0], [9.0, 10.0]],  [[9.0, 10.0], [7.0, 8.0]], [[11.0, 12.0], [9.0, 10.0]]]])\n",
    "    assert torch.allclose(knn, expected), f'Expected {expected}, but got {knn}'\n",
    "\n",
    "\n",
    "test_kNN()\n",
    "print('All test cases pass')"
   ]
  },
  {
   "attachments": {},
   "cell_type": "markdown",
   "metadata": {},
   "source": [
    "## EdgeConv Block\n",
    "Define the Edge Convolution operation as a `torch.nn.Module`"
   ]
  },
  {
   "cell_type": "code",
   "execution_count": null,
   "metadata": {},
   "outputs": [],
   "source": [
    "########## Edge Convolution Block ###########\n",
    "# The root block of our DNN.\n",
    "# Initialized by:\n",
    "#   - d     the number of features\n",
    "#   - k     number of nearest neighbours to consider in the concolution\n",
    "#   - C     a list-like or an int with the number of neurons of the three linear layers\n",
    "#   - aggr  the aggregation function, must be symmetric\n",
    "\n",
    "class EdgeConv(nn.Module):\n",
    "    \n",
    "    def __init__(self, d, k, C, aggr=None):\n",
    "        super().__init__()\n",
    "        \n",
    "        if type(C) == int:\n",
    "            self.C = [C]*3\n",
    "        else:\n",
    "            self.C = C\n",
    "        \n",
    "        self.k = k\n",
    "\n",
    "        if aggr is None:\n",
    "            self.aggr = None\n",
    "        else:\n",
    "            self.aggr = aggr\n",
    "\n",
    "        self.act = nn.ReLU()\n",
    "\n",
    "\n",
    "        ### Shortcut path\n",
    "        self.shortcut = nn.Sequential(\n",
    "            nn.Conv1d(d, C[-1], 1, 1),\n",
    "            nn.BatchNorm1d(C[-1])\n",
    "        )\n",
    "\n",
    "        ### Linear section, approximation of a MLP\n",
    "        self.mlp = nn.Sequential(\n",
    "            nn.Linear(d, C[0]),\n",
    "            nn.BatchNorm1d(C[0]),\n",
    "            nn.ReLU(),\n",
    "            nn.Linear(C[0], C[1]),\n",
    "            nn.BatchNorm1d(C[1]),\n",
    "            nn.ReLU(),\n",
    "            nn.Linear(C[1], C[2]),\n",
    "            nn.BatchNorm1d(C[2]),\n",
    "            nn.ReLU()\n",
    "        )\n",
    "\n",
    "\n",
    "    def kNN(self, x):\n",
    "\n",
    "        # expand the input tensor s.t. x_knn.shape = [B, n, n, d]\n",
    "        x_knn = x.unsqueeze(1).expand(-1, x.shape[1], -1, -1)\n",
    "\n",
    "        # calculate both delta_phi and delta_eta\n",
    "        delta_phieta = x_knn[:, :, :, :2] - x_knn[:, :, :, :2].transpose(1, 2)\n",
    "\n",
    "        # calculate distances and sort them in ascending order, keep only the indeces\n",
    "        _, indeces = torch.sqrt(torch.sum(delta_phieta**2, 3)**0.5).sort(dim=2, stable=True)\n",
    "\n",
    "        # keep the indeces of k nearest neighbours and use them to sort and cut the initial tensor\n",
    "        knn = indeces[:,:,:self.k]\n",
    "        x_knn = torch.gather(x_knn, 2, knn.unsqueeze(-1).expand(-1, -1, -1, x_knn.shape[-1]))\n",
    "\n",
    "        del delta_phieta, indeces, knn, _\n",
    "\n",
    "        return x_knn    # x_knn.shape = [B, n, k, d]\n",
    "\n",
    "    \n",
    "    def linear_aggregate(self, x):\n",
    "\n",
    "        # Here we want to define the operation which applies the mlp,\n",
    "        # i.e. the linear part, to each couple of n.n. and then\n",
    "        # aggregates the results.\n",
    "        # Expected output shape is [B, n, d] (aggregating we collapsed the k dimension)\n",
    "\n",
    "        return None\n",
    "\n",
    "\n",
    "    def forward(self, x):\n",
    "        # x.size = [B, n, d]\n",
    "\n",
    "        # x_knn.size = [B, n, k, d]\n",
    "        x_knn = self.kNN(x)\n",
    "\n",
    "        shortcut = self.shortcut(x)\n",
    "        x = self.linear_aggregate(x_knn)\n",
    "\n",
    "        x = self.act(x + shortcut)\n",
    "        \n",
    "        del x_knn, shortcut\n",
    "        return x"
   ]
  },
  {
   "cell_type": "code",
   "execution_count": null,
   "metadata": {},
   "outputs": [],
   "source": []
  }
 ],
 "metadata": {
  "kernelspec": {
   "display_name": "torch",
   "language": "python",
   "name": "python3"
  },
  "language_info": {
   "codemirror_mode": {
    "name": "ipython",
    "version": 3
   },
   "file_extension": ".py",
   "mimetype": "text/x-python",
   "name": "python",
   "nbconvert_exporter": "python",
   "pygments_lexer": "ipython3",
   "version": "3.10.8"
  },
  "orig_nbformat": 4,
  "vscode": {
   "interpreter": {
    "hash": "331a419315a2fdb77d716bff9d27d64bbb9fafc97272ccf1eb9acf778ff8f493"
   }
  }
 },
 "nbformat": 4,
 "nbformat_minor": 2
}
