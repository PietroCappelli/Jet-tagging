{
 "cells": [
  {
   "attachments": {},
   "cell_type": "markdown",
   "metadata": {},
   "source": [
    "# Develop EdgeConvBlock as a DNN layer in PyTorch"
   ]
  },
  {
   "cell_type": "code",
   "execution_count": 2,
   "metadata": {},
   "outputs": [],
   "source": [
    "import matplotlib.pyplot as plt # plotting library\n",
    "import numpy as np # this module is useful to work with numerical arrays\n",
    "import pandas as pd # this module is useful to work with tabular data\n",
    "import random # this module will be used to select random samples from a collection\n",
    "import os # this module will be used just to create directories in the local filesystem\n",
    "from tqdm.notebook import tqdm # this module is useful to plot progress bars\n",
    "\n",
    "import torch\n",
    "import torchvision\n",
    "from torchvision import transforms\n",
    "from torch.utils.data import DataLoader\n",
    "from torch import nn"
   ]
  },
  {
   "attachments": {},
   "cell_type": "markdown",
   "metadata": {},
   "source": [
    "## kNN function\n",
    "this function modifies the input tensor adding a dimension of size $k$ in order to store the informations about nearest neighbours, where $k$ is the number of nearest neighbours we want to consider."
   ]
  },
  {
   "cell_type": "code",
   "execution_count": 3,
   "metadata": {},
   "outputs": [],
   "source": [
    "def kNN_opt(k, x):\n",
    "    \n",
    "    x_knn = x.unsqueeze(1).expand(-1, x.shape[1], -1, -1)\n",
    "    delta_phieta = x_knn[:, :, :, :2] - x_knn[:, :, :, :2].transpose(1, 2)\n",
    "    _, indeces = torch.sqrt(torch.sum(delta_phieta**2, 3)**0.5).sort(dim=2, stable=True)\n",
    "    knn = indeces[:,:,:k]\n",
    "    x_knn = torch.gather(x_knn, 2, knn.unsqueeze(-1).expand(-1, -1, -1, x_knn.shape[-1]))\n",
    "    del delta_phieta, indeces, knn, _\n",
    "    return x_knn"
   ]
  },
  {
   "cell_type": "code",
   "execution_count": 4,
   "metadata": {},
   "outputs": [
    {
     "name": "stdout",
     "output_type": "stream",
     "text": [
      "All test cases pass\n"
     ]
    }
   ],
   "source": [
    "def test_kNN():\n",
    "    x = torch.tensor([[[1.0, 2.0], [3.0, 4.0], [5.0, 6.0]],\n",
    "                      [[7.0, 8.0], [9.0, 10.0], [11.0, 12.0]]])\n",
    "    k = 2\n",
    "\n",
    "    knn = kNN_opt(k, x)\n",
    "    expected = torch.tensor([[[[1.0, 2.0], [3.0, 4.0]],   [[3.0, 4.0], [1.0, 2.0]],  [[5.0, 6.0], [3.0, 4.0]]],\n",
    "                             [[[7.0, 8.0], [9.0, 10.0]],  [[9.0, 10.0], [7.0, 8.0]], [[11.0, 12.0], [9.0, 10.0]]]])\n",
    "    assert torch.allclose(knn, expected), f'Expected {expected}, but got {knn}'\n",
    "\n",
    "\n",
    "test_kNN()\n",
    "print('All test cases pass')"
   ]
  },
  {
   "cell_type": "code",
   "execution_count": 11,
   "metadata": {},
   "outputs": [
    {
     "data": {
      "text/plain": [
       "torch.Size([2, 2, 3])"
      ]
     },
     "execution_count": 11,
     "metadata": {},
     "output_type": "execute_result"
    }
   ],
   "source": [
    "x = torch.tensor([[[1.0, 2.0], [3.0, 4.0], [5.0, 6.0]],\n",
    "                      [[7.0, 8.0], [9.0, 10.0], [11.0, 12.0]]])\n",
    "\n",
    "x.transpose(1, 2).shape"
   ]
  },
  {
   "attachments": {},
   "cell_type": "markdown",
   "metadata": {},
   "source": [
    "## EdgeConv Block\n",
    "Define the Edge Convolution operation as a `torch.nn.Module`"
   ]
  },
  {
   "cell_type": "code",
   "execution_count": 12,
   "metadata": {},
   "outputs": [],
   "source": [
    "########## Edge Convolution Block ###########\n",
    "# The root block of our DNN.\n",
    "# Initialized by:\n",
    "#   - d     the number of features\n",
    "#   - k     number of nearest neighbours to consider in the concolution\n",
    "#   - C     a list-like or an int with the number of neurons of the three linear layers\n",
    "#   - aggr  the aggregation function, must be symmetric\n",
    "\n",
    "class EdgeConv(nn.Module):\n",
    "    \n",
    "    def __init__(self, d, k, C, aggr=None):\n",
    "        super().__init__()\n",
    "        \n",
    "        if type(C) == int:\n",
    "            self.C = [C]*3\n",
    "        else:\n",
    "            self.C = C\n",
    "        \n",
    "        self.k = k\n",
    "\n",
    "        if aggr is None:\n",
    "            self.aggr = torch.mean\n",
    "        else:\n",
    "            self.aggr = aggr\n",
    "\n",
    "        self.act = nn.ReLU()\n",
    "\n",
    "\n",
    "        ### Shortcut path\n",
    "        self.shortcut = nn.Sequential(\n",
    "            nn.Conv1d(in_channels = d, out_channels = self.C[-1], kernel_size = 1, stride = 1),\n",
    "            nn.BatchNorm1d(self.C[-1])\n",
    "        )\n",
    "\n",
    "        ### Linear section, approximation of a MLP\n",
    "        self.mlp = nn.Sequential(\n",
    "            nn.Conv2d(2*d, self.C[0], 1, 1),\n",
    "            nn.BatchNorm2d(self.C[0]),\n",
    "            nn.ReLU(),\n",
    "            nn.Conv2d(self.C[0], self.C[1], 1, 1),\n",
    "            nn.BatchNorm2d(self.C[1]),\n",
    "            nn.ReLU(),\n",
    "            nn.Conv2d(self.C[1], self.C[2], 1, 1),\n",
    "            nn.BatchNorm2d(self.C[2]),\n",
    "            nn.ReLU()\n",
    "        )\n",
    "\n",
    "\n",
    "    def kNN(self, x):\n",
    "        \"\"\"input: single jet data\n",
    "            output: tensor with shape [B, n, k, d] where d are the features of the knn particles\"\"\"\n",
    "        # expand the input tensor s.t. x_knn.shape = [B, n, n, d]\n",
    "        x_knn = x.unsqueeze(1).expand(-1, x.shape[1], -1, -1)\n",
    "\n",
    "        # calculate both delta_phi and delta_eta\n",
    "        delta_phieta = x_knn[:, :, :, :2] - x_knn[:, :, :, :2].transpose(1, 2)\n",
    "\n",
    "        # calculate distances and sort them in ascending order, keep only the indeces\n",
    "        _, indeces = torch.sqrt(torch.sum(delta_phieta**2, 3)**0.5).sort(dim=2, stable=True)\n",
    "\n",
    "        # keep the indeces of k nearest neighbours and use them to sort and cut the initial tensor\n",
    "        knn = indeces[:,:,:self.k]\n",
    "        x_knn = torch.gather(x_knn, 2, knn.unsqueeze(-1).expand(-1, -1, -1, x_knn.shape[-1]))\n",
    "\n",
    "        del delta_phieta, indeces, knn, _\n",
    "\n",
    "        return x_knn    # x_knn.shape = [B, n, k, d]\n",
    "\n",
    "    \n",
    "    def linear_aggregate(self, x):\n",
    "\n",
    "        # accepts as input [B, d, n, k]\n",
    "\n",
    "        # take the features of the particle and repeat them on the third axis\n",
    "        p_feat = x[:, :, :, 0].unsqueeze(3).expand(-1, -1, -1, self.k)\n",
    "\n",
    "        # now we can calculate knn features for each particle as a simple difference\n",
    "        knn_feat = x - p_feat\n",
    "\n",
    "        print('p_feat:', p_feat.shape, '\\nknn_feat:', knn_feat.shape)\n",
    "\n",
    "        pairs = torch.concat([p_feat, knn_feat], dim=1)\n",
    "        del p_feat, knn_feat\n",
    "        print(pairs.shape) # expected [B, 2*d, n, k]\n",
    "\n",
    "        mlp_result = self.mlp(pairs)\n",
    "        del pairs\n",
    "\n",
    "        # aggregate\n",
    "        aggr_result = self.aggr(mlp_result, dim=3)\n",
    "\n",
    "        if type(aggr_result) is tuple:\n",
    "            aggr_result = aggr_result[0]\n",
    "        \n",
    "        return aggr_result\n",
    "\n",
    "\n",
    "    def forward(self, x):\n",
    "        # x.size = [B, n, d]\n",
    "        # x_knn.size = [B, n, k, d]\n",
    "\n",
    "        x_knn = self.kNN(x).transpose(1, 3).transpose(2, 3)\n",
    "        shortcut = self.shortcut(x.transpose(1, 2))\n",
    "        x = self.linear_aggregate(x_knn)\n",
    "\n",
    "        x = self.act(x + shortcut).transpose(1, 2)\n",
    "        \n",
    "        del x_knn, shortcut\n",
    "        return x"
   ]
  },
  {
   "cell_type": "code",
   "execution_count": null,
   "metadata": {},
   "outputs": [],
   "source": []
  }
 ],
 "metadata": {
  "kernelspec": {
   "display_name": "torch",
   "language": "python",
   "name": "python3"
  },
  "language_info": {
   "codemirror_mode": {
    "name": "ipython",
    "version": 3
   },
   "file_extension": ".py",
   "mimetype": "text/x-python",
   "name": "python",
   "nbconvert_exporter": "python",
   "pygments_lexer": "ipython3",
   "version": "3.10.8"
  },
  "orig_nbformat": 4,
  "vscode": {
   "interpreter": {
    "hash": "331a419315a2fdb77d716bff9d27d64bbb9fafc97272ccf1eb9acf778ff8f493"
   }
  }
 },
 "nbformat": 4,
 "nbformat_minor": 2
}
