{
 "cells": [
  {
   "cell_type": "code",
   "execution_count": 1,
   "metadata": {},
   "outputs": [],
   "source": [
    "import h5py\n",
    "import numpy as np\n",
    "import pandas as pd\n",
    "import os\n",
    "\n",
    "import matplotlib.pyplot as plt\n",
    "\n",
    "from plot_utils import plot_1Dhist, plot_1Dstack, display_statistics\n",
    "from Dataset import Dataset\n"
   ]
  },
  {
   "cell_type": "code",
   "execution_count": 2,
   "metadata": {},
   "outputs": [
    {
     "name": "stdout",
     "output_type": "stream",
     "text": [
      "Reading file jetImage_3_100p_70000_80000.h5\n",
      "Reading file jetImage_6_100p_20000_30000.h5\n",
      "Reading file jetImage_3_100p_80000_90000.h5\n",
      "Reading file jetImage_2_100p_70000_80000.h5\n",
      "Reading file jetImage_1_100p_0_10000.h5\n"
     ]
    }
   ],
   "source": [
    "dataset = Dataset(\"../data/train/\")\n",
    "\n",
    "data = dataset.read_files(n_files=5)"
   ]
  }
 ],
 "metadata": {
  "kernelspec": {
   "display_name": "base",
   "language": "python",
   "name": "python3"
  },
  "language_info": {
   "codemirror_mode": {
    "name": "ipython",
    "version": 3
   },
   "file_extension": ".py",
   "mimetype": "text/x-python",
   "name": "python",
   "nbconvert_exporter": "python",
   "pygments_lexer": "ipython3",
   "version": "3.9.12"
  },
  "orig_nbformat": 4,
  "vscode": {
   "interpreter": {
    "hash": "91e94dacc13bcc9ab92871d8572d4c8a018895bdfb2528d081f4892614b17d07"
   }
  }
 },
 "nbformat": 4,
 "nbformat_minor": 2
}
