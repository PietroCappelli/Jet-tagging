{
 "cells": [
  {
   "cell_type": "code",
   "execution_count": 1,
   "metadata": {},
   "outputs": [],
   "source": [
    "import numpy as np\n",
    "import pandas as pd\n",
    "import matplotlib.pyplot as plt\n",
    "import os \n",
    "\n",
    "import torch\n",
    "from torch.utils.data import Dataset, DataLoader\n",
    "from torch import nn\n",
    "\n",
    "from tqdm import tqdm\n",
    "\n",
    "from DataReader import DataReader\n",
    "import h5py\n",
    "\n",
    "import dgl\n",
    "\n",
    "from compute_edges import compute_edge_features"
   ]
  },
  {
   "cell_type": "code",
   "execution_count": 2,
   "metadata": {},
   "outputs": [
    {
     "name": "stdout",
     "output_type": "stream",
     "text": [
      "Reading file jetImage_3_100p_70000_80000.h5\n",
      "Reading file jetImage_6_100p_20000_30000.h5\n"
     ]
    }
   ],
   "source": [
    "data_path = \"../data/train/\"\n",
    "\n",
    "data_reader = DataReader(data_path)\n",
    "data_reader.read_files(n_files=2)\n",
    "\n",
    "\n",
    "data   = data_reader.get_features()\n",
    "labels = data_reader.get_labels()"
   ]
  },
  {
   "attachments": {},
   "cell_type": "markdown",
   "metadata": {},
   "source": [
    "# Node features\n",
    "\n",
    "The particle feature we consider for our analysis are the following:\n",
    "\n",
    "| Dataset Index | Feature | Description |\n",
    "|:-------------:|:-------:|:-----------:|\n",
    "| 0 | $\\Delta\\eta$ | $\\eta$ difference between the particle and the jet |\n",
    "| 1 | $\\Delta\\phi$ | $\\phi$ difference between the particle and the jet |\n",
    "| 6 | $\\Delta R$ | $\\sqrt{(\\Delta\\eta)^2 + (\\Delta\\phi)^2}$ |\n",
    "| 4 | $\\log p_T$ | $\\log(p_T)$ of the particle (log to be computed) |\n",
    "| 2 | $\\log E$ | $\\log(E)$ of the particle (log to be computed)|\n",
    "| 5 | $\\log\\frac{p_T}{p_T\\,\\text{(jet)}}$ | $\\log\\frac{p_T}{p_T\\,\\text{(jet)}}$ of the particle (log to be computed)|\n",
    "| 3 | $\\log\\frac{E}{E\\,\\text{(jet)}}$ | $\\log\\frac{E}{E\\,\\text{(jet)}}$ of the particle (log to be computed)|\n",
    "\n",
    "# Edge features\n",
    "\n",
    "The edge features $\\bm{e}_{ij}$ are 3-dimensional vectors, i.e., we have 3 edge features for each edge connecting the nodes $i$ and $j$. Let us define first the distance between the nodes $i$ and $j$ to be\n",
    "\n",
    "$$\n",
    "d_{ij} = \\min(p_{\\text{T}\\,i}^{2\\alpha}, p_{\\text{T}\\,j}^{2\\alpha})\\,\\frac{R_{ij}^2}{R^2}\n",
    "$$\n",
    "\n",
    "Then, the edge features are defined as $\\bm{e}_{ij}=(d_{ij}(\\alpha=0),\\,\\log d_{ij}(\\alpha=1),\\, \\log m_{ij})$ where $m_{ij}$ is the invariant mass of the two particles, i.e., $m_{ij}=\\sqrt{E_iE_j - p_{\\text{T}\\,i}p_{\\text{T}\\,j}\\cos(\\Delta\\phi_{ij})}$.\n",
    "\n",
    "We need to compute $\\Delta\\phi_{ij} = \\Delta\\phi_i - \\Delta\\phi_j$ where $\\Delta\\phi_i$ is the $\\phi$ difference between the particle $i$ and the jet $\\Delta\\eta_{ij}$ using the following formula: $\\Delta\\eta_{ij} = \\Delta\\eta_i - \\Delta\\eta_j$ where $\\Delta\\eta_i$ is the $\\eta$ difference between the particle $i$ and the jet. We also need to compute the distance $R_{ij}$ between the two particles. We can compute these quantities using the following formula: $R_{ij} = \\sqrt{(\\Delta\\eta_{ij})^2 + (\\Delta\\phi_{ij})^2}$. "
   ]
  },
  {
   "attachments": {},
   "cell_type": "markdown",
   "metadata": {},
   "source": [
    "## Compute Edges"
   ]
  },
  {
   "cell_type": "code",
   "execution_count": 20,
   "metadata": {},
   "outputs": [],
   "source": [
    "# DEPRECATED - use the functions in the compute_edges.py file\n",
    "\n",
    "\n",
    "def compute_dPhi_ij(dPhi_i, dPhi_j):\n",
    "    \"\"\"Compute the difference in azimuthal angle between two particles.\"\"\"\n",
    "    return dPhi_i - dPhi_j\n",
    "\n",
    "def compute_dEta_ij(dEta_i, dEta_j):\n",
    "    \"\"\"Compute the difference in pseudorapidity between two particles.\"\"\"\n",
    "    return dEta_i - dEta_j\n",
    "\n",
    "def compute_R_ij(dEta_ij, dPhi_ij):\n",
    "    \"\"\"Compute the distance between two particles in the transverse plane.\"\"\"\n",
    "    return np.sqrt(dEta_ij**2 + dPhi_ij**2)\n",
    "\n",
    "def compute_m_ij(e_i, e_j, pt_i, pt_j, dPhi_ij):\n",
    "    \"\"\"Compute the invariant mass of two particles.\"\"\"\n",
    "    # invariant mass of two massive particles as a function of the two energies, the two transverse momenta and the angle between them\n",
    "    return np.sqrt(2 * e_i * e_j * (1 - np.cos(dPhi_ij))) # CHECK THIS\n",
    "\n",
    "def node_distance(pt_i, pt_j, r, r_ij, alpha):\n",
    "    \"\"\"Compute the distance between two nodes in the graph.\"\"\"\n",
    "    return np.min((pt_i**(2*alpha), pt_j**(2*alpha))) * r_ij**r\n",
    "\n",
    "def compute_one_edge_feature(jet, i, j):\n",
    "    \"\"\"Compute the edge feature for one edge.\"\"\"\n",
    "    \n",
    "    dEta_ij = compute_dEta_ij(jet[i, 0], jet[j, 0])\n",
    "    dPhi_ij = compute_dPhi_ij(jet[i, 1], jet[j, 1])\n",
    "    dR_ij   = compute_R_ij(dEta_ij, dPhi_ij)\n",
    "    m_ij    = compute_m_ij(jet[i, 2], jet[j, 2], jet[i, 4], jet[j, 4], dPhi_ij)\n",
    "\n",
    "    # compute the edge feature\n",
    "    e_0 =        node_distance(pt_i=jet[i, 4], pt_j=jet[j, 4], r=jet[i, 6], r_ij=dR_ij, alpha=0)\n",
    "    e_1 = np.log(node_distance(pt_i=jet[i, 4], pt_j=jet[j, 4], r=jet[i, 6], r_ij=dR_ij, alpha=1))\n",
    "    e_2 = np.log(m_ij)\n",
    "\n",
    "    return np.array([e_0, e_1, e_2])\n",
    "    \n",
    "\n",
    "def compute_edge_features(data):\n",
    "    # compute the edge features for all the jets in the dataset\n",
    "    # final shape of the edges: (n_jets, n_particles * n_particles, 3) \n",
    "\n",
    "    # list to store the edge features for all the jets\n",
    "    edge_features_all = []\n",
    "\n",
    "    # loop over all the jets\n",
    "    for k in range(data.shape[0]):\n",
    "\n",
    "        # list to store the edge features for the current jet\n",
    "        edge_features = []\n",
    "\n",
    "        # get the current jet\n",
    "        jet = data[k, :, :]\n",
    "\n",
    "        # loop over all the particles in the jet\n",
    "        for i in range(jet.shape[0]):\n",
    "            # loop over all the particles in the jet\n",
    "            for j in range(jet.shape[0]):\n",
    "\n",
    "                # if the two particles are the same, the edge feature is just a vector of ones\n",
    "                edge_feature = np.ones(3) if i == j else compute_one_edge_feature(jet, i, j)\n",
    "                edge_features.append(edge_feature)\n",
    "\n",
    "        # store the edge features for the current jet\n",
    "        edge_features = np.array(edge_features)\n",
    "        edge_features_all.append(edge_features)\n",
    "\n",
    "    return np.array(edge_features_all)"
   ]
  },
  {
   "attachments": {},
   "cell_type": "markdown",
   "metadata": {},
   "source": [
    "### Test"
   ]
  },
  {
   "cell_type": "code",
   "execution_count": 3,
   "metadata": {},
   "outputs": [
    {
     "name": "stderr",
     "output_type": "stream",
     "text": [
      "/Users/niklai/github/jet-tagging/DGL_autoencoder/compute_edges.py:37: RuntimeWarning: divide by zero encountered in log\n",
      "  e_2 = np.log(m_ij)\n",
      "/Users/niklai/github/jet-tagging/DGL_autoencoder/compute_edges.py:36: RuntimeWarning: divide by zero encountered in log\n",
      "  e_1 = np.log(node_distance(pt_i=jet[i, 4], pt_j=jet[j, 4], r=jet[i, 6], r_ij=dR_ij, alpha=1))\n"
     ]
    },
    {
     "data": {
      "text/plain": [
       "(5, 10000, 3)"
      ]
     },
     "execution_count": 3,
     "metadata": {},
     "output_type": "execute_result"
    }
   ],
   "source": [
    "# slice only the first 5 jets\n",
    "jets = data[:5, :, :]\n",
    "edges = compute_edge_features(jets)\n",
    "edges.shape"
   ]
  },
  {
   "attachments": {},
   "cell_type": "markdown",
   "metadata": {},
   "source": [
    "---"
   ]
  },
  {
   "attachments": {},
   "cell_type": "markdown",
   "metadata": {},
   "source": [
    "## PyTorch Dataset"
   ]
  },
  {
   "cell_type": "code",
   "execution_count": 7,
   "metadata": {},
   "outputs": [],
   "source": [
    "class ParticleDataset(Dataset):\n",
    "\n",
    "    def __init__(self, data_reader, n_files=None, transform=None):\n",
    "\n",
    "        data_reader.read_files(n_files=n_files)\n",
    "\n",
    "        self.x = data_reader.get_features()\n",
    "        self.y = data_reader.get_labels()\n",
    "\n",
    "        self.transform = transform\n",
    "        \n",
    "        self.edges = compute_edge_features(self.x)\n",
    "        \n",
    "\n",
    "    def __len__(self):\n",
    "\n",
    "        return self.x.shape[0]\n",
    "    \n",
    "\n",
    "    def __getitem__(self, idx):\n",
    "\n",
    "        x     = self.x[idx]\n",
    "        y     = self.y[idx]\n",
    "        edges = self.edges[idx]\n",
    "        \n",
    "        if self.transform:\n",
    "            x = self.transform(x)\n",
    "        \n",
    "        return x, edges, y"
   ]
  },
  {
   "cell_type": "code",
   "execution_count": 8,
   "metadata": {},
   "outputs": [
    {
     "name": "stdout",
     "output_type": "stream",
     "text": [
      "Reading file jetImage_3_100p_70000_80000.h5\n"
     ]
    },
    {
     "name": "stderr",
     "output_type": "stream",
     "text": [
      "/Users/niklai/github/jet-tagging/DGL_autoencoder/compute_edges.py:37: RuntimeWarning: divide by zero encountered in log\n",
      "  e_2 = np.log(m_ij)\n",
      "/Users/niklai/github/jet-tagging/DGL_autoencoder/compute_edges.py:36: RuntimeWarning: divide by zero encountered in log\n",
      "  e_1 = np.log(node_distance(pt_i=jet[i, 4], pt_j=jet[j, 4], r=jet[i, 6], r_ij=dR_ij, alpha=1))\n"
     ]
    }
   ],
   "source": [
    "train_transform = None\n",
    "\n",
    "data_reader = DataReader(\"../data/train/\")\n",
    "\n",
    "train_data = ParticleDataset(data_reader=data_reader, n_files=1, transform=train_transform)"
   ]
  },
  {
   "attachments": {},
   "cell_type": "markdown",
   "metadata": {},
   "source": [
    "### Test"
   ]
  },
  {
   "cell_type": "code",
   "execution_count": 9,
   "metadata": {},
   "outputs": [],
   "source": [
    "batch_size       = 1\n",
    "train_dataloader = DataLoader(train_data, batch_size=batch_size)"
   ]
  },
  {
   "cell_type": "code",
   "execution_count": 12,
   "metadata": {},
   "outputs": [
    {
     "name": "stdout",
     "output_type": "stream",
     "text": [
      "torch.Size([1, 100, 7])\n",
      "torch.Size([1, 10000, 3])\n",
      "torch.Size([1, 6])\n"
     ]
    }
   ],
   "source": [
    "# loop over the dataloader to get the data in batches\n",
    "i=0\n",
    "for features, edges, y in train_dataloader:\n",
    "    print(features.shape)\n",
    "    print(edges.shape)\n",
    "    print(y.shape)\n",
    "    break"
   ]
  },
  {
   "cell_type": "code",
   "execution_count": null,
   "metadata": {},
   "outputs": [],
   "source": []
  }
 ],
 "metadata": {
  "kernelspec": {
   "display_name": "torch",
   "language": "python",
   "name": "python3"
  },
  "language_info": {
   "codemirror_mode": {
    "name": "ipython",
    "version": 3
   },
   "file_extension": ".py",
   "mimetype": "text/x-python",
   "name": "python",
   "nbconvert_exporter": "python",
   "pygments_lexer": "ipython3",
   "version": "3.9.15"
  },
  "orig_nbformat": 4,
  "vscode": {
   "interpreter": {
    "hash": "e66dcae97b701b915eadc4438c910e988ef9c71a5edf15724345fc137d8a1821"
   }
  }
 },
 "nbformat": 4,
 "nbformat_minor": 2
}
