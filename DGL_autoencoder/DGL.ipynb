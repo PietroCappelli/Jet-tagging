{
 "cells": [
  {
   "cell_type": "code",
   "execution_count": 1,
   "metadata": {},
   "outputs": [],
   "source": [
    "import dgl\n",
    "import numpy as np\n",
    "import torch\n",
    "import networkx as nx\n",
    "import os\n",
    "os.environ['DGLBACKEND'] = 'pytorch'\n",
    "\n",
    "from torch import nn\n",
    "from torch.optim.lr_scheduler import ReduceLROnPlateau\n",
    "from dgl.nn import NNConv, EdgeConv\n",
    "from dgl.nn.pytorch import Sequential as dglSequential\n",
    "from dgl.dataloading import GraphDataLoader\n",
    "from torch.utils.data import Dataset\n",
    "from tqdm.notebook import tqdm"
   ]
  },
  {
   "attachments": {},
   "cell_type": "markdown",
   "metadata": {},
   "source": [
    "## Dataloader"
   ]
  },
  {
   "cell_type": "code",
   "execution_count": 2,
   "metadata": {},
   "outputs": [],
   "source": [
    "data_path = '../data/graphdataset/'"
   ]
  },
  {
   "cell_type": "code",
   "execution_count": 3,
   "metadata": {},
   "outputs": [],
   "source": [
    "class GraphDataset(Dataset):\n",
    "    def __init__(self, data_path, n_files=None, transform=None):\n",
    "\n",
    "        self.fnames    = [fname for fname in os.listdir(data_path) if fname.endswith('.dgl')]\n",
    "        self.data_path = data_path\n",
    "\n",
    "        if n_files:\n",
    "            self.fnames = self.fnames[n_files]\n",
    "\n",
    "        self.transform = transform     \n",
    "\n",
    "        self.load_graphs()\n",
    "\n",
    "\n",
    "    def load_graphs(self):\n",
    "        self.graphs = []\n",
    "\n",
    "        for fname in tqdm(self.fnames, 'Reading files'):\n",
    "            graphs = dgl.load_graphs(os.path.join(self.data_path, fname))[0]\n",
    "            self.graphs.extend(graphs)\n",
    "\n",
    "\n",
    "    def __len__(self):\n",
    "\n",
    "        return len(self.graphs)\n",
    "    \n",
    "\n",
    "    def __getitem__(self, idx):\n",
    "\n",
    "        x = self.graphs[idx]\n",
    "        \n",
    "        if self.transform:\n",
    "            x = self.transform(x)\n",
    "        \n",
    "        return x"
   ]
  },
  {
   "cell_type": "code",
   "execution_count": 4,
   "metadata": {},
   "outputs": [
    {
     "data": {
      "application/vnd.jupyter.widget-view+json": {
       "model_id": "bd43a5230aab46f4a93a3e68dbf48004",
       "version_major": 2,
       "version_minor": 0
      },
      "text/plain": [
       "Reading files:   0%|          | 0/10 [00:00<?, ?it/s]"
      ]
     },
     "metadata": {},
     "output_type": "display_data"
    },
    {
     "data": {
      "application/vnd.jupyter.widget-view+json": {
       "model_id": "0aefb4d94e80433497c5dd27ce95cb4b",
       "version_major": 2,
       "version_minor": 0
      },
      "text/plain": [
       "Reading files:   0%|          | 0/3 [00:00<?, ?it/s]"
      ]
     },
     "metadata": {},
     "output_type": "display_data"
    }
   ],
   "source": [
    "train_files = slice(10)\n",
    "val_files   = slice(10, 13)\n",
    "\n",
    "train_dataset = GraphDataset(data_path, train_files)\n",
    "val_dataset   = GraphDataset(data_path, val_files)"
   ]
  },
  {
   "cell_type": "code",
   "execution_count": 5,
   "metadata": {},
   "outputs": [
    {
     "data": {
      "text/plain": [
       "Graph(num_nodes=3441, num_edges=214619,\n",
       "      ndata_schemes={'f': Scheme(shape=(7,), dtype=torch.float32)}\n",
       "      edata_schemes={'d': Scheme(shape=(3,), dtype=torch.float32)})"
      ]
     },
     "execution_count": 5,
     "metadata": {},
     "output_type": "execute_result"
    }
   ],
   "source": [
    "train_dataloader = GraphDataLoader(train_dataset, batch_size=64, shuffle=True)\n",
    "val_dataloader   = GraphDataLoader(val_dataset, batch_size=64, shuffle=True)\n",
    "for batch in train_dataloader:\n",
    "    break\n",
    "batch"
   ]
  },
  {
   "attachments": {},
   "cell_type": "markdown",
   "metadata": {},
   "source": [
    "## Simulated Graph\n",
    "50 particelle, 7 features per particle, each node is connected to all the others so n**2 edges, each edge has 3 different features"
   ]
  },
  {
   "cell_type": "code",
   "execution_count": null,
   "metadata": {},
   "outputs": [],
   "source": [
    "n = 50 \n",
    "src = []; dst = []\n",
    "for i in range(n):\n",
    "    for j in range(n):\n",
    "        src.append(i)\n",
    "        dst.append(j)\n",
    "\n",
    "g = dgl.graph((src, dst))\n",
    "\n",
    "nodes = torch.randn((n, 7))\n",
    "edges = torch.randn((n**2, 3))\n",
    "\n",
    "g.ndata['feat'] = nodes\n",
    "g.edata['edge_feat'] = edges\n"
   ]
  },
  {
   "cell_type": "code",
   "execution_count": null,
   "metadata": {},
   "outputs": [],
   "source": [
    "def MLP(efeat, ch=[256,128,64,32]):\n",
    "\n",
    "    mlp = nn.Sequential(\n",
    "        nn.Linear(3, ch[0]),\n",
    "        nn.Dropout(0.2),\n",
    "        nn.ReLU(),\n",
    "        \n",
    "        nn.Linear(ch[0],ch[1]),\n",
    "        nn.Dropout(0.2),\n",
    "        nn.ReLU(),\n",
    "        \n",
    "        nn.Linear(ch[1],ch[2]),\n",
    "        nn.Dropout(0.2),\n",
    "        nn.ReLU(),\n",
    "\n",
    "        nn.Linear(ch[2], ch[3]),\n",
    "        nn.Dropout(0.2),\n",
    "        nn.ReLU(),\n",
    "\n",
    "        nn.Linear(ch[3], 7*128),\n",
    "        nn.Sigmoid()\n",
    "    )\n",
    "    \n",
    "    return mlp(efeat)"
   ]
  },
  {
   "cell_type": "code",
   "execution_count": null,
   "metadata": {},
   "outputs": [
    {
     "data": {
      "text/plain": [
       "torch.Size([50, 128])"
      ]
     },
     "execution_count": 74,
     "metadata": {},
     "output_type": "execute_result"
    }
   ],
   "source": [
    "conv = NNConv(7, 128, MLP)\n",
    "res = conv(g, nodes, edges)\n",
    "res.shape"
   ]
  },
  {
   "attachments": {},
   "cell_type": "markdown",
   "metadata": {},
   "source": [
    "## Encoder"
   ]
  },
  {
   "cell_type": "code",
   "execution_count": 6,
   "metadata": {},
   "outputs": [],
   "source": [
    "class Encoder(nn.Module):\n",
    "    \n",
    "    def __init__(self, latent_space_dim, ch=[256,128,64,32]):\n",
    "        super().__init__()\n",
    "\n",
    "        self.mlp = nn.Sequential(\n",
    "            nn.Linear(3, ch[0]),\n",
    "            nn.Dropout(0.2),\n",
    "            nn.ReLU(),\n",
    "            \n",
    "            nn.Linear(ch[0],ch[1]),\n",
    "            nn.Dropout(0.2),\n",
    "            nn.ReLU(),\n",
    "            \n",
    "            nn.Linear(ch[1],ch[2]),\n",
    "            nn.Dropout(0.2),\n",
    "            nn.ReLU(),\n",
    "\n",
    "            nn.Linear(ch[2], ch[3]),\n",
    "            nn.Dropout(0.2),\n",
    "            nn.ReLU(),\n",
    "\n",
    "            nn.Linear(ch[3], 7*128),\n",
    "            nn.Sigmoid()\n",
    "            )\n",
    "        \n",
    "        self.conv = dglSequential(\n",
    "            NNConv(\n",
    "                in_feats  = 7,  # number of node features\n",
    "                out_feats = 128, # output number of node features\n",
    "                edge_func = self.mlp),\n",
    "            EdgeConv(128, 64, batch_norm=True),\n",
    "            EdgeConv(64, 32, batch_norm=True),\n",
    "            EdgeConv(32, latent_space_dim, batch_norm=True)\n",
    "        )\n",
    "\n",
    "    def forward(self, graph, n_feat=None):\n",
    "\n",
    "        x = self.conv(graph, n_feat if n_feat else graph.ndata['f'], graph.edata['d'])\n",
    "        return x\n",
    "    "
   ]
  },
  {
   "cell_type": "code",
   "execution_count": null,
   "metadata": {},
   "outputs": [
    {
     "data": {
      "text/plain": [
       "torch.Size([101, 4])"
      ]
     },
     "execution_count": 109,
     "metadata": {},
     "output_type": "execute_result"
    }
   ],
   "source": [
    "encoder = Encoder(4)\n",
    "encoded = encoder(batch)\n",
    "encoded.shape"
   ]
  },
  {
   "cell_type": "code",
   "execution_count": null,
   "metadata": {},
   "outputs": [],
   "source": [
    "batch.ndata['l'] = encoded"
   ]
  },
  {
   "attachments": {},
   "cell_type": "markdown",
   "metadata": {},
   "source": [
    "## Decoder"
   ]
  },
  {
   "cell_type": "code",
   "execution_count": 7,
   "metadata": {},
   "outputs": [],
   "source": [
    "class Decoder(nn.Module):\n",
    "    \n",
    "    def __init__(self, latent_space_dim, n_feat=7):\n",
    "        super().__init__()\n",
    "\n",
    "        self.shared_path = dglSequential(\n",
    "            EdgeConv(latent_space_dim, 32, batch_norm=True),\n",
    "            EdgeConv(32, 64, batch_norm=True),\n",
    "            EdgeConv(64, 128, batch_norm=True)\n",
    "        )\n",
    "        \n",
    "        self.node_reconstruct = EdgeConv(128, n_feat)    # output are the reconstructed node features\n",
    "\n",
    "        self.edge_reconstruct1 = dglSequential(\n",
    "            EdgeConv(128, 32, batch_norm=True),\n",
    "            EdgeConv(32,16, batch_norm=True),\n",
    "            EdgeConv(16,8, batch_norm=True)\n",
    "        )\n",
    "\n",
    "        self.edge_reconstruct2 = dglSequential(\n",
    "            EdgeConv(128, 32, batch_norm=True),\n",
    "            EdgeConv(32,16, batch_norm=True),\n",
    "            EdgeConv(16,8, batch_norm=True)\n",
    "        )\n",
    "\n",
    "        self.edge_reconstruct3 = dglSequential(\n",
    "            EdgeConv(128, 32, batch_norm=True),\n",
    "            EdgeConv(32,16, batch_norm=True),\n",
    "            EdgeConv(16,8, batch_norm=True)\n",
    "        )\n",
    "\n",
    "    def forward(self, graph, n_feat=None):\n",
    "        \n",
    "        if n_feat is None:\n",
    "            n_feat = graph.ndata['l']\n",
    "\n",
    "        # shared path\n",
    "        shared = self.shared_path(graph, n_feat)\n",
    "\n",
    "        # node reconstruction\n",
    "        n = self.node_reconstruct(graph, shared)\n",
    "        \n",
    "        # edges reconstruction\n",
    "        e1 = self.edge_reconstruct1(graph, shared)\n",
    "        e2 = self.edge_reconstruct2(graph, shared)\n",
    "        e3 = self.edge_reconstruct3(graph, shared)\n",
    "\n",
    "        # inner product o matmul?\n",
    "        e1 = torch.inner(e1, e1)  #their elements are A_{ij}\n",
    "        e2 = torch.inner(e2, e2) \n",
    "        e3 = torch.inner(e3, e3)\n",
    "\n",
    "        return n, torch.stack([e1, e2, e3], 2)\n",
    "    "
   ]
  },
  {
   "cell_type": "code",
   "execution_count": 44,
   "metadata": {},
   "outputs": [
    {
     "ename": "NameError",
     "evalue": "name 'batch' is not defined",
     "output_type": "error",
     "traceback": [
      "\u001b[0;31m---------------------------------------------------------------------------\u001b[0m",
      "\u001b[0;31mNameError\u001b[0m                                 Traceback (most recent call last)",
      "\u001b[1;32m/home/alberto/Desktop/PoD/NNDL/jet-tagging/DGL_autoencoder/DGL.ipynb Cell 19\u001b[0m in \u001b[0;36m<cell line: 2>\u001b[0;34m()\u001b[0m\n\u001b[1;32m      <a href='vscode-notebook-cell:/home/alberto/Desktop/PoD/NNDL/jet-tagging/DGL_autoencoder/DGL.ipynb#X24sZmlsZQ%3D%3D?line=0'>1</a>\u001b[0m decoder \u001b[39m=\u001b[39m Decoder(\u001b[39m4\u001b[39m)\n\u001b[0;32m----> <a href='vscode-notebook-cell:/home/alberto/Desktop/PoD/NNDL/jet-tagging/DGL_autoencoder/DGL.ipynb#X24sZmlsZQ%3D%3D?line=1'>2</a>\u001b[0m decoded \u001b[39m=\u001b[39m decoder(batch)\n",
      "\u001b[0;31mNameError\u001b[0m: name 'batch' is not defined"
     ]
    }
   ],
   "source": [
    "decoder = Decoder(4)\n",
    "decoded = decoder(batch)"
   ]
  },
  {
   "cell_type": "code",
   "execution_count": null,
   "metadata": {},
   "outputs": [],
   "source": [
    "autoencoder = dglSequential(encoder, decoder)\n",
    "n, e1, e2, e3 = autoencoder(batch)"
   ]
  },
  {
   "attachments": {},
   "cell_type": "markdown",
   "metadata": {},
   "source": [
    "## Training"
   ]
  },
  {
   "cell_type": "code",
   "execution_count": 8,
   "metadata": {},
   "outputs": [],
   "source": [
    "### Initialize the two networks\n",
    "encoded_space_dim = 6\n",
    "encoder = Encoder(latent_space_dim=encoded_space_dim)\n",
    "decoder = Decoder(latent_space_dim=encoded_space_dim)\n",
    "\n",
    "autoencoder = dglSequential(encoder, decoder)"
   ]
  },
  {
   "attachments": {},
   "cell_type": "markdown",
   "metadata": {},
   "source": [
    "### Learning Rate and Loss customize "
   ]
  },
  {
   "cell_type": "code",
   "execution_count": 9,
   "metadata": {},
   "outputs": [],
   "source": [
    "def custom_loss(output, target):\n",
    "    \"\"\" pred and real are two tuples which contains:\n",
    "    real: real nodes and edges\n",
    "    real: real nodes and edges\"\"\"\n",
    "\n",
    "    # regularization parameters    \n",
    "    l_node = 0.3\n",
    "    l_edge = 1\n",
    "    \n",
    "    loss_fn = torch.nn.MSELoss()\n",
    "    node_loss = torch.sqrt(loss_fn(output[0], target[0])) \n",
    "    e0_loss = torch.sqrt(loss_fn(output[1], target[1])) \n",
    "    e1_loss = torch.sqrt(loss_fn(output[2], target[2]))\n",
    "    e2_loss = torch.sqrt(loss_fn(output[3], target[3]))  \n",
    "\n",
    "    return l_node * node_loss + l_edge * (e0_loss+e1_loss+e2_loss)\n",
    "\n",
    "\n",
    "def nodes_loss(output, target):\n",
    "\n",
    "    loss_fn = torch.nn.MSELoss()\n",
    "    return torch.sqrt(loss_fn(output, target))   \n",
    "\n",
    "def edges_loss(output, target):\n",
    "    #dim = int(np.sqrt(target.shape[0]))\n",
    "    loss_fn = torch.nn.MSELoss(reduction='none')\n",
    "    edge_loss = torch.sum(torch.sqrt(torch.mean(loss_fn(output, target), dim=[0, 1])))\n",
    "\n",
    "    return edge_loss"
   ]
  },
  {
   "cell_type": "code",
   "execution_count": 10,
   "metadata": {},
   "outputs": [
    {
     "name": "stdout",
     "output_type": "stream",
     "text": [
      "Selected device: cuda\n"
     ]
    },
    {
     "data": {
      "text/plain": [
       "Sequential(\n",
       "  (0): Encoder(\n",
       "    (mlp): Sequential(\n",
       "      (0): Linear(in_features=3, out_features=256, bias=True)\n",
       "      (1): Dropout(p=0.2, inplace=False)\n",
       "      (2): ReLU()\n",
       "      (3): Linear(in_features=256, out_features=128, bias=True)\n",
       "      (4): Dropout(p=0.2, inplace=False)\n",
       "      (5): ReLU()\n",
       "      (6): Linear(in_features=128, out_features=64, bias=True)\n",
       "      (7): Dropout(p=0.2, inplace=False)\n",
       "      (8): ReLU()\n",
       "      (9): Linear(in_features=64, out_features=32, bias=True)\n",
       "      (10): Dropout(p=0.2, inplace=False)\n",
       "      (11): ReLU()\n",
       "      (12): Linear(in_features=32, out_features=896, bias=True)\n",
       "      (13): Sigmoid()\n",
       "    )\n",
       "    (conv): Sequential(\n",
       "      (0): NNConv(\n",
       "        (edge_func): Sequential(\n",
       "          (0): Linear(in_features=3, out_features=256, bias=True)\n",
       "          (1): Dropout(p=0.2, inplace=False)\n",
       "          (2): ReLU()\n",
       "          (3): Linear(in_features=256, out_features=128, bias=True)\n",
       "          (4): Dropout(p=0.2, inplace=False)\n",
       "          (5): ReLU()\n",
       "          (6): Linear(in_features=128, out_features=64, bias=True)\n",
       "          (7): Dropout(p=0.2, inplace=False)\n",
       "          (8): ReLU()\n",
       "          (9): Linear(in_features=64, out_features=32, bias=True)\n",
       "          (10): Dropout(p=0.2, inplace=False)\n",
       "          (11): ReLU()\n",
       "          (12): Linear(in_features=32, out_features=896, bias=True)\n",
       "          (13): Sigmoid()\n",
       "        )\n",
       "      )\n",
       "      (1): EdgeConv(\n",
       "        (theta): Linear(in_features=128, out_features=64, bias=True)\n",
       "        (phi): Linear(in_features=128, out_features=64, bias=True)\n",
       "        (bn): BatchNorm1d(64, eps=1e-05, momentum=0.1, affine=True, track_running_stats=True)\n",
       "      )\n",
       "      (2): EdgeConv(\n",
       "        (theta): Linear(in_features=64, out_features=32, bias=True)\n",
       "        (phi): Linear(in_features=64, out_features=32, bias=True)\n",
       "        (bn): BatchNorm1d(32, eps=1e-05, momentum=0.1, affine=True, track_running_stats=True)\n",
       "      )\n",
       "      (3): EdgeConv(\n",
       "        (theta): Linear(in_features=32, out_features=6, bias=True)\n",
       "        (phi): Linear(in_features=32, out_features=6, bias=True)\n",
       "        (bn): BatchNorm1d(6, eps=1e-05, momentum=0.1, affine=True, track_running_stats=True)\n",
       "      )\n",
       "    )\n",
       "  )\n",
       "  (1): Decoder(\n",
       "    (shared_path): Sequential(\n",
       "      (0): EdgeConv(\n",
       "        (theta): Linear(in_features=6, out_features=32, bias=True)\n",
       "        (phi): Linear(in_features=6, out_features=32, bias=True)\n",
       "        (bn): BatchNorm1d(32, eps=1e-05, momentum=0.1, affine=True, track_running_stats=True)\n",
       "      )\n",
       "      (1): EdgeConv(\n",
       "        (theta): Linear(in_features=32, out_features=64, bias=True)\n",
       "        (phi): Linear(in_features=32, out_features=64, bias=True)\n",
       "        (bn): BatchNorm1d(64, eps=1e-05, momentum=0.1, affine=True, track_running_stats=True)\n",
       "      )\n",
       "      (2): EdgeConv(\n",
       "        (theta): Linear(in_features=64, out_features=128, bias=True)\n",
       "        (phi): Linear(in_features=64, out_features=128, bias=True)\n",
       "        (bn): BatchNorm1d(128, eps=1e-05, momentum=0.1, affine=True, track_running_stats=True)\n",
       "      )\n",
       "    )\n",
       "    (node_reconstruct): EdgeConv(\n",
       "      (theta): Linear(in_features=128, out_features=7, bias=True)\n",
       "      (phi): Linear(in_features=128, out_features=7, bias=True)\n",
       "    )\n",
       "    (edge_reconstruct1): Sequential(\n",
       "      (0): EdgeConv(\n",
       "        (theta): Linear(in_features=128, out_features=32, bias=True)\n",
       "        (phi): Linear(in_features=128, out_features=32, bias=True)\n",
       "        (bn): BatchNorm1d(32, eps=1e-05, momentum=0.1, affine=True, track_running_stats=True)\n",
       "      )\n",
       "      (1): EdgeConv(\n",
       "        (theta): Linear(in_features=32, out_features=16, bias=True)\n",
       "        (phi): Linear(in_features=32, out_features=16, bias=True)\n",
       "        (bn): BatchNorm1d(16, eps=1e-05, momentum=0.1, affine=True, track_running_stats=True)\n",
       "      )\n",
       "      (2): EdgeConv(\n",
       "        (theta): Linear(in_features=16, out_features=8, bias=True)\n",
       "        (phi): Linear(in_features=16, out_features=8, bias=True)\n",
       "        (bn): BatchNorm1d(8, eps=1e-05, momentum=0.1, affine=True, track_running_stats=True)\n",
       "      )\n",
       "    )\n",
       "    (edge_reconstruct2): Sequential(\n",
       "      (0): EdgeConv(\n",
       "        (theta): Linear(in_features=128, out_features=32, bias=True)\n",
       "        (phi): Linear(in_features=128, out_features=32, bias=True)\n",
       "        (bn): BatchNorm1d(32, eps=1e-05, momentum=0.1, affine=True, track_running_stats=True)\n",
       "      )\n",
       "      (1): EdgeConv(\n",
       "        (theta): Linear(in_features=32, out_features=16, bias=True)\n",
       "        (phi): Linear(in_features=32, out_features=16, bias=True)\n",
       "        (bn): BatchNorm1d(16, eps=1e-05, momentum=0.1, affine=True, track_running_stats=True)\n",
       "      )\n",
       "      (2): EdgeConv(\n",
       "        (theta): Linear(in_features=16, out_features=8, bias=True)\n",
       "        (phi): Linear(in_features=16, out_features=8, bias=True)\n",
       "        (bn): BatchNorm1d(8, eps=1e-05, momentum=0.1, affine=True, track_running_stats=True)\n",
       "      )\n",
       "    )\n",
       "    (edge_reconstruct3): Sequential(\n",
       "      (0): EdgeConv(\n",
       "        (theta): Linear(in_features=128, out_features=32, bias=True)\n",
       "        (phi): Linear(in_features=128, out_features=32, bias=True)\n",
       "        (bn): BatchNorm1d(32, eps=1e-05, momentum=0.1, affine=True, track_running_stats=True)\n",
       "      )\n",
       "      (1): EdgeConv(\n",
       "        (theta): Linear(in_features=32, out_features=16, bias=True)\n",
       "        (phi): Linear(in_features=32, out_features=16, bias=True)\n",
       "        (bn): BatchNorm1d(16, eps=1e-05, momentum=0.1, affine=True, track_running_stats=True)\n",
       "      )\n",
       "      (2): EdgeConv(\n",
       "        (theta): Linear(in_features=16, out_features=8, bias=True)\n",
       "        (phi): Linear(in_features=16, out_features=8, bias=True)\n",
       "        (bn): BatchNorm1d(8, eps=1e-05, momentum=0.1, affine=True, track_running_stats=True)\n",
       "      )\n",
       "    )\n",
       "  )\n",
       ")"
      ]
     },
     "execution_count": 10,
     "metadata": {},
     "output_type": "execute_result"
    }
   ],
   "source": [
    "### Define an optimizer (both for the encoder and the decoder!)\n",
    "lr = 1e-3 # Learning rate\n",
    "loss_fn = custom_loss\n",
    "params_to_optimize = [\n",
    "    {'params': encoder.parameters()},\n",
    "    {'params': decoder.parameters()}\n",
    "]\n",
    "optimizer = torch.optim.Adam(params_to_optimize, lr=lr)\n",
    "\n",
    "# Check if the GPU is available\n",
    "device = torch.device(\"cuda\") if torch.cuda.is_available() else torch.device(\"cpu\")\n",
    "print(f'Selected device: {device}')\n",
    "\n",
    "\"\"\"\n",
    "usando questo bisogna fare scheduler.step(val_loss) alla fine di un epoca\n",
    "\"\"\"\n",
    "lr_scheduler = ReduceLROnPlateau(\n",
    "    optimizer,\n",
    "    mode = 'min',\n",
    "    factor=0.5,\n",
    "    patience=5,\n",
    "    cooldown=5,\n",
    "    min_lr=10e-8, # this should be the minimum value of the lr at which we stop the training\n",
    "    threshold=1e-2\n",
    "    )\n",
    "\n",
    "\n",
    "encoder.to(device)\n",
    "decoder.to(device)\n",
    "autoencoder.to(device)"
   ]
  },
  {
   "attachments": {},
   "cell_type": "markdown",
   "metadata": {},
   "source": [
    "### training and validate function"
   ]
  },
  {
   "cell_type": "code",
   "execution_count": 113,
   "metadata": {},
   "outputs": [],
   "source": [
    "### Training function\n",
    "def train_epoch(encoder, decoder, device, dataloader, loss_fn, optimizer):\n",
    "    # Set train mode for both the encoder and the decoder\n",
    "    encoder.train()\n",
    "    decoder.train()\n",
    "\n",
    "    # abbiamo già definito l'optimizer nella cella precedente\n",
    "    \n",
    "    losses = []\n",
    "    pbar = tqdm(dataloader, 'Steps')\n",
    "    # Iterate the dataloader (we do not need the label values, this is unsupervised learning)\n",
    "    for batch in pbar: # with \"_\" we just ignore the labels (the second element of the dataloader tuple)\n",
    "        \n",
    "        batch = batch.to(device)\n",
    "        #encode\n",
    "        y_encoder_pred = encoder(batch)\n",
    "        #update graph node features with their latent space representation\n",
    "        batch.ndata['l'] = y_encoder_pred\n",
    "        #decode\n",
    "        y_decoder_pred = decoder(batch)\n",
    "\n",
    "        dim = int(np.sqrt(batch.edata['d'].shape[0]))\n",
    "        loss = loss_fn(y_decoder_pred, [batch.ndata['f']] + [batch.edata['d'][:,i].reshape((dim, dim)) for i in range(3)])\n",
    "\n",
    "        optimizer.zero_grad()\n",
    "        loss.backward()\n",
    "        optimizer.step()\n",
    "        \n",
    "        losses.append(loss.detach().cpu().numpy())\n",
    "        pbar.set_postfix_str(f'loss: {losses[-1]:.2f}')\n",
    "        \n",
    "    losses = np.mean(losses)\n",
    "    return losses"
   ]
  },
  {
   "cell_type": "code",
   "execution_count": 11,
   "metadata": {},
   "outputs": [],
   "source": [
    "### Training function\n",
    "def train_epoch2(autoencoder, device, dataloader, loss_fn, optimizer):\n",
    "    # Set train mode for both the encoder and the decoder\n",
    "\n",
    "    autoencoder.train()\n",
    "\n",
    "    # abbiamo già definito l'optimizer nella cella precedente\n",
    "    \n",
    "    losses = []\n",
    "    l_node = 0.3\n",
    "    l_edge = 1\n",
    "    pbar = tqdm(dataloader, 'Steps')\n",
    "    # Iterate the dataloader (we do not need the label values, this is unsupervised learning)\n",
    "    for batch in pbar: # with \"_\" we just ignore the labels (the second element of the dataloader tuple)\n",
    "        \n",
    "        batch = batch.to(device)\n",
    "\n",
    "        #decode\n",
    "        pred_node, pred_edge = autoencoder(batch)\n",
    "\n",
    "        node_loss = nodes_loss(pred_node, batch.ndata['f'])\n",
    "\n",
    "        # get target adj matrix\n",
    "        sparse_coalesce = batch.adj().coalesce()\n",
    "        indices = sparse_coalesce.indices().to(device)\n",
    "        size = sparse_coalesce.size() + (3,)\n",
    "        values = batch.edata['d']\n",
    "\n",
    "        target_adj = torch.sparse_coo_tensor(indices, values, size).to_dense()\n",
    "        edge_loss = edges_loss(pred_edge, target_adj)\n",
    "\n",
    "        del target_adj, indices\n",
    "        loss = l_node * node_loss + l_edge * edge_loss\n",
    "\n",
    "        optimizer.zero_grad()\n",
    "        loss.backward()\n",
    "        optimizer.step()\n",
    "        \n",
    "        losses.append(loss.detach().cpu().numpy())\n",
    "        pbar.set_postfix_str(f'loss: {np.mean(losses):.2f}')\n",
    "        \n",
    "    losses = np.mean(losses)\n",
    "    return losses"
   ]
  },
  {
   "cell_type": "code",
   "execution_count": 12,
   "metadata": {},
   "outputs": [],
   "source": [
    "### Training function\n",
    "def val_epoch2(autoencoder, device, dataloader, loss_fn):\n",
    "    # Set train mode for both the encoder and the decoder\n",
    "\n",
    "    autoencoder.eval()\n",
    "\n",
    "    # abbiamo già definito l'optimizer nella cella precedente\n",
    "    \n",
    "    losses = []\n",
    "    l_node = 0.3\n",
    "    l_edge = 1\n",
    "    pbar = tqdm(dataloader, 'Val Steps')\n",
    "    # Iterate the dataloader (we do not need the label values, this is unsupervised learning)\n",
    "    with torch.no_grad():\n",
    "        for batch in pbar: # with \"_\" we just ignore the labels (the second element of the dataloader tuple)\n",
    "            \n",
    "            batch = batch.to(device)\n",
    "\n",
    "            #decode\n",
    "            pred_node, pred_edge = autoencoder(batch)\n",
    "\n",
    "            node_loss = nodes_loss(pred_node, batch.ndata['f'])\n",
    "\n",
    "            # get target adj matrix\n",
    "            sparse_coalesce = batch.adj().coalesce()\n",
    "            indices = sparse_coalesce.indices().to(device)\n",
    "            size = sparse_coalesce.size() + (3,)\n",
    "            values = batch.edata['d']\n",
    "\n",
    "            target_adj = torch.sparse_coo_tensor(indices, values, size).to_dense()\n",
    "            edge_loss = edges_loss(pred_edge, target_adj)\n",
    "            del target_adj, indices\n",
    "            loss = l_node * node_loss + l_edge * edge_loss\n",
    "            \n",
    "            losses.append(loss.detach().cpu().numpy())\n",
    "            pbar.set_postfix_str(f'loss: {np.mean(losses):.2f}')\n",
    "            \n",
    "    losses = np.mean(losses)\n",
    "    return losses"
   ]
  },
  {
   "cell_type": "code",
   "execution_count": 118,
   "metadata": {},
   "outputs": [],
   "source": [
    "### Testing function\n",
    "def test_epoch(encoder, decoder, device, dataloader, loss_fn):\n",
    "    # Set evaluation mode for encoder and decoder\n",
    "    encoder.eval()\n",
    "    decoder.eval()\n",
    "\n",
    "    with torch.no_grad(): # No need to track the gradients\n",
    "        # Define the lists to store the outputs for each batch\n",
    "        conc_out = []\n",
    "        conc_label = []\n",
    "        for image_batch, _ in dataloader:\n",
    "            # Move tensor to the proper device\n",
    "            image_batch = image_batch.to(device)\n",
    "            # Encode data\n",
    "            encoded_data = encoder(image_batch)\n",
    "            # Decode data\n",
    "            decoded_data = decoder(encoded_data)\n",
    "            # Append the network output and the original image to the lists\n",
    "            conc_out.append(decoded_data.cpu())\n",
    "            conc_label.append(image_batch.cpu())\n",
    "        # Create a single tensor with all the values in the lists\n",
    "        conc_out = torch.cat(conc_out)\n",
    "        conc_label = torch.cat(conc_label) \n",
    "        # Evaluate global loss\n",
    "        val_loss = loss_fn(conc_out, conc_label)\n",
    "    return val_loss.data"
   ]
  },
  {
   "cell_type": "code",
   "execution_count": 13,
   "metadata": {},
   "outputs": [
    {
     "name": "stdout",
     "output_type": "stream",
     "text": [
      "EPOCH 1\n"
     ]
    },
    {
     "data": {
      "application/vnd.jupyter.widget-view+json": {
       "model_id": "8221948f8f1645bc8e3aa674d4802b9f",
       "version_major": 2,
       "version_minor": 0
      },
      "text/plain": [
       "Steps:   0%|          | 0/3125 [00:00<?, ?it/s]"
      ]
     },
     "metadata": {},
     "output_type": "display_data"
    },
    {
     "name": "stdout",
     "output_type": "stream",
     "text": [
      "TRAIN - EPOCH 1 - loss: 1.0813195705413818\n"
     ]
    },
    {
     "data": {
      "application/vnd.jupyter.widget-view+json": {
       "model_id": "d99018ee0c334d86b65dd0c5ee73c170",
       "version_major": 2,
       "version_minor": 0
      },
      "text/plain": [
       "Val Steps:   0%|          | 0/938 [00:00<?, ?it/s]"
      ]
     },
     "metadata": {},
     "output_type": "display_data"
    },
    {
     "name": "stdout",
     "output_type": "stream",
     "text": [
      "VALIDATION - EPOCH 1 - loss: 0.6236509680747986\n",
      "\n",
      "EPOCH 2\n"
     ]
    },
    {
     "data": {
      "application/vnd.jupyter.widget-view+json": {
       "model_id": "72c9152cb64047a5b7605261baebb5f2",
       "version_major": 2,
       "version_minor": 0
      },
      "text/plain": [
       "Steps:   0%|          | 0/3125 [00:00<?, ?it/s]"
      ]
     },
     "metadata": {},
     "output_type": "display_data"
    },
    {
     "name": "stdout",
     "output_type": "stream",
     "text": [
      "TRAIN - EPOCH 2 - loss: 0.615244448184967\n"
     ]
    },
    {
     "data": {
      "application/vnd.jupyter.widget-view+json": {
       "model_id": "538b6cdc5aa144fbaa62ff549937fcb9",
       "version_major": 2,
       "version_minor": 0
      },
      "text/plain": [
       "Val Steps:   0%|          | 0/938 [00:00<?, ?it/s]"
      ]
     },
     "metadata": {},
     "output_type": "display_data"
    },
    {
     "name": "stdout",
     "output_type": "stream",
     "text": [
      "VALIDATION - EPOCH 2 - loss: 0.6125657558441162\n",
      "\n",
      "EPOCH 3\n"
     ]
    },
    {
     "data": {
      "application/vnd.jupyter.widget-view+json": {
       "model_id": "7a6dc4b80fc240d8afc5801b2a1f1fdf",
       "version_major": 2,
       "version_minor": 0
      },
      "text/plain": [
       "Steps:   0%|          | 0/3125 [00:00<?, ?it/s]"
      ]
     },
     "metadata": {},
     "output_type": "display_data"
    },
    {
     "name": "stdout",
     "output_type": "stream",
     "text": [
      "TRAIN - EPOCH 3 - loss: 0.6130086183547974\n"
     ]
    },
    {
     "data": {
      "application/vnd.jupyter.widget-view+json": {
       "model_id": "b45e82a2343b4de49996709ee0edfd35",
       "version_major": 2,
       "version_minor": 0
      },
      "text/plain": [
       "Val Steps:   0%|          | 0/938 [00:00<?, ?it/s]"
      ]
     },
     "metadata": {},
     "output_type": "display_data"
    },
    {
     "name": "stdout",
     "output_type": "stream",
     "text": [
      "VALIDATION - EPOCH 3 - loss: 0.6108614206314087\n",
      "\n",
      "EPOCH 4\n"
     ]
    },
    {
     "data": {
      "application/vnd.jupyter.widget-view+json": {
       "model_id": "8b72165e7abe470093b2a75c01d993d4",
       "version_major": 2,
       "version_minor": 0
      },
      "text/plain": [
       "Steps:   0%|          | 0/3125 [00:00<?, ?it/s]"
      ]
     },
     "metadata": {},
     "output_type": "display_data"
    },
    {
     "name": "stdout",
     "output_type": "stream",
     "text": [
      "TRAIN - EPOCH 4 - loss: 0.5942668914794922\n"
     ]
    },
    {
     "data": {
      "application/vnd.jupyter.widget-view+json": {
       "model_id": "367faf0eb9fd4571b4c9c3ebff848355",
       "version_major": 2,
       "version_minor": 0
      },
      "text/plain": [
       "Val Steps:   0%|          | 0/938 [00:00<?, ?it/s]"
      ]
     },
     "metadata": {},
     "output_type": "display_data"
    },
    {
     "name": "stdout",
     "output_type": "stream",
     "text": [
      "VALIDATION - EPOCH 4 - loss: 0.6011691689491272\n",
      "\n",
      "EPOCH 5\n"
     ]
    },
    {
     "data": {
      "application/vnd.jupyter.widget-view+json": {
       "model_id": "dc4dcd5f39074f7d8a3f95f6071d776e",
       "version_major": 2,
       "version_minor": 0
      },
      "text/plain": [
       "Steps:   0%|          | 0/3125 [00:00<?, ?it/s]"
      ]
     },
     "metadata": {},
     "output_type": "display_data"
    },
    {
     "name": "stdout",
     "output_type": "stream",
     "text": [
      "TRAIN - EPOCH 5 - loss: 0.5875399112701416\n"
     ]
    },
    {
     "data": {
      "application/vnd.jupyter.widget-view+json": {
       "model_id": "c84a3d0c3cb341e6aed6a8b97987e0a2",
       "version_major": 2,
       "version_minor": 0
      },
      "text/plain": [
       "Val Steps:   0%|          | 0/938 [00:00<?, ?it/s]"
      ]
     },
     "metadata": {},
     "output_type": "display_data"
    },
    {
     "name": "stdout",
     "output_type": "stream",
     "text": [
      "VALIDATION - EPOCH 5 - loss: 0.6070371866226196\n",
      "\n",
      "EPOCH 6\n"
     ]
    },
    {
     "data": {
      "application/vnd.jupyter.widget-view+json": {
       "model_id": "8ce633500a034385841612426a59e5db",
       "version_major": 2,
       "version_minor": 0
      },
      "text/plain": [
       "Steps:   0%|          | 0/3125 [00:00<?, ?it/s]"
      ]
     },
     "metadata": {},
     "output_type": "display_data"
    },
    {
     "name": "stdout",
     "output_type": "stream",
     "text": [
      "TRAIN - EPOCH 6 - loss: 0.5842875838279724\n"
     ]
    },
    {
     "data": {
      "application/vnd.jupyter.widget-view+json": {
       "model_id": "d67c104e329b487c8099851f68e2d68b",
       "version_major": 2,
       "version_minor": 0
      },
      "text/plain": [
       "Val Steps:   0%|          | 0/938 [00:00<?, ?it/s]"
      ]
     },
     "metadata": {},
     "output_type": "display_data"
    },
    {
     "name": "stdout",
     "output_type": "stream",
     "text": [
      "VALIDATION - EPOCH 6 - loss: 0.5939152836799622\n",
      "\n",
      "EPOCH 7\n"
     ]
    },
    {
     "data": {
      "application/vnd.jupyter.widget-view+json": {
       "model_id": "3269ffef18f5405c81047a742c166757",
       "version_major": 2,
       "version_minor": 0
      },
      "text/plain": [
       "Steps:   0%|          | 0/3125 [00:00<?, ?it/s]"
      ]
     },
     "metadata": {},
     "output_type": "display_data"
    },
    {
     "name": "stdout",
     "output_type": "stream",
     "text": [
      "TRAIN - EPOCH 7 - loss: 0.5819898247718811\n"
     ]
    },
    {
     "data": {
      "application/vnd.jupyter.widget-view+json": {
       "model_id": "ddf74bf59d2d44b3a9e85a154a0f793d",
       "version_major": 2,
       "version_minor": 0
      },
      "text/plain": [
       "Val Steps:   0%|          | 0/938 [00:00<?, ?it/s]"
      ]
     },
     "metadata": {},
     "output_type": "display_data"
    },
    {
     "name": "stdout",
     "output_type": "stream",
     "text": [
      "VALIDATION - EPOCH 7 - loss: 0.5922857522964478\n",
      "\n",
      "EPOCH 8\n"
     ]
    },
    {
     "data": {
      "application/vnd.jupyter.widget-view+json": {
       "model_id": "8b31f4af3ff547699eeb10ccd6147a85",
       "version_major": 2,
       "version_minor": 0
      },
      "text/plain": [
       "Steps:   0%|          | 0/3125 [00:00<?, ?it/s]"
      ]
     },
     "metadata": {},
     "output_type": "display_data"
    },
    {
     "name": "stdout",
     "output_type": "stream",
     "text": [
      "TRAIN - EPOCH 8 - loss: 0.5801271796226501\n"
     ]
    },
    {
     "data": {
      "application/vnd.jupyter.widget-view+json": {
       "model_id": "077739c6b4fc4f1ca7a12b84b8b12ed7",
       "version_major": 2,
       "version_minor": 0
      },
      "text/plain": [
       "Val Steps:   0%|          | 0/938 [00:00<?, ?it/s]"
      ]
     },
     "metadata": {},
     "output_type": "display_data"
    },
    {
     "name": "stdout",
     "output_type": "stream",
     "text": [
      "VALIDATION - EPOCH 8 - loss: 0.6002849340438843\n",
      "\n",
      "EPOCH 9\n"
     ]
    },
    {
     "data": {
      "application/vnd.jupyter.widget-view+json": {
       "model_id": "08d6f756df2d4acbaf788a79bd049776",
       "version_major": 2,
       "version_minor": 0
      },
      "text/plain": [
       "Steps:   0%|          | 0/3125 [00:00<?, ?it/s]"
      ]
     },
     "metadata": {},
     "output_type": "display_data"
    },
    {
     "name": "stdout",
     "output_type": "stream",
     "text": [
      "TRAIN - EPOCH 9 - loss: 0.5781168937683105\n"
     ]
    },
    {
     "data": {
      "application/vnd.jupyter.widget-view+json": {
       "model_id": "8433fa382fe54c7ea3113dc7dac367cd",
       "version_major": 2,
       "version_minor": 0
      },
      "text/plain": [
       "Val Steps:   0%|          | 0/938 [00:00<?, ?it/s]"
      ]
     },
     "metadata": {},
     "output_type": "display_data"
    },
    {
     "name": "stdout",
     "output_type": "stream",
     "text": [
      "VALIDATION - EPOCH 9 - loss: 0.5914081335067749\n",
      "\n",
      "EPOCH 10\n"
     ]
    },
    {
     "data": {
      "application/vnd.jupyter.widget-view+json": {
       "model_id": "923190b886a34e229fd771db07340db2",
       "version_major": 2,
       "version_minor": 0
      },
      "text/plain": [
       "Steps:   0%|          | 0/3125 [00:00<?, ?it/s]"
      ]
     },
     "metadata": {},
     "output_type": "display_data"
    },
    {
     "name": "stdout",
     "output_type": "stream",
     "text": [
      "TRAIN - EPOCH 10 - loss: 0.5768041610717773\n"
     ]
    },
    {
     "data": {
      "application/vnd.jupyter.widget-view+json": {
       "model_id": "cf318dc487ee4b6a9e897cf318fcc786",
       "version_major": 2,
       "version_minor": 0
      },
      "text/plain": [
       "Val Steps:   0%|          | 0/938 [00:00<?, ?it/s]"
      ]
     },
     "metadata": {},
     "output_type": "display_data"
    },
    {
     "name": "stdout",
     "output_type": "stream",
     "text": [
      "VALIDATION - EPOCH 10 - loss: 0.5973340272903442\n",
      "\n",
      "EPOCH 11\n"
     ]
    },
    {
     "data": {
      "application/vnd.jupyter.widget-view+json": {
       "model_id": "37692216757a43a193084e4a53307275",
       "version_major": 2,
       "version_minor": 0
      },
      "text/plain": [
       "Steps:   0%|          | 0/3125 [00:00<?, ?it/s]"
      ]
     },
     "metadata": {},
     "output_type": "display_data"
    },
    {
     "name": "stdout",
     "output_type": "stream",
     "text": [
      "TRAIN - EPOCH 11 - loss: 0.5757961869239807\n"
     ]
    },
    {
     "data": {
      "application/vnd.jupyter.widget-view+json": {
       "model_id": "be80d3ec6c25498da03ed233b7f92c3a",
       "version_major": 2,
       "version_minor": 0
      },
      "text/plain": [
       "Val Steps:   0%|          | 0/938 [00:00<?, ?it/s]"
      ]
     },
     "metadata": {},
     "output_type": "display_data"
    },
    {
     "name": "stdout",
     "output_type": "stream",
     "text": [
      "VALIDATION - EPOCH 11 - loss: 0.5973362326622009\n",
      "\n",
      "EPOCH 12\n"
     ]
    },
    {
     "data": {
      "application/vnd.jupyter.widget-view+json": {
       "model_id": "369510d4c8d144e8a628cac5db440a68",
       "version_major": 2,
       "version_minor": 0
      },
      "text/plain": [
       "Steps:   0%|          | 0/3125 [00:00<?, ?it/s]"
      ]
     },
     "metadata": {},
     "output_type": "display_data"
    },
    {
     "name": "stdout",
     "output_type": "stream",
     "text": [
      "TRAIN - EPOCH 12 - loss: 0.5748441219329834\n"
     ]
    },
    {
     "data": {
      "application/vnd.jupyter.widget-view+json": {
       "model_id": "d8ee77085314403d908596e6bd54647e",
       "version_major": 2,
       "version_minor": 0
      },
      "text/plain": [
       "Val Steps:   0%|          | 0/938 [00:00<?, ?it/s]"
      ]
     },
     "metadata": {},
     "output_type": "display_data"
    },
    {
     "name": "stdout",
     "output_type": "stream",
     "text": [
      "VALIDATION - EPOCH 12 - loss: 0.5952184200286865\n",
      "\n",
      "EPOCH 13\n"
     ]
    },
    {
     "data": {
      "application/vnd.jupyter.widget-view+json": {
       "model_id": "2031812c276341acb640d63f6b79d44f",
       "version_major": 2,
       "version_minor": 0
      },
      "text/plain": [
       "Steps:   0%|          | 0/3125 [00:00<?, ?it/s]"
      ]
     },
     "metadata": {},
     "output_type": "display_data"
    },
    {
     "name": "stdout",
     "output_type": "stream",
     "text": [
      "TRAIN - EPOCH 13 - loss: 0.5743027925491333\n"
     ]
    },
    {
     "data": {
      "application/vnd.jupyter.widget-view+json": {
       "model_id": "47fba2c3e1c74b8daf5769b653fd2851",
       "version_major": 2,
       "version_minor": 0
      },
      "text/plain": [
       "Val Steps:   0%|          | 0/938 [00:00<?, ?it/s]"
      ]
     },
     "metadata": {},
     "output_type": "display_data"
    },
    {
     "name": "stdout",
     "output_type": "stream",
     "text": [
      "VALIDATION - EPOCH 13 - loss: 0.6078124046325684\n",
      "\n",
      "EPOCH 14\n"
     ]
    },
    {
     "data": {
      "application/vnd.jupyter.widget-view+json": {
       "model_id": "71ae8a1cbe3b42abbb6c2ed35e3b4b8c",
       "version_major": 2,
       "version_minor": 0
      },
      "text/plain": [
       "Steps:   0%|          | 0/3125 [00:00<?, ?it/s]"
      ]
     },
     "metadata": {},
     "output_type": "display_data"
    },
    {
     "name": "stdout",
     "output_type": "stream",
     "text": [
      "TRAIN - EPOCH 14 - loss: 0.5737954378128052\n"
     ]
    },
    {
     "data": {
      "application/vnd.jupyter.widget-view+json": {
       "model_id": "31666dde3d3f4ebf9337c12aa081cfe6",
       "version_major": 2,
       "version_minor": 0
      },
      "text/plain": [
       "Val Steps:   0%|          | 0/938 [00:00<?, ?it/s]"
      ]
     },
     "metadata": {},
     "output_type": "display_data"
    },
    {
     "name": "stdout",
     "output_type": "stream",
     "text": [
      "VALIDATION - EPOCH 14 - loss: 0.6005647778511047\n",
      "\n",
      "EPOCH 15\n"
     ]
    },
    {
     "data": {
      "application/vnd.jupyter.widget-view+json": {
       "model_id": "6892fe1b646c4fdd8eb030bf88179a7f",
       "version_major": 2,
       "version_minor": 0
      },
      "text/plain": [
       "Steps:   0%|          | 0/3125 [00:00<?, ?it/s]"
      ]
     },
     "metadata": {},
     "output_type": "display_data"
    },
    {
     "name": "stdout",
     "output_type": "stream",
     "text": [
      "TRAIN - EPOCH 15 - loss: 0.5733107924461365\n"
     ]
    },
    {
     "data": {
      "application/vnd.jupyter.widget-view+json": {
       "model_id": "dbf85fe02114448491ea447febbf628d",
       "version_major": 2,
       "version_minor": 0
      },
      "text/plain": [
       "Val Steps:   0%|          | 0/938 [00:00<?, ?it/s]"
      ]
     },
     "metadata": {},
     "output_type": "display_data"
    },
    {
     "name": "stdout",
     "output_type": "stream",
     "text": [
      "VALIDATION - EPOCH 15 - loss: 0.6099252104759216\n",
      "\n",
      "EPOCH 16\n"
     ]
    },
    {
     "data": {
      "application/vnd.jupyter.widget-view+json": {
       "model_id": "b0c411719c9946e9a32228e6a594cad7",
       "version_major": 2,
       "version_minor": 0
      },
      "text/plain": [
       "Steps:   0%|          | 0/3125 [00:00<?, ?it/s]"
      ]
     },
     "metadata": {},
     "output_type": "display_data"
    },
    {
     "name": "stdout",
     "output_type": "stream",
     "text": [
      "TRAIN - EPOCH 16 - loss: 0.5715900659561157\n"
     ]
    },
    {
     "data": {
      "application/vnd.jupyter.widget-view+json": {
       "model_id": "d5ceab86226b44d78b898ef6e0257fda",
       "version_major": 2,
       "version_minor": 0
      },
      "text/plain": [
       "Val Steps:   0%|          | 0/938 [00:00<?, ?it/s]"
      ]
     },
     "metadata": {},
     "output_type": "display_data"
    },
    {
     "name": "stdout",
     "output_type": "stream",
     "text": [
      "VALIDATION - EPOCH 16 - loss: 0.6073896288871765\n",
      "\n",
      "EPOCH 17\n"
     ]
    },
    {
     "data": {
      "application/vnd.jupyter.widget-view+json": {
       "model_id": "33743c408bd0440fae62e1e4649763e0",
       "version_major": 2,
       "version_minor": 0
      },
      "text/plain": [
       "Steps:   0%|          | 0/3125 [00:00<?, ?it/s]"
      ]
     },
     "metadata": {},
     "output_type": "display_data"
    },
    {
     "name": "stdout",
     "output_type": "stream",
     "text": [
      "TRAIN - EPOCH 17 - loss: 0.5713114738464355\n"
     ]
    },
    {
     "data": {
      "application/vnd.jupyter.widget-view+json": {
       "model_id": "0808506b79e74a298dd3f1de47f4da2c",
       "version_major": 2,
       "version_minor": 0
      },
      "text/plain": [
       "Val Steps:   0%|          | 0/938 [00:00<?, ?it/s]"
      ]
     },
     "metadata": {},
     "output_type": "display_data"
    },
    {
     "name": "stdout",
     "output_type": "stream",
     "text": [
      "VALIDATION - EPOCH 17 - loss: 0.6042851209640503\n",
      "\n",
      "EPOCH 18\n"
     ]
    },
    {
     "data": {
      "application/vnd.jupyter.widget-view+json": {
       "model_id": "a1cafc95bda44e5bbc29bac3d47b8636",
       "version_major": 2,
       "version_minor": 0
      },
      "text/plain": [
       "Steps:   0%|          | 0/3125 [00:00<?, ?it/s]"
      ]
     },
     "metadata": {},
     "output_type": "display_data"
    },
    {
     "name": "stdout",
     "output_type": "stream",
     "text": [
      "TRAIN - EPOCH 18 - loss: 0.5710493922233582\n"
     ]
    },
    {
     "data": {
      "application/vnd.jupyter.widget-view+json": {
       "model_id": "7fc100e8929c491792be2f98e6ad1669",
       "version_major": 2,
       "version_minor": 0
      },
      "text/plain": [
       "Val Steps:   0%|          | 0/938 [00:00<?, ?it/s]"
      ]
     },
     "metadata": {},
     "output_type": "display_data"
    },
    {
     "name": "stdout",
     "output_type": "stream",
     "text": [
      "VALIDATION - EPOCH 18 - loss: 0.6095766425132751\n",
      "\n",
      "EPOCH 19\n"
     ]
    },
    {
     "data": {
      "application/vnd.jupyter.widget-view+json": {
       "model_id": "43346f055eb342fb9ca655f60ab16458",
       "version_major": 2,
       "version_minor": 0
      },
      "text/plain": [
       "Steps:   0%|          | 0/3125 [00:00<?, ?it/s]"
      ]
     },
     "metadata": {},
     "output_type": "display_data"
    },
    {
     "name": "stdout",
     "output_type": "stream",
     "text": [
      "TRAIN - EPOCH 19 - loss: 0.5704460740089417\n"
     ]
    },
    {
     "data": {
      "application/vnd.jupyter.widget-view+json": {
       "model_id": "dfd968719d5a4ed8854147e08d6e71fe",
       "version_major": 2,
       "version_minor": 0
      },
      "text/plain": [
       "Val Steps:   0%|          | 0/938 [00:00<?, ?it/s]"
      ]
     },
     "metadata": {},
     "output_type": "display_data"
    },
    {
     "name": "stdout",
     "output_type": "stream",
     "text": [
      "VALIDATION - EPOCH 19 - loss: 0.6074389219284058\n",
      "\n",
      "EPOCH 20\n"
     ]
    },
    {
     "data": {
      "application/vnd.jupyter.widget-view+json": {
       "model_id": "9192e427e7e64309967a5d3176f48b3f",
       "version_major": 2,
       "version_minor": 0
      },
      "text/plain": [
       "Steps:   0%|          | 0/3125 [00:00<?, ?it/s]"
      ]
     },
     "metadata": {},
     "output_type": "display_data"
    },
    {
     "name": "stdout",
     "output_type": "stream",
     "text": [
      "TRAIN - EPOCH 20 - loss: 0.5694342851638794\n"
     ]
    },
    {
     "data": {
      "application/vnd.jupyter.widget-view+json": {
       "model_id": "2a272cc7bc4847dab7f70505c8647f71",
       "version_major": 2,
       "version_minor": 0
      },
      "text/plain": [
       "Val Steps:   0%|          | 0/938 [00:00<?, ?it/s]"
      ]
     },
     "metadata": {},
     "output_type": "display_data"
    },
    {
     "name": "stdout",
     "output_type": "stream",
     "text": [
      "VALIDATION - EPOCH 20 - loss: 0.6198837757110596\n",
      "\n",
      "EPOCH 21\n"
     ]
    },
    {
     "data": {
      "application/vnd.jupyter.widget-view+json": {
       "model_id": "6f4c315296a0498c898302814236fae5",
       "version_major": 2,
       "version_minor": 0
      },
      "text/plain": [
       "Steps:   0%|          | 0/3125 [00:00<?, ?it/s]"
      ]
     },
     "metadata": {},
     "output_type": "display_data"
    },
    {
     "name": "stdout",
     "output_type": "stream",
     "text": [
      "TRAIN - EPOCH 21 - loss: 0.5689519047737122\n"
     ]
    },
    {
     "data": {
      "application/vnd.jupyter.widget-view+json": {
       "model_id": "162f9c4f90204217b5dbc4f9decb1bc5",
       "version_major": 2,
       "version_minor": 0
      },
      "text/plain": [
       "Val Steps:   0%|          | 0/938 [00:00<?, ?it/s]"
      ]
     },
     "metadata": {},
     "output_type": "display_data"
    },
    {
     "name": "stdout",
     "output_type": "stream",
     "text": [
      "VALIDATION - EPOCH 21 - loss: 0.602042555809021\n",
      "\n",
      "EPOCH 22\n"
     ]
    },
    {
     "data": {
      "application/vnd.jupyter.widget-view+json": {
       "model_id": "50b940b985ac4951ace760717164a775",
       "version_major": 2,
       "version_minor": 0
      },
      "text/plain": [
       "Steps:   0%|          | 0/3125 [00:00<?, ?it/s]"
      ]
     },
     "metadata": {},
     "output_type": "display_data"
    },
    {
     "name": "stdout",
     "output_type": "stream",
     "text": [
      "TRAIN - EPOCH 22 - loss: 0.5686051249504089\n"
     ]
    },
    {
     "data": {
      "application/vnd.jupyter.widget-view+json": {
       "model_id": "a3dc9255d8ed4e59be1a1cbbd94277e5",
       "version_major": 2,
       "version_minor": 0
      },
      "text/plain": [
       "Val Steps:   0%|          | 0/938 [00:00<?, ?it/s]"
      ]
     },
     "metadata": {},
     "output_type": "display_data"
    },
    {
     "name": "stdout",
     "output_type": "stream",
     "text": [
      "VALIDATION - EPOCH 22 - loss: 0.6027772426605225\n",
      "\n",
      "EPOCH 23\n"
     ]
    },
    {
     "data": {
      "application/vnd.jupyter.widget-view+json": {
       "model_id": "b1776c649d59407a93a610b307f7d102",
       "version_major": 2,
       "version_minor": 0
      },
      "text/plain": [
       "Steps:   0%|          | 0/3125 [00:00<?, ?it/s]"
      ]
     },
     "metadata": {},
     "output_type": "display_data"
    },
    {
     "name": "stdout",
     "output_type": "stream",
     "text": [
      "TRAIN - EPOCH 23 - loss: 0.5682306885719299\n"
     ]
    },
    {
     "data": {
      "application/vnd.jupyter.widget-view+json": {
       "model_id": "6573de85d1da4bdcbb2a2c1e58b01636",
       "version_major": 2,
       "version_minor": 0
      },
      "text/plain": [
       "Val Steps:   0%|          | 0/938 [00:00<?, ?it/s]"
      ]
     },
     "metadata": {},
     "output_type": "display_data"
    },
    {
     "name": "stdout",
     "output_type": "stream",
     "text": [
      "VALIDATION - EPOCH 23 - loss: 0.6080213189125061\n",
      "\n",
      "EPOCH 24\n"
     ]
    },
    {
     "data": {
      "application/vnd.jupyter.widget-view+json": {
       "model_id": "29907734b0dc43bd9dcb95df7f219bf2",
       "version_major": 2,
       "version_minor": 0
      },
      "text/plain": [
       "Steps:   0%|          | 0/3125 [00:00<?, ?it/s]"
      ]
     },
     "metadata": {},
     "output_type": "display_data"
    },
    {
     "name": "stdout",
     "output_type": "stream",
     "text": [
      "TRAIN - EPOCH 24 - loss: 0.5680601596832275\n"
     ]
    },
    {
     "data": {
      "application/vnd.jupyter.widget-view+json": {
       "model_id": "1f9b884812e747ecaec36353402582f8",
       "version_major": 2,
       "version_minor": 0
      },
      "text/plain": [
       "Val Steps:   0%|          | 0/938 [00:00<?, ?it/s]"
      ]
     },
     "metadata": {},
     "output_type": "display_data"
    },
    {
     "name": "stdout",
     "output_type": "stream",
     "text": [
      "VALIDATION - EPOCH 24 - loss: 0.6067260503768921\n",
      "\n",
      "EPOCH 25\n"
     ]
    },
    {
     "data": {
      "application/vnd.jupyter.widget-view+json": {
       "model_id": "176d113968f7433b8065c767bb86db37",
       "version_major": 2,
       "version_minor": 0
      },
      "text/plain": [
       "Steps:   0%|          | 0/3125 [00:00<?, ?it/s]"
      ]
     },
     "metadata": {},
     "output_type": "display_data"
    },
    {
     "name": "stdout",
     "output_type": "stream",
     "text": [
      "TRAIN - EPOCH 25 - loss: 0.5678790807723999\n"
     ]
    },
    {
     "data": {
      "application/vnd.jupyter.widget-view+json": {
       "model_id": "5d983802d2a84108831363cead25109f",
       "version_major": 2,
       "version_minor": 0
      },
      "text/plain": [
       "Val Steps:   0%|          | 0/938 [00:00<?, ?it/s]"
      ]
     },
     "metadata": {},
     "output_type": "display_data"
    },
    {
     "name": "stdout",
     "output_type": "stream",
     "text": [
      "VALIDATION - EPOCH 25 - loss: 0.6273806691169739\n",
      "\n",
      "EPOCH 26\n"
     ]
    },
    {
     "data": {
      "application/vnd.jupyter.widget-view+json": {
       "model_id": "ebb26ea5f7964ac98668c32e8565ea43",
       "version_major": 2,
       "version_minor": 0
      },
      "text/plain": [
       "Steps:   0%|          | 0/3125 [00:00<?, ?it/s]"
      ]
     },
     "metadata": {},
     "output_type": "display_data"
    },
    {
     "name": "stdout",
     "output_type": "stream",
     "text": [
      "TRAIN - EPOCH 26 - loss: 0.5676323175430298\n"
     ]
    },
    {
     "data": {
      "application/vnd.jupyter.widget-view+json": {
       "model_id": "f3f445ca1a194ced83e209648687568f",
       "version_major": 2,
       "version_minor": 0
      },
      "text/plain": [
       "Val Steps:   0%|          | 0/938 [00:00<?, ?it/s]"
      ]
     },
     "metadata": {},
     "output_type": "display_data"
    },
    {
     "name": "stdout",
     "output_type": "stream",
     "text": [
      "VALIDATION - EPOCH 26 - loss: 0.6078549027442932\n",
      "\n",
      "EPOCH 27\n"
     ]
    },
    {
     "data": {
      "application/vnd.jupyter.widget-view+json": {
       "model_id": "ba9d52d7149540669956524d0dd6f421",
       "version_major": 2,
       "version_minor": 0
      },
      "text/plain": [
       "Steps:   0%|          | 0/3125 [00:00<?, ?it/s]"
      ]
     },
     "metadata": {},
     "output_type": "display_data"
    },
    {
     "name": "stdout",
     "output_type": "stream",
     "text": [
      "TRAIN - EPOCH 27 - loss: 0.5666119456291199\n"
     ]
    },
    {
     "data": {
      "application/vnd.jupyter.widget-view+json": {
       "model_id": "1d94c231360c4156b5d89d1b62fddc66",
       "version_major": 2,
       "version_minor": 0
      },
      "text/plain": [
       "Val Steps:   0%|          | 0/938 [00:00<?, ?it/s]"
      ]
     },
     "metadata": {},
     "output_type": "display_data"
    },
    {
     "name": "stdout",
     "output_type": "stream",
     "text": [
      "VALIDATION - EPOCH 27 - loss: 0.6079732775688171\n",
      "\n",
      "EPOCH 28\n"
     ]
    },
    {
     "data": {
      "application/vnd.jupyter.widget-view+json": {
       "model_id": "951b2ae0e24048f08c54ee4a5ccad1bf",
       "version_major": 2,
       "version_minor": 0
      },
      "text/plain": [
       "Steps:   0%|          | 0/3125 [00:00<?, ?it/s]"
      ]
     },
     "metadata": {},
     "output_type": "display_data"
    },
    {
     "name": "stdout",
     "output_type": "stream",
     "text": [
      "TRAIN - EPOCH 28 - loss: 0.5664820075035095\n"
     ]
    },
    {
     "data": {
      "application/vnd.jupyter.widget-view+json": {
       "model_id": "7fef55a82d7c4bfb851f7bb804087cce",
       "version_major": 2,
       "version_minor": 0
      },
      "text/plain": [
       "Val Steps:   0%|          | 0/938 [00:00<?, ?it/s]"
      ]
     },
     "metadata": {},
     "output_type": "display_data"
    },
    {
     "name": "stdout",
     "output_type": "stream",
     "text": [
      "VALIDATION - EPOCH 28 - loss: 0.6115608215332031\n",
      "\n",
      "EPOCH 29\n"
     ]
    },
    {
     "data": {
      "application/vnd.jupyter.widget-view+json": {
       "model_id": "e9911e1ba4944d18bc200a553d6580e7",
       "version_major": 2,
       "version_minor": 0
      },
      "text/plain": [
       "Steps:   0%|          | 0/3125 [00:00<?, ?it/s]"
      ]
     },
     "metadata": {},
     "output_type": "display_data"
    },
    {
     "name": "stdout",
     "output_type": "stream",
     "text": [
      "TRAIN - EPOCH 29 - loss: 0.5664435029029846\n"
     ]
    },
    {
     "data": {
      "application/vnd.jupyter.widget-view+json": {
       "model_id": "72925631a3434a55aba0e19d24504243",
       "version_major": 2,
       "version_minor": 0
      },
      "text/plain": [
       "Val Steps:   0%|          | 0/938 [00:00<?, ?it/s]"
      ]
     },
     "metadata": {},
     "output_type": "display_data"
    },
    {
     "name": "stdout",
     "output_type": "stream",
     "text": [
      "VALIDATION - EPOCH 29 - loss: 0.6129857301712036\n",
      "\n",
      "EPOCH 30\n"
     ]
    },
    {
     "data": {
      "application/vnd.jupyter.widget-view+json": {
       "model_id": "88025f63b2bd43548c1c602742206b8a",
       "version_major": 2,
       "version_minor": 0
      },
      "text/plain": [
       "Steps:   0%|          | 0/3125 [00:00<?, ?it/s]"
      ]
     },
     "metadata": {},
     "output_type": "display_data"
    },
    {
     "name": "stdout",
     "output_type": "stream",
     "text": [
      "TRAIN - EPOCH 30 - loss: 0.5662486553192139\n"
     ]
    },
    {
     "data": {
      "application/vnd.jupyter.widget-view+json": {
       "model_id": "27c4965ec73446298e8707b6e3bf4c6a",
       "version_major": 2,
       "version_minor": 0
      },
      "text/plain": [
       "Val Steps:   0%|          | 0/938 [00:00<?, ?it/s]"
      ]
     },
     "metadata": {},
     "output_type": "display_data"
    },
    {
     "name": "stdout",
     "output_type": "stream",
     "text": [
      "VALIDATION - EPOCH 30 - loss: 0.6085339784622192\n",
      "\n",
      "EPOCH 31\n"
     ]
    },
    {
     "data": {
      "application/vnd.jupyter.widget-view+json": {
       "model_id": "7bcc207a32c54deb927791079a25e134",
       "version_major": 2,
       "version_minor": 0
      },
      "text/plain": [
       "Steps:   0%|          | 0/3125 [00:00<?, ?it/s]"
      ]
     },
     "metadata": {},
     "output_type": "display_data"
    },
    {
     "name": "stdout",
     "output_type": "stream",
     "text": [
      "TRAIN - EPOCH 31 - loss: 0.5662208795547485\n"
     ]
    },
    {
     "data": {
      "application/vnd.jupyter.widget-view+json": {
       "model_id": "acba1103b6514f4baeb18fd16fdc1e79",
       "version_major": 2,
       "version_minor": 0
      },
      "text/plain": [
       "Val Steps:   0%|          | 0/938 [00:00<?, ?it/s]"
      ]
     },
     "metadata": {},
     "output_type": "display_data"
    },
    {
     "name": "stdout",
     "output_type": "stream",
     "text": [
      "VALIDATION - EPOCH 31 - loss: 0.623172402381897\n",
      "\n",
      "EPOCH 32\n"
     ]
    },
    {
     "data": {
      "application/vnd.jupyter.widget-view+json": {
       "model_id": "482ddc3eb02e4835b9c146b5cfdafd04",
       "version_major": 2,
       "version_minor": 0
      },
      "text/plain": [
       "Steps:   0%|          | 0/3125 [00:00<?, ?it/s]"
      ]
     },
     "metadata": {},
     "output_type": "display_data"
    },
    {
     "name": "stdout",
     "output_type": "stream",
     "text": [
      "TRAIN - EPOCH 32 - loss: 0.5661245584487915\n"
     ]
    },
    {
     "data": {
      "application/vnd.jupyter.widget-view+json": {
       "model_id": "4877d6b74cbe4b69a274b2924b7136f0",
       "version_major": 2,
       "version_minor": 0
      },
      "text/plain": [
       "Val Steps:   0%|          | 0/938 [00:00<?, ?it/s]"
      ]
     },
     "metadata": {},
     "output_type": "display_data"
    },
    {
     "name": "stdout",
     "output_type": "stream",
     "text": [
      "VALIDATION - EPOCH 32 - loss: 0.6051265001296997\n",
      "\n",
      "EPOCH 33\n"
     ]
    },
    {
     "data": {
      "application/vnd.jupyter.widget-view+json": {
       "model_id": "4fe110fbff9b4f6da03243dce6f520d3",
       "version_major": 2,
       "version_minor": 0
      },
      "text/plain": [
       "Steps:   0%|          | 0/3125 [00:00<?, ?it/s]"
      ]
     },
     "metadata": {},
     "output_type": "display_data"
    },
    {
     "name": "stdout",
     "output_type": "stream",
     "text": [
      "TRAIN - EPOCH 33 - loss: 0.5660574436187744\n"
     ]
    },
    {
     "data": {
      "application/vnd.jupyter.widget-view+json": {
       "model_id": "f7706a3bfc924e9ba88ed321cfc802ca",
       "version_major": 2,
       "version_minor": 0
      },
      "text/plain": [
       "Val Steps:   0%|          | 0/938 [00:00<?, ?it/s]"
      ]
     },
     "metadata": {},
     "output_type": "display_data"
    },
    {
     "name": "stdout",
     "output_type": "stream",
     "text": [
      "VALIDATION - EPOCH 33 - loss: 0.6198881268501282\n",
      "\n",
      "EPOCH 34\n"
     ]
    },
    {
     "data": {
      "application/vnd.jupyter.widget-view+json": {
       "model_id": "68ad3015624649aa8ec01967aa99f49a",
       "version_major": 2,
       "version_minor": 0
      },
      "text/plain": [
       "Steps:   0%|          | 0/3125 [00:00<?, ?it/s]"
      ]
     },
     "metadata": {},
     "output_type": "display_data"
    },
    {
     "name": "stdout",
     "output_type": "stream",
     "text": [
      "TRAIN - EPOCH 34 - loss: 0.5659971237182617\n"
     ]
    },
    {
     "data": {
      "application/vnd.jupyter.widget-view+json": {
       "model_id": "29f1f2232fb44257a555a1de59e52da6",
       "version_major": 2,
       "version_minor": 0
      },
      "text/plain": [
       "Val Steps:   0%|          | 0/938 [00:00<?, ?it/s]"
      ]
     },
     "metadata": {},
     "output_type": "display_data"
    },
    {
     "name": "stdout",
     "output_type": "stream",
     "text": [
      "VALIDATION - EPOCH 34 - loss: 0.605667233467102\n",
      "\n",
      "EPOCH 35\n"
     ]
    },
    {
     "data": {
      "application/vnd.jupyter.widget-view+json": {
       "model_id": "bb852f0085634f66ad97200d9345894a",
       "version_major": 2,
       "version_minor": 0
      },
      "text/plain": [
       "Steps:   0%|          | 0/3125 [00:00<?, ?it/s]"
      ]
     },
     "metadata": {},
     "output_type": "display_data"
    },
    {
     "name": "stdout",
     "output_type": "stream",
     "text": [
      "TRAIN - EPOCH 35 - loss: 0.5659021735191345\n"
     ]
    },
    {
     "data": {
      "application/vnd.jupyter.widget-view+json": {
       "model_id": "ed035249bc704bcab89539e6402325c3",
       "version_major": 2,
       "version_minor": 0
      },
      "text/plain": [
       "Val Steps:   0%|          | 0/938 [00:00<?, ?it/s]"
      ]
     },
     "metadata": {},
     "output_type": "display_data"
    },
    {
     "name": "stdout",
     "output_type": "stream",
     "text": [
      "VALIDATION - EPOCH 35 - loss: 0.6130731701850891\n",
      "\n",
      "EPOCH 36\n"
     ]
    },
    {
     "data": {
      "application/vnd.jupyter.widget-view+json": {
       "model_id": "70bbede7bc9d4dbbbbcd5271cdad0517",
       "version_major": 2,
       "version_minor": 0
      },
      "text/plain": [
       "Steps:   0%|          | 0/3125 [00:00<?, ?it/s]"
      ]
     },
     "metadata": {},
     "output_type": "display_data"
    },
    {
     "name": "stdout",
     "output_type": "stream",
     "text": [
      "TRAIN - EPOCH 36 - loss: 0.5658632516860962\n"
     ]
    },
    {
     "data": {
      "application/vnd.jupyter.widget-view+json": {
       "model_id": "d5dfcd09b01448fd9e51d88de496b361",
       "version_major": 2,
       "version_minor": 0
      },
      "text/plain": [
       "Val Steps:   0%|          | 0/938 [00:00<?, ?it/s]"
      ]
     },
     "metadata": {},
     "output_type": "display_data"
    },
    {
     "name": "stdout",
     "output_type": "stream",
     "text": [
      "VALIDATION - EPOCH 36 - loss: 0.613447368144989\n",
      "\n",
      "EPOCH 37\n"
     ]
    },
    {
     "data": {
      "application/vnd.jupyter.widget-view+json": {
       "model_id": "fc42389cc4ac4bb889bbb0d7faf170a7",
       "version_major": 2,
       "version_minor": 0
      },
      "text/plain": [
       "Steps:   0%|          | 0/3125 [00:00<?, ?it/s]"
      ]
     },
     "metadata": {},
     "output_type": "display_data"
    },
    {
     "name": "stdout",
     "output_type": "stream",
     "text": [
      "TRAIN - EPOCH 37 - loss: 0.5657855272293091\n"
     ]
    },
    {
     "data": {
      "application/vnd.jupyter.widget-view+json": {
       "model_id": "f767613d1e06410fb7462b3c7c5dd0eb",
       "version_major": 2,
       "version_minor": 0
      },
      "text/plain": [
       "Val Steps:   0%|          | 0/938 [00:00<?, ?it/s]"
      ]
     },
     "metadata": {},
     "output_type": "display_data"
    },
    {
     "name": "stdout",
     "output_type": "stream",
     "text": [
      "VALIDATION - EPOCH 37 - loss: 0.6130496263504028\n",
      "\n",
      "EPOCH 38\n"
     ]
    },
    {
     "data": {
      "application/vnd.jupyter.widget-view+json": {
       "model_id": "765f18b84a524a28b05c6d4f2165a94f",
       "version_major": 2,
       "version_minor": 0
      },
      "text/plain": [
       "Steps:   0%|          | 0/3125 [00:00<?, ?it/s]"
      ]
     },
     "metadata": {},
     "output_type": "display_data"
    },
    {
     "name": "stdout",
     "output_type": "stream",
     "text": [
      "TRAIN - EPOCH 38 - loss: 0.5652605295181274\n"
     ]
    },
    {
     "data": {
      "application/vnd.jupyter.widget-view+json": {
       "model_id": "39feca5139e64812936a6aba24a333a5",
       "version_major": 2,
       "version_minor": 0
      },
      "text/plain": [
       "Val Steps:   0%|          | 0/938 [00:00<?, ?it/s]"
      ]
     },
     "metadata": {},
     "output_type": "display_data"
    },
    {
     "name": "stdout",
     "output_type": "stream",
     "text": [
      "VALIDATION - EPOCH 38 - loss: 0.6099682450294495\n",
      "\n",
      "EPOCH 39\n"
     ]
    },
    {
     "data": {
      "application/vnd.jupyter.widget-view+json": {
       "model_id": "a14bb86254fb4980a5c499e295834f1e",
       "version_major": 2,
       "version_minor": 0
      },
      "text/plain": [
       "Steps:   0%|          | 0/3125 [00:00<?, ?it/s]"
      ]
     },
     "metadata": {},
     "output_type": "display_data"
    },
    {
     "name": "stdout",
     "output_type": "stream",
     "text": [
      "TRAIN - EPOCH 39 - loss: 0.5652288794517517\n"
     ]
    },
    {
     "data": {
      "application/vnd.jupyter.widget-view+json": {
       "model_id": "3e349d869dfe40168a38e5b831edf0b5",
       "version_major": 2,
       "version_minor": 0
      },
      "text/plain": [
       "Val Steps:   0%|          | 0/938 [00:00<?, ?it/s]"
      ]
     },
     "metadata": {},
     "output_type": "display_data"
    },
    {
     "name": "stdout",
     "output_type": "stream",
     "text": [
      "VALIDATION - EPOCH 39 - loss: 0.617172122001648\n",
      "\n",
      "EPOCH 40\n"
     ]
    },
    {
     "data": {
      "application/vnd.jupyter.widget-view+json": {
       "model_id": "283d9e1a69074949a11b17690ba8d5a3",
       "version_major": 2,
       "version_minor": 0
      },
      "text/plain": [
       "Steps:   0%|          | 0/3125 [00:00<?, ?it/s]"
      ]
     },
     "metadata": {},
     "output_type": "display_data"
    },
    {
     "name": "stdout",
     "output_type": "stream",
     "text": [
      "TRAIN - EPOCH 40 - loss: 0.5651758313179016\n"
     ]
    },
    {
     "data": {
      "application/vnd.jupyter.widget-view+json": {
       "model_id": "5593bdfd969d41459cbf0d42141b53c2",
       "version_major": 2,
       "version_minor": 0
      },
      "text/plain": [
       "Val Steps:   0%|          | 0/938 [00:00<?, ?it/s]"
      ]
     },
     "metadata": {},
     "output_type": "display_data"
    },
    {
     "name": "stdout",
     "output_type": "stream",
     "text": [
      "VALIDATION - EPOCH 40 - loss: 0.6075140237808228\n",
      "\n",
      "EPOCH 41\n"
     ]
    },
    {
     "data": {
      "application/vnd.jupyter.widget-view+json": {
       "model_id": "b1af6e0869424d9cb8d35e8b672e2b05",
       "version_major": 2,
       "version_minor": 0
      },
      "text/plain": [
       "Steps:   0%|          | 0/3125 [00:00<?, ?it/s]"
      ]
     },
     "metadata": {},
     "output_type": "display_data"
    },
    {
     "name": "stdout",
     "output_type": "stream",
     "text": [
      "TRAIN - EPOCH 41 - loss: 0.5651020407676697\n"
     ]
    },
    {
     "data": {
      "application/vnd.jupyter.widget-view+json": {
       "model_id": "a9ac8df8f3df4473972ab85adf82684b",
       "version_major": 2,
       "version_minor": 0
      },
      "text/plain": [
       "Val Steps:   0%|          | 0/938 [00:00<?, ?it/s]"
      ]
     },
     "metadata": {},
     "output_type": "display_data"
    },
    {
     "name": "stdout",
     "output_type": "stream",
     "text": [
      "VALIDATION - EPOCH 41 - loss: 0.6144163608551025\n",
      "\n",
      "EPOCH 42\n"
     ]
    },
    {
     "data": {
      "application/vnd.jupyter.widget-view+json": {
       "model_id": "f97b1e5c724d4b66b542e9085c2ca410",
       "version_major": 2,
       "version_minor": 0
      },
      "text/plain": [
       "Steps:   0%|          | 0/3125 [00:00<?, ?it/s]"
      ]
     },
     "metadata": {},
     "output_type": "display_data"
    },
    {
     "name": "stdout",
     "output_type": "stream",
     "text": [
      "TRAIN - EPOCH 42 - loss: 0.5650956630706787\n"
     ]
    },
    {
     "data": {
      "application/vnd.jupyter.widget-view+json": {
       "model_id": "71b88bf1ac8e4488a1edf9af8b5481db",
       "version_major": 2,
       "version_minor": 0
      },
      "text/plain": [
       "Val Steps:   0%|          | 0/938 [00:00<?, ?it/s]"
      ]
     },
     "metadata": {},
     "output_type": "display_data"
    },
    {
     "name": "stdout",
     "output_type": "stream",
     "text": [
      "VALIDATION - EPOCH 42 - loss: 0.6208266615867615\n",
      "\n",
      "EPOCH 43\n"
     ]
    },
    {
     "data": {
      "application/vnd.jupyter.widget-view+json": {
       "model_id": "300c594014674c81bf864c7094ea20bf",
       "version_major": 2,
       "version_minor": 0
      },
      "text/plain": [
       "Steps:   0%|          | 0/3125 [00:00<?, ?it/s]"
      ]
     },
     "metadata": {},
     "output_type": "display_data"
    },
    {
     "name": "stdout",
     "output_type": "stream",
     "text": [
      "TRAIN - EPOCH 43 - loss: 0.5650796890258789\n"
     ]
    },
    {
     "data": {
      "application/vnd.jupyter.widget-view+json": {
       "model_id": "c39160ba5ec74e72b6e206131f52ff2e",
       "version_major": 2,
       "version_minor": 0
      },
      "text/plain": [
       "Val Steps:   0%|          | 0/938 [00:00<?, ?it/s]"
      ]
     },
     "metadata": {},
     "output_type": "display_data"
    },
    {
     "name": "stdout",
     "output_type": "stream",
     "text": [
      "VALIDATION - EPOCH 43 - loss: 0.6065019369125366\n",
      "\n",
      "EPOCH 44\n"
     ]
    },
    {
     "data": {
      "application/vnd.jupyter.widget-view+json": {
       "model_id": "0488c8b624d5474bb905dd23be854025",
       "version_major": 2,
       "version_minor": 0
      },
      "text/plain": [
       "Steps:   0%|          | 0/3125 [00:00<?, ?it/s]"
      ]
     },
     "metadata": {},
     "output_type": "display_data"
    },
    {
     "name": "stdout",
     "output_type": "stream",
     "text": [
      "TRAIN - EPOCH 44 - loss: 0.5650303959846497\n"
     ]
    },
    {
     "data": {
      "application/vnd.jupyter.widget-view+json": {
       "model_id": "a26b145f83ca41ffa2a9b811eb35ac69",
       "version_major": 2,
       "version_minor": 0
      },
      "text/plain": [
       "Val Steps:   0%|          | 0/938 [00:00<?, ?it/s]"
      ]
     },
     "metadata": {},
     "output_type": "display_data"
    },
    {
     "name": "stdout",
     "output_type": "stream",
     "text": [
      "VALIDATION - EPOCH 44 - loss: 0.6163192391395569\n",
      "\n",
      "EPOCH 45\n"
     ]
    },
    {
     "data": {
      "application/vnd.jupyter.widget-view+json": {
       "model_id": "060e8557ba174732bc3c4f12ff8c6980",
       "version_major": 2,
       "version_minor": 0
      },
      "text/plain": [
       "Steps:   0%|          | 0/3125 [00:00<?, ?it/s]"
      ]
     },
     "metadata": {},
     "output_type": "display_data"
    },
    {
     "name": "stdout",
     "output_type": "stream",
     "text": [
      "TRAIN - EPOCH 45 - loss: 0.5649339556694031\n"
     ]
    },
    {
     "data": {
      "application/vnd.jupyter.widget-view+json": {
       "model_id": "6cb1c9402496448f9a016a96170c6d43",
       "version_major": 2,
       "version_minor": 0
      },
      "text/plain": [
       "Val Steps:   0%|          | 0/938 [00:00<?, ?it/s]"
      ]
     },
     "metadata": {},
     "output_type": "display_data"
    },
    {
     "name": "stdout",
     "output_type": "stream",
     "text": [
      "VALIDATION - EPOCH 45 - loss: 0.6140645742416382\n",
      "\n",
      "EPOCH 46\n"
     ]
    },
    {
     "data": {
      "application/vnd.jupyter.widget-view+json": {
       "model_id": "a64a521ff3834e74be1580eea17cdf64",
       "version_major": 2,
       "version_minor": 0
      },
      "text/plain": [
       "Steps:   0%|          | 0/3125 [00:00<?, ?it/s]"
      ]
     },
     "metadata": {},
     "output_type": "display_data"
    },
    {
     "name": "stdout",
     "output_type": "stream",
     "text": [
      "TRAIN - EPOCH 46 - loss: 0.5649603605270386\n"
     ]
    },
    {
     "data": {
      "application/vnd.jupyter.widget-view+json": {
       "model_id": "9aef8fa9eed8471f846315972097dfaf",
       "version_major": 2,
       "version_minor": 0
      },
      "text/plain": [
       "Val Steps:   0%|          | 0/938 [00:00<?, ?it/s]"
      ]
     },
     "metadata": {},
     "output_type": "display_data"
    },
    {
     "name": "stdout",
     "output_type": "stream",
     "text": [
      "VALIDATION - EPOCH 46 - loss: 0.6216524243354797\n",
      "\n",
      "EPOCH 47\n"
     ]
    },
    {
     "data": {
      "application/vnd.jupyter.widget-view+json": {
       "model_id": "1baa75913eab4c168c114eff994a051c",
       "version_major": 2,
       "version_minor": 0
      },
      "text/plain": [
       "Steps:   0%|          | 0/3125 [00:00<?, ?it/s]"
      ]
     },
     "metadata": {},
     "output_type": "display_data"
    },
    {
     "name": "stdout",
     "output_type": "stream",
     "text": [
      "TRAIN - EPOCH 47 - loss: 0.5648674964904785\n"
     ]
    },
    {
     "data": {
      "application/vnd.jupyter.widget-view+json": {
       "model_id": "8650148d50e64a498f1e3af1937b74bc",
       "version_major": 2,
       "version_minor": 0
      },
      "text/plain": [
       "Val Steps:   0%|          | 0/938 [00:00<?, ?it/s]"
      ]
     },
     "metadata": {},
     "output_type": "display_data"
    },
    {
     "name": "stdout",
     "output_type": "stream",
     "text": [
      "VALIDATION - EPOCH 47 - loss: 0.6112747192382812\n",
      "\n",
      "EPOCH 48\n"
     ]
    },
    {
     "data": {
      "application/vnd.jupyter.widget-view+json": {
       "model_id": "e5c257b6f2b443c1851485177c6c0f59",
       "version_major": 2,
       "version_minor": 0
      },
      "text/plain": [
       "Steps:   0%|          | 0/3125 [00:00<?, ?it/s]"
      ]
     },
     "metadata": {},
     "output_type": "display_data"
    },
    {
     "name": "stdout",
     "output_type": "stream",
     "text": [
      "TRAIN - EPOCH 48 - loss: 0.564918041229248\n"
     ]
    },
    {
     "data": {
      "application/vnd.jupyter.widget-view+json": {
       "model_id": "9072edd0d4f84b899a92e498022e0494",
       "version_major": 2,
       "version_minor": 0
      },
      "text/plain": [
       "Val Steps:   0%|          | 0/938 [00:00<?, ?it/s]"
      ]
     },
     "metadata": {},
     "output_type": "display_data"
    },
    {
     "name": "stdout",
     "output_type": "stream",
     "text": [
      "VALIDATION - EPOCH 48 - loss: 0.624144971370697\n",
      "\n",
      "EPOCH 49\n"
     ]
    },
    {
     "data": {
      "application/vnd.jupyter.widget-view+json": {
       "model_id": "a9806cfca6ad4640b478daff4858c635",
       "version_major": 2,
       "version_minor": 0
      },
      "text/plain": [
       "Steps:   0%|          | 0/3125 [00:00<?, ?it/s]"
      ]
     },
     "metadata": {},
     "output_type": "display_data"
    },
    {
     "name": "stdout",
     "output_type": "stream",
     "text": [
      "TRAIN - EPOCH 49 - loss: 0.5646237730979919\n"
     ]
    },
    {
     "data": {
      "application/vnd.jupyter.widget-view+json": {
       "model_id": "c90a7e90e7f443ea8c957e6b4854643c",
       "version_major": 2,
       "version_minor": 0
      },
      "text/plain": [
       "Val Steps:   0%|          | 0/938 [00:00<?, ?it/s]"
      ]
     },
     "metadata": {},
     "output_type": "display_data"
    },
    {
     "name": "stdout",
     "output_type": "stream",
     "text": [
      "VALIDATION - EPOCH 49 - loss: 0.6113749742507935\n",
      "\n",
      "EPOCH 50\n"
     ]
    },
    {
     "data": {
      "application/vnd.jupyter.widget-view+json": {
       "model_id": "1d015b2c79c04abeafb418b83b987328",
       "version_major": 2,
       "version_minor": 0
      },
      "text/plain": [
       "Steps:   0%|          | 0/3125 [00:00<?, ?it/s]"
      ]
     },
     "metadata": {},
     "output_type": "display_data"
    },
    {
     "name": "stdout",
     "output_type": "stream",
     "text": [
      "TRAIN - EPOCH 50 - loss: 0.5645948052406311\n"
     ]
    },
    {
     "data": {
      "application/vnd.jupyter.widget-view+json": {
       "model_id": "9fe52cb90dd14866a68e9343cb552670",
       "version_major": 2,
       "version_minor": 0
      },
      "text/plain": [
       "Val Steps:   0%|          | 0/938 [00:00<?, ?it/s]"
      ]
     },
     "metadata": {},
     "output_type": "display_data"
    },
    {
     "name": "stdout",
     "output_type": "stream",
     "text": [
      "VALIDATION - EPOCH 50 - loss: 0.6122449040412903\n",
      "\n",
      "EPOCH 51\n"
     ]
    },
    {
     "data": {
      "application/vnd.jupyter.widget-view+json": {
       "model_id": "77148cc6899049bb90e7657824d7bba9",
       "version_major": 2,
       "version_minor": 0
      },
      "text/plain": [
       "Steps:   0%|          | 0/3125 [00:00<?, ?it/s]"
      ]
     },
     "metadata": {},
     "output_type": "display_data"
    },
    {
     "name": "stdout",
     "output_type": "stream",
     "text": [
      "TRAIN - EPOCH 51 - loss: 0.5645679831504822\n"
     ]
    },
    {
     "data": {
      "application/vnd.jupyter.widget-view+json": {
       "model_id": "b4adef015264456eb46216fc8b613530",
       "version_major": 2,
       "version_minor": 0
      },
      "text/plain": [
       "Val Steps:   0%|          | 0/938 [00:00<?, ?it/s]"
      ]
     },
     "metadata": {},
     "output_type": "display_data"
    },
    {
     "name": "stdout",
     "output_type": "stream",
     "text": [
      "VALIDATION - EPOCH 51 - loss: 0.6136692762374878\n",
      "\n",
      "EPOCH 52\n"
     ]
    },
    {
     "data": {
      "application/vnd.jupyter.widget-view+json": {
       "model_id": "d9f555b67f884c3b8b6c347a3da261d0",
       "version_major": 2,
       "version_minor": 0
      },
      "text/plain": [
       "Steps:   0%|          | 0/3125 [00:00<?, ?it/s]"
      ]
     },
     "metadata": {},
     "output_type": "display_data"
    },
    {
     "name": "stdout",
     "output_type": "stream",
     "text": [
      "TRAIN - EPOCH 52 - loss: 0.5645340085029602\n"
     ]
    },
    {
     "data": {
      "application/vnd.jupyter.widget-view+json": {
       "model_id": "4f540338f6c04b1086201228e661bdc4",
       "version_major": 2,
       "version_minor": 0
      },
      "text/plain": [
       "Val Steps:   0%|          | 0/938 [00:00<?, ?it/s]"
      ]
     },
     "metadata": {},
     "output_type": "display_data"
    },
    {
     "name": "stdout",
     "output_type": "stream",
     "text": [
      "VALIDATION - EPOCH 52 - loss: 0.6218116879463196\n",
      "\n",
      "EPOCH 53\n"
     ]
    },
    {
     "data": {
      "application/vnd.jupyter.widget-view+json": {
       "model_id": "2f25c8c1821a428d8eb66509aa049816",
       "version_major": 2,
       "version_minor": 0
      },
      "text/plain": [
       "Steps:   0%|          | 0/3125 [00:00<?, ?it/s]"
      ]
     },
     "metadata": {},
     "output_type": "display_data"
    },
    {
     "name": "stdout",
     "output_type": "stream",
     "text": [
      "TRAIN - EPOCH 53 - loss: 0.5645089745521545\n"
     ]
    },
    {
     "data": {
      "application/vnd.jupyter.widget-view+json": {
       "model_id": "21c0486ee3d54f9092b24d19a486b238",
       "version_major": 2,
       "version_minor": 0
      },
      "text/plain": [
       "Val Steps:   0%|          | 0/938 [00:00<?, ?it/s]"
      ]
     },
     "metadata": {},
     "output_type": "display_data"
    },
    {
     "name": "stdout",
     "output_type": "stream",
     "text": [
      "VALIDATION - EPOCH 53 - loss: 0.6191836595535278\n",
      "\n",
      "EPOCH 54\n"
     ]
    },
    {
     "data": {
      "application/vnd.jupyter.widget-view+json": {
       "model_id": "fdea1d52b59f4bb8b584a4ae6d4a2fb8",
       "version_major": 2,
       "version_minor": 0
      },
      "text/plain": [
       "Steps:   0%|          | 0/3125 [00:00<?, ?it/s]"
      ]
     },
     "metadata": {},
     "output_type": "display_data"
    },
    {
     "name": "stdout",
     "output_type": "stream",
     "text": [
      "TRAIN - EPOCH 54 - loss: 0.5644991993904114\n"
     ]
    },
    {
     "data": {
      "application/vnd.jupyter.widget-view+json": {
       "model_id": "9e551331b9a141d1abbdbca6b4a6ff9d",
       "version_major": 2,
       "version_minor": 0
      },
      "text/plain": [
       "Val Steps:   0%|          | 0/938 [00:00<?, ?it/s]"
      ]
     },
     "metadata": {},
     "output_type": "display_data"
    },
    {
     "name": "stdout",
     "output_type": "stream",
     "text": [
      "VALIDATION - EPOCH 54 - loss: 0.6072611808776855\n",
      "\n",
      "EPOCH 55\n"
     ]
    },
    {
     "data": {
      "application/vnd.jupyter.widget-view+json": {
       "model_id": "cf62203536ce4408ad349bc634003c3e",
       "version_major": 2,
       "version_minor": 0
      },
      "text/plain": [
       "Steps:   0%|          | 0/3125 [00:00<?, ?it/s]"
      ]
     },
     "metadata": {},
     "output_type": "display_data"
    },
    {
     "name": "stdout",
     "output_type": "stream",
     "text": [
      "TRAIN - EPOCH 55 - loss: 0.5644749999046326\n"
     ]
    },
    {
     "data": {
      "application/vnd.jupyter.widget-view+json": {
       "model_id": "b7db152ceca340e1b59356785a01c147",
       "version_major": 2,
       "version_minor": 0
      },
      "text/plain": [
       "Val Steps:   0%|          | 0/938 [00:00<?, ?it/s]"
      ]
     },
     "metadata": {},
     "output_type": "display_data"
    },
    {
     "name": "stdout",
     "output_type": "stream",
     "text": [
      "VALIDATION - EPOCH 55 - loss: 0.6170694828033447\n",
      "\n",
      "EPOCH 56\n"
     ]
    },
    {
     "data": {
      "application/vnd.jupyter.widget-view+json": {
       "model_id": "d15ac8e51c7344c4ba0ab33bc6a78521",
       "version_major": 2,
       "version_minor": 0
      },
      "text/plain": [
       "Steps:   0%|          | 0/3125 [00:00<?, ?it/s]"
      ]
     },
     "metadata": {},
     "output_type": "display_data"
    },
    {
     "name": "stdout",
     "output_type": "stream",
     "text": [
      "TRAIN - EPOCH 56 - loss: 0.5644837617874146\n"
     ]
    },
    {
     "data": {
      "application/vnd.jupyter.widget-view+json": {
       "model_id": "4d32ba1295824ad5bd97bc7f46b8a339",
       "version_major": 2,
       "version_minor": 0
      },
      "text/plain": [
       "Val Steps:   0%|          | 0/938 [00:00<?, ?it/s]"
      ]
     },
     "metadata": {},
     "output_type": "display_data"
    },
    {
     "name": "stdout",
     "output_type": "stream",
     "text": [
      "VALIDATION - EPOCH 56 - loss: 0.6111658811569214\n",
      "\n",
      "EPOCH 57\n"
     ]
    },
    {
     "data": {
      "application/vnd.jupyter.widget-view+json": {
       "model_id": "b3258321628344f9b023aae6e48d156a",
       "version_major": 2,
       "version_minor": 0
      },
      "text/plain": [
       "Steps:   0%|          | 0/3125 [00:00<?, ?it/s]"
      ]
     },
     "metadata": {},
     "output_type": "display_data"
    },
    {
     "name": "stdout",
     "output_type": "stream",
     "text": [
      "TRAIN - EPOCH 57 - loss: 0.5644599795341492\n"
     ]
    },
    {
     "data": {
      "application/vnd.jupyter.widget-view+json": {
       "model_id": "53fc4b5360014332849fafb030bbec25",
       "version_major": 2,
       "version_minor": 0
      },
      "text/plain": [
       "Val Steps:   0%|          | 0/938 [00:00<?, ?it/s]"
      ]
     },
     "metadata": {},
     "output_type": "display_data"
    },
    {
     "name": "stdout",
     "output_type": "stream",
     "text": [
      "VALIDATION - EPOCH 57 - loss: 0.6124424338340759\n",
      "\n",
      "EPOCH 58\n"
     ]
    },
    {
     "data": {
      "application/vnd.jupyter.widget-view+json": {
       "model_id": "097406d9cf6842fe870d09ed985b4539",
       "version_major": 2,
       "version_minor": 0
      },
      "text/plain": [
       "Steps:   0%|          | 0/3125 [00:00<?, ?it/s]"
      ]
     },
     "metadata": {},
     "output_type": "display_data"
    },
    {
     "name": "stdout",
     "output_type": "stream",
     "text": [
      "TRAIN - EPOCH 58 - loss: 0.5644239187240601\n"
     ]
    },
    {
     "data": {
      "application/vnd.jupyter.widget-view+json": {
       "model_id": "414c124d595a40aa9aa628174732eb9c",
       "version_major": 2,
       "version_minor": 0
      },
      "text/plain": [
       "Val Steps:   0%|          | 0/938 [00:00<?, ?it/s]"
      ]
     },
     "metadata": {},
     "output_type": "display_data"
    },
    {
     "name": "stdout",
     "output_type": "stream",
     "text": [
      "VALIDATION - EPOCH 58 - loss: 0.6125081181526184\n",
      "\n",
      "EPOCH 59\n"
     ]
    },
    {
     "data": {
      "application/vnd.jupyter.widget-view+json": {
       "model_id": "486132cda0104fd88c530424e43ece3d",
       "version_major": 2,
       "version_minor": 0
      },
      "text/plain": [
       "Steps:   0%|          | 0/3125 [00:00<?, ?it/s]"
      ]
     },
     "metadata": {},
     "output_type": "display_data"
    },
    {
     "name": "stdout",
     "output_type": "stream",
     "text": [
      "TRAIN - EPOCH 59 - loss: 0.5643928647041321\n"
     ]
    },
    {
     "data": {
      "application/vnd.jupyter.widget-view+json": {
       "model_id": "7adc112060ff4de4a64bf9414b62f669",
       "version_major": 2,
       "version_minor": 0
      },
      "text/plain": [
       "Val Steps:   0%|          | 0/938 [00:00<?, ?it/s]"
      ]
     },
     "metadata": {},
     "output_type": "display_data"
    },
    {
     "name": "stdout",
     "output_type": "stream",
     "text": [
      "VALIDATION - EPOCH 59 - loss: 0.6151373386383057\n",
      "\n",
      "EPOCH 60\n"
     ]
    },
    {
     "data": {
      "application/vnd.jupyter.widget-view+json": {
       "model_id": "ff356aad7e314f509c4b7a4dbe14f058",
       "version_major": 2,
       "version_minor": 0
      },
      "text/plain": [
       "Steps:   0%|          | 0/3125 [00:00<?, ?it/s]"
      ]
     },
     "metadata": {},
     "output_type": "display_data"
    },
    {
     "name": "stdout",
     "output_type": "stream",
     "text": [
      "TRAIN - EPOCH 60 - loss: 0.5643104910850525\n"
     ]
    },
    {
     "data": {
      "application/vnd.jupyter.widget-view+json": {
       "model_id": "d89ce0bad3b74fd9bec454e9b87447e9",
       "version_major": 2,
       "version_minor": 0
      },
      "text/plain": [
       "Val Steps:   0%|          | 0/938 [00:00<?, ?it/s]"
      ]
     },
     "metadata": {},
     "output_type": "display_data"
    },
    {
     "name": "stdout",
     "output_type": "stream",
     "text": [
      "VALIDATION - EPOCH 60 - loss: 0.6161661744117737\n",
      "\n",
      "EPOCH 61\n"
     ]
    },
    {
     "data": {
      "application/vnd.jupyter.widget-view+json": {
       "model_id": "f60d11c8f4d1443c8dcb7d49b7421222",
       "version_major": 2,
       "version_minor": 0
      },
      "text/plain": [
       "Steps:   0%|          | 0/3125 [00:00<?, ?it/s]"
      ]
     },
     "metadata": {},
     "output_type": "display_data"
    },
    {
     "name": "stdout",
     "output_type": "stream",
     "text": [
      "TRAIN - EPOCH 61 - loss: 0.5642521977424622\n"
     ]
    },
    {
     "data": {
      "application/vnd.jupyter.widget-view+json": {
       "model_id": "6dc403361c304cce8bc9fef743cd2b0d",
       "version_major": 2,
       "version_minor": 0
      },
      "text/plain": [
       "Val Steps:   0%|          | 0/938 [00:00<?, ?it/s]"
      ]
     },
     "metadata": {},
     "output_type": "display_data"
    },
    {
     "name": "stdout",
     "output_type": "stream",
     "text": [
      "VALIDATION - EPOCH 61 - loss: 0.6213207244873047\n",
      "\n",
      "EPOCH 62\n"
     ]
    },
    {
     "data": {
      "application/vnd.jupyter.widget-view+json": {
       "model_id": "c2ec6922dbf74a029178e37bfe499dc4",
       "version_major": 2,
       "version_minor": 0
      },
      "text/plain": [
       "Steps:   0%|          | 0/3125 [00:00<?, ?it/s]"
      ]
     },
     "metadata": {},
     "output_type": "display_data"
    },
    {
     "name": "stdout",
     "output_type": "stream",
     "text": [
      "TRAIN - EPOCH 62 - loss: 0.5642513036727905\n"
     ]
    },
    {
     "data": {
      "application/vnd.jupyter.widget-view+json": {
       "model_id": "c600fd0b67c0461fb505795373446d6b",
       "version_major": 2,
       "version_minor": 0
      },
      "text/plain": [
       "Val Steps:   0%|          | 0/938 [00:00<?, ?it/s]"
      ]
     },
     "metadata": {},
     "output_type": "display_data"
    },
    {
     "name": "stdout",
     "output_type": "stream",
     "text": [
      "VALIDATION - EPOCH 62 - loss: 0.6148910522460938\n",
      "\n",
      "EPOCH 63\n"
     ]
    },
    {
     "data": {
      "application/vnd.jupyter.widget-view+json": {
       "model_id": "b360e23eb6ae402fb394528b0d31ed84",
       "version_major": 2,
       "version_minor": 0
      },
      "text/plain": [
       "Steps:   0%|          | 0/3125 [00:00<?, ?it/s]"
      ]
     },
     "metadata": {},
     "output_type": "display_data"
    },
    {
     "name": "stdout",
     "output_type": "stream",
     "text": [
      "TRAIN - EPOCH 63 - loss: 0.5642887949943542\n"
     ]
    },
    {
     "data": {
      "application/vnd.jupyter.widget-view+json": {
       "model_id": "d2688f9315534c2b9293c22ce55a9f1d",
       "version_major": 2,
       "version_minor": 0
      },
      "text/plain": [
       "Val Steps:   0%|          | 0/938 [00:00<?, ?it/s]"
      ]
     },
     "metadata": {},
     "output_type": "display_data"
    },
    {
     "name": "stdout",
     "output_type": "stream",
     "text": [
      "VALIDATION - EPOCH 63 - loss: 0.6134443283081055\n",
      "\n",
      "EPOCH 64\n"
     ]
    },
    {
     "data": {
      "application/vnd.jupyter.widget-view+json": {
       "model_id": "51a9b8c19b344ac3ac396923065d5c8d",
       "version_major": 2,
       "version_minor": 0
      },
      "text/plain": [
       "Steps:   0%|          | 0/3125 [00:00<?, ?it/s]"
      ]
     },
     "metadata": {},
     "output_type": "display_data"
    },
    {
     "name": "stdout",
     "output_type": "stream",
     "text": [
      "TRAIN - EPOCH 64 - loss: 0.5642641186714172\n"
     ]
    },
    {
     "data": {
      "application/vnd.jupyter.widget-view+json": {
       "model_id": "543d8b1675e4418a8d940db951d87413",
       "version_major": 2,
       "version_minor": 0
      },
      "text/plain": [
       "Val Steps:   0%|          | 0/938 [00:00<?, ?it/s]"
      ]
     },
     "metadata": {},
     "output_type": "display_data"
    },
    {
     "name": "stdout",
     "output_type": "stream",
     "text": [
      "VALIDATION - EPOCH 64 - loss: 0.6125377416610718\n",
      "\n",
      "EPOCH 65\n"
     ]
    },
    {
     "data": {
      "application/vnd.jupyter.widget-view+json": {
       "model_id": "31e4d4d82a544bdfbc4ca6f6160db745",
       "version_major": 2,
       "version_minor": 0
      },
      "text/plain": [
       "Steps:   0%|          | 0/3125 [00:00<?, ?it/s]"
      ]
     },
     "metadata": {},
     "output_type": "display_data"
    },
    {
     "name": "stdout",
     "output_type": "stream",
     "text": [
      "TRAIN - EPOCH 65 - loss: 0.5641899108886719\n"
     ]
    },
    {
     "data": {
      "application/vnd.jupyter.widget-view+json": {
       "model_id": "12ebf70cb1104abbbc4ab78e78309957",
       "version_major": 2,
       "version_minor": 0
      },
      "text/plain": [
       "Val Steps:   0%|          | 0/938 [00:00<?, ?it/s]"
      ]
     },
     "metadata": {},
     "output_type": "display_data"
    },
    {
     "name": "stdout",
     "output_type": "stream",
     "text": [
      "VALIDATION - EPOCH 65 - loss: 0.6191868782043457\n",
      "\n",
      "EPOCH 66\n"
     ]
    },
    {
     "data": {
      "application/vnd.jupyter.widget-view+json": {
       "model_id": "5dfd5847d33e43f783ee2986d93b150a",
       "version_major": 2,
       "version_minor": 0
      },
      "text/plain": [
       "Steps:   0%|          | 0/3125 [00:00<?, ?it/s]"
      ]
     },
     "metadata": {},
     "output_type": "display_data"
    },
    {
     "name": "stdout",
     "output_type": "stream",
     "text": [
      "TRAIN - EPOCH 66 - loss: 0.564226508140564\n"
     ]
    },
    {
     "data": {
      "application/vnd.jupyter.widget-view+json": {
       "model_id": "3babe23f4ac04dc996886a35b437b762",
       "version_major": 2,
       "version_minor": 0
      },
      "text/plain": [
       "Val Steps:   0%|          | 0/938 [00:00<?, ?it/s]"
      ]
     },
     "metadata": {},
     "output_type": "display_data"
    },
    {
     "name": "stdout",
     "output_type": "stream",
     "text": [
      "VALIDATION - EPOCH 66 - loss: 0.617192268371582\n",
      "\n",
      "EPOCH 67\n"
     ]
    },
    {
     "data": {
      "application/vnd.jupyter.widget-view+json": {
       "model_id": "e883d54b007044ac883b04ff2923cab6",
       "version_major": 2,
       "version_minor": 0
      },
      "text/plain": [
       "Steps:   0%|          | 0/3125 [00:00<?, ?it/s]"
      ]
     },
     "metadata": {},
     "output_type": "display_data"
    },
    {
     "name": "stdout",
     "output_type": "stream",
     "text": [
      "TRAIN - EPOCH 67 - loss: 0.5642515420913696\n"
     ]
    },
    {
     "data": {
      "application/vnd.jupyter.widget-view+json": {
       "model_id": "f86c44bae4414cd8a3beef0c89ee2ca8",
       "version_major": 2,
       "version_minor": 0
      },
      "text/plain": [
       "Val Steps:   0%|          | 0/938 [00:00<?, ?it/s]"
      ]
     },
     "metadata": {},
     "output_type": "display_data"
    },
    {
     "name": "stdout",
     "output_type": "stream",
     "text": [
      "VALIDATION - EPOCH 67 - loss: 0.6127169728279114\n",
      "\n",
      "EPOCH 68\n"
     ]
    },
    {
     "data": {
      "application/vnd.jupyter.widget-view+json": {
       "model_id": "5c10c8062c6941b49e778da66dece663",
       "version_major": 2,
       "version_minor": 0
      },
      "text/plain": [
       "Steps:   0%|          | 0/3125 [00:00<?, ?it/s]"
      ]
     },
     "metadata": {},
     "output_type": "display_data"
    },
    {
     "ename": "KeyboardInterrupt",
     "evalue": "",
     "output_type": "error",
     "traceback": [
      "\u001b[0;31m---------------------------------------------------------------------------\u001b[0m",
      "\u001b[0;31mKeyboardInterrupt\u001b[0m                         Traceback (most recent call last)",
      "Cell \u001b[0;32mIn[13], line 16\u001b[0m\n\u001b[1;32m      5\u001b[0m \u001b[39mprint\u001b[39m(\u001b[39m'\u001b[39m\u001b[39mEPOCH \u001b[39m\u001b[39m%d\u001b[39;00m\u001b[39m'\u001b[39m \u001b[39m%\u001b[39m (epoch \u001b[39m+\u001b[39m \u001b[39m1\u001b[39m))\n\u001b[1;32m      7\u001b[0m \u001b[39m'''train_loss = train_epoch(\u001b[39;00m\n\u001b[1;32m      8\u001b[0m \u001b[39m    encoder=encoder, \u001b[39;00m\n\u001b[1;32m      9\u001b[0m \u001b[39m    decoder=decoder, \u001b[39;00m\n\u001b[0;32m   (...)\u001b[0m\n\u001b[1;32m     13\u001b[0m \u001b[39m    optimizer=optimizer)\u001b[39;00m\n\u001b[1;32m     14\u001b[0m \u001b[39mprint(f'TRAIN - EPOCH {epoch+1} - loss: {train_loss}')'''\u001b[39;00m\n\u001b[0;32m---> 16\u001b[0m train_loss \u001b[39m=\u001b[39m train_epoch2(\n\u001b[1;32m     17\u001b[0m     autoencoder\u001b[39m=\u001b[39;49mautoencoder, \n\u001b[1;32m     18\u001b[0m     device\u001b[39m=\u001b[39;49mdevice, \n\u001b[1;32m     19\u001b[0m     dataloader\u001b[39m=\u001b[39;49mtrain_dataloader, \n\u001b[1;32m     20\u001b[0m     loss_fn\u001b[39m=\u001b[39;49mloss_fn, \n\u001b[1;32m     21\u001b[0m     optimizer\u001b[39m=\u001b[39;49moptimizer)\n\u001b[1;32m     22\u001b[0m \u001b[39mprint\u001b[39m(\u001b[39mf\u001b[39m\u001b[39m'\u001b[39m\u001b[39mTRAIN - EPOCH \u001b[39m\u001b[39m{\u001b[39;00mepoch\u001b[39m+\u001b[39m\u001b[39m1\u001b[39m\u001b[39m}\u001b[39;00m\u001b[39m - loss: \u001b[39m\u001b[39m{\u001b[39;00mtrain_loss\u001b[39m}\u001b[39;00m\u001b[39m'\u001b[39m)\n\u001b[1;32m     24\u001b[0m \u001b[39m# evaluate the model\u001b[39;00m\n",
      "Cell \u001b[0;32mIn[11], line 36\u001b[0m, in \u001b[0;36mtrain_epoch2\u001b[0;34m(autoencoder, device, dataloader, loss_fn, optimizer)\u001b[0m\n\u001b[1;32m     33\u001b[0m loss \u001b[39m=\u001b[39m l_node \u001b[39m*\u001b[39m node_loss \u001b[39m+\u001b[39m l_edge \u001b[39m*\u001b[39m edge_loss\n\u001b[1;32m     35\u001b[0m optimizer\u001b[39m.\u001b[39mzero_grad()\n\u001b[0;32m---> 36\u001b[0m loss\u001b[39m.\u001b[39;49mbackward()\n\u001b[1;32m     37\u001b[0m optimizer\u001b[39m.\u001b[39mstep()\n\u001b[1;32m     39\u001b[0m losses\u001b[39m.\u001b[39mappend(loss\u001b[39m.\u001b[39mdetach()\u001b[39m.\u001b[39mcpu()\u001b[39m.\u001b[39mnumpy())\n",
      "File \u001b[0;32m~/data/miniconda3/envs/torch/lib/python3.10/site-packages/torch/_tensor.py:488\u001b[0m, in \u001b[0;36mTensor.backward\u001b[0;34m(self, gradient, retain_graph, create_graph, inputs)\u001b[0m\n\u001b[1;32m    478\u001b[0m \u001b[39mif\u001b[39;00m has_torch_function_unary(\u001b[39mself\u001b[39m):\n\u001b[1;32m    479\u001b[0m     \u001b[39mreturn\u001b[39;00m handle_torch_function(\n\u001b[1;32m    480\u001b[0m         Tensor\u001b[39m.\u001b[39mbackward,\n\u001b[1;32m    481\u001b[0m         (\u001b[39mself\u001b[39m,),\n\u001b[0;32m   (...)\u001b[0m\n\u001b[1;32m    486\u001b[0m         inputs\u001b[39m=\u001b[39minputs,\n\u001b[1;32m    487\u001b[0m     )\n\u001b[0;32m--> 488\u001b[0m torch\u001b[39m.\u001b[39;49mautograd\u001b[39m.\u001b[39;49mbackward(\n\u001b[1;32m    489\u001b[0m     \u001b[39mself\u001b[39;49m, gradient, retain_graph, create_graph, inputs\u001b[39m=\u001b[39;49minputs\n\u001b[1;32m    490\u001b[0m )\n",
      "File \u001b[0;32m~/data/miniconda3/envs/torch/lib/python3.10/site-packages/torch/autograd/__init__.py:197\u001b[0m, in \u001b[0;36mbackward\u001b[0;34m(tensors, grad_tensors, retain_graph, create_graph, grad_variables, inputs)\u001b[0m\n\u001b[1;32m    192\u001b[0m     retain_graph \u001b[39m=\u001b[39m create_graph\n\u001b[1;32m    194\u001b[0m \u001b[39m# The reason we repeat same the comment below is that\u001b[39;00m\n\u001b[1;32m    195\u001b[0m \u001b[39m# some Python versions print out the first line of a multi-line function\u001b[39;00m\n\u001b[1;32m    196\u001b[0m \u001b[39m# calls in the traceback and some print out the last line\u001b[39;00m\n\u001b[0;32m--> 197\u001b[0m Variable\u001b[39m.\u001b[39;49m_execution_engine\u001b[39m.\u001b[39;49mrun_backward(  \u001b[39m# Calls into the C++ engine to run the backward pass\u001b[39;49;00m\n\u001b[1;32m    198\u001b[0m     tensors, grad_tensors_, retain_graph, create_graph, inputs,\n\u001b[1;32m    199\u001b[0m     allow_unreachable\u001b[39m=\u001b[39;49m\u001b[39mTrue\u001b[39;49;00m, accumulate_grad\u001b[39m=\u001b[39;49m\u001b[39mTrue\u001b[39;49;00m)\n",
      "\u001b[0;31mKeyboardInterrupt\u001b[0m: "
     ]
    }
   ],
   "source": [
    "# train the model\n",
    "epoch = 0\n",
    "train_losses = []\n",
    "val_losses = []\n",
    "while(True):\n",
    "    # train for one epoch\n",
    "    print('EPOCH %d' % (epoch + 1))\n",
    "\n",
    "    '''train_loss = train_epoch(\n",
    "        encoder=encoder, \n",
    "        decoder=decoder, \n",
    "        device=device, \n",
    "        dataloader=train_dataloader, \n",
    "        loss_fn=loss_fn, \n",
    "        optimizer=optimizer)\n",
    "    print(f'TRAIN - EPOCH {epoch+1} - loss: {train_loss}')'''\n",
    "\n",
    "    train_loss = train_epoch2(\n",
    "        autoencoder=autoencoder, \n",
    "        device=device, \n",
    "        dataloader=train_dataloader, \n",
    "        loss_fn=loss_fn, \n",
    "        optimizer=optimizer)\n",
    "    print(f'TRAIN - EPOCH {epoch+1} - loss: {train_loss}')\n",
    "\n",
    "    train_losses.append(train_loss)\n",
    "\n",
    "    # evaluate the model\n",
    "    val_loss = val_epoch2(\n",
    "        autoencoder=autoencoder, \n",
    "        device=device, \n",
    "        dataloader=val_dataloader, \n",
    "        loss_fn=loss_fn)\n",
    "    # Print Validationloss\n",
    "    print(f'VALIDATION - EPOCH {epoch+1} - loss: {val_loss}\\n')\n",
    "\n",
    "    val_losses.append(val_loss)\n",
    "\n",
    "    # schedule the learning rate\n",
    "    epoch +=1\n",
    "    lr_scheduler.step(val_loss)\n",
    "\n",
    "    if optimizer.param_groups[0]['lr'] < 1e-8:\n",
    "        break"
   ]
  },
  {
   "attachments": {},
   "cell_type": "markdown",
   "metadata": {},
   "source": [
    "## Save model"
   ]
  },
  {
   "cell_type": "code",
   "execution_count": null,
   "metadata": {},
   "outputs": [],
   "source": [
    "model_name = \"_50ep64batch\"\n",
    "torch.save(encoder, 'models/encoder' + model_name + '.pkl')\n",
    "torch.save(decoder, 'models/decoder' + model_name + '.pkl')\n",
    "torch.save(autoencoder, 'models/autoencoder' + model_name + '.pkl')\n",
    "\n",
    "torch.save(autoencoder.state_dict(), 'models/autoenc_sd' + model_name + '.pkl')"
   ]
  },
  {
   "cell_type": "code",
   "execution_count": null,
   "metadata": {},
   "outputs": [],
   "source": []
  }
 ],
 "metadata": {
  "kernelspec": {
   "display_name": "torch",
   "language": "python",
   "name": "python3"
  },
  "language_info": {
   "codemirror_mode": {
    "name": "ipython",
    "version": 3
   },
   "file_extension": ".py",
   "mimetype": "text/x-python",
   "name": "python",
   "nbconvert_exporter": "python",
   "pygments_lexer": "ipython3",
   "version": "3.10.9"
  },
  "orig_nbformat": 4,
  "vscode": {
   "interpreter": {
    "hash": "2314458721ceb093a16fc62a007e4288d5fdb68183e3d86ed8ecd92512e98f9c"
   }
  }
 },
 "nbformat": 4,
 "nbformat_minor": 2
}
