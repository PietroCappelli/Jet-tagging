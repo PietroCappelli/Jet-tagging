{
 "cells": [
  {
   "cell_type": "code",
   "execution_count": 120,
   "metadata": {},
   "outputs": [],
   "source": [
    "import dgl\n",
    "import numpy as np\n",
    "import torch\n",
    "import networkx as nx\n",
    "import os\n",
    "\n",
    "from torch import nn\n",
    "from torch.optim.lr_scheduler import ReduceLROnPlateau\n",
    "from dgl.nn import NNConv, EdgeConv\n",
    "from dgl.nn.pytorch import Sequential as dglSequential\n",
    "from dgl.dataloading import GraphDataLoader\n",
    "from torch.utils.data import Dataset\n",
    "from tqdm.notebook import tqdm"
   ]
  },
  {
   "cell_type": "code",
   "execution_count": 11,
   "metadata": {},
   "outputs": [],
   "source": [
    "def build_graph(jet):\n",
    "    \"\"\"return a fully connected graph: \n",
    "        - n nodes -> n particles\n",
    "        - n**2 edges -> each p is connected to all the others\"\"\"\n",
    "    g = dgl.graph()\n",
    "    n = len(jet)\n",
    "    g.add_nodes(n)\n",
    "    \n",
    "    src = []; dst = []\n",
    "    for i in range(n):\n",
    "        for j in range(n):\n",
    "            src.append(i)\n",
    "            dst.append(j)\n",
    "\n",
    "    graph.add_edges(src, dst)\n",
    "\n",
    "    node_feat = jet # should be a tensor of shape [n, 5] where 5 are the features of each particle\n",
    "    edge_feat = jet*jet # should be tensor of shape [n**2, 6 ]\n",
    "    # the first n rows refer to the edges between the first particle and the other n ones\n",
    "\n",
    "    graph.ndata['feat'] = node_feat\n",
    "    graph.edata['edge_feat'] = edge_feat\n",
    "\n",
    "    return g\n",
    "\n"
   ]
  },
  {
   "attachments": {},
   "cell_type": "markdown",
   "metadata": {},
   "source": [
    "## Dataloader"
   ]
  },
  {
   "cell_type": "code",
   "execution_count": 4,
   "metadata": {},
   "outputs": [
    {
     "data": {
      "text/plain": [
       "['graphs0-20000.dgl',\n",
       " 'graphs20000-40000.dgl',\n",
       " 'graphs40000-60000.dgl',\n",
       " 'graphs60000-80000.dgl',\n",
       " 'graphs80000-100000.dgl']"
      ]
     },
     "execution_count": 4,
     "metadata": {},
     "output_type": "execute_result"
    }
   ],
   "source": [
    "data_path = '../data/graphdataset/'"
   ]
  },
  {
   "cell_type": "code",
   "execution_count": 20,
   "metadata": {},
   "outputs": [],
   "source": [
    "class GraphDataset(Dataset):\n",
    "    def __init__(self, data_path, n_files=None, transform=None):\n",
    "\n",
    "        self.fnames    = [fname for fname in os.listdir(data_path) if fname.endswith('.dgl')]\n",
    "        self.data_path = data_path\n",
    "\n",
    "        if n_files:\n",
    "            self.fnames = self.fnames[:n_files]\n",
    "\n",
    "        self.transform = transform     \n",
    "\n",
    "        self.load_graphs()\n",
    "\n",
    "\n",
    "    def load_graphs(self):\n",
    "        self.graphs = []\n",
    "\n",
    "        for fname in tqdm(self.fnames, 'Reading files'):\n",
    "            graphs = dgl.load_graphs(os.path.join(self.data_path, fname))[0]\n",
    "            self.graphs.extend(graphs)\n",
    "\n",
    "\n",
    "    def __len__(self):\n",
    "\n",
    "        return len(self.graphs)\n",
    "    \n",
    "\n",
    "    def __getitem__(self, idx):\n",
    "\n",
    "        x = self.graphs[idx]\n",
    "        \n",
    "        if self.transform:\n",
    "            x = self.transform(x)\n",
    "        \n",
    "        return x"
   ]
  },
  {
   "cell_type": "code",
   "execution_count": 154,
   "metadata": {},
   "outputs": [
    {
     "data": {
      "application/vnd.jupyter.widget-view+json": {
       "model_id": "08b1284d1a6746ceb6b4af05fa1df3cf",
       "version_major": 2,
       "version_minor": 0
      },
      "text/plain": [
       "Reading files:   0%|          | 0/2 [00:00<?, ?it/s]"
      ]
     },
     "metadata": {},
     "output_type": "display_data"
    }
   ],
   "source": [
    "dataset = GraphDataset(data_path, 2)\n",
    "train_dataloader = GraphDataLoader(dataset, batch_size=1)"
   ]
  },
  {
   "cell_type": "code",
   "execution_count": 157,
   "metadata": {},
   "outputs": [
    {
     "data": {
      "text/plain": [
       "Graph(num_nodes=72, num_edges=5184,\n",
       "      ndata_schemes={'f': Scheme(shape=(7,), dtype=torch.float32)}\n",
       "      edata_schemes={'d': Scheme(shape=(3,), dtype=torch.float32)})"
      ]
     },
     "execution_count": 157,
     "metadata": {},
     "output_type": "execute_result"
    }
   ],
   "source": [
    "for batch in train_dataloader:\n",
    "    break\n",
    "batch"
   ]
  },
  {
   "cell_type": "code",
   "execution_count": 164,
   "metadata": {},
   "outputs": [
    {
     "data": {
      "text/plain": [
       "tensor([1., 1., 1.])"
      ]
     },
     "execution_count": 164,
     "metadata": {},
     "output_type": "execute_result"
    }
   ],
   "source": [
    "dim = int(np.sqrt(batch.edata['d'].shape[0]))\n",
    "batch.edata['d'].reshape((dim, dim, 3))[1,1,:]"
   ]
  },
  {
   "attachments": {},
   "cell_type": "markdown",
   "metadata": {},
   "source": [
    "## Simulated Graph\n",
    "50 particelle, 7 features per particle, each node is connected to all the others so n**2 edges, each edge has 3 different features"
   ]
  },
  {
   "cell_type": "code",
   "execution_count": 43,
   "metadata": {},
   "outputs": [],
   "source": [
    "n = 50 \n",
    "src = []; dst = []\n",
    "for i in range(n):\n",
    "    for j in range(n):\n",
    "        src.append(i)\n",
    "        dst.append(j)\n",
    "\n",
    "g = dgl.graph((src, dst))\n",
    "\n",
    "nodes = torch.randn((n, 7))\n",
    "edges = torch.randn((n**2, 3))\n",
    "\n",
    "g.ndata['feat'] = nodes\n",
    "g.edata['edge_feat'] = edges\n"
   ]
  },
  {
   "cell_type": "code",
   "execution_count": 72,
   "metadata": {},
   "outputs": [],
   "source": [
    "def MLP(efeat, ch=[256,128,64,32]):\n",
    "\n",
    "    mlp = nn.Sequential(\n",
    "        nn.Linear(3, ch[0]),\n",
    "        nn.Dropout(0.2),\n",
    "        nn.ReLU(),\n",
    "        \n",
    "        nn.Linear(ch[0],ch[1]),\n",
    "        nn.Dropout(0.2),\n",
    "        nn.ReLU(),\n",
    "        \n",
    "        nn.Linear(ch[1],ch[2]),\n",
    "        nn.Dropout(0.2),\n",
    "        nn.ReLU(),\n",
    "\n",
    "        nn.Linear(ch[2], ch[3]),\n",
    "        nn.Dropout(0.2),\n",
    "        nn.ReLU(),\n",
    "\n",
    "        nn.Linear(ch[3], 7*128),\n",
    "        nn.Sigmoid()\n",
    "    )\n",
    "    \n",
    "    return mlp(efeat)"
   ]
  },
  {
   "cell_type": "code",
   "execution_count": 74,
   "metadata": {},
   "outputs": [
    {
     "data": {
      "text/plain": [
       "torch.Size([50, 128])"
      ]
     },
     "execution_count": 74,
     "metadata": {},
     "output_type": "execute_result"
    }
   ],
   "source": [
    "conv = NNConv(7, 128, MLP)\n",
    "res = conv(g, nodes, edges)\n",
    "res.shape"
   ]
  },
  {
   "attachments": {},
   "cell_type": "markdown",
   "metadata": {},
   "source": [
    "## Encoder"
   ]
  },
  {
   "cell_type": "code",
   "execution_count": 108,
   "metadata": {},
   "outputs": [],
   "source": [
    "class Encoder(nn.Module):\n",
    "    \n",
    "    def __init__(self, latent_space_dim, ch=[256,128,64,32]):\n",
    "        super().__init__()\n",
    "\n",
    "        self.mlp = nn.Sequential(\n",
    "            nn.Linear(3, ch[0]),\n",
    "            nn.Dropout(0.2),\n",
    "            nn.ReLU(),\n",
    "            \n",
    "            nn.Linear(ch[0],ch[1]),\n",
    "            nn.Dropout(0.2),\n",
    "            nn.ReLU(),\n",
    "            \n",
    "            nn.Linear(ch[1],ch[2]),\n",
    "            nn.Dropout(0.2),\n",
    "            nn.ReLU(),\n",
    "\n",
    "            nn.Linear(ch[2], ch[3]),\n",
    "            nn.Dropout(0.2),\n",
    "            nn.ReLU(),\n",
    "\n",
    "            nn.Linear(ch[3], 7*128),\n",
    "            nn.Sigmoid()\n",
    "            )\n",
    "        \n",
    "        self.conv = dglSequential(\n",
    "            NNConv(\n",
    "                in_feats  = 7,  # number of node features\n",
    "                out_feats = 128, # output number of node features\n",
    "                edge_func = self.mlp),\n",
    "            EdgeConv(128, 64),\n",
    "            EdgeConv(64, 32),\n",
    "            EdgeConv(32, latent_space_dim)\n",
    "        )\n",
    "\n",
    "    def forward(self, graph, n_feat=None):\n",
    "\n",
    "        x = self.conv(graph, n_feat if n_feat else graph.ndata['f'], graph.edata['d'])\n",
    "        return x\n",
    "    "
   ]
  },
  {
   "cell_type": "code",
   "execution_count": 109,
   "metadata": {},
   "outputs": [
    {
     "data": {
      "text/plain": [
       "torch.Size([101, 4])"
      ]
     },
     "execution_count": 109,
     "metadata": {},
     "output_type": "execute_result"
    }
   ],
   "source": [
    "encoder = Encoder(4)\n",
    "encoded = encoder(batch)\n",
    "encoded.shape"
   ]
  },
  {
   "cell_type": "code",
   "execution_count": 110,
   "metadata": {},
   "outputs": [],
   "source": [
    "batch.ndata['l'] = encoded"
   ]
  },
  {
   "attachments": {},
   "cell_type": "markdown",
   "metadata": {},
   "source": [
    "## Decoder"
   ]
  },
  {
   "cell_type": "code",
   "execution_count": 111,
   "metadata": {},
   "outputs": [],
   "source": [
    "class Decoder(nn.Module):\n",
    "    \n",
    "    def __init__(self, latent_space_dim):\n",
    "        super().__init__()\n",
    "        \n",
    "        self.node_reconstruct = dglSequential(\n",
    "            EdgeConv(latent_space_dim, 32),\n",
    "            EdgeConv(32, 64),\n",
    "            EdgeConv(64, 128),\n",
    "            EdgeConv(128, 7))# output are the reconstructed node features\n",
    "\n",
    "        self.edge_reconstruct = dglSequential(\n",
    "            EdgeConv(latent_space_dim, 32),\n",
    "            EdgeConv(32, 64),\n",
    "            EdgeConv(64, 128),\n",
    "            EdgeConv(128, 32),\n",
    "            EdgeConv(32,16),\n",
    "            EdgeConv(16,8)\n",
    "        )\n",
    "\n",
    "    def forward(self, graph, n_feat=None):\n",
    "        \n",
    "        if n_feat is None:\n",
    "            n_feat = graph.ndata['l']\n",
    "\n",
    "        # node reconstruction\n",
    "        n = self.node_reconstruct(graph, n_feat)\n",
    "        \n",
    "        # edges reconstruction\n",
    "        e1 = self.edge_reconstruct(graph, n_feat)\n",
    "        e2 = self.edge_reconstruct(graph, n_feat)\n",
    "        e3 = self.edge_reconstruct(graph, n_feat)\n",
    "\n",
    "        # inner product o matmul?\n",
    "        e1 = torch.inner(e1, e1)  #their elements are A_{ij}\n",
    "        e2 = torch.inner(e2, e2) \n",
    "        e3 = torch.inner(e3, e3)\n",
    "\n",
    "        return n, e1, e2, e3\n",
    "    "
   ]
  },
  {
   "cell_type": "code",
   "execution_count": 112,
   "metadata": {},
   "outputs": [],
   "source": [
    "decoder = Decoder(4)\n",
    "decoded = decoder(batch)"
   ]
  },
  {
   "cell_type": "code",
   "execution_count": 114,
   "metadata": {},
   "outputs": [],
   "source": [
    "autoencoder = dglSequential(encoder, decoder)\n",
    "n, e1, e2, e3 = autoencoder(batch)"
   ]
  },
  {
   "attachments": {},
   "cell_type": "markdown",
   "metadata": {},
   "source": [
    "## Training"
   ]
  },
  {
   "cell_type": "code",
   "execution_count": 116,
   "metadata": {},
   "outputs": [],
   "source": [
    "### Initialize the two networks\n",
    "encoded_space_dim = 6\n",
    "encoder = Encoder(latent_space_dim=encoded_space_dim)\n",
    "decoder = Decoder(latent_space_dim=encoded_space_dim)"
   ]
  },
  {
   "attachments": {},
   "cell_type": "markdown",
   "metadata": {},
   "source": [
    "### Learning Rate and Loss customize "
   ]
  },
  {
   "cell_type": "code",
   "execution_count": 118,
   "metadata": {},
   "outputs": [],
   "source": [
    "def custom_loss(output, target):\n",
    "    \"\"\" pred and real are two tuples which contains:\n",
    "    real: real nodes and edges\n",
    "    real: real nodes and edges\"\"\"\n",
    "\n",
    "    # regularization parameters    \n",
    "    l_node = 0.3\n",
    "    l_edge = 1\n",
    "    \n",
    "    loss_fn = torch.nn.MSELoss()\n",
    "    mse_losses = [torch.sqrt(loss_fn(pred, real)) for pred, real in zip(output, target)]\n",
    "\n",
    "    return l_node * mse_losses[0] + l_edge * torch.sum(torch.tensor(mse_losses[1:]))\n"
   ]
  },
  {
   "cell_type": "code",
   "execution_count": 121,
   "metadata": {},
   "outputs": [
    {
     "name": "stdout",
     "output_type": "stream",
     "text": [
      "Selected device: cuda\n"
     ]
    }
   ],
   "source": [
    "### Define an optimizer (both for the encoder and the decoder!)\n",
    "lr = 1e-3 # Learning rate\n",
    "loss_fn = custom_loss\n",
    "params_to_optimize = [\n",
    "    {'params': encoder.parameters()},\n",
    "    {'params': decoder.parameters()}\n",
    "]\n",
    "optimizer = torch.optim.Adam(params_to_optimize, lr=lr)\n",
    "\n",
    "# Check if the GPU is available\n",
    "device = torch.device(\"cuda\") if torch.cuda.is_available() else torch.device(\"cpu\")\n",
    "print(f'Selected device: {device}')\n",
    "\n",
    "\"\"\"\n",
    "usando questo bisogna fare scheduler.step(val_loss) alla fine di un epoca\n",
    "\"\"\"\n",
    "lr_scheduler = ReduceLROnPlateau(\n",
    "    optimizer,\n",
    "    mode = 'min',\n",
    "    factor=0.5,\n",
    "    patience=5,\n",
    "    cooldown=5,\n",
    "    min_lr=10e-8 # this should be the minimum value of the lr at which we stop the training\n",
    "    )"
   ]
  },
  {
   "attachments": {},
   "cell_type": "markdown",
   "metadata": {},
   "source": [
    "### training and validate function"
   ]
  },
  {
   "cell_type": "code",
   "execution_count": 171,
   "metadata": {},
   "outputs": [],
   "source": [
    "### Training function\n",
    "def train_epoch(encoder, decoder, device, dataloader, loss_fn, optimizer):\n",
    "    # Set train mode for both the encoder and the decoder\n",
    "    encoder.train()\n",
    "    decoder.train()\n",
    "\n",
    "    # abbiamo già definito l'optimizer nella cella precedente\n",
    "    \n",
    "    losses = []\n",
    "    pbar = tqdm(dataloader, 'Steps')\n",
    "    # Iterate the dataloader (we do not need the label values, this is unsupervised learning)\n",
    "    for batch in pbar: # with \"_\" we just ignore the labels (the second element of the dataloader tuple)\n",
    "        \n",
    "        batch = batch.to(device)\n",
    "        #encode\n",
    "        y_encoder_pred = encoder(batch)\n",
    "        #update graph node features with their latent space representation\n",
    "        batch.ndata['l'] = y_encoder_pred\n",
    "        #decode\n",
    "        y_decoder_pred = decoder(batch)\n",
    "\n",
    "        dim = int(np.sqrt(batch.edata['d'].shape[0]))\n",
    "        loss = loss_fn(y_decoder_pred, [batch.ndata['f']] + [batch.edata['d'][:,i].reshape((dim, dim)) for i in range(3)])\n",
    "\n",
    "        optimizer.zero_grad()\n",
    "        loss.backward()\n",
    "        optimizer.step()\n",
    "        \n",
    "        losses.append(loss.detach().cpu().numpy())\n",
    "        pbar.set_postfix_str(f'loss: {losses[-1]:.2f}')\n",
    "        \n",
    "    losses = np.mean(losses)\n",
    "    return losses"
   ]
  },
  {
   "cell_type": "code",
   "execution_count": null,
   "metadata": {},
   "outputs": [],
   "source": [
    "### Testing function\n",
    "def test_epoch(encoder, decoder, device, dataloader, loss_fn):\n",
    "    # Set evaluation mode for encoder and decoder\n",
    "    encoder.eval()\n",
    "    decoder.eval()\n",
    "\n",
    "    with torch.no_grad(): # No need to track the gradients\n",
    "        # Define the lists to store the outputs for each batch\n",
    "        conc_out = []\n",
    "        conc_label = []\n",
    "        for image_batch, _ in dataloader:\n",
    "            # Move tensor to the proper device\n",
    "            image_batch = image_batch.to(device)\n",
    "            # Encode data\n",
    "            encoded_data = encoder(image_batch)\n",
    "            # Decode data\n",
    "            decoded_data = decoder(encoded_data)\n",
    "            # Append the network output and the original image to the lists\n",
    "            conc_out.append(decoded_data.cpu())\n",
    "            conc_label.append(image_batch.cpu())\n",
    "        # Create a single tensor with all the values in the lists\n",
    "        conc_out = torch.cat(conc_out)\n",
    "        conc_label = torch.cat(conc_label) \n",
    "        # Evaluate global loss\n",
    "        val_loss = loss_fn(conc_out, conc_label)\n",
    "    return val_loss.data"
   ]
  },
  {
   "cell_type": "code",
   "execution_count": 172,
   "metadata": {},
   "outputs": [
    {
     "name": "stdout",
     "output_type": "stream",
     "text": [
      "EPOCH 1\n"
     ]
    },
    {
     "data": {
      "application/vnd.jupyter.widget-view+json": {
       "model_id": "a3dc4c777ff641fb9588f77558bbe19a",
       "version_major": 2,
       "version_minor": 0
      },
      "text/plain": [
       "Steps:   0%|          | 0/40000 [00:00<?, ?it/s]"
      ]
     },
     "metadata": {},
     "output_type": "display_data"
    }
   ],
   "source": [
    "# train the model\n",
    "epoch = 0\n",
    "while(True):\n",
    "    # train for one epoch\n",
    "    print('EPOCH %d' % (epoch + 1))\n",
    "\n",
    "    train_loss = train_epoch(\n",
    "        encoder=encoder, \n",
    "        decoder=decoder, \n",
    "        device=device, \n",
    "        dataloader=train_dataloader, \n",
    "        loss_fn=loss_fn, \n",
    "        optimizer=optimizer)\n",
    "    print(f'TRAIN - EPOCH {epoch+1} - loss: {train_loss}')\n",
    "\n",
    "    '''# evaluate the model\n",
    "    val_loss = test_epoch(\n",
    "        encoder=encoder, \n",
    "        decoder=decoder, \n",
    "        device=device, \n",
    "        dataloader=test_dataloader, \n",
    "        loss_fn=loss_fn)\n",
    "    # Print Validationloss\n",
    "    print(f'VALIDATION - EPOCH {epoch+1} - loss: {val_loss}\\n')'''\n",
    "\n",
    "    # schedule the learning rate\n",
    "    epoch +=1\n",
    "    lr_scheduler.step(train_loss)\n",
    "\n",
    "    if optimizer.param_groups[0]['lr'] < 1e-8:\n",
    "        break"
   ]
  },
  {
   "cell_type": "code",
   "execution_count": null,
   "metadata": {},
   "outputs": [],
   "source": []
  }
 ],
 "metadata": {
  "kernelspec": {
   "display_name": "torch",
   "language": "python",
   "name": "python3"
  },
  "language_info": {
   "codemirror_mode": {
    "name": "ipython",
    "version": 3
   },
   "file_extension": ".py",
   "mimetype": "text/x-python",
   "name": "python",
   "nbconvert_exporter": "python",
   "pygments_lexer": "ipython3",
   "version": "3.10.8"
  },
  "orig_nbformat": 4,
  "vscode": {
   "interpreter": {
    "hash": "331a419315a2fdb77d716bff9d27d64bbb9fafc97272ccf1eb9acf778ff8f493"
   }
  }
 },
 "nbformat": 4,
 "nbformat_minor": 2
}
