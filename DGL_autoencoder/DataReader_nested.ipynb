{
 "cells": [
  {
   "cell_type": "code",
   "execution_count": 1,
   "metadata": {},
   "outputs": [],
   "source": [
    "import os\n",
    "os.environ['DGLBACKEND'] = 'pytorch'\n",
    "import numpy as np\n",
    "import pandas as pd\n",
    "import h5py\n",
    "import torch\n",
    "from torch.utils.data import Dataset, DataLoader\n",
    "\n",
    "from tqdm.notebook import tqdm\n",
    "import dgl\n",
    "from compute_edges import compute_one_edge_feature"
   ]
  },
  {
   "cell_type": "code",
   "execution_count": 2,
   "metadata": {},
   "outputs": [
    {
     "name": "stdout",
     "output_type": "stream",
     "text": [
      "(10000, 100)\n"
     ]
    },
    {
     "data": {
      "text/plain": [
       "<KeysViewHDF5 ['jetConstituentList', 'jetFeatureNames', 'jetImage', 'jetImageECAL', 'jetImageHCAL', 'jets', 'particleFeatureNames']>"
      ]
     },
     "execution_count": 2,
     "metadata": {},
     "output_type": "execute_result"
    }
   ],
   "source": [
    "h5_file = h5py.File('../data/train/jetImage_0_100p_0_10000.h5', 'r')\n",
    "mask = np.sum(np.abs(h5_file[\"jetConstituentList\"]), axis=2)==0\n",
    "print(mask.shape)\n",
    "h5_file.keys()"
   ]
  },
  {
   "cell_type": "code",
   "execution_count": 33,
   "metadata": {},
   "outputs": [
    {
     "data": {
      "text/plain": [
       "array([b'j_ptfrac', b'j_pt', b'j_eta', b'j_mass', b'j_tau1_b1',\n",
       "       b'j_tau2_b1', b'j_tau3_b1', b'j_tau1_b2', b'j_tau2_b2',\n",
       "       b'j_tau3_b2', b'j_tau32_b1', b'j_tau32_b2', b'j_zlogz', b'j_c1_b0',\n",
       "       b'j_c1_b1', b'j_c1_b2', b'j_c2_b1', b'j_c2_b2', b'j_d2_b1',\n",
       "       b'j_d2_b2', b'j_d2_a1_b1', b'j_d2_a1_b2', b'j_m2_b1', b'j_m2_b2',\n",
       "       b'j_n2_b1', b'j_n2_b2', b'j_tau1_b1_mmdt', b'j_tau2_b1_mmdt',\n",
       "       b'j_tau3_b1_mmdt', b'j_tau1_b2_mmdt', b'j_tau2_b2_mmdt',\n",
       "       b'j_tau3_b2_mmdt', b'j_tau32_b1_mmdt', b'j_tau32_b2_mmdt',\n",
       "       b'j_c1_b0_mmdt', b'j_c1_b1_mmdt', b'j_c1_b2_mmdt', b'j_c2_b1_mmdt',\n",
       "       b'j_c2_b2_mmdt', b'j_d2_b1_mmdt', b'j_d2_b2_mmdt',\n",
       "       b'j_d2_a1_b1_mmdt', b'j_d2_a1_b2_mmdt', b'j_m2_b1_mmdt',\n",
       "       b'j_m2_b2_mmdt', b'j_n2_b1_mmdt', b'j_n2_b2_mmdt', b'j_mass_trim',\n",
       "       b'j_mass_mmdt', b'j_mass_prun', b'j_mass_sdb2', b'j_mass_sdm1',\n",
       "       b'j_multiplicity', b'j_g', b'j_q', b'j_w', b'j_z', b'j_t',\n",
       "       b'j_undef'], dtype=object)"
      ]
     },
     "execution_count": 33,
     "metadata": {},
     "output_type": "execute_result"
    }
   ],
   "source": [
    "h5_file['jetFeatureNames'][:]"
   ]
  },
  {
   "cell_type": "code",
   "execution_count": 3,
   "metadata": {},
   "outputs": [],
   "source": [
    "\n",
    "class DataReader:\n",
    "    \n",
    "    def __init__(self, path):\n",
    "        \n",
    "        self.path = path\n",
    "        self.data = None\n",
    "        \n",
    "    def get_filenames(self):\n",
    "        \n",
    "        fnames = os.listdir(self.path)\n",
    "        fnames = [filename for filename in fnames if filename.endswith(\".h5\")]\n",
    "\n",
    "        return fnames\n",
    "    \n",
    "    \n",
    "    def read_single_file(self, fname):\n",
    "        \n",
    "        file_path = os.path.join(self.path, fname)\n",
    "        h5_file = h5py.File(file_path, \"r\")\n",
    "        \n",
    "        # turn \"jets\" into a dataframe with column names given by \"jetFeaturesNames\"\n",
    "\n",
    "        jet_feature_names = h5_file[\"jetFeatureNames\"][:]\n",
    "\n",
    "        # remove the b' from the beginning and the ' from the end of each string\n",
    "        jet_feature_names = [name.decode(\"utf-8\") for name in jet_feature_names]\n",
    "\n",
    "        df = pd.DataFrame(h5_file[\"jets\"][:], columns=jet_feature_names)\n",
    "\n",
    "        # keep features\n",
    "        keep = [\"j_g\", \"j_q\", \"j_w\", \"j_z\", \"j_t\", \"j_undef\"]\n",
    "\n",
    "        # rename features to \"isGluon\", \"isQuark\", \"isW\", \"isZ\", \"isTop\", \"isUndefined\"\n",
    "        df = df[keep].rename(columns={\"j_g\": \"isGluon\", \"j_q\": \"isQuark\", \"j_w\": \"isW\", \"j_z\": \"isZ\", \"j_t\": \"isTop\", \"j_undef\": \"isUndefined\"}).astype(int)\n",
    "\n",
    "\n",
    "        # LABELS\n",
    "        labels = df.values\n",
    "\n",
    "        mask = np.sum(np.abs(h5_file[\"jetConstituentList\"]), axis=2)==0\n",
    "        \n",
    "        # FEATURES\n",
    "        e      = np.ma.masked_array(h5_file[\"jetConstituentList\"][:, :, 3],  mask) # E\n",
    "        e_rel  = np.ma.masked_array(h5_file[\"jetConstituentList\"][:, :, 4],  mask) # E\n",
    "        pt     = np.ma.masked_array(h5_file[\"jetConstituentList\"][:, :, 5],  mask) # pT\n",
    "        pt_rel = np.ma.masked_array(h5_file[\"jetConstituentList\"][:, :, 6],  mask) # pT particle / jet\n",
    "        dEta   = np.ma.masked_array(h5_file[\"jetConstituentList\"][:, :, 8],  mask) # dEta\n",
    "        dPhi   = np.ma.masked_array(h5_file[\"jetConstituentList\"][:, :, 11], mask) # dPhi\n",
    "        dR     = np.ma.masked_array(h5_file[\"jetConstituentList\"][:, :, 13], mask) # dR\n",
    "        \n",
    "\n",
    "        return {\"labels\": labels,\"e\": e, \"e_rel\": e_rel, \"pt\": pt, \"pt_rel\": pt_rel, \"dEta\": dEta, \"dPhi\": dPhi, \"dR\": dR}\n",
    "\n",
    "\n",
    "    \n",
    "    def read_files(self, n_files=None):\n",
    "        \n",
    "        fnames = self.get_filenames()\n",
    "        \n",
    "        if n_files is not None:\n",
    "            fnames = fnames[:n_files]\n",
    "            \n",
    "        for i, fname in enumerate(fnames):\n",
    "            \n",
    "            print(\"Reading file\", fname)\n",
    "            \n",
    "            data = self.read_single_file(fname)\n",
    "            \n",
    "            if i == 0:\n",
    "                labels = data[\"labels\"]\n",
    "                e      = data[\"e\"]\n",
    "                e_rel  = data[\"e_rel\"]\n",
    "                pt     = data[\"pt\"]\n",
    "                pt_rel = data[\"pt_rel\"]\n",
    "                dEta   = data[\"dEta\"]\n",
    "                dPhi   = data[\"dPhi\"]\n",
    "                dR     = data[\"dR\"]\n",
    "                \n",
    "            else:\n",
    "                labels = np.ma.concatenate((labels, data[\"labels\"]))\n",
    "                e      = np.ma.concatenate((e, data[\"e\"]))\n",
    "                e_rel  = np.ma.concatenate((e_rel, data[\"e_rel\"]))\n",
    "                pt     = np.ma.concatenate((pt, data[\"pt\"]))\n",
    "                pt_rel = np.ma.concatenate((pt_rel, data[\"pt_rel\"]))\n",
    "                dEta   = np.ma.concatenate((dEta, data[\"dEta\"]))\n",
    "                dPhi   = np.ma.concatenate((dPhi, data[\"dPhi\"]))\n",
    "                dR     = np.ma.concatenate((dR, data[\"dR\"]))\n",
    "    \n",
    "        self.data = {\"labels\": labels,\"e\": e, \"e_rel\": e_rel, \"pt\": pt, \"pt_rel\": pt_rel, \"dEta\": dEta, \"dPhi\": dPhi, \"dR\": dR}        \n",
    "    \n",
    "    \n",
    "    def get_labels(self):\n",
    "        if self.data:\n",
    "            return self.data[\"labels\"]\n",
    "        else:\n",
    "            raise RuntimeError('No data read, please call .read_files before!')\n",
    "    \n",
    "    def get_features(self):\n",
    "        if self.data:\n",
    "            return np.ma.stack(\n",
    "                (\n",
    "                    self.data[\"dEta\"],\n",
    "                    self.data[\"dPhi\"],\n",
    "                    self.data[\"e\"],\n",
    "                    self.data[\"e_rel\"],\n",
    "                    self.data[\"pt\"],\n",
    "                    self.data[\"pt_rel\"],\n",
    "                    self.data[\"dR\"],\n",
    "                ),\n",
    "                axis=2,\n",
    "            )\n",
    "        else:\n",
    "            raise RuntimeError('No data read, please call .read_files before!')"
   ]
  },
  {
   "cell_type": "code",
   "execution_count": 8,
   "metadata": {},
   "outputs": [],
   "source": [
    "def node_feature_one_jet(jet):\n",
    "    mask = np.tile(np.array([False, False, True, True, True, True, False]), (jet.shape[0], 1))\n",
    "    result = jet.copy()\n",
    "    np.log(jet, where=mask, out=result)\n",
    "    return result"
   ]
  },
  {
   "cell_type": "code",
   "execution_count": 36,
   "metadata": {},
   "outputs": [
    {
     "data": {
      "text/plain": [
       "masked_array(\n",
       "  data=[[[0.016838908195495605, 0.023335546255111694,\n",
       "          167.12623596191406, ..., 151.68331909179688,\n",
       "          0.12082843482494354, 0.028776662424206734],\n",
       "         [0.016711080446839333, 0.02542714774608612, 116.93895721435547,\n",
       "          ..., 106.13909912109375, 0.08454865962266922,\n",
       "          0.030426958575844765],\n",
       "         [0.012246585451066494, 0.026666536927223206, 88.78760528564453,\n",
       "          ..., 80.73810577392578, 0.06431464850902557,\n",
       "          0.029344214126467705],\n",
       "         ...,\n",
       "         [--, --, --, ..., --, --, --],\n",
       "         [--, --, --, ..., --, --, --],\n",
       "         [--, --, --, ..., --, --, --]],\n",
       "\n",
       "        [[-0.01816887967288494, 0.11409587413072586, 318.28619384765625,\n",
       "          ..., 254.62315368652344, 0.2786259651184082,\n",
       "          0.11553344130516052],\n",
       "         [0.07251614332199097, -0.158086895942688, 118.0810775756836,\n",
       "          ..., 99.4735107421875, 0.10885067284107208,\n",
       "          0.17392544448375702],\n",
       "         [-0.00998386275023222, 0.10954894870519638, 98.01886749267578,\n",
       "          ..., 78.79766845703125, 0.08622576296329498,\n",
       "          0.11000294983386993],\n",
       "         ...,\n",
       "         [--, --, --, ..., --, --, --],\n",
       "         [--, --, --, ..., --, --, --],\n",
       "         [--, --, --, ..., --, --, --]],\n",
       "\n",
       "        [[0.011180979199707508, 0.014504113234579563, 614.4370727539062,\n",
       "          ..., 525.1968383789062, 0.5128495693206787,\n",
       "          0.01831347681581974],\n",
       "         [0.019329385831952095, 0.00996228028088808, 122.76333618164062,\n",
       "          ..., 105.37235260009766, 0.10289507359266281,\n",
       "          0.02174561843276024],\n",
       "         [0.008004074916243553, 0.011286242865025997, 54.14348602294922,\n",
       "          ..., 46.20317077636719, 0.04511694237589836,\n",
       "          0.01383634377270937],\n",
       "         ...,\n",
       "         [--, --, --, ..., --, --, --],\n",
       "         [--, --, --, ..., --, --, --],\n",
       "         [--, --, --, ..., --, --, --]],\n",
       "\n",
       "        ...,\n",
       "\n",
       "        [[-0.0036361876409500837, 0.051714543253183365,\n",
       "          281.6117858886719, ..., 249.1598358154297,\n",
       "          0.25429579615592957, 0.05184222385287285],\n",
       "         [-0.006136160343885422, 0.05921807885169983,\n",
       "          126.45929718017578, ..., 111.75601959228516,\n",
       "          0.11405966430902481, 0.05953514575958252],\n",
       "         [-0.01363614946603775, 0.061719559133052826, 89.58855438232422,\n",
       "          ..., 78.89305877685547, 0.08051929622888565,\n",
       "          0.06320797652006149],\n",
       "         ...,\n",
       "         [--, --, --, ..., --, --, --],\n",
       "         [--, --, --, ..., --, --, --],\n",
       "         [--, --, --, ..., --, --, --]],\n",
       "\n",
       "        [[0.03888048976659775, 0.028203334659337997, 442.2124938964844,\n",
       "          ..., 253.48367309570312, 0.24802237749099731,\n",
       "          0.04803251475095749],\n",
       "         [0.03655865043401718, 0.022400544956326485, 272.1047668457031,\n",
       "          ..., 155.6784210205078, 0.15232433378696442,\n",
       "          0.04287564754486084],\n",
       "         [0.0413803793489933, 0.0307045578956604, 133.1907501220703,\n",
       "          ..., 76.503662109375, 0.07485539466142654,\n",
       "          0.05152773857116699],\n",
       "         ...,\n",
       "         [--, --, --, ..., --, --, --],\n",
       "         [--, --, --, ..., --, --, --],\n",
       "         [--, --, --, ..., --, --, --]],\n",
       "\n",
       "        [[-0.013144065625965595, -0.04510711878538132,\n",
       "          421.8929443359375, ..., 339.1610412597656, 0.3250296413898468,\n",
       "          0.046983178704977036],\n",
       "         [0.004355945624411106, -0.07262108474969864, 134.1058807373047,\n",
       "          ..., 108.92523193359375, 0.10438677668571472,\n",
       "          0.07275160402059555],\n",
       "         [0.02854583039879799, 0.11069471389055252, 68.25479125976562,\n",
       "          ..., 56.21041488647461, 0.0538683645427227,\n",
       "          0.11431615799665451],\n",
       "         ...,\n",
       "         [--, --, --, ..., --, --, --],\n",
       "         [--, --, --, ..., --, --, --],\n",
       "         [--, --, --, ..., --, --, --]]],\n",
       "  mask=[[[False, False, False, ..., False, False, False],\n",
       "         [False, False, False, ..., False, False, False],\n",
       "         [False, False, False, ..., False, False, False],\n",
       "         ...,\n",
       "         [ True,  True,  True, ...,  True,  True,  True],\n",
       "         [ True,  True,  True, ...,  True,  True,  True],\n",
       "         [ True,  True,  True, ...,  True,  True,  True]],\n",
       "\n",
       "        [[False, False, False, ..., False, False, False],\n",
       "         [False, False, False, ..., False, False, False],\n",
       "         [False, False, False, ..., False, False, False],\n",
       "         ...,\n",
       "         [ True,  True,  True, ...,  True,  True,  True],\n",
       "         [ True,  True,  True, ...,  True,  True,  True],\n",
       "         [ True,  True,  True, ...,  True,  True,  True]],\n",
       "\n",
       "        [[False, False, False, ..., False, False, False],\n",
       "         [False, False, False, ..., False, False, False],\n",
       "         [False, False, False, ..., False, False, False],\n",
       "         ...,\n",
       "         [ True,  True,  True, ...,  True,  True,  True],\n",
       "         [ True,  True,  True, ...,  True,  True,  True],\n",
       "         [ True,  True,  True, ...,  True,  True,  True]],\n",
       "\n",
       "        ...,\n",
       "\n",
       "        [[False, False, False, ..., False, False, False],\n",
       "         [False, False, False, ..., False, False, False],\n",
       "         [False, False, False, ..., False, False, False],\n",
       "         ...,\n",
       "         [ True,  True,  True, ...,  True,  True,  True],\n",
       "         [ True,  True,  True, ...,  True,  True,  True],\n",
       "         [ True,  True,  True, ...,  True,  True,  True]],\n",
       "\n",
       "        [[False, False, False, ..., False, False, False],\n",
       "         [False, False, False, ..., False, False, False],\n",
       "         [False, False, False, ..., False, False, False],\n",
       "         ...,\n",
       "         [ True,  True,  True, ...,  True,  True,  True],\n",
       "         [ True,  True,  True, ...,  True,  True,  True],\n",
       "         [ True,  True,  True, ...,  True,  True,  True]],\n",
       "\n",
       "        [[False, False, False, ..., False, False, False],\n",
       "         [False, False, False, ..., False, False, False],\n",
       "         [False, False, False, ..., False, False, False],\n",
       "         ...,\n",
       "         [ True,  True,  True, ...,  True,  True,  True],\n",
       "         [ True,  True,  True, ...,  True,  True,  True],\n",
       "         [ True,  True,  True, ...,  True,  True,  True]]],\n",
       "  fill_value=1e+20)"
      ]
     },
     "execution_count": 36,
     "metadata": {},
     "output_type": "execute_result"
    }
   ],
   "source": [
    "data_reader = DataReader(\"../data/train/\")\n",
    "data = data_reader.read_single_file(\"jetImage_5_100p_10000_20000.h5\")\n",
    "jets = np.ma.stack(\n",
    "                (\n",
    "                    data[\"dEta\"],\n",
    "                    data[\"dPhi\"],\n",
    "                    data[\"e\"],\n",
    "                    data[\"e_rel\"],\n",
    "                    data[\"pt\"],\n",
    "                    data[\"pt_rel\"],\n",
    "                    data[\"dR\"],\n",
    "                ),\n",
    "                axis=2,\n",
    "            )\n",
    "\n",
    "jets_labels = torch.tensor(data['labels'])\n",
    "jets"
   ]
  },
  {
   "cell_type": "code",
   "execution_count": 6,
   "metadata": {},
   "outputs": [
    {
     "data": {
      "text/plain": [
       "(10000, 6)"
      ]
     },
     "execution_count": 6,
     "metadata": {},
     "output_type": "execute_result"
    }
   ],
   "source": [
    "jets_labels.shape"
   ]
  },
  {
   "cell_type": "code",
   "execution_count": 21,
   "metadata": {},
   "outputs": [
    {
     "data": {
      "text/plain": [
       "array([-1.94004729e-01,  2.86700100e-01,  7.38627136e-01,  6.50253380e-04,\n",
       "        5.89623928e-01,  5.78226463e-04,  3.46171588e-01])"
      ]
     },
     "execution_count": 21,
     "metadata": {},
     "output_type": "execute_result"
    }
   ],
   "source": [
    "corrupted_jet = jets[1729]\n",
    "corrupted_jet.compressed().reshape((-1, corrupted_jet.shape[-1]))[5]"
   ]
  },
  {
   "cell_type": "code",
   "execution_count": 5,
   "metadata": {},
   "outputs": [],
   "source": [
    "jets = data_reader.get_features()"
   ]
  },
  {
   "cell_type": "code",
   "execution_count": 57,
   "metadata": {},
   "outputs": [
    {
     "data": {
      "application/vnd.jupyter.widget-view+json": {
       "model_id": "a6f84b086ad84e7ba1c592d40bab1ffd",
       "version_major": 2,
       "version_minor": 0
      },
      "text/plain": [
       "  0%|          | 0/1000 [00:00<?, ?it/s]"
      ]
     },
     "metadata": {},
     "output_type": "display_data"
    }
   ],
   "source": [
    "graphs = []\n",
    "for jet, label in zip(tqdm(jets[:1000]), jets_labels):\n",
    "\n",
    "    jet = jet.compressed().reshape((-1, jet.shape[-1]))\n",
    "    edges_features = []\n",
    "    nodes_features = []\n",
    "    sources = []\n",
    "    destinations = []\n",
    "    for i in range(jet.shape[0]):\n",
    "        for j in range(jet.shape[0]):\n",
    "\n",
    "            edge_features = np.ones(3) if i == j else compute_one_edge_feature(jet, i, j)\n",
    "           \n",
    "            edges_features.append(edge_features)\n",
    "            sources.append(i)\n",
    "            destinations.append(j)\n",
    "        nodes_features.append(node_feature_one_jet(jet)[i])\n",
    "\n",
    "    g = dgl.graph((torch.tensor(sources), torch.tensor(destinations)))\n",
    "    g.edata['d'] = torch.tensor(np.stack(edges_features), dtype=torch.float32)\n",
    "    g.ndata['f'] = torch.tensor(np.stack(nodes_features), dtype=torch.float32)\n",
    "    g.ndata['labels'] = label.unsqueeze(0).expand((jet.shape[0], 6))\n",
    "    graphs.append(g)\n",
    "\n"
   ]
  },
  {
   "cell_type": "code",
   "execution_count": 13,
   "metadata": {},
   "outputs": [
    {
     "ename": "DGLError",
     "evalue": "Expect number of features to match number of nodes (len(u)). Got 6 and 65 instead.",
     "output_type": "error",
     "traceback": [
      "\u001b[0;31m---------------------------------------------------------------------------\u001b[0m",
      "\u001b[0;31mDGLError\u001b[0m                                  Traceback (most recent call last)",
      "\u001b[1;32m/home/alberto/Desktop/PoD/NNDL/jet-tagging/DGL_autoencoder/DataReader_nested.ipynb Cell 11\u001b[0m in \u001b[0;36m<cell line: 1>\u001b[0;34m()\u001b[0m\n\u001b[0;32m----> <a href='vscode-notebook-cell:/home/alberto/Desktop/PoD/NNDL/jet-tagging/DGL_autoencoder/DataReader_nested.ipynb#X42sZmlsZQ%3D%3D?line=0'>1</a>\u001b[0m graphs[\u001b[39m0\u001b[39m]\u001b[39m.\u001b[39mndata[\u001b[39m'\u001b[39m\u001b[39mlabels\u001b[39m\u001b[39m'\u001b[39m]\u001b[39m=\u001b[39mjets_labels[\u001b[39m0\u001b[39m]\n",
      "File \u001b[0;32m/media/alberto/Volume/Kubuntu/miniconda3/envs/torch/lib/python3.10/site-packages/dgl/view.py:99\u001b[0m, in \u001b[0;36mHeteroNodeDataView.__setitem__\u001b[0;34m(self, key, val)\u001b[0m\n\u001b[1;32m     94\u001b[0m \u001b[39melse\u001b[39;00m:\n\u001b[1;32m     95\u001b[0m     \u001b[39massert\u001b[39;00m \u001b[39misinstance\u001b[39m(val, \u001b[39mdict\u001b[39m) \u001b[39mis\u001b[39;00m \u001b[39mFalse\u001b[39;00m, (\n\u001b[1;32m     96\u001b[0m         \u001b[39m\"\u001b[39m\u001b[39mThe HeteroNodeDataView has only one node type. \u001b[39m\u001b[39m\"\u001b[39m\n\u001b[1;32m     97\u001b[0m         \u001b[39m\"\u001b[39m\u001b[39mplease pass a tensor directly\u001b[39m\u001b[39m\"\u001b[39m\n\u001b[1;32m     98\u001b[0m     )\n\u001b[0;32m---> 99\u001b[0m     \u001b[39mself\u001b[39;49m\u001b[39m.\u001b[39;49m_graph\u001b[39m.\u001b[39;49m_set_n_repr(\u001b[39mself\u001b[39;49m\u001b[39m.\u001b[39;49m_ntid, \u001b[39mself\u001b[39;49m\u001b[39m.\u001b[39;49m_nodes, {key: val})\n",
      "File \u001b[0;32m/media/alberto/Volume/Kubuntu/miniconda3/envs/torch/lib/python3.10/site-packages/dgl/heterograph.py:4032\u001b[0m, in \u001b[0;36mDGLGraph._set_n_repr\u001b[0;34m(self, ntid, u, data)\u001b[0m\n\u001b[1;32m   4030\u001b[0m nfeats \u001b[39m=\u001b[39m F\u001b[39m.\u001b[39mshape(val)[\u001b[39m0\u001b[39m]\n\u001b[1;32m   4031\u001b[0m \u001b[39mif\u001b[39;00m nfeats \u001b[39m!=\u001b[39m num_nodes:\n\u001b[0;32m-> 4032\u001b[0m     \u001b[39mraise\u001b[39;00m DGLError(\u001b[39m'\u001b[39m\u001b[39mExpect number of features to match number of nodes (len(u)).\u001b[39m\u001b[39m'\u001b[39m\n\u001b[1;32m   4033\u001b[0m                    \u001b[39m'\u001b[39m\u001b[39m Got \u001b[39m\u001b[39m%d\u001b[39;00m\u001b[39m and \u001b[39m\u001b[39m%d\u001b[39;00m\u001b[39m instead.\u001b[39m\u001b[39m'\u001b[39m \u001b[39m%\u001b[39m (nfeats, num_nodes))\n\u001b[1;32m   4034\u001b[0m \u001b[39mif\u001b[39;00m F\u001b[39m.\u001b[39mcontext(val) \u001b[39m!=\u001b[39m \u001b[39mself\u001b[39m\u001b[39m.\u001b[39mdevice:\n\u001b[1;32m   4035\u001b[0m     \u001b[39mraise\u001b[39;00m DGLError(\u001b[39m'\u001b[39m\u001b[39mCannot assign node feature \u001b[39m\u001b[39m\"\u001b[39m\u001b[39m{}\u001b[39;00m\u001b[39m\"\u001b[39m\u001b[39m on device \u001b[39m\u001b[39m{}\u001b[39;00m\u001b[39m to a graph on\u001b[39m\u001b[39m'\u001b[39m\n\u001b[1;32m   4036\u001b[0m                    \u001b[39m'\u001b[39m\u001b[39m device \u001b[39m\u001b[39m{}\u001b[39;00m\u001b[39m. Call DGLGraph.to() to copy the graph to the\u001b[39m\u001b[39m'\u001b[39m\n\u001b[1;32m   4037\u001b[0m                    \u001b[39m'\u001b[39m\u001b[39m same device.\u001b[39m\u001b[39m'\u001b[39m\u001b[39m.\u001b[39mformat(key, F\u001b[39m.\u001b[39mcontext(val), \u001b[39mself\u001b[39m\u001b[39m.\u001b[39mdevice))\n",
      "\u001b[0;31mDGLError\u001b[0m: Expect number of features to match number of nodes (len(u)). Got 6 and 65 instead."
     ]
    }
   ],
   "source": [
    "graphs[0].ndata['labels']=jets_labels[0]"
   ]
  },
  {
   "cell_type": "code",
   "execution_count": 45,
   "metadata": {},
   "outputs": [
    {
     "data": {
      "text/plain": [
       "torch.Size([10000, 6])"
      ]
     },
     "execution_count": 45,
     "metadata": {},
     "output_type": "execute_result"
    }
   ],
   "source": [
    "jets_labels.shape"
   ]
  },
  {
   "cell_type": "code",
   "execution_count": 51,
   "metadata": {},
   "outputs": [],
   "source": [
    "dgl.save_graphs('graphs.dgl', graphs, labels={'tag':jets_labels})"
   ]
  },
  {
   "cell_type": "code",
   "execution_count": 54,
   "metadata": {},
   "outputs": [],
   "source": [
    "loaded_graphs = dgl.load_graphs('../data/graphdataset/graphs0-20000.dgl')"
   ]
  },
  {
   "cell_type": "code",
   "execution_count": 56,
   "metadata": {},
   "outputs": [
    {
     "data": {
      "text/plain": [
       "torch.Size([20000, 6])"
      ]
     },
     "execution_count": 56,
     "metadata": {},
     "output_type": "execute_result"
    }
   ],
   "source": [
    "loaded_graphs[1]['tag'].shape"
   ]
  },
  {
   "cell_type": "code",
   "execution_count": 50,
   "metadata": {},
   "outputs": [
    {
     "data": {
      "text/plain": [
       "array(['Gluon', tensor([1, 0, 0,  ..., 0, 0, 0])], dtype=object)"
      ]
     },
     "execution_count": 50,
     "metadata": {},
     "output_type": "execute_result"
    }
   ],
   "source": [
    "labels[0]"
   ]
  },
  {
   "attachments": {},
   "cell_type": "markdown",
   "metadata": {},
   "source": [
    "## FUCK"
   ]
  },
  {
   "cell_type": "code",
   "execution_count": 46,
   "metadata": {},
   "outputs": [],
   "source": [
    "jet = jet.compressed().reshape((-1, jet.shape[-1]))"
   ]
  },
  {
   "cell_type": "code",
   "execution_count": 49,
   "metadata": {},
   "outputs": [
    {
     "data": {
      "text/plain": [
       "array([-0.01986081, -0.08190626,  5.24482898, -1.80925894,  5.21972721,\n",
       "       -1.801706  ,  0.08427981])"
      ]
     },
     "execution_count": 49,
     "metadata": {},
     "output_type": "execute_result"
    }
   ],
   "source": [
    "node_feature_one_jet(jet)[0]"
   ]
  },
  {
   "cell_type": "code",
   "execution_count": 50,
   "metadata": {},
   "outputs": [
    {
     "data": {
      "text/plain": [
       "array([-1.98608059e-02, -8.19062591e-02,  1.89583389e+02,  1.63775459e-01,\n",
       "        1.84883743e+02,  1.65017128e-01,  8.42798129e-02])"
      ]
     },
     "execution_count": 50,
     "metadata": {},
     "output_type": "execute_result"
    }
   ],
   "source": [
    "jet[0]"
   ]
  },
  {
   "cell_type": "code",
   "execution_count": 37,
   "metadata": {},
   "outputs": [
    {
     "data": {
      "text/plain": [
       "array([ 0.01314407,  0.04510712,  6.0447516 , -1.11842318,  5.82647504,\n",
       "       -1.1238389 ,  0.04698318])"
      ]
     },
     "execution_count": 37,
     "metadata": {},
     "output_type": "execute_result"
    }
   ],
   "source": [
    "np.log(jet[0], where=[False, False, True, True, True, True, False])"
   ]
  },
  {
   "cell_type": "code",
   "execution_count": 39,
   "metadata": {},
   "outputs": [
    {
     "data": {
      "text/plain": [
       "(40, 7)"
      ]
     },
     "execution_count": 39,
     "metadata": {},
     "output_type": "execute_result"
    }
   ],
   "source": [
    "np.tile(np.array([False, False, True, True, True, True, False]), (jet.shape[0], 1))"
   ]
  },
  {
   "attachments": {},
   "cell_type": "markdown",
   "metadata": {},
   "source": [
    "## Optimize computing edge features"
   ]
  },
  {
   "cell_type": "code",
   "execution_count": 67,
   "metadata": {},
   "outputs": [],
   "source": [
    "def compute_dPhi_ij(dPhi):\n",
    "    \"\"\"Compute the difference in azimuthal angle between two particles.\"\"\"\n",
    "    expanded_dPhi = np.tile(dPhi, (dPhi.shape[0], 1))\n",
    "    return expanded_dPhi - expanded_dPhi.T\n",
    "\n",
    "def compute_dEta_ij(dEta):\n",
    "    \"\"\"Compute the difference in pseudorapidity between two particles.\"\"\"\n",
    "    expanded_dEta = np.tile(dEta, (dEta.shape[0], 1))\n",
    "    return expanded_dEta - expanded_dEta.T\n",
    "\n",
    "def compute_R_ij(dEta_ij, dPhi_ij):\n",
    "    \"\"\"Compute the distance between two particles in the transverse plane.\"\"\"\n",
    "    return np.sqrt(dEta_ij**2 + dPhi_ij**2)\n",
    "\n",
    "def compute_m_ij(pt, dEta_ij, dPhi_ij):\n",
    "    \"\"\"Compute the invariant mass of two particles.\"\"\"\n",
    "    # invariant mass of two massive particles as a function of the two transverse momenta and the angles between them\n",
    "    expanded_pt = np.tile(pt, (pt.shape[0], 1))\n",
    "    pt_ij = expanded_pt * expanded_pt.T\n",
    "    return np.sqrt(2. * pt_ij * np.cosh(dEta_ij) - 2. * pt_ij * np.cos(dPhi_ij)) # RELATIVISTIC APPROX\n",
    "\n",
    "def node_distance(pt, r, r_ij, alpha):\n",
    "    \"\"\"Compute the distance between two nodes in the graph.\"\"\"\n",
    "    expanded_pt = np.tile(pt, (pt.shape[0], 1))\n",
    "    return np.minimum(expanded_pt**(2*alpha), expanded_pt.T**(2*alpha)) * r_ij**2/r**2\n",
    "\n",
    "def compute_1jet_edge_features(jet):\n",
    "    \"\"\"Compute the edge feature for one edge.\"\"\"\n",
    "    \n",
    "    dEta_ij = compute_dEta_ij(jet[:, 0])\n",
    "    dPhi_ij = compute_dPhi_ij(jet[:, 1])\n",
    "    dR_ij   = compute_R_ij(dEta_ij, dPhi_ij)\n",
    "    m_ij    = compute_m_ij(jet[:, 4], dEta_ij, dPhi_ij)\n",
    "\n",
    "    # compute the edge feature\n",
    "    e_0 = node_distance(pt=jet[:, 4], r=np.max(jet[:, 6]), r_ij=dR_ij, alpha=0)\n",
    "    e_1 = node_distance(pt=jet[:, 4], r=np.max(jet[:, 6]), r_ij=dR_ij, alpha=1)\n",
    "    e_2 = m_ij\n",
    "\n",
    "    # fill with ones on the diagonal\n",
    "    np.fill_diagonal(e_0, 1.)\n",
    "    np.fill_diagonal(e_1, np.e)\n",
    "    np.fill_diagonal(e_2, np.e)\n",
    "\n",
    "    if np.any(e_2 == 0.):\n",
    "        print(f'got zero m_ij')\n",
    "        e_2[e_2==0] = 1e-6\n",
    "\n",
    "    if np.any(e_1 == 0.):\n",
    "        print(f'got zero node_distance')\n",
    "        e_1[e_1==0] = 1e-6\n",
    "\n",
    "    e_1 = np.log(e_1)\n",
    "    e_2 = np.log(e_2)\n",
    "\n",
    "    # flatten\n",
    "    e_0 = e_0.flatten()\n",
    "    e_1 = e_1.flatten()\n",
    "    e_2 = e_2.flatten()\n",
    "\n",
    "    return np.stack([e_0, e_1, e_2], 1)\n",
    "    \n",
    "\n",
    "\n"
   ]
  },
  {
   "cell_type": "code",
   "execution_count": 68,
   "metadata": {},
   "outputs": [
    {
     "name": "stdout",
     "output_type": "stream",
     "text": [
      "Reading file jetImage_0_100p_0_10000.h5\n",
      "Reading file jetImage_0_100p_10000_20000.h5\n"
     ]
    },
    {
     "data": {
      "application/vnd.jupyter.widget-view+json": {
       "model_id": "70b1b2d1cf174f8daea051986b329f4f",
       "version_major": 2,
       "version_minor": 0
      },
      "text/plain": [
       "  0%|          | 0/20000 [00:00<?, ?it/s]"
      ]
     },
     "metadata": {},
     "output_type": "display_data"
    }
   ],
   "source": [
    "data_reader = DataReader(\"../data/train/\")\n",
    "data_reader.read_files(2)\n",
    "\n",
    "jets = data_reader.get_features()\n",
    "\n",
    "for jet in tqdm(jets):\n",
    "    jet = jet.compressed().reshape((-1, jet.shape[-1]))\n",
    "\n",
    "    edge_feat = compute_1jet_edge_features(jet)"
   ]
  },
  {
   "cell_type": "code",
   "execution_count": 28,
   "metadata": {},
   "outputs": [
    {
     "data": {
      "text/plain": [
       "(10000, 3)"
      ]
     },
     "execution_count": 28,
     "metadata": {},
     "output_type": "execute_result"
    }
   ],
   "source": [
    "edge_feat.shape"
   ]
  },
  {
   "cell_type": "code",
   "execution_count": 54,
   "metadata": {},
   "outputs": [
    {
     "data": {
      "text/plain": [
       "tensor([0, 1, 2, 3, 4, 5, 0, 1, 2, 3, 4, 5, 0, 1, 2, 3, 4, 5, 0, 1, 2, 3, 4, 5,\n",
       "        0, 1, 2, 3, 4, 5, 0, 1, 2, 3, 4, 5])"
      ]
     },
     "execution_count": 54,
     "metadata": {},
     "output_type": "execute_result"
    }
   ],
   "source": [
    "torch.arange(0, 6).unsqueeze(0).expand((6, 6)).flatten()"
   ]
  },
  {
   "cell_type": "code",
   "execution_count": 64,
   "metadata": {},
   "outputs": [
    {
     "ename": "NameError",
     "evalue": "name 'dPhi_exp' is not defined",
     "output_type": "error",
     "traceback": [
      "\u001b[0;31m---------------------------------------------------------------------------\u001b[0m",
      "\u001b[0;31mNameError\u001b[0m                                 Traceback (most recent call last)",
      "\u001b[1;32m/home/alberto/Desktop/PoD/NNDL/jet-tagging/DGL_autoencoder/DataReader_nested.ipynb Cell 22\u001b[0m in \u001b[0;36m<cell line: 1>\u001b[0;34m()\u001b[0m\n\u001b[0;32m----> <a href='vscode-notebook-cell:/home/alberto/Desktop/PoD/NNDL/jet-tagging/DGL_autoencoder/DataReader_nested.ipynb#X26sZmlsZQ%3D%3D?line=0'>1</a>\u001b[0m dPhi_exp[dPhi_exp \u001b[39m<\u001b[39m \u001b[39m0\u001b[39m] \u001b[39m=\u001b[39m np\u001b[39m.\u001b[39mnan\n",
      "\u001b[0;31mNameError\u001b[0m: name 'dPhi_exp' is not defined"
     ]
    }
   ],
   "source": [
    "dPhi_exp[dPhi_exp < 0] = np.nan"
   ]
  },
  {
   "cell_type": "code",
   "execution_count": 46,
   "metadata": {},
   "outputs": [
    {
     "data": {
      "text/plain": [
       "452358"
      ]
     },
     "execution_count": 46,
     "metadata": {},
     "output_type": "execute_result"
    }
   ],
   "source": [
    "np.argmax(jets[:, :, 6])"
   ]
  },
  {
   "cell_type": "code",
   "execution_count": 52,
   "metadata": {},
   "outputs": [
    {
     "data": {
      "text/plain": [
       "masked_array(data=[0.08965777605772018, 0.04055321216583252,\n",
       "                   0.01901513896882534, 0.10037165135145187,\n",
       "                   0.15630632638931274, 0.04033689200878143,\n",
       "                   0.36087700724601746, 0.18934768438339233,\n",
       "                   1.5411721467971802, --, --, --, --, --, --, --, --, --,\n",
       "                   --, --],\n",
       "             mask=[False, False, False, False, False, False, False, False,\n",
       "                   False,  True,  True,  True,  True,  True,  True,  True,\n",
       "                    True,  True,  True,  True],\n",
       "       fill_value=1e+20)"
      ]
     },
     "execution_count": 52,
     "metadata": {},
     "output_type": "execute_result"
    }
   ],
   "source": [
    "jets[4523, 50:70, 6]"
   ]
  },
  {
   "cell_type": "code",
   "execution_count": 7,
   "metadata": {},
   "outputs": [
    {
     "data": {
      "text/plain": [
       "array([1, 2, 3, 4])"
      ]
     },
     "execution_count": 7,
     "metadata": {},
     "output_type": "execute_result"
    }
   ],
   "source": [
    "x = np.array([[1, 2], [3, 4]])\n",
    "y = np.array([[5, 6], [7, 8]])\n",
    "x.flatten()"
   ]
  },
  {
   "cell_type": "code",
   "execution_count": 8,
   "metadata": {},
   "outputs": [
    {
     "data": {
      "text/plain": [
       "array([1, 5])"
      ]
     },
     "execution_count": 8,
     "metadata": {},
     "output_type": "execute_result"
    }
   ],
   "source": [
    "np.stack([x.flatten(), y.flatten()], 1)[0, :]"
   ]
  },
  {
   "cell_type": "code",
   "execution_count": 65,
   "metadata": {},
   "outputs": [],
   "source": [
    "x[x<3] = 5"
   ]
  },
  {
   "cell_type": "code",
   "execution_count": 66,
   "metadata": {},
   "outputs": [
    {
     "data": {
      "text/plain": [
       "array([[5, 5],\n",
       "       [3, 4]])"
      ]
     },
     "execution_count": 66,
     "metadata": {},
     "output_type": "execute_result"
    }
   ],
   "source": [
    "x"
   ]
  },
  {
   "cell_type": "code",
   "execution_count": null,
   "metadata": {},
   "outputs": [],
   "source": []
  }
 ],
 "metadata": {
  "kernelspec": {
   "display_name": "torch",
   "language": "python",
   "name": "python3"
  },
  "language_info": {
   "codemirror_mode": {
    "name": "ipython",
    "version": 3
   },
   "file_extension": ".py",
   "mimetype": "text/x-python",
   "name": "python",
   "nbconvert_exporter": "python",
   "pygments_lexer": "ipython3",
   "version": "3.10.8"
  },
  "orig_nbformat": 4,
  "vscode": {
   "interpreter": {
    "hash": "331a419315a2fdb77d716bff9d27d64bbb9fafc97272ccf1eb9acf778ff8f493"
   }
  }
 },
 "nbformat": 4,
 "nbformat_minor": 2
}
